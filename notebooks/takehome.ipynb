{
 "cells": [
  {
   "cell_type": "markdown",
   "source": [
    "# Part 1\n",
    "\n",
    "The following code represents a simple, inefficient pattern search that might be found during EDA in a jupyter notebook.\n",
    "\n",
    "In a separate `.py` file, refactor this code using OOP to make it more extensible and efficient.\n",
    "\n",
    "Your object should be able to do each of the following:\n",
    "\n",
    "1. Accept either a string or a list of words as input text to be searched for pattern matches (if a string is passed, only words in the string that match the pattern should be caught)\n",
    "2. Allow for registering an arbitrary number of pattern groups to search input text\n",
    "3. Allow the user to specify a specific pattern group to search the text for matches\n",
    "4. Allow the user to search input text with all registered patterns and return all matches by pattern group"
   ],
   "metadata": {}
  },
  {
   "cell_type": "code",
   "execution_count": 1,
   "source": [
    "my_words = ['dog', 'cat', 'mouse', 'bird', 'snake', 'kitten', 'puppy']\n",
    "\n",
    "pattern_1_words = []\n",
    "pattern_2_words = []\n",
    "\n",
    "pattern_group_1 = [\n",
    "\t'at',\n",
    "\t'ou'\n",
    "]\n",
    "\n",
    "pattern_group_2 = [\n",
    "\t'in',\n",
    "\t'mo'\n",
    "]\n",
    "\n",
    "for word in my_words:\n",
    "\tfor pat in pattern_group_1:\n",
    "\t\tif pat in word:\n",
    "\t\t\tpattern_1_words.append(word)\n",
    "for word in my_words:\n",
    "\tfor pat in pattern_group_2:\n",
    "\t\tif pat in word:\n",
    "\t\t\tpattern_2_words.append(word)\n",
    "\n",
    "print(f\"Pattern 1: {pattern_1_words}\")\n",
    "print(f\"Pattern 2: {pattern_2_words}\")"
   ],
   "outputs": [
    {
     "output_type": "stream",
     "name": "stdout",
     "text": [
      "Pattern 1: ['cat', 'mouse']\n",
      "Pattern 2: ['mouse']\n"
     ]
    }
   ],
   "metadata": {}
  },
  {
   "cell_type": "markdown",
   "source": [
    "# Part 2\n",
    "\n",
    "Writes tests for your code using `pytest`"
   ],
   "metadata": {}
  },
  {
   "cell_type": "markdown",
   "source": [
    "# Part 3\n",
    "\n",
    "Imagine your job is to help build the text processing pipeline for a machine learning model. This model takes strings, processes them into vectors, and then classifies the text as relating to one of several categories (a multiclass classifier).\n",
    "\n",
    "The raw data that is passed into the machine learning pipeline has strings that may include descriptions of many items, including multiple items that we are seeking to classify, as well as descriptions of items that are irrelevant to our classifier. These must be separated before being passed to classifier.\n",
    "\n",
    "As the newest member of the team, your job is to get up to speed with the data as quickly as possible, and to find opportunities to improve the text processing pipeline. Perform an EDA on the following CSV to accomplish this. Be prepared to explain what insights you learned from the data, and what approaches you might use to improve the pipeline.\n",
    "\n",
    "Perform the analysis in this notebook, below this prompt."
   ],
   "metadata": {}
  },
  {
   "cell_type": "markdown",
   "source": [],
   "metadata": {}
  }
 ],
 "metadata": {
  "orig_nbformat": 4,
  "language_info": {
   "name": "python",
   "version": "3.7.4",
   "mimetype": "text/x-python",
   "codemirror_mode": {
    "name": "ipython",
    "version": 3
   },
   "pygments_lexer": "ipython3",
   "nbconvert_exporter": "python",
   "file_extension": ".py"
  },
  "kernelspec": {
   "name": "python3",
   "display_name": "Python 3.7.4 64-bit"
  },
  "interpreter": {
   "hash": "aee8b7b246df8f9039afb4144a1f6fd8d2ca17a180786b69acc140d282b71a49"
  }
 },
 "nbformat": 4,
 "nbformat_minor": 2
}
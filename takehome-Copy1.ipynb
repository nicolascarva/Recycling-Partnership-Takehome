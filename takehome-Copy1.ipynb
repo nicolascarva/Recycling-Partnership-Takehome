{
 "cells": [
  {
   "cell_type": "markdown",
   "metadata": {},
   "source": [
    "# Part 1\n",
    "\n",
    "The following code represents a simple, inefficient pattern search that might be found during EDA in a jupyter notebook.\n",
    "\n",
    "In a separate `.py` file, refactor this code using OOP to make it more extensible and efficient.\n",
    "\n",
    "Your object should be able to do each of the following:\n",
    "\n",
    "1. Accept either a string or a list of words as input text to be searched for pattern matches (if a string is passed, only words in the string that match the pattern should be caught)\n",
    "2. Allow for registering an arbitrary number of pattern groups to search input text\n",
    "3. Allow the user to specify a specific pattern group to search the text for matches\n",
    "4. Allow the user to search input text with all registered patterns and return all matches by pattern group"
   ]
  },
  {
   "cell_type": "code",
   "execution_count": 1,
   "metadata": {},
   "outputs": [
    {
     "name": "stdout",
     "output_type": "stream",
     "text": [
      "Pattern 1: ['cat', 'mouse']\n",
      "Pattern 2: ['mouse']\n"
     ]
    }
   ],
   "source": [
    "my_words = ['dog', 'cat', 'mouse', 'bird', 'snake', 'kitten', 'puppy']\n",
    "\n",
    "pattern_1_words = []\n",
    "pattern_2_words = []\n",
    "\n",
    "pattern_group_1 = [\n",
    "\t'at',\n",
    "\t'ou'\n",
    "]\n",
    "\n",
    "pattern_group_2 = [\n",
    "\t'in',\n",
    "\t'mo'\n",
    "]\n",
    "\n",
    "for word in my_words:\n",
    "\tfor pat in pattern_group_1:\n",
    "\t\tif pat in word:\n",
    "\t\t\tpattern_1_words.append(word)\n",
    "for word in my_words:\n",
    "\tfor pat in pattern_group_2:\n",
    "\t\tif pat in word:\n",
    "\t\t\tpattern_2_words.append(word)\n",
    "\n",
    "print(f\"Pattern 1: {pattern_1_words}\")\n",
    "print(f\"Pattern 2: {pattern_2_words}\")"
   ]
  },
  {
   "cell_type": "markdown",
   "metadata": {},
   "source": [
    "\\#########################################################\n",
    "\n",
    "### Note: The .py file created is main.py and can be found on this repository: https://github.com/nicolascarva/Recycling-Partnership-Takehome.git\n",
    "\n",
    "Instructions for running it:\n",
    "\n",
    "1. Instantiate object with text to be searched (string or list) as input:\n",
    "`input = Match('example text')`\n",
    "\n",
    "2. Add desired pattern groups by running add_patterns method and using a dictionary with the pattern name as key and a list of the patterns as values. More pattern groups can be added as desired.\n",
    "\n",
    "`pattern_group_1 = {'pat_1': ['ex', 'am'], 'pat_2': ['xt']}\n",
    "pattern_group_2 = {'pat_3': ['foo']}\n",
    "input.add_patterns(pattern_groups1)\n",
    "input.add_patterns(pattern_groups2)`\n",
    "\n",
    "3. To find matches run the match_patterns method with a list of the names of the desired pattern groups as input (if empty, default is 'all'):\n",
    "\n",
    "`input.match_patterns(['pat_1'])`\n",
    "\n",
    "4. If new text needs to be searched, a new object may be instantiated, or, to avoid having to add patterns again, run the change_text method with new text (string or list) as the input:\n",
    "\n",
    "`input.change_text(['new', 'text'])` or \n",
    "`input.change_text('new text')`\n",
    "\n",
    "\n",
    "\\############################################################"
   ]
  },
  {
   "cell_type": "markdown",
   "metadata": {},
   "source": [
    "# Part 2\n",
    "\n",
    "Writes tests for your code using `pytest`"
   ]
  },
  {
   "cell_type": "markdown",
   "metadata": {},
   "source": [
    "#### To run test: clone the repository and run \n",
    "`python -m pytest` in the environment. Test can be found in the `test_class.py` file.\n",
    "\n",
    "############################################################"
   ]
  },
  {
   "cell_type": "markdown",
   "metadata": {},
   "source": [
    "# Part 3\n",
    "\n",
    "Imagine your job is to help build the text processing pipeline for a machine learning model. This model takes strings, processes them into vectors, and then classifies the text as relating to one of several categories (a multiclass classifier).\n",
    "\n",
    "The raw data that is passed into the machine learning pipeline has strings that may include descriptions of many items, including multiple items that we are seeking to classify, as well as descriptions of items that are irrelevant to our classifier. These must be separated before being passed to classifier.\n",
    "\n",
    "As the newest member of the team, your job is to get up to speed with the data as quickly as possible, and to find opportunities to improve the text processing pipeline. Perform an EDA on the following CSV to accomplish this. Be prepared to explain what insights you learned from the data, and what approaches you might use to improve the pipeline.\n",
    "\n",
    "Perform the analysis in this notebook, below this prompt."
   ]
  },
  {
   "cell_type": "markdown",
   "metadata": {},
   "source": [
    "# Analysis"
   ]
  },
  {
   "cell_type": "code",
   "execution_count": 2,
   "metadata": {},
   "outputs": [],
   "source": [
    "## Imports ##\n",
    "import pandas as pd\n",
    "import numpy as np\n",
    "import re\n",
    "\n",
    "import matplotlib.pyplot as plt\n",
    "\n",
    "from sklearn.feature_extraction.text import CountVectorizer\n",
    "\n",
    "import spacy\n",
    "\n",
    "import gensim\n",
    "import gensim.corpora as corpora\n",
    "\n",
    "import pyLDAvis\n",
    "import pyLDAvis.gensim_models"
   ]
  },
  {
   "cell_type": "code",
   "execution_count": 3,
   "metadata": {},
   "outputs": [],
   "source": [
    "%%capture\n",
    "!python -m spacy download en_core_web_sm \n",
    "nlp = spacy.load(\"en_core_web_sm\");"
   ]
  },
  {
   "cell_type": "markdown",
   "metadata": {},
   "source": [
    "First we'll import the csv data and take a look at it."
   ]
  },
  {
   "cell_type": "code",
   "execution_count": 4,
   "metadata": {},
   "outputs": [
    {
     "data": {
      "text/html": [
       "<div>\n",
       "<style scoped>\n",
       "    .dataframe tbody tr th:only-of-type {\n",
       "        vertical-align: middle;\n",
       "    }\n",
       "\n",
       "    .dataframe tbody tr th {\n",
       "        vertical-align: top;\n",
       "    }\n",
       "\n",
       "    .dataframe thead th {\n",
       "        text-align: right;\n",
       "    }\n",
       "</style>\n",
       "<table border=\"1\" class=\"dataframe\">\n",
       "  <thead>\n",
       "    <tr style=\"text-align: right;\">\n",
       "      <th></th>\n",
       "      <th>text</th>\n",
       "      <th>added_datetime</th>\n",
       "      <th>yes_no</th>\n",
       "      <th>image_coordinates</th>\n",
       "      <th>image_url</th>\n",
       "      <th>original_id</th>\n",
       "      <th>page_number</th>\n",
       "      <th>parser_version</th>\n",
       "      <th>model_version</th>\n",
       "      <th>manual_override</th>\n",
       "    </tr>\n",
       "    <tr>\n",
       "      <th>id</th>\n",
       "      <th></th>\n",
       "      <th></th>\n",
       "      <th></th>\n",
       "      <th></th>\n",
       "      <th></th>\n",
       "      <th></th>\n",
       "      <th></th>\n",
       "      <th></th>\n",
       "      <th></th>\n",
       "      <th></th>\n",
       "    </tr>\n",
       "  </thead>\n",
       "  <tbody>\n",
       "    <tr>\n",
       "      <th>462548</th>\n",
       "      <td>No plastic bags or pesticide...</td>\n",
       "      <td>2021-07-13 01:18:01.983</td>\n",
       "      <td>no</td>\n",
       "      <td>{'originalSize': {'height': ...</td>\n",
       "      <td>NaN</td>\n",
       "      <td>NaN</td>\n",
       "      <td>NaN</td>\n",
       "      <td>NaN</td>\n",
       "      <td>NaN</td>\n",
       "      <td>NaN</td>\n",
       "    </tr>\n",
       "    <tr>\n",
       "      <th>462549</th>\n",
       "      <td>No paint or aerosol cans .</td>\n",
       "      <td>2021-07-13 01:18:01.983</td>\n",
       "      <td>no</td>\n",
       "      <td>{'originalSize': {'height': ...</td>\n",
       "      <td>NaN</td>\n",
       "      <td>NaN</td>\n",
       "      <td>NaN</td>\n",
       "      <td>NaN</td>\n",
       "      <td>NaN</td>\n",
       "      <td>NaN</td>\n",
       "    </tr>\n",
       "    <tr>\n",
       "      <th>462550</th>\n",
       "      <td>Tin and aluminum food and dr...</td>\n",
       "      <td>2021-07-13 01:18:01.983</td>\n",
       "      <td>yes</td>\n",
       "      <td>{'originalSize': {'height': ...</td>\n",
       "      <td>NaN</td>\n",
       "      <td>NaN</td>\n",
       "      <td>NaN</td>\n",
       "      <td>NaN</td>\n",
       "      <td>NaN</td>\n",
       "      <td>NaN</td>\n",
       "    </tr>\n",
       "    <tr>\n",
       "      <th>462551</th>\n",
       "      <td>Corrugated and non corrugate...</td>\n",
       "      <td>2021-07-13 01:18:01.983</td>\n",
       "      <td>yes</td>\n",
       "      <td>{'originalSize': {'height': ...</td>\n",
       "      <td>NaN</td>\n",
       "      <td>NaN</td>\n",
       "      <td>NaN</td>\n",
       "      <td>NaN</td>\n",
       "      <td>NaN</td>\n",
       "      <td>NaN</td>\n",
       "    </tr>\n",
       "    <tr>\n",
       "      <th>462552</th>\n",
       "      <td>Includes all colors office p...</td>\n",
       "      <td>2021-07-13 01:18:01.983</td>\n",
       "      <td>yes</td>\n",
       "      <td>{'originalSize': {'height': ...</td>\n",
       "      <td>NaN</td>\n",
       "      <td>NaN</td>\n",
       "      <td>NaN</td>\n",
       "      <td>NaN</td>\n",
       "      <td>NaN</td>\n",
       "      <td>NaN</td>\n",
       "    </tr>\n",
       "  </tbody>\n",
       "</table>\n",
       "</div>"
      ],
      "text/plain": [
       "                                   text           added_datetime yes_no  \\\n",
       "id                                                                        \n",
       "462548  No plastic bags or pesticide...  2021-07-13 01:18:01.983     no   \n",
       "462549       No paint or aerosol cans .  2021-07-13 01:18:01.983     no   \n",
       "462550  Tin and aluminum food and dr...  2021-07-13 01:18:01.983    yes   \n",
       "462551  Corrugated and non corrugate...  2021-07-13 01:18:01.983    yes   \n",
       "462552  Includes all colors office p...  2021-07-13 01:18:01.983    yes   \n",
       "\n",
       "                      image_coordinates  image_url  original_id  page_number  \\\n",
       "id                                                                             \n",
       "462548  {'originalSize': {'height': ...        NaN          NaN          NaN   \n",
       "462549  {'originalSize': {'height': ...        NaN          NaN          NaN   \n",
       "462550  {'originalSize': {'height': ...        NaN          NaN          NaN   \n",
       "462551  {'originalSize': {'height': ...        NaN          NaN          NaN   \n",
       "462552  {'originalSize': {'height': ...        NaN          NaN          NaN   \n",
       "\n",
       "       parser_version model_version manual_override  \n",
       "id                                                   \n",
       "462548            NaN           NaN             NaN  \n",
       "462549            NaN           NaN             NaN  \n",
       "462550            NaN           NaN             NaN  \n",
       "462551            NaN           NaN             NaN  \n",
       "462552            NaN           NaN             NaN  "
      ]
     },
     "execution_count": 4,
     "metadata": {},
     "output_type": "execute_result"
    }
   ],
   "source": [
    "df = pd.read_csv('./data/takehome.csv', index_col='id')\n",
    "pd.set_option('display.max_colwidth', 32)\n",
    "df.head()"
   ]
  },
  {
   "cell_type": "markdown",
   "metadata": {},
   "source": [
    "There's not a lot of context in the data and many of the columns seem to be mainly null (below). There is a yes/no column that seems to be correlated to the text, my initial assumption is that it describes if the text specifies a material (YES) or excludes a material (NO). So we'll keep the index column, the text column and the yes_no column. The rest of the columns need more information or context, so we'll leave them out of the analysis for now."
   ]
  },
  {
   "cell_type": "markdown",
   "metadata": {},
   "source": [
    "We check for null in the text column and drop those rows as well as the rows that won't be analyzed."
   ]
  },
  {
   "cell_type": "code",
   "execution_count": 5,
   "metadata": {
    "scrolled": false
   },
   "outputs": [
    {
     "data": {
      "text/plain": [
       "text                    3\n",
       "added_datetime          0\n",
       "yes_no                  0\n",
       "image_coordinates     660\n",
       "image_url            1000\n",
       "original_id          1000\n",
       "page_number          1000\n",
       "parser_version        340\n",
       "model_version         340\n",
       "manual_override       340\n",
       "dtype: int64"
      ]
     },
     "execution_count": 5,
     "metadata": {},
     "output_type": "execute_result"
    }
   ],
   "source": [
    "df.isnull().sum()"
   ]
  },
  {
   "cell_type": "code",
   "execution_count": 6,
   "metadata": {},
   "outputs": [
    {
     "data": {
      "text/plain": [
       "text      0\n",
       "yes_no    0\n",
       "dtype: int64"
      ]
     },
     "execution_count": 6,
     "metadata": {},
     "output_type": "execute_result"
    }
   ],
   "source": [
    "df = df[['text', 'yes_no']]\n",
    "df.dropna(subset=['text'], inplace=True)\n",
    "df.isnull().sum()"
   ]
  },
  {
   "cell_type": "code",
   "execution_count": 7,
   "metadata": {},
   "outputs": [
    {
     "data": {
      "text/plain": [
       "(997, 2)"
      ]
     },
     "execution_count": 7,
     "metadata": {},
     "output_type": "execute_result"
    }
   ],
   "source": [
    "df.shape"
   ]
  },
  {
   "cell_type": "code",
   "execution_count": 8,
   "metadata": {},
   "outputs": [
    {
     "data": {
      "text/html": [
       "<div>\n",
       "<style scoped>\n",
       "    .dataframe tbody tr th:only-of-type {\n",
       "        vertical-align: middle;\n",
       "    }\n",
       "\n",
       "    .dataframe tbody tr th {\n",
       "        vertical-align: top;\n",
       "    }\n",
       "\n",
       "    .dataframe thead th {\n",
       "        text-align: right;\n",
       "    }\n",
       "</style>\n",
       "<table border=\"1\" class=\"dataframe\">\n",
       "  <thead>\n",
       "    <tr style=\"text-align: right;\">\n",
       "      <th></th>\n",
       "      <th>text</th>\n",
       "      <th>yes_no</th>\n",
       "    </tr>\n",
       "    <tr>\n",
       "      <th>id</th>\n",
       "      <th></th>\n",
       "      <th></th>\n",
       "    </tr>\n",
       "  </thead>\n",
       "  <tbody>\n",
       "    <tr>\n",
       "      <th>462548</th>\n",
       "      <td>No plastic bags or pesticide...</td>\n",
       "      <td>no</td>\n",
       "    </tr>\n",
       "    <tr>\n",
       "      <th>462549</th>\n",
       "      <td>No paint or aerosol cans .</td>\n",
       "      <td>no</td>\n",
       "    </tr>\n",
       "    <tr>\n",
       "      <th>462550</th>\n",
       "      <td>Tin and aluminum food and dr...</td>\n",
       "      <td>yes</td>\n",
       "    </tr>\n",
       "    <tr>\n",
       "      <th>462551</th>\n",
       "      <td>Corrugated and non corrugate...</td>\n",
       "      <td>yes</td>\n",
       "    </tr>\n",
       "    <tr>\n",
       "      <th>462552</th>\n",
       "      <td>Includes all colors office p...</td>\n",
       "      <td>yes</td>\n",
       "    </tr>\n",
       "  </tbody>\n",
       "</table>\n",
       "</div>"
      ],
      "text/plain": [
       "                                   text yes_no\n",
       "id                                            \n",
       "462548  No plastic bags or pesticide...     no\n",
       "462549       No paint or aerosol cans .     no\n",
       "462550  Tin and aluminum food and dr...    yes\n",
       "462551  Corrugated and non corrugate...    yes\n",
       "462552  Includes all colors office p...    yes"
      ]
     },
     "execution_count": 8,
     "metadata": {},
     "output_type": "execute_result"
    }
   ],
   "source": [
    "df.head()"
   ]
  },
  {
   "cell_type": "markdown",
   "metadata": {},
   "source": [
    "Now we are going to clean the text to remove unwanted characters and be able to compare word counts and do other data manipulation."
   ]
  },
  {
   "cell_type": "code",
   "execution_count": 9,
   "metadata": {},
   "outputs": [],
   "source": [
    "def clean_text(text):\n",
    "    \"\"\"\n",
    "    Accepts a single text document and performs several regex\n",
    "    substitutions in order to clean the document.\n",
    "    Parameters\n",
    "    ----------\n",
    "    text: string\n",
    "    Returns\n",
    "    -------\n",
    "    text: list of words\n",
    "    \"\"\"\n",
    "    special_chars_regex = '[:?,.>$|!\\'\"]'\n",
    "    white_spaces_regex = '[ ]{2,}'\n",
    "    text = re.sub('[^a-zA-Z ]', \" \", text)\n",
    "    text = re.sub(special_chars_regex, \" \", text)\n",
    "    text = re.sub(white_spaces_regex, \" \", text)\n",
    "    return text"
   ]
  },
  {
   "cell_type": "code",
   "execution_count": 10,
   "metadata": {
    "scrolled": true
   },
   "outputs": [],
   "source": [
    "df['text'] = [clean_text(text) for text in df['text']]"
   ]
  },
  {
   "cell_type": "markdown",
   "metadata": {},
   "source": [
    "Let's look at how many words each row contains. Makes sense that there would be a correlation between the number of materials in the classification and the number of words in the text. We'll add that data as a column and plot the histogram. We can see that the vast majority of text is under 10 words. Maybe this would be useful in the future (ie. applying different models, or manually reviewing rows with the long text)."
   ]
  },
  {
   "cell_type": "code",
   "execution_count": 11,
   "metadata": {},
   "outputs": [
    {
     "data": {
      "text/plain": [
       "(array([  2., 159., 196.,  71.,  62., 238.,  34.,  34.,  19.,  17.,  12.,\n",
       "         12.,  11.,  12.,   7.,  10.,   7.,   9.,   4.,   8.,   6.,   5.,\n",
       "          3.,   2.,   1.,   2.,   3.,   0.,   9.]),\n",
       " array([ 0,  1,  2,  3,  4,  5,  6,  7,  8,  9, 10, 11, 12, 13, 14, 15, 16,\n",
       "        17, 18, 19, 20, 21, 22, 23, 24, 25, 26, 27, 28, 29]),\n",
       " <BarContainer object of 29 artists>)"
      ]
     },
     "execution_count": 11,
     "metadata": {},
     "output_type": "execute_result"
    },
    {
     "data": {
      "image/png": "[encoded data removed]",
      "text/plain": [
       "<Figure size 432x288 with 1 Axes>"
      ]
     },
     "metadata": {
      "needs_background": "light"
     },
     "output_type": "display_data"
    }
   ],
   "source": [
    "df['num_of_words'] = [len(text.split()) for text in df['text']]\n",
    "plt.hist(df['num_of_words'],bins=range(30))"
   ]
  },
  {
   "cell_type": "markdown",
   "metadata": {},
   "source": [
    "We are going to plot the most common words in a histogram by creating a Document Term Matrix with sklearn and then counting the word frequencies. We are using unigrams and bigrams for the analysis."
   ]
  },
  {
   "cell_type": "code",
   "execution_count": 12,
   "metadata": {},
   "outputs": [],
   "source": [
    "def plot_word_count(df, x):\n",
    "    \"\"\"\n",
    "    Plots histogram of word count for given df\n",
    "    ---------------\n",
    "    df: Dataframe with clean 'text' column\n",
    "    x: Number of words to be plotted\n",
    "    \"\"\"\n",
    "    cv = CountVectorizer(stop_words='english', ngram_range=[1,2]) \n",
    "    cv_matrix = cv.fit_transform(df['text']) \n",
    "    # create document term matrix\n",
    "    df_dtm = pd.DataFrame(cv_matrix.toarray(), columns=cv.get_feature_names_out())\n",
    "    word_count = pd.DataFrame(index=cv.get_feature_names_out(), data=[df_dtm[feature].sum() for feature in cv.get_feature_names_out()], \n",
    "             columns=['count']).sort_values(by=['count'], axis=0, ascending=False)\n",
    "    plt.figure(figsize=(18, 8), dpi=80)\n",
    "    plt.bar(word_count[:x].index, word_count['count'][:x])\n",
    "    return word_count"
   ]
  },
  {
   "cell_type": "code",
   "execution_count": 13,
   "metadata": {},
   "outputs": [
    {
     "data": {
      "image/png": "[encoded data removed]",
      "text/plain": [
       "<Figure size 1440x640 with 1 Axes>"
      ]
     },
     "metadata": {
      "needs_background": "light"
     },
     "output_type": "display_data"
    }
   ],
   "source": [
    "word_count = plot_word_count(df, 15)"
   ]
  },
  {
   "cell_type": "markdown",
   "metadata": {},
   "source": [
    "We find that 'category', 'selected manually', etc. are a large part of the word count, which is odd so we look at the rows that contain 'category':"
   ]
  },
  {
   "cell_type": "code",
   "execution_count": 14,
   "metadata": {},
   "outputs": [
    {
     "data": {
      "text/plain": [
       "[(462634,\n",
       "  'Mixed Paper This category includes all other paper such as notebook paper Post it notes colored copy paper computer paper and white copy paper white envelopes green bar or blue bar computer paper junk mail etc Staples are OK '),\n",
       " (280510, 'No text category selected manually'),\n",
       " (280512, 'No text category selected manually'),\n",
       " (280573, 'No text category selected manually'),\n",
       " (306757, 'No text category selected manually'),\n",
       " (310641, 'No text category selected manually'),\n",
       " (280536, 'No text category selected manually'),\n",
       " (280537, 'No text category selected manually'),\n",
       " (280538, 'No text category selected manually'),\n",
       " (280539, 'No text category selected manually')]"
      ]
     },
     "execution_count": 14,
     "metadata": {},
     "output_type": "execute_result"
    }
   ],
   "source": [
    "[(index, text) for (index, text) in zip(df.index, df['text']) if 'category' in text][:10]"
   ]
  },
  {
   "cell_type": "markdown",
   "metadata": {},
   "source": [
    "We find there's quite a bit of rows with 'No text category selected manually' as their only data. With more context, it is possible this data could prove useful, but for now we'll drop these rows and re-run the analysis."
   ]
  },
  {
   "cell_type": "code",
   "execution_count": 15,
   "metadata": {},
   "outputs": [
    {
     "data": {
      "text/plain": [
       "(808, 3)"
      ]
     },
     "execution_count": 15,
     "metadata": {},
     "output_type": "execute_result"
    }
   ],
   "source": [
    "df = df[df['text'] != 'No text category selected manually']\n",
    "df.shape"
   ]
  },
  {
   "cell_type": "markdown",
   "metadata": {},
   "source": [
    "Re-running the analysis, it looks as expected, the most frequent words are for objects or materials that are recyclable."
   ]
  },
  {
   "cell_type": "code",
   "execution_count": 16,
   "metadata": {},
   "outputs": [
    {
     "data": {
      "image/png": "[encoded data removed]",
      "text/plain": [
       "<Figure size 1440x640 with 1 Axes>"
      ]
     },
     "metadata": {
      "needs_background": "light"
     },
     "output_type": "display_data"
    }
   ],
   "source": [
    "word_count = plot_word_count(df, 15)"
   ]
  },
  {
   "cell_type": "markdown",
   "metadata": {},
   "source": [
    "We'll also run the word count per row again:"
   ]
  },
  {
   "cell_type": "code",
   "execution_count": 17,
   "metadata": {},
   "outputs": [
    {
     "data": {
      "text/plain": [
       "(array([  2., 159., 196.,  71.,  62.,  49.,  34.,  34.,  19.,  17.,  12.,\n",
       "         12.,  11.,  12.,   7.,  10.,   7.,   9.,   4.,   8.,   6.,   5.,\n",
       "          3.,   2.,   1.,   2.,   3.,   0.,   9.]),\n",
       " array([ 0,  1,  2,  3,  4,  5,  6,  7,  8,  9, 10, 11, 12, 13, 14, 15, 16,\n",
       "        17, 18, 19, 20, 21, 22, 23, 24, 25, 26, 27, 28, 29]),\n",
       " <BarContainer object of 29 artists>)"
      ]
     },
     "execution_count": 17,
     "metadata": {},
     "output_type": "execute_result"
    },
    {
     "data": {
      "image/png": "[encoded data removed]",
      "text/plain": [
       "<Figure size 432x288 with 1 Axes>"
      ]
     },
     "metadata": {
      "needs_background": "light"
     },
     "output_type": "display_data"
    }
   ],
   "source": [
    "plt.hist(df['num_of_words'],bins=range(30))"
   ]
  },
  {
   "cell_type": "markdown",
   "metadata": {},
   "source": [
    "Let's take a look at the rows with over 25 words:"
   ]
  },
  {
   "cell_type": "code",
   "execution_count": 18,
   "metadata": {},
   "outputs": [
    {
     "data": {
      "text/html": [
       "<div>\n",
       "<style scoped>\n",
       "    .dataframe tbody tr th:only-of-type {\n",
       "        vertical-align: middle;\n",
       "    }\n",
       "\n",
       "    .dataframe tbody tr th {\n",
       "        vertical-align: top;\n",
       "    }\n",
       "\n",
       "    .dataframe thead th {\n",
       "        text-align: right;\n",
       "    }\n",
       "</style>\n",
       "<table border=\"1\" class=\"dataframe\">\n",
       "  <thead>\n",
       "    <tr style=\"text-align: right;\">\n",
       "      <th></th>\n",
       "      <th>text</th>\n",
       "      <th>yes_no</th>\n",
       "      <th>num_of_words</th>\n",
       "    </tr>\n",
       "    <tr>\n",
       "      <th>id</th>\n",
       "      <th></th>\n",
       "      <th></th>\n",
       "      <th></th>\n",
       "    </tr>\n",
       "  </thead>\n",
       "  <tbody>\n",
       "    <tr>\n",
       "      <th>462563</th>\n",
       "      <td>Plastics such as those from Cleaners Food containers Bleach Milk Cooking oils Pill bottles Cosmetics lotions Shampoo conditioner Soft drinks Deter...</td>\n",
       "      <td>yes</td>\n",
       "      <td>26</td>\n",
       "    </tr>\n",
       "    <tr>\n",
       "      <th>462564</th>\n",
       "      <td>Catalogs Cereal boxes Shredded paper Mail Toilet paper rolls Frozen food boxes Greeting cards Boxboard e g pop boxes</td>\n",
       "      <td>yes</td>\n",
       "      <td>19</td>\n",
       "    </tr>\n",
       "    <tr>\n",
       "      <th>462565</th>\n",
       "      <td>Office paper white and colored Phonebooks Corrugated cardboard Tissue boxes Snack boxes Pop and beer cartons Wrapping paper tubes Paper gift shopp...</td>\n",
       "      <td>yes</td>\n",
       "      <td>30</td>\n",
       "    </tr>\n",
       "    <tr>\n",
       "      <th>462566</th>\n",
       "      <td>Newspaper advertisements Magazines Shoe boxes Paperback books Paper egg cartons Paper towel rolls Tissue paper Kraft paper bags Gable Top Containe...</td>\n",
       "      <td>yes</td>\n",
       "      <td>26</td>\n",
       "    </tr>\n",
       "    <tr>\n",
       "      <th>462567</th>\n",
       "      <td>Aluminum and metal cans foil and foil trays lids and aerosol spray cans must be empty Please</td>\n",
       "      <td>yes</td>\n",
       "      <td>17</td>\n",
       "    </tr>\n",
       "  </tbody>\n",
       "</table>\n",
       "</div>"
      ],
      "text/plain": [
       "                                                                                                                                                         text  \\\n",
       "id                                                                                                                                                              \n",
       "462563  Plastics such as those from Cleaners Food containers Bleach Milk Cooking oils Pill bottles Cosmetics lotions Shampoo conditioner Soft drinks Deter...   \n",
       "462564                                  Catalogs Cereal boxes Shredded paper Mail Toilet paper rolls Frozen food boxes Greeting cards Boxboard e g pop boxes    \n",
       "462565  Office paper white and colored Phonebooks Corrugated cardboard Tissue boxes Snack boxes Pop and beer cartons Wrapping paper tubes Paper gift shopp...   \n",
       "462566  Newspaper advertisements Magazines Shoe boxes Paperback books Paper egg cartons Paper towel rolls Tissue paper Kraft paper bags Gable Top Containe...   \n",
       "462567                                                           Aluminum and metal cans foil and foil trays lids and aerosol spray cans must be empty Please   \n",
       "\n",
       "       yes_no  num_of_words  \n",
       "id                           \n",
       "462563    yes            26  \n",
       "462564    yes            19  \n",
       "462565    yes            30  \n",
       "462566    yes            26  \n",
       "462567    yes            17  "
      ]
     },
     "execution_count": 18,
     "metadata": {},
     "output_type": "execute_result"
    }
   ],
   "source": [
    "pd.set_option('display.max_colwidth', 150)\n",
    "df[df['num_of_words'] > 15].head()\n",
    "df[df['num_of_words'] > 15].head()"
   ]
  },
  {
   "cell_type": "markdown",
   "metadata": {},
   "source": [
    "We'll separate the yes and no rows in two different dataframes for later analysis"
   ]
  },
  {
   "cell_type": "code",
   "execution_count": 19,
   "metadata": {},
   "outputs": [
    {
     "name": "stdout",
     "output_type": "stream",
     "text": [
      "(681, 3)\n",
      "(127, 3)\n"
     ]
    }
   ],
   "source": [
    "df_yes = df.loc[df['yes_no'] == 'yes']\n",
    "df_no = df.loc[df['yes_no'] == 'no']\n",
    "print(df_yes.shape)\n",
    "print(df_no.shape)"
   ]
  },
  {
   "cell_type": "markdown",
   "metadata": {},
   "source": [
    "Let's run the word-count analysis for df_no, it'd be interesting to see what is being excluded. "
   ]
  },
  {
   "cell_type": "code",
   "execution_count": 20,
   "metadata": {},
   "outputs": [
    {
     "data": {
      "image/png": "[encoded data removed]",
      "text/plain": [
       "<Figure size 1440x640 with 1 Axes>"
      ]
     },
     "metadata": {
      "needs_background": "light"
     },
     "output_type": "display_data"
    }
   ],
   "source": [
    "word_count = plot_word_count(df_no, 20)"
   ]
  },
  {
   "cell_type": "markdown",
   "metadata": {},
   "source": [
    "As expected, many of the most common words are of non-recyclable materials (food, waste, oil, etc.), though the most common words are recyclable materials, which probably means they go in a different bin. Let's take a look at the most commonly used bi-grams."
   ]
  },
  {
   "cell_type": "code",
   "execution_count": 21,
   "metadata": {
    "scrolled": true
   },
   "outputs": [
    {
     "data": {
      "text/html": [
       "<div>\n",
       "<style scoped>\n",
       "    .dataframe tbody tr th:only-of-type {\n",
       "        vertical-align: middle;\n",
       "    }\n",
       "\n",
       "    .dataframe tbody tr th {\n",
       "        vertical-align: top;\n",
       "    }\n",
       "\n",
       "    .dataframe thead th {\n",
       "        text-align: right;\n",
       "    }\n",
       "</style>\n",
       "<table border=\"1\" class=\"dataframe\">\n",
       "  <thead>\n",
       "    <tr style=\"text-align: right;\">\n",
       "      <th></th>\n",
       "      <th>count</th>\n",
       "    </tr>\n",
       "  </thead>\n",
       "  <tbody>\n",
       "    <tr>\n",
       "      <th>plastic bags</th>\n",
       "      <td>27</td>\n",
       "    </tr>\n",
       "    <tr>\n",
       "      <th>light bulbs</th>\n",
       "      <td>12</td>\n",
       "    </tr>\n",
       "    <tr>\n",
       "      <th>window glass</th>\n",
       "      <td>8</td>\n",
       "    </tr>\n",
       "    <tr>\n",
       "      <th>food waste</th>\n",
       "      <td>8</td>\n",
       "    </tr>\n",
       "    <tr>\n",
       "      <th>motor oil</th>\n",
       "      <td>6</td>\n",
       "    </tr>\n",
       "    <tr>\n",
       "      <th>waxed paper</th>\n",
       "      <td>6</td>\n",
       "    </tr>\n",
       "    <tr>\n",
       "      <th>wrapping paper</th>\n",
       "      <td>5</td>\n",
       "    </tr>\n",
       "    <tr>\n",
       "      <th>bags plastic</th>\n",
       "      <td>5</td>\n",
       "    </tr>\n",
       "    <tr>\n",
       "      <th>aerosol cans</th>\n",
       "      <td>5</td>\n",
       "    </tr>\n",
       "    <tr>\n",
       "      <th>pizza boxes</th>\n",
       "      <td>5</td>\n",
       "    </tr>\n",
       "  </tbody>\n",
       "</table>\n",
       "</div>"
      ],
      "text/plain": [
       "                count\n",
       "plastic bags       27\n",
       "light bulbs        12\n",
       "window glass        8\n",
       "food waste          8\n",
       "motor oil           6\n",
       "waxed paper         6\n",
       "wrapping paper      5\n",
       "bags plastic        5\n",
       "aerosol cans        5\n",
       "pizza boxes         5"
      ]
     },
     "execution_count": 21,
     "metadata": {},
     "output_type": "execute_result"
    }
   ],
   "source": [
    "word_count[word_count.index.str.contains(' ')][:10]"
   ]
  },
  {
   "cell_type": "markdown",
   "metadata": {},
   "source": [
    "# LDA"
   ]
  },
  {
   "cell_type": "markdown",
   "metadata": {},
   "source": [
    "We'll apply LDA to df_yes and df_no separately to see which words tend to appear together on each."
   ]
  },
  {
   "cell_type": "code",
   "execution_count": 22,
   "metadata": {},
   "outputs": [],
   "source": [
    "def tokenize(doc):\n",
    "# run the clean_data function on the text\n",
    "    text = clean_text(doc)\n",
    "# Instantiatie language model\n",
    "    doc = nlp(text)\n",
    "    STOP_WORDS = nlp.Defaults.stop_words.union('', 'the', 'this', '-pron-', 'no ', 'non' )\n",
    "    return [token.lemma_.lower().lstrip().rstrip() for token in doc \n",
    "            if (token.text not in STOP_WORDS) \n",
    "            and (token.is_punct != True)\n",
    "            and (token.text not in '')\n",
    "            and (len(token.text)>1)]\n",
    "\n",
    "def apply_lda(df):\n",
    "    # prepare data for LDA model\n",
    "    lemmas = [tokenize(text) for text in df['text'] ]\n",
    "    #Prepare bag of words\n",
    "    id2words = corpora.Dictionary(lemmas)\n",
    "    corpus = [id2words.doc2bow(lemma) for lemma in lemmas]\n",
    "    # prepare model\n",
    "    lda_multicore = gensim.models.ldamulticore.LdaMulticore(corpus=corpus,\n",
    "                                                        id2word=id2words,\n",
    "                                                        num_topics=3,\n",
    "                                                        chunksize=25,\n",
    "                                                        passes=100,\n",
    "                                                        per_word_topics=True,\n",
    "                                                        workers=6)\n",
    "    return lda_multicore, corpus, id2words"
   ]
  },
  {
   "cell_type": "markdown",
   "metadata": {},
   "source": [
    "## df_yes LDA"
   ]
  },
  {
   "cell_type": "code",
   "execution_count": 23,
   "metadata": {
    "scrolled": true
   },
   "outputs": [],
   "source": [
    "lda_multicore, corpus, id2words = apply_lda(df_yes)"
   ]
  },
  {
   "cell_type": "code",
   "execution_count": 24,
   "metadata": {
    "scrolled": false
   },
   "outputs": [
    {
     "name": "stderr",
     "output_type": "stream",
     "text": [
      "c:\\users\\ncarv\\.virtualenvs\\recycling-partnership-takehome-7fp9ueh8\\lib\\site-packages\\pyLDAvis\\_prepare.py:246: FutureWarning: In a future version of pandas all arguments of DataFrame.drop except for the argument 'labels' will be keyword-only\n",
      "  default_term_info = default_term_info.sort_values(\n"
     ]
    },
    {
     "data": {
      "text/html": [
       "\n",
       "<link rel=\"stylesheet\" type=\"text/css\" href=\"https://cdn.jsdelivr.net/gh/bmabey/pyLDAvis@3.3.1/pyLDAvis/js/ldavis.v1.0.0.css\">\n",
       "\n",
       "\n",
       "<div id=\"ldavis_el1294416888326466087494309728\"></div>\n",
       "<script type=\"text/javascript\">\n",
       "\n",
       "var ldavis_el1294416888326466087494309728_data = {\"mdsDat\": {\"x\": [-0.25397454536326586, 0.22422874565765472, 0.02974579970561128], \"y\": [-0.07116325715076166, -0.10381611496165845, 0.1749793721124201], \"topics\": [1, 2, 3], \"cluster\": [1, 1, 1], \"Freq\": [43.290335604585984, 32.17812359861111, 24.531540796802908]}, \"tinfo\": {\"Term\": [\"paper\", \"plastic\", \"cardboard\", \"box\", \"carton\", \"newspaper\", \"bottle\", \"container\", \"can\", \"magazine\", \"glass\", \"aluminum\", \"book\", \"office\", \"steel\", \"tin\", \"food\", \"junk\", \"mail\", \"bag\", \"jar\", \"phone\", \"drink\", \"beverage\", \"cereal\", \"milk\", \"juice\", \"corrugate\", \"foil\", \"mixed\", \"plastic\", \"container\", \"glass\", \"steel\", \"tin\", \"jar\", \"beverage\", \"jug\", \"foil\", \"cans\", \"detergent\", \"clear\", \"bottles\", \"rinse\", \"aerosol\", \"tray\", \"laundry\", \"hdpe\", \"label\", \"jugs\", \"shampoo\", \"food\", \"jars\", \"can\", \"aluminum\", \"rigid\", \"liquid\", \"bottle\", \"water\", \"ea\", \"green\", \"catalog\", \"tub\", \"clean\", \"metal\", \"pie\", \"milk\", \"pan\", \"lid\", \"soda\", \"cardboard\", \"newspaper\", \"magazine\", \"office\", \"book\", \"junk\", \"bag\", \"phone\", \"corrugate\", \"mixed\", \"insert\", \"envelope\", \"cereal\", \"egg\", \"paperboard\", \"magazines\", \"recyclable\", \"corrugated\", \"roll\", \"books\", \"paperback\", \"glossy\", \"size\", \"chipboard\", \"school\", \"ball\", \"newsprint\", \"pastel\", \"telephone\", \"boxboard\", \"white\", \"mail\", \"paper\", \"brochure\", \"towel\", \"include\", \"etc\", \"box\", \"type\", \"brown\", \"flatten\", \"catalog\", \"clean\", \"drink\", \"aseptic\", \"carton\", \"product\", \"wax\", \"packing\", \"printer\", \"place\", \"coat\", \"liner\", \"frozen\", \"piece\", \"cart\", \"copi\", \"poly\", \"dry\", \"vegetable\", \"soft\", \"fruit\", \"tie\", \"folder\", \"cut\", \"soy\", \"material\", \"dinner\", \"gift\", \"broth\", \"manila\", \"styrofoam\", \"tuna\", \"juice\", \"box\", \"soup\", \"pot\", \"recycle\", \"dairy\", \"lid\", \"non\", \"milk\", \"cup\", \"paper\", \"soda\", \"flatten\", \"shoe\", \"accept\", \"bottle\", \"metal\", \"etc\", \"can\", \"mail\", \"aluminum\"], \"Freq\": [204.0, 114.0, 74.0, 105.0, 61.0, 60.0, 133.0, 77.0, 124.0, 54.0, 73.0, 96.0, 37.0, 36.0, 48.0, 45.0, 69.0, 29.0, 48.0, 28.0, 39.0, 25.0, 19.0, 35.0, 26.0, 49.0, 28.0, 19.0, 26.0, 18.0, 113.4499866124592, 76.57621851505908, 72.74308497539228, 48.085810361651156, 45.184098633513585, 38.94450946898552, 35.29800734201278, 24.779499047453577, 26.220267967985198, 22.84679095139801, 21.62410488499285, 18.22975576408131, 14.655002188399369, 12.354306686178056, 10.703606320843644, 8.901968326926545, 8.953424246712741, 7.6282704449044205, 7.332459861608004, 7.129565211743358, 12.739489077477279, 62.860521185100204, 5.80730521170086, 112.10241782036248, 87.15632192049098, 6.18729490906412, 5.219489804098366, 118.47976002356494, 18.28807827845559, 6.575418599901274, 11.86604383821545, 25.71269252588253, 12.998883118896703, 25.230189574417835, 23.107966950901105, 10.653734451757328, 26.191172416049476, 10.018591076579794, 11.64122659163328, 11.011793240292944, 73.93104446981444, 59.91367657254367, 53.74501055430095, 36.093722246877824, 36.68453711747596, 29.32166787422629, 27.949124539085602, 24.61906724386351, 18.87471982182746, 17.58113735305488, 16.40815864887585, 14.623694850432397, 25.08962669797817, 12.330552193708106, 11.211403864199971, 10.514572306117353, 9.910051820350828, 7.43942638997315, 6.989305908161167, 5.903989123565725, 5.858236070697013, 4.787965335382685, 4.845577523066083, 4.512361078242835, 4.630493160004728, 4.746589876711347, 3.998823293409838, 4.083919970449782, 3.8133438122973042, 4.061673942326131, 13.613528874751204, 38.599663232191155, 152.271601709439, 5.036538191079421, 6.205251984613575, 16.49369105526631, 15.920584272547163, 33.48042649367074, 6.9915013250507965, 10.20340447254119, 8.08469242452617, 7.1059672194819905, 6.474568617209298, 19.179548775677617, 10.921492258103276, 57.760138148227206, 10.572107374400352, 8.743057500812467, 8.108830897981385, 8.026297220109894, 7.953762757812512, 7.266429060511228, 7.029197334568157, 7.025207517461109, 6.248783007517283, 6.100800448774747, 6.100800448774747, 6.100800448774747, 5.378773645378587, 5.466977134180591, 5.72151571238248, 4.526867842849972, 3.9626420293883853, 3.7892469285616124, 3.859696763009157, 3.491908208649985, 3.599236711250595, 3.4121802774724497, 12.29772256284762, 3.2677676495302164, 3.5787499828321945, 3.0302882983293213, 3.045376168092074, 21.040777372081198, 72.01753559974401, 9.070263774466765, 6.10518099341724, 6.926205862751328, 5.757989297912692, 16.466467759726726, 8.11741434305967, 22.985976052290244, 9.821464601445092, 52.06316021478991, 12.490889105002937, 10.490553431244603, 7.33741407056128, 7.3279800865539455, 14.703189307880132, 9.501705029384793, 8.270667461864125, 11.793633799318856, 9.401859116096704, 9.34439928996587], \"Total\": [204.0, 114.0, 74.0, 105.0, 61.0, 60.0, 133.0, 77.0, 124.0, 54.0, 73.0, 96.0, 37.0, 36.0, 48.0, 45.0, 69.0, 29.0, 48.0, 28.0, 39.0, 25.0, 19.0, 35.0, 26.0, 49.0, 28.0, 19.0, 26.0, 18.0, 114.16383971558295, 77.24573702130324, 73.39847560573999, 48.739899724686104, 45.83821821848371, 39.59026426242396, 35.9884967339468, 25.452232341163853, 26.939236213071634, 23.49320424103735, 22.329035992563657, 18.872170132686886, 15.292474475788204, 13.022523999692003, 11.342195099676282, 9.554073370763634, 9.637651701430535, 8.29201638502306, 7.985505075703672, 7.766228032635562, 13.938003316843321, 69.196838556678, 6.436183927753546, 124.24284694745303, 96.83839807041748, 6.905092744572601, 5.864372270932908, 133.5138768732199, 20.97084425742955, 7.5670676166496085, 14.213655207636043, 33.1225567215384, 15.989204720808402, 35.08149396389808, 32.9495915518648, 12.933268299390193, 49.52375682379389, 13.785056530770813, 28.453983890327038, 23.867418924694228, 74.57411922100455, 60.54863808275454, 54.380551587011084, 36.73423715853583, 37.37803982547838, 29.954016311674845, 28.605490531731597, 25.24991890781108, 19.523911029114185, 18.235974246875013, 17.044182415692763, 15.255253734004091, 26.381807989978647, 12.993239165131438, 11.853290291315455, 11.151656147061583, 10.592738650186003, 8.091094402520973, 7.655884641459922, 6.5397849661463585, 6.499126525678108, 5.419253690489485, 5.512904178944001, 5.1458574574505125, 5.362201773304063, 5.498767273222791, 4.638458084540338, 4.748617136553526, 4.453142925955796, 4.7676569092591095, 16.25419230068126, 48.33961349398148, 204.67303841018747, 5.955571640103426, 7.551375743283906, 24.264617384125316, 24.62153904912025, 105.8383433986152, 10.182719570270063, 20.94519466035893, 22.500248794623857, 33.1225567215384, 35.08149396389808, 19.877960583760633, 11.583254018998359, 61.38758851276731, 11.254337159654913, 9.406547733304027, 8.777800003751501, 8.705881171053077, 8.632623258698608, 7.924615501102148, 7.687330786842136, 7.766004243917183, 6.911825571394566, 6.756575027704379, 6.756575027704379, 6.756575027704379, 6.048283714991398, 6.156483679600401, 6.462641270948456, 5.235774947833443, 4.630779238734604, 4.466332024015044, 4.562306383375244, 4.153576271930701, 4.284426308217646, 4.070918208182934, 14.725746601802083, 3.935716339478581, 4.315818249522049, 3.690152073712217, 3.766689128280488, 28.62581805104837, 105.8383433986152, 11.962303395330348, 7.848304933579755, 9.153253840381696, 7.452877015602235, 28.453983890327038, 12.288529829572498, 49.52375682379389, 16.157580226377966, 204.67303841018747, 23.867418924694228, 22.500248794623857, 12.66851905569997, 13.395503528962848, 133.5138768732199, 32.9495915518648, 24.62153904912025, 124.24284694745303, 48.33961349398148, 96.83839807041748], \"Category\": [\"Default\", \"Default\", \"Default\", \"Default\", \"Default\", \"Default\", \"Default\", \"Default\", \"Default\", \"Default\", \"Default\", \"Default\", \"Default\", \"Default\", \"Default\", \"Default\", \"Default\", \"Default\", \"Default\", \"Default\", \"Default\", \"Default\", \"Default\", \"Default\", \"Default\", \"Default\", \"Default\", \"Default\", \"Default\", \"Default\", \"Topic1\", \"Topic1\", \"Topic1\", \"Topic1\", \"Topic1\", \"Topic1\", \"Topic1\", \"Topic1\", \"Topic1\", \"Topic1\", \"Topic1\", \"Topic1\", \"Topic1\", \"Topic1\", \"Topic1\", \"Topic1\", \"Topic1\", \"Topic1\", \"Topic1\", \"Topic1\", \"Topic1\", \"Topic1\", \"Topic1\", \"Topic1\", \"Topic1\", \"Topic1\", \"Topic1\", \"Topic1\", \"Topic1\", \"Topic1\", \"Topic1\", \"Topic1\", \"Topic1\", \"Topic1\", \"Topic1\", \"Topic1\", \"Topic1\", \"Topic1\", \"Topic1\", \"Topic1\", \"Topic2\", \"Topic2\", \"Topic2\", \"Topic2\", \"Topic2\", \"Topic2\", \"Topic2\", \"Topic2\", \"Topic2\", \"Topic2\", \"Topic2\", \"Topic2\", \"Topic2\", \"Topic2\", \"Topic2\", \"Topic2\", \"Topic2\", \"Topic2\", \"Topic2\", \"Topic2\", \"Topic2\", \"Topic2\", \"Topic2\", \"Topic2\", \"Topic2\", \"Topic2\", \"Topic2\", \"Topic2\", \"Topic2\", \"Topic2\", \"Topic2\", \"Topic2\", \"Topic2\", \"Topic2\", \"Topic2\", \"Topic2\", \"Topic2\", \"Topic2\", \"Topic2\", \"Topic2\", \"Topic2\", \"Topic2\", \"Topic2\", \"Topic3\", \"Topic3\", \"Topic3\", \"Topic3\", \"Topic3\", \"Topic3\", \"Topic3\", \"Topic3\", \"Topic3\", \"Topic3\", \"Topic3\", \"Topic3\", \"Topic3\", \"Topic3\", \"Topic3\", \"Topic3\", \"Topic3\", \"Topic3\", \"Topic3\", \"Topic3\", \"Topic3\", \"Topic3\", \"Topic3\", \"Topic3\", \"Topic3\", \"Topic3\", \"Topic3\", \"Topic3\", \"Topic3\", \"Topic3\", \"Topic3\", \"Topic3\", \"Topic3\", \"Topic3\", \"Topic3\", \"Topic3\", \"Topic3\", \"Topic3\", \"Topic3\", \"Topic3\", \"Topic3\", \"Topic3\", \"Topic3\", \"Topic3\", \"Topic3\", \"Topic3\", \"Topic3\", \"Topic3\", \"Topic3\", \"Topic3\", \"Topic3\"], \"logprob\": [30.0, 29.0, 28.0, 27.0, 26.0, 25.0, 24.0, 23.0, 22.0, 21.0, 20.0, 19.0, 18.0, 17.0, 16.0, 15.0, 14.0, 13.0, 12.0, 11.0, 10.0, 9.0, 8.0, 7.0, 6.0, 5.0, 4.0, 3.0, 2.0, 1.0, -2.707, -3.1001, -3.1515, -3.5654, -3.6276, -3.7763, -3.8746, -4.2284, -4.1719, -4.3096, -4.3646, -4.5353, -4.7536, -4.9244, -5.0678, -5.2521, -5.2464, -5.4065, -5.4461, -5.4741, -4.8937, -3.2975, -5.6793, -2.719, -2.9707, -5.6159, -5.786, -2.6636, -4.5321, -5.5551, -4.9647, -4.1914, -4.8735, -4.2103, -4.2982, -5.0725, -4.173, -5.1339, -4.9838, -5.0394, -2.8386, -3.0488, -3.1575, -3.5556, -3.5394, -3.7634, -3.8114, -3.9382, -4.2039, -4.2749, -4.344, -4.4591, -3.9193, -4.6297, -4.7248, -4.789, -4.8482, -5.135, -5.1974, -5.3661, -5.3739, -5.5756, -5.5637, -5.6349, -5.6091, -5.5843, -5.7557, -5.7347, -5.8032, -5.7402, -4.5307, -3.4885, -2.1161, -5.525, -5.3164, -4.3388, -4.3741, -3.6308, -5.1971, -4.819, -5.0518, -5.1808, -5.2739, -3.9166, -4.4797, -2.8141, -4.5122, -4.7022, -4.7775, -4.7877, -4.7968, -4.8872, -4.9203, -4.9209, -5.038, -5.062, -5.062, -5.062, -5.188, -5.1717, -5.1262, -5.3604, -5.4935, -5.5383, -5.5198, -5.62, -5.5897, -5.6431, -4.361, -5.6863, -5.5954, -5.7618, -5.7568, -3.824, -2.5935, -4.6654, -5.0613, -4.9351, -5.1198, -4.0691, -4.7764, -3.7355, -4.5859, -2.918, -4.3454, -4.5199, -4.8774, -4.8787, -4.1824, -4.6189, -4.7577, -4.4029, -4.6295, -4.6356], \"loglift\": [30.0, 29.0, 28.0, 27.0, 26.0, 25.0, 24.0, 23.0, 22.0, 21.0, 20.0, 19.0, 18.0, 17.0, 16.0, 15.0, 14.0, 13.0, 12.0, 11.0, 10.0, 9.0, 8.0, 7.0, 6.0, 5.0, 4.0, 3.0, 2.0, 1.0, 0.831, 0.8285, 0.8283, 0.8237, 0.8229, 0.8208, 0.8179, 0.8105, 0.8102, 0.8093, 0.8052, 0.8026, 0.7947, 0.7846, 0.7793, 0.7665, 0.7636, 0.7538, 0.7519, 0.7517, 0.7473, 0.7412, 0.7344, 0.7344, 0.7319, 0.7275, 0.7207, 0.7178, 0.7004, 0.6968, 0.6567, 0.584, 0.6302, 0.5076, 0.4824, 0.6433, 0.2002, 0.5181, -0.0565, 0.0637, 1.1252, 1.1233, 1.1221, 1.1163, 1.1152, 1.1125, 1.1107, 1.1086, 1.1001, 1.0973, 1.0959, 1.0916, 1.0837, 1.0815, 1.0782, 1.0751, 1.0673, 1.0499, 1.0428, 1.0316, 1.0301, 1.01, 1.0049, 1.0025, 0.9872, 0.9868, 0.9855, 0.9831, 0.9788, 0.9736, 0.9566, 0.9089, 0.8381, 0.9663, 0.9375, 0.7478, 0.6979, -0.0171, 0.7579, 0.4147, 0.1103, -0.4054, -0.5559, 1.3694, 1.3464, 1.3443, 1.3427, 1.3321, 1.3259, 1.3239, 1.3233, 1.3185, 1.3157, 1.305, 1.3044, 1.3031, 1.3031, 1.3031, 1.2879, 1.2864, 1.2834, 1.2597, 1.2494, 1.2408, 1.238, 1.2317, 1.2309, 1.2287, 1.225, 1.2192, 1.2179, 1.2082, 1.1926, 1.0974, 1.0202, 1.1285, 1.1541, 1.1264, 1.1472, 0.8582, 0.9906, 0.6376, 0.9074, 0.0363, 0.7577, 0.6422, 0.8591, 0.802, -0.8009, 0.1617, 0.3143, -0.9495, -0.2321, -0.9331]}, \"token.table\": {\"Topic\": [1, 2, 3, 1, 1, 3, 3, 2, 2, 1, 2, 2, 1, 3, 1, 2, 3, 2, 2, 3, 3, 1, 2, 1, 3, 1, 2, 3, 2, 3, 1, 2, 2, 3, 2, 1, 2, 3, 1, 3, 1, 3, 2, 2, 1, 3, 3, 1, 3, 1, 3, 3, 3, 1, 3, 2, 2, 2, 3, 1, 2, 3, 1, 3, 1, 2, 3, 3, 2, 3, 1, 2, 1, 2, 1, 1, 2, 2, 1, 1, 1, 1, 1, 3, 2, 1, 1, 1, 3, 3, 1, 2, 2, 2, 3, 3, 3, 1, 3, 1, 3, 2, 2, 2, 2, 3, 2, 3, 1, 3, 2, 3, 2, 2, 2, 2, 1, 3, 3, 3, 1, 3, 1, 3, 3, 3, 2, 2, 3, 1, 1, 2, 2, 1, 3, 2, 3, 2, 1, 3, 3, 1, 3, 3, 1, 3, 2, 3, 1, 2, 3, 1, 1, 3, 3, 1, 2, 3, 1, 3, 3, 2, 3], \"Freq\": [0.29860766273932676, 0.14930383136966338, 0.5225634097938219, 0.9698299053517384, 0.8984039568347326, 0.09293834036221371, 0.9496467902679394, 0.9788330659437587, 0.9092947112616266, 0.9725329807117399, 0.9898860446603545, 0.9174613586011479, 0.8838032627278785, 0.11234787238066252, 0.9808746140952359, 0.31179626343652483, 0.6802827565887815, 0.8389865454101221, 0.8395499713799377, 0.16790999427598755, 0.7622500559573995, 0.4774364794482475, 0.4774364794482475, 0.901460347631675, 0.0965850372462509, 0.9790065145657809, 0.9923013610217357, 0.8880238842013668, 0.048869813470129454, 0.9448163937558361, 0.7849635587790582, 0.21133634274820798, 0.9476226955141385, 0.03790490782056554, 0.971655363822927, 0.7126264356280602, 0.17103034455073446, 0.08551517227536723, 0.9537853820437813, 0.8833236134960045, 0.9968187626815513, 0.8880238842013668, 0.973165672168198, 0.8651487242342623, 0.37134273300433523, 0.6189045550072254, 0.8767495349667325, 0.13417637214548808, 0.8050582328729284, 0.9852642096742001, 0.7369344817514913, 0.9558324617829314, 0.826680796670781, 0.9250611141095256, 0.13215158772993224, 0.9235572321490944, 0.9832678145867133, 0.6498375251067701, 0.32491876255338503, 0.17777581201483195, 0.3555516240296639, 0.44443953003707987, 0.9651350095584413, 0.8955894856209479, 0.9104462185566141, 0.08670916367205848, 0.9013644314555758, 0.9549684716813495, 0.13581654323423217, 0.814899259405393, 0.9945710642836726, 0.9226362679375476, 0.8442585545168709, 0.14070975908614516, 0.9647834288472347, 0.28848590065053414, 0.6593963443440781, 0.9387367261024282, 0.9850906713198125, 0.932229418448924, 0.9822321148454841, 0.9013384580756981, 0.24453449635978655, 0.7336034890793597, 0.968150637906176, 0.8765882600585749, 0.9338374407807364, 0.42173356273247253, 0.56231141697663, 0.9105891490946908, 0.8526061731760759, 0.9930020646002057, 0.9864005718019252, 0.8067917217595397, 0.18618270502143225, 0.9268230886328394, 0.9336139105317067, 0.6980359669647651, 0.30349389868033266, 0.5250005586714334, 0.4644235711324218, 0.9870599594142632, 0.9909388864865186, 0.8623555343383882, 0.32550679824806633, 0.6510135964961327, 0.9800121843998817, 0.9113900973570734, 0.7254232130044689, 0.21762696390134065, 0.7426478894370794, 0.25406375164952716, 0.92320098343892, 0.9280123686888327, 0.8423504959389375, 0.9901021896852997, 0.8505197406690043, 0.15463995284890986, 0.8680774620285171, 0.9267171472980534, 0.9898055310816242, 0.8880238842013668, 0.12741604823755004, 0.7644962894253002, 0.9189190436689946, 0.9774009649749367, 0.9440429269747351, 0.21850153343028, 0.76475536700598, 0.868923882987089, 0.9214803520641477, 0.9143293463556095, 0.9324527892427884, 0.9327017438925563, 0.0717462879917351, 0.39467912374101377, 0.5525507732374193, 0.9069629795302832, 0.4608793282049841, 0.5027774489508917, 0.9284129736508554, 0.25078782077798595, 0.7523634623339578, 0.7222691491844242, 0.9848194245604622, 0.8129746254554928, 0.8982419981818714, 0.8637855086119438, 0.9817135514629207, 0.7945572044056106, 0.13242620073426845, 0.9420065819821783, 0.8130485678929208, 0.18762659259067402, 0.7964554275201136, 0.29461677494870214, 0.6874391415469716, 0.8121519133669717, 0.8583345419497338, 0.09537050466108153, 0.9567803465383332, 0.8613162525100198, 0.12304517893000282], \"Term\": [\"accept\", \"accept\", \"accept\", \"aerosol\", \"aluminum\", \"aluminum\", \"aseptic\", \"bag\", \"ball\", \"beverage\", \"book\", \"books\", \"bottle\", \"bottle\", \"bottles\", \"box\", \"box\", \"boxboard\", \"brochure\", \"brochure\", \"broth\", \"brown\", \"brown\", \"can\", \"can\", \"cans\", \"cardboard\", \"cart\", \"carton\", \"carton\", \"catalog\", \"catalog\", \"cereal\", \"cereal\", \"chipboard\", \"clean\", \"clean\", \"clean\", \"clear\", \"coat\", \"container\", \"copi\", \"corrugate\", \"corrugated\", \"cup\", \"cup\", \"cut\", \"dairy\", \"dairy\", \"detergent\", \"dinner\", \"drink\", \"dry\", \"ea\", \"ea\", \"egg\", \"envelope\", \"etc\", \"etc\", \"flatten\", \"flatten\", \"flatten\", \"foil\", \"folder\", \"food\", \"food\", \"frozen\", \"fruit\", \"gift\", \"gift\", \"glass\", \"glossy\", \"green\", \"green\", \"hdpe\", \"include\", \"include\", \"insert\", \"jar\", \"jars\", \"jug\", \"jugs\", \"juice\", \"juice\", \"junk\", \"label\", \"laundry\", \"lid\", \"lid\", \"liner\", \"liquid\", \"magazine\", \"magazines\", \"mail\", \"mail\", \"manila\", \"material\", \"metal\", \"metal\", \"milk\", \"milk\", \"mixed\", \"newspaper\", \"newsprint\", \"non\", \"non\", \"office\", \"packing\", \"pan\", \"pan\", \"paper\", \"paper\", \"paperback\", \"paperboard\", \"pastel\", \"phone\", \"pie\", \"pie\", \"piece\", \"place\", \"plastic\", \"poly\", \"pot\", \"pot\", \"printer\", \"product\", \"recyclable\", \"recycle\", \"recycle\", \"rigid\", \"rinse\", \"roll\", \"school\", \"shampoo\", \"shampoo\", \"shoe\", \"shoe\", \"size\", \"soda\", \"soda\", \"soft\", \"soup\", \"soup\", \"soy\", \"steel\", \"styrofoam\", \"telephone\", \"tie\", \"tin\", \"towel\", \"towel\", \"tray\", \"tub\", \"tub\", \"tuna\", \"type\", \"type\", \"vegetable\", \"water\", \"water\", \"wax\", \"white\", \"white\"]}, \"R\": 30, \"lambda.step\": 0.01, \"plot.opts\": {\"xlab\": \"PC1\", \"ylab\": \"PC2\"}, \"topic.order\": [1, 2, 3]};\n",
       "\n",
       "function LDAvis_load_lib(url, callback){\n",
       "  var s = document.createElement('script');\n",
       "  s.src = url;\n",
       "  s.async = true;\n",
       "  s.onreadystatechange = s.onload = callback;\n",
       "  s.onerror = function(){console.warn(\"failed to load library \" + url);};\n",
       "  document.getElementsByTagName(\"head\")[0].appendChild(s);\n",
       "}\n",
       "\n",
       "if(typeof(LDAvis) !== \"undefined\"){\n",
       "   // already loaded: just create the visualization\n",
       "   !function(LDAvis){\n",
       "       new LDAvis(\"#\" + \"ldavis_el1294416888326466087494309728\", ldavis_el1294416888326466087494309728_data);\n",
       "   }(LDAvis);\n",
       "}else if(typeof define === \"function\" && define.amd){\n",
       "   // require.js is available: use it to load d3/LDAvis\n",
       "   require.config({paths: {d3: \"https://d3js.org/d3.v5\"}});\n",
       "   require([\"d3\"], function(d3){\n",
       "      window.d3 = d3;\n",
       "      LDAvis_load_lib(\"https://cdn.jsdelivr.net/gh/bmabey/pyLDAvis@3.3.1/pyLDAvis/js/ldavis.v3.0.0.js\", function(){\n",
       "        new LDAvis(\"#\" + \"ldavis_el1294416888326466087494309728\", ldavis_el1294416888326466087494309728_data);\n",
       "      });\n",
       "    });\n",
       "}else{\n",
       "    // require.js not available: dynamically load d3 & LDAvis\n",
       "    LDAvis_load_lib(\"https://d3js.org/d3.v5.js\", function(){\n",
       "         LDAvis_load_lib(\"https://cdn.jsdelivr.net/gh/bmabey/pyLDAvis@3.3.1/pyLDAvis/js/ldavis.v3.0.0.js\", function(){\n",
       "                 new LDAvis(\"#\" + \"ldavis_el1294416888326466087494309728\", ldavis_el1294416888326466087494309728_data);\n",
       "            })\n",
       "         });\n",
       "}\n",
       "</script>"
      ],
      "text/plain": [
       "PreparedData(topic_coordinates=              x         y  topics  cluster       Freq\n",
       "topic                                                \n",
       "0     -0.253975 -0.071163       1        1  43.290336\n",
       "1      0.224229 -0.103816       2        1  32.178124\n",
       "2      0.029746  0.174979       3        1  24.531541, topic_info=          Term        Freq       Total Category  logprob  loglift\n",
       "21       paper  204.000000  204.000000  Default  30.0000  30.0000\n",
       "52     plastic  114.000000  114.000000  Default  29.0000  29.0000\n",
       "68   cardboard   74.000000   74.000000  Default  28.0000  28.0000\n",
       "5          box  105.000000  105.000000  Default  27.0000  27.0000\n",
       "6       carton   61.000000   61.000000  Default  26.0000  26.0000\n",
       "..         ...         ...         ...      ...      ...      ...\n",
       "94       metal    9.501705   32.949592   Topic3  -4.6189   0.1617\n",
       "221        etc    8.270667   24.621539   Topic3  -4.7577   0.3143\n",
       "1          can   11.793634  124.242847   Topic3  -4.4029  -0.9495\n",
       "62        mail    9.401859   48.339613   Topic3  -4.6295  -0.2321\n",
       "0     aluminum    9.344399   96.838398   Topic3  -4.6356  -0.9331\n",
       "\n",
       "[164 rows x 6 columns], token_table=      Topic      Freq      Term\n",
       "term                           \n",
       "210       1  0.298608    accept\n",
       "210       2  0.149304    accept\n",
       "210       3  0.522563    accept\n",
       "92        1  0.969830   aerosol\n",
       "0         1  0.898404  aluminum\n",
       "...     ...       ...       ...\n",
       "56        1  0.858335     water\n",
       "56        3  0.095371     water\n",
       "291       3  0.956780       wax\n",
       "78        2  0.861316     white\n",
       "78        3  0.123045     white\n",
       "\n",
       "[163 rows x 3 columns], R=30, lambda_step=0.01, plot_opts={'xlab': 'PC1', 'ylab': 'PC2'}, topic_order=[1, 2, 3])"
      ]
     },
     "execution_count": 24,
     "metadata": {},
     "output_type": "execute_result"
    }
   ],
   "source": [
    "# run visualization\n",
    "pyLDAvis.enable_notebook()\n",
    "vis = pyLDAvis.gensim_models.prepare(lda_multicore, corpus, id2words)\n",
    "vis"
   ]
  },
  {
   "cell_type": "markdown",
   "metadata": {},
   "source": [
    "While the results are different each time the LDA is run, it appears the 3 topics are separated into paper, metal, and plastic; with some overlap between them."
   ]
  },
  {
   "cell_type": "markdown",
   "metadata": {},
   "source": [
    "## df_no LDA"
   ]
  },
  {
   "cell_type": "code",
   "execution_count": 25,
   "metadata": {},
   "outputs": [],
   "source": [
    "lda_multicore, corpus, id2words = apply_lda(df_no)"
   ]
  },
  {
   "cell_type": "code",
   "execution_count": 26,
   "metadata": {},
   "outputs": [
    {
     "name": "stderr",
     "output_type": "stream",
     "text": [
      "c:\\users\\ncarv\\.virtualenvs\\recycling-partnership-takehome-7fp9ueh8\\lib\\site-packages\\pyLDAvis\\_prepare.py:246: FutureWarning: In a future version of pandas all arguments of DataFrame.drop except for the argument 'labels' will be keyword-only\n",
      "  default_term_info = default_term_info.sort_values(\n"
     ]
    },
    {
     "data": {
      "text/html": [
       "\n",
       "<link rel=\"stylesheet\" type=\"text/css\" href=\"https://cdn.jsdelivr.net/gh/bmabey/pyLDAvis@3.3.1/pyLDAvis/js/ldavis.v1.0.0.css\">\n",
       "\n",
       "\n",
       "<div id=\"ldavis_el1294416888326458243828251438\"></div>\n",
       "<script type=\"text/javascript\">\n",
       "\n",
       "var ldavis_el1294416888326458243828251438_data = {\"mdsDat\": {\"x\": [0.005969622899599127, -0.11177834410776005, 0.10580872120816096], \"y\": [-0.10901098638310737, 0.05001932706989818, 0.058991659313209224], \"topics\": [1, 2, 3], \"cluster\": [1, 1, 1], \"Freq\": [39.02051188020258, 31.590012974789367, 29.389475145008053]}, \"tinfo\": {\"Term\": [\"no\", \"glass\", \"waste\", \"wrap\", \"paper\", \"can\", \"wax\", \"aerosol\", \"paint\", \"light\", \"bulb\", \"window\", \"oil\", \"styrofoam\", \"motor\", \"electronic\", \"clothing\", \"bags\", \"yard\", \"polystyrene\", \"plastic\", \"bag\", \"box\", \"ceramic\", \"foam\", \"recyclable\", \"hose\", \"garden\", \"animal\", \"rope\", \"glass\", \"can\", \"aerosol\", \"paint\", \"recyclable\", \"light\", \"crystal\", \"bulb\", \"window\", \"grocery\", \"ovenware\", \"drinking\", \"broken\", \"needles\", \"cookware\", \"rinse\", \"free\", \"car\", \"not\", \"spray\", \"gasoline\", \"filter\", \"pyrex\", \"bin\", \"greasy\", \"cup\", \"store\", \"do\", \"accept\", \"cases\", \"mirror\", \"ceramic\", \"bag\", \"battery\", \"plastic\", \"container\", \"paper\", \"food\", \"trash\", \"milk\", \"dish\", \"wax\", \"pot\", \"styrofoam\", \"waste\", \"bags\", \"oil\", \"item\", \"box\", \"product\", \"no\", \"motor\", \"clothing\", \"bulky\", \"construction\", \"garbage\", \"dry\", \"pipe\", \"scrap\", \"kleenex\", \"of\", \"batteries\", \"debris\", \"insulation\", \"wood\", \"cooking\", \"aluminum\", \"foil\", \"sanitary\", \"shoe\", \"clean\", \"shred\", \"oil\", \"kind\", \"diaper\", \"cheese\", \"diapers\", \"donut\", \"feminine\", \"fork\", \"or\", \"juice\", \"bags\", \"styrofoam\", \"box\", \"plastic\", \"food\", \"container\", \"lid\", \"bag\", \"toy\", \"hanger\", \"household\", \"pizza\", \"packaging\", \"item\", \"product\", \"milk\", \"cardboard\", \"carton\", \"paper\", \"wrap\", \"electronic\", \"yard\", \"polystyrene\", \"animal\", \"rope\", \"coat\", \"waste\", \"propane\", \"tank\", \"bubble\", \"hazardous\", \"page\", \"shrink\", \"thin\", \"livestock\", \"cups\", \"soil\", \"plates\", \"shredded\", \"sticker\", \"garden\", \"hose\", \"like\", \"wax\", \"butts\", \"case\", \"cat\", \"cd\", \"cigarette\", \"foam\", \"paper\", \"carbon\", \"packing\", \"syrinx\", \"food\", \"dish\", \"plastic\", \"pot\", \"plate\", \"container\", \"packaging\", \"styrofoam\", \"ceramic\", \"product\", \"bag\", \"item\", \"carton\", \"film\"], \"Freq\": [20.0, 20.0, 18.0, 10.0, 28.0, 10.0, 10.0, 7.0, 7.0, 10.0, 9.0, 9.0, 9.0, 17.0, 5.0, 4.0, 4.0, 11.0, 3.0, 3.0, 43.0, 27.0, 7.0, 8.0, 5.0, 4.0, 4.0, 4.0, 2.0, 2.0, 20.451359805118003, 9.580682099426625, 7.249191882100751, 7.249018406214036, 4.086841716302532, 8.81865794499339, 3.362402799297345, 8.037124981466599, 8.026169497343048, 3.2370104528902615, 2.5894261724747025, 2.5877809625027726, 2.584286346983925, 1.8126971256904547, 1.812629060498792, 1.8124760644042581, 1.8124760644042581, 1.812434703255342, 1.8122299053335251, 1.8114715506759733, 1.8114607084330536, 1.8113546953911719, 1.811146484170658, 1.8068051697926903, 1.806586317111533, 4.1118708333004355, 1.7079393746000908, 2.62826850773461, 2.597816663018634, 1.0357324609049792, 4.128820069935831, 5.641150323593397, 17.729523142550736, 4.0828019769035535, 14.854499240722568, 6.582118067690161, 7.521266322799176, 5.460709701277841, 2.3173190042652427, 2.5877333771032918, 2.5357500426424036, 3.1560327522569946, 2.5112425579983038, 3.5746979313110474, 3.519642226458352, 2.82730638760936, 2.675518199249658, 2.633656098554331, 2.599958407559832, 2.5961507724722463, 18.541537248490137, 4.5578003722590745, 3.839612925769712, 2.3998337854390996, 2.3998009506988485, 2.398678555246202, 2.3867395511040703, 1.6800306096522266, 1.6798787896156195, 1.679792476511296, 1.6797393232436615, 1.6796770672757595, 1.6794862356665767, 1.6794862356665767, 1.6794862356665767, 1.679464129108784, 1.6791279793917566, 1.6791279793917566, 1.679019072084983, 1.678651225465238, 1.6591724221817594, 1.6455494184901105, 6.639430901893356, 3.0447020696886216, 2.391777082961125, 0.9600210789012503, 0.9600210789012503, 0.9600210789012503, 0.9600210789012503, 0.9600210789012503, 2.401684884557816, 2.397982523772164, 7.500310327199933, 10.871279507292986, 4.547055934978855, 20.040745480645015, 8.136159298418175, 7.067004239251646, 2.2930196120822117, 6.97978996760144, 3.0961518319871897, 2.3944818853263725, 2.3727264316866643, 2.3944089011760123, 3.0392150920058514, 3.1708144552576063, 3.1035695574160185, 2.3973877598386037, 2.278537866149241, 2.2283485027413055, 3.7421997286624693, 10.17338671102396, 3.862180964316375, 3.1384968807159623, 3.093296265635187, 2.41476455626853, 2.414346418519285, 2.3444552608275737, 14.585539947003397, 2.318315678103341, 2.3175934264250793, 1.6902000394037033, 1.6901903609892541, 1.6901770531693867, 1.6899865093849207, 1.6899865093849207, 1.689935697709063, 1.6899157359792618, 1.6895689765365787, 1.6859515179110125, 1.6853706618188424, 1.6608767120014036, 3.1423543337748203, 3.1423543337748203, 2.5958481442863324, 6.94630753716197, 0.9658473134675628, 0.9658473134675628, 0.9658473134675628, 0.9658473134675628, 0.9658473134675628, 3.3021658254101443, 16.751419085281608, 1.7917766625241907, 1.6921582548521568, 1.6828051258637098, 7.007843501130068, 2.464275392734109, 8.730815407984457, 2.5461461591353842, 2.4313698421838468, 3.4155139713295406, 2.5571807614091315, 3.11705344615269, 2.467273281609709, 2.425922558326503, 3.2514418601834643, 2.323301422571645, 1.9875737088829681, 1.9005665776885257], \"Total\": [20.0, 20.0, 18.0, 10.0, 28.0, 10.0, 10.0, 7.0, 7.0, 10.0, 9.0, 9.0, 9.0, 17.0, 5.0, 4.0, 4.0, 11.0, 3.0, 3.0, 43.0, 27.0, 7.0, 8.0, 5.0, 4.0, 4.0, 4.0, 2.0, 2.0, 20.9406720985133, 10.063774691702626, 7.73286497878146, 7.732851674330713, 4.62103910903831, 10.01224355226179, 3.847971599383727, 9.23497991067456, 9.234244283323017, 3.838736606601648, 3.07129020454369, 3.071177145656183, 3.0709264527556472, 2.2943537405850543, 2.2943482958724455, 2.2943361070574775, 2.294336127376005, 2.2943336939701924, 2.294316827105691, 2.2942564417923164, 2.2942670224350645, 2.2942595252471856, 2.2942362994445813, 2.2939487530197415, 2.2939317773155414, 5.347483200807885, 2.286645392820477, 3.7942063726224347, 3.7919855700827836, 1.517396542167128, 6.0730865162897425, 8.348639557738855, 27.960754970335643, 6.069957165883461, 43.62606012935204, 17.064636278271347, 28.014885136743253, 20.604712500826082, 3.7729252744718567, 5.231535307905348, 5.2409822014206515, 10.354002582763385, 5.959756624778069, 17.56303088475672, 18.34763921893081, 11.737134417802508, 9.558722577214128, 8.127771976383581, 7.392817091011212, 8.125642888214768, 20.273693470999675, 5.061464809973936, 4.341149168608321, 2.900876342466327, 2.9008761807474452, 2.9009045368440516, 2.90181594050208, 2.180736008342171, 2.180738944115107, 2.180743040553619, 2.1807442542422666, 2.180743670690152, 2.1807500783073515, 2.1807500783073515, 2.1807500783073515, 2.1807517883987515, 2.1807636701932624, 2.1807636701932624, 2.180762328708293, 2.180773480806187, 2.182354600082278, 2.180985315667916, 9.558722577214128, 4.4038452964096715, 3.6253422949179637, 1.46059863647367, 1.46059863647367, 1.46059863647367, 1.46059863647367, 1.46059863647367, 3.6776333467252718, 3.6776339750354983, 11.737134417802508, 17.56303088475672, 7.392817091011212, 43.62606012935204, 20.604712500826082, 17.064636278271347, 3.685853069579289, 27.960754970335643, 6.671967028663545, 4.402490953719666, 4.349924614287068, 4.455060811205943, 7.344255764098666, 8.127771976383581, 8.125642888214768, 5.231535307905348, 5.125629295400763, 5.118651372765939, 28.014885136743253, 10.895704775484305, 4.362779551823089, 3.6383082249649226, 3.6415717213828334, 2.9138383439599504, 2.913848019406729, 2.913394857903863, 18.34763921893081, 2.920713102242785, 2.920765194913822, 2.189384811746038, 2.18938607553784, 2.1893881589865343, 2.1893876069670264, 2.1893876069670264, 2.1893894625650656, 2.1893867978612094, 2.1893975455025303, 2.1896619512214714, 2.1896775871212784, 2.189199386708254, 4.41494082761402, 4.41494082761402, 3.6775792636163964, 10.354002582763385, 1.4649248874536418, 1.4649248874536418, 1.4649248874536418, 1.4649248874536418, 1.4649248874536418, 5.079488531185145, 28.014885136743253, 2.958882903349961, 2.9661357203098087, 2.9667660650730836, 20.604712500826082, 5.2409822014206515, 43.62606012935204, 5.959756624778069, 5.95794815528931, 17.064636278271347, 7.344255764098666, 17.56303088475672, 8.348639557738855, 8.125642888214768, 27.960754970335643, 8.127771976383581, 5.118651372765939, 5.168427876949216], \"Category\": [\"Default\", \"Default\", \"Default\", \"Default\", \"Default\", \"Default\", \"Default\", \"Default\", \"Default\", \"Default\", \"Default\", \"Default\", \"Default\", \"Default\", \"Default\", \"Default\", \"Default\", \"Default\", \"Default\", \"Default\", \"Default\", \"Default\", \"Default\", \"Default\", \"Default\", \"Default\", \"Default\", \"Default\", \"Default\", \"Default\", \"Topic1\", \"Topic1\", \"Topic1\", \"Topic1\", \"Topic1\", \"Topic1\", \"Topic1\", \"Topic1\", \"Topic1\", \"Topic1\", \"Topic1\", \"Topic1\", \"Topic1\", \"Topic1\", \"Topic1\", \"Topic1\", \"Topic1\", \"Topic1\", \"Topic1\", \"Topic1\", \"Topic1\", \"Topic1\", \"Topic1\", \"Topic1\", \"Topic1\", \"Topic1\", \"Topic1\", \"Topic1\", \"Topic1\", \"Topic1\", \"Topic1\", \"Topic1\", \"Topic1\", \"Topic1\", \"Topic1\", \"Topic1\", \"Topic1\", \"Topic1\", \"Topic1\", \"Topic1\", \"Topic1\", \"Topic1\", \"Topic1\", \"Topic1\", \"Topic1\", \"Topic1\", \"Topic1\", \"Topic1\", \"Topic1\", \"Topic1\", \"Topic2\", \"Topic2\", \"Topic2\", \"Topic2\", \"Topic2\", \"Topic2\", \"Topic2\", \"Topic2\", \"Topic2\", \"Topic2\", \"Topic2\", \"Topic2\", \"Topic2\", \"Topic2\", \"Topic2\", \"Topic2\", \"Topic2\", \"Topic2\", \"Topic2\", \"Topic2\", \"Topic2\", \"Topic2\", \"Topic2\", \"Topic2\", \"Topic2\", \"Topic2\", \"Topic2\", \"Topic2\", \"Topic2\", \"Topic2\", \"Topic2\", \"Topic2\", \"Topic2\", \"Topic2\", \"Topic2\", \"Topic2\", \"Topic2\", \"Topic2\", \"Topic2\", \"Topic2\", \"Topic2\", \"Topic2\", \"Topic2\", \"Topic2\", \"Topic2\", \"Topic2\", \"Topic2\", \"Topic2\", \"Topic2\", \"Topic2\", \"Topic2\", \"Topic3\", \"Topic3\", \"Topic3\", \"Topic3\", \"Topic3\", \"Topic3\", \"Topic3\", \"Topic3\", \"Topic3\", \"Topic3\", \"Topic3\", \"Topic3\", \"Topic3\", \"Topic3\", \"Topic3\", \"Topic3\", \"Topic3\", \"Topic3\", \"Topic3\", \"Topic3\", \"Topic3\", \"Topic3\", \"Topic3\", \"Topic3\", \"Topic3\", \"Topic3\", \"Topic3\", \"Topic3\", \"Topic3\", \"Topic3\", \"Topic3\", \"Topic3\", \"Topic3\", \"Topic3\", \"Topic3\", \"Topic3\", \"Topic3\", \"Topic3\", \"Topic3\", \"Topic3\", \"Topic3\", \"Topic3\", \"Topic3\", \"Topic3\", \"Topic3\", \"Topic3\", \"Topic3\", \"Topic3\", \"Topic3\"], \"logprob\": [30.0, 29.0, 28.0, 27.0, 26.0, 25.0, 24.0, 23.0, 22.0, 21.0, 20.0, 19.0, 18.0, 17.0, 16.0, 15.0, 14.0, 13.0, 12.0, 11.0, 10.0, 9.0, 8.0, 7.0, 6.0, 5.0, 4.0, 3.0, 2.0, 1.0, -3.0485, -3.8068, -4.0856, -4.0857, -4.6587, -3.8896, -4.8539, -3.9824, -3.9838, -4.8919, -5.1151, -5.1157, -5.1171, -5.4717, -5.4717, -5.4718, -5.4718, -5.4718, -5.472, -5.4724, -5.4724, -5.4724, -5.4726, -5.475, -5.4751, -4.6526, -5.5312, -5.1002, -5.1118, -6.0314, -4.6485, -4.3364, -3.1913, -4.6597, -3.3682, -4.1822, -4.0488, -4.3689, -5.2261, -5.1157, -5.136, -4.9172, -5.1457, -4.7926, -4.8082, -5.0272, -5.0824, -5.0981, -5.111, -5.1125, -2.9353, -4.3384, -4.5099, -4.9799, -4.9799, -4.9804, -4.9853, -5.3365, -5.3365, -5.3366, -5.3366, -5.3367, -5.3368, -5.3368, -5.3368, -5.3368, -5.337, -5.337, -5.3371, -5.3373, -5.349, -5.3572, -3.9622, -4.7419, -4.9832, -5.8961, -5.8961, -5.8961, -5.8961, -5.8961, -4.9791, -4.9806, -3.8403, -3.4691, -4.3408, -2.8575, -3.759, -3.8998, -5.0254, -3.9123, -4.7251, -4.9821, -4.9912, -4.9821, -4.7437, -4.7013, -4.7227, -4.9809, -5.0317, -5.054, -4.5356, -3.4633, -4.4318, -4.6393, -4.6538, -4.9015, -4.9016, -4.931, -3.103, -4.9422, -4.9425, -5.2582, -5.2582, -5.2582, -5.2583, -5.2583, -5.2584, -5.2584, -5.2586, -5.2607, -5.2611, -5.2757, -4.6381, -4.6381, -4.8292, -3.8449, -5.8178, -5.8178, -5.8178, -5.8178, -5.8178, -4.5885, -2.9646, -5.1999, -5.2571, -5.2626, -3.836, -4.8812, -3.6162, -4.8485, -4.8946, -4.5547, -4.8442, -4.6462, -4.88, -4.8969, -4.604, -4.9401, -5.0962, -5.1409], \"loglift\": [30.0, 29.0, 28.0, 27.0, 26.0, 25.0, 24.0, 23.0, 22.0, 21.0, 20.0, 19.0, 18.0, 17.0, 16.0, 15.0, 14.0, 13.0, 12.0, 11.0, 10.0, 9.0, 8.0, 7.0, 6.0, 5.0, 4.0, 3.0, 2.0, 1.0, 0.9174, 0.8919, 0.8765, 0.8765, 0.8182, 0.8141, 0.8062, 0.8022, 0.8009, 0.7706, 0.7704, 0.7698, 0.7686, 0.7054, 0.7054, 0.7053, 0.7053, 0.7053, 0.7052, 0.7048, 0.7048, 0.7047, 0.7046, 0.7024, 0.7023, 0.6783, 0.6493, 0.5739, 0.5629, 0.5592, 0.5552, 0.5491, 0.4855, 0.5445, -0.1363, -0.0116, -0.3739, -0.3869, 0.4536, 0.2372, 0.2151, -0.247, 0.0768, -0.6508, -0.7101, -0.4824, -0.3322, -0.1858, -0.1039, -0.1999, 1.063, 1.0475, 1.0296, 0.9627, 0.9627, 0.9622, 0.9569, 0.8915, 0.8914, 0.8913, 0.8913, 0.8913, 0.8911, 0.8911, 0.8911, 0.8911, 0.8909, 0.8909, 0.8909, 0.8906, 0.8782, 0.8706, 0.7879, 0.7833, 0.7364, 0.7327, 0.7327, 0.7327, 0.7327, 0.7327, 0.7262, 0.7247, 0.7045, 0.6727, 0.6663, 0.3744, 0.2231, 0.2708, 0.6777, -0.2355, 0.3846, 0.5433, 0.5462, 0.5314, 0.27, 0.211, 0.1899, 0.372, 0.3416, 0.3207, -0.8607, 1.1559, 1.1027, 1.0768, 1.0614, 1.0367, 1.0365, 1.0073, 0.9951, 0.9935, 0.9932, 0.9658, 0.9658, 0.9657, 0.9656, 0.9656, 0.9656, 0.9656, 0.9654, 0.9631, 0.9628, 0.9483, 0.8845, 0.8845, 0.8762, 0.8254, 0.808, 0.808, 0.808, 0.808, 0.808, 0.7939, 0.7103, 0.7229, 0.6633, 0.6575, 0.146, 0.4699, -0.3843, 0.3741, 0.3283, -0.3841, 0.1695, -0.5044, 0.0055, 0.0157, -0.9272, -0.0278, 0.2786, 0.2241]}, \"token.table\": {\"Topic\": [1, 2, 1, 2, 3, 1, 2, 3, 1, 2, 3, 2, 1, 3, 1, 1, 2, 1, 3, 1, 3, 2, 3, 1, 1, 1, 3, 1, 2, 3, 1, 2, 3, 3, 1, 3, 3, 1, 3, 2, 3, 2, 2, 3, 2, 1, 2, 3, 2, 1, 1, 1, 3, 3, 2, 2, 3, 2, 1, 3, 1, 2, 2, 1, 2, 3, 2, 1, 2, 3, 1, 2, 3, 2, 1, 2, 3, 2, 1, 2, 1, 3, 1, 1, 1, 1, 1, 2, 3, 3, 1, 3, 2, 3, 2, 1, 2, 3, 1, 2, 1, 2, 2, 1, 2, 1, 3, 1, 3, 3, 1, 2, 1, 3, 2, 1, 1, 2, 1, 2, 1, 2, 1, 2, 1, 1, 2, 3, 1, 3, 3, 1, 1, 2, 3, 2, 1, 2, 1, 2, 3, 1, 2, 3, 3, 3, 1, 2, 3, 1, 2, 3, 3, 1, 1, 1, 3, 2, 2, 2, 2, 3, 3, 3, 1, 3, 1, 1, 2, 3, 1, 3, 3, 3, 1, 2, 3, 1, 2, 1, 3, 1, 3, 1, 3, 2, 3, 3], \"Freq\": [0.7911422510857568, 0.26371408369525223, 0.905227237150474, 0.9171099222424028, 0.6863798755843022, 0.6437594413704748, 0.2503508938662958, 0.10729324022841247, 0.25559901533117796, 0.6815973742164746, 0.08519967177705932, 0.9171183330166672, 0.6589832334373341, 0.32949161671866706, 0.8718590584760061, 0.40579929992419855, 0.6763321665403309, 0.9769038907812323, 0.9134986180912604, 0.8662715108619709, 0.10828393885774636, 0.6894468305048806, 0.6826288559669551, 0.993662945201346, 0.8717127788587424, 0.33796538513498764, 0.6759307702699753, 0.19509799526417212, 0.39019599052834425, 0.39019599052834425, 0.19536395960087338, 0.39072791920174677, 0.39072791920174677, 0.6826288559669551, 0.6590235131100349, 0.6826288559669551, 0.6826288559669551, 0.7186799667783286, 0.23955998892610952, 0.6846507829243936, 0.6826288559669551, 0.9164413518887338, 0.9214150089392837, 0.6864843584707104, 0.6894468689403614, 0.4102050513032735, 0.4102050513032735, 0.17580216484426006, 0.9171149191025215, 0.8717072310241732, 0.7796315337879485, 0.7480154401225028, 0.1870038600306257, 0.9134977894055909, 0.9171156382818312, 0.5516720456447981, 0.27583602282239905, 0.6846507829243936, 0.5724117893754347, 0.38160785958362314, 0.7906791843603634, 0.2635597281201212, 0.6846507829243936, 0.9768241484354444, 0.6892235899889484, 0.9168466919967356, 0.6846507829243936, 0.38696486583857415, 0.38696486583857415, 0.38696486583857415, 0.8717409595518704, 0.39374043030536393, 0.5906106454580459, 0.9171099222424028, 0.24266293450100507, 0.3882606952016081, 0.3397281083014071, 0.6846507829243936, 0.8717118543076632, 0.689440129655503, 0.22650360198381939, 0.6795108059514581, 0.8717381108835629, 0.9550791830325215, 0.8718655104645208, 0.7815071226404972, 0.2271441351072169, 0.4542882702144338, 0.2271441351072169, 0.913498090787247, 0.22650360198381939, 0.6795108059514581, 0.4597780829192118, 0.4597780829192118, 0.9171156382818312, 0.3691048430882331, 0.3691048430882331, 0.2460698953921554, 0.27191395521908823, 0.5438279104381765, 0.22707428001961633, 0.6812228400588489, 0.9171185980225648, 0.27130761349478916, 0.5426152269895783, 0.8988994277877788, 0.09987771419864208, 0.27191800048835296, 0.8157540014650588, 0.9134966775882903, 0.5734454272853161, 0.38229695152354404, 0.6586436714298182, 0.3293218357149091, 0.987856319804335, 0.8717051623826783, 0.04932500343020581, 0.9371750651739104, 0.8717191873290773, 0.9171180876021297, 0.313849468458404, 0.7323154264029427, 0.27191400167459445, 0.5438280033491889, 0.9767881900452707, 0.2723216707371101, 0.4084825061056652, 0.4084825061056652, 0.33713898968033446, 0.6742779793606689, 0.9134972214912307, 0.9052287946032351, 0.28556247726704065, 0.14278123863352032, 0.6068202641924614, 0.9171215554515609, 0.44892765435868853, 0.44892765435868853, 0.3438311861195977, 0.45844158149279685, 0.2062987116717586, 0.3356860361774804, 0.1678430180887402, 0.3356860361774804, 0.9133829990900325, 0.823820105583639, 0.5033762599511712, 0.16779208665039042, 0.5033762599511712, 0.36920155626715095, 0.36920155626715095, 0.24613437084476733, 0.6847642784442679, 0.8717497846600135, 0.8656061776617262, 0.8717118620275003, 0.6863775964565263, 0.9171104863979551, 0.9171203207963774, 0.9171057964537614, 0.9170167197515082, 0.9133764768672435, 0.9134974518151282, 0.913493305091352, 0.8717421311619211, 0.9135759913615086, 0.8746437057007285, 0.22775112258509286, 0.6263155871090054, 0.17081334193881964, 0.3370673582163162, 0.6741347164326325, 0.6847520654802279, 0.9134974518151282, 0.44964250978933973, 0.44964250978933973, 0.14988083659644658, 0.5300926613978499, 0.26504633069892497, 0.21801169906768508, 0.817543871503819, 0.2897430221810248, 0.6760670517557246, 0.866340520625813, 0.10829256507822663, 0.9171156382818312, 0.9177928556306271, 0.8245590572604451], \"Term\": [\"accept\", \"accept\", \"aerosol\", \"aluminum\", \"animal\", \"bag\", \"bag\", \"bag\", \"bags\", \"bags\", \"bags\", \"batteries\", \"battery\", \"battery\", \"bin\", \"box\", \"box\", \"broken\", \"bubble\", \"bulb\", \"bulb\", \"bulky\", \"butts\", \"can\", \"car\", \"carbon\", \"carbon\", \"cardboard\", \"cardboard\", \"cardboard\", \"carton\", \"carton\", \"carton\", \"case\", \"cases\", \"cat\", \"cd\", \"ceramic\", \"ceramic\", \"cheese\", \"cigarette\", \"clean\", \"clothing\", \"coat\", \"construction\", \"container\", \"container\", \"container\", \"cooking\", \"cookware\", \"crystal\", \"cup\", \"cup\", \"cups\", \"debris\", \"diaper\", \"diaper\", \"diapers\", \"dish\", \"dish\", \"do\", \"do\", \"donut\", \"drinking\", \"dry\", \"electronic\", \"feminine\", \"film\", \"film\", \"film\", \"filter\", \"foam\", \"foam\", \"foil\", \"food\", \"food\", \"food\", \"fork\", \"free\", \"garbage\", \"garden\", \"garden\", \"gasoline\", \"glass\", \"greasy\", \"grocery\", \"hanger\", \"hanger\", \"hanger\", \"hazardous\", \"hose\", \"hose\", \"household\", \"household\", \"insulation\", \"item\", \"item\", \"item\", \"juice\", \"juice\", \"kind\", \"kind\", \"kleenex\", \"lid\", \"lid\", \"light\", \"light\", \"like\", \"like\", \"livestock\", \"milk\", \"milk\", \"mirror\", \"mirror\", \"motor\", \"needles\", \"no\", \"no\", \"not\", \"of\", \"oil\", \"oil\", \"or\", \"or\", \"ovenware\", \"packaging\", \"packaging\", \"packaging\", \"packing\", \"packing\", \"page\", \"paint\", \"paper\", \"paper\", \"paper\", \"pipe\", \"pizza\", \"pizza\", \"plastic\", \"plastic\", \"plastic\", \"plate\", \"plate\", \"plate\", \"plates\", \"polystyrene\", \"pot\", \"pot\", \"pot\", \"product\", \"product\", \"product\", \"propane\", \"pyrex\", \"recyclable\", \"rinse\", \"rope\", \"sanitary\", \"scrap\", \"shoe\", \"shred\", \"shredded\", \"shrink\", \"soil\", \"spray\", \"sticker\", \"store\", \"styrofoam\", \"styrofoam\", \"styrofoam\", \"syrinx\", \"syrinx\", \"tank\", \"thin\", \"toy\", \"toy\", \"toy\", \"trash\", \"trash\", \"waste\", \"waste\", \"wax\", \"wax\", \"window\", \"window\", \"wood\", \"wrap\", \"yard\"]}, \"R\": 30, \"lambda.step\": 0.01, \"plot.opts\": {\"xlab\": \"PC1\", \"ylab\": \"PC2\"}, \"topic.order\": [1, 3, 2]};\n",
       "\n",
       "function LDAvis_load_lib(url, callback){\n",
       "  var s = document.createElement('script');\n",
       "  s.src = url;\n",
       "  s.async = true;\n",
       "  s.onreadystatechange = s.onload = callback;\n",
       "  s.onerror = function(){console.warn(\"failed to load library \" + url);};\n",
       "  document.getElementsByTagName(\"head\")[0].appendChild(s);\n",
       "}\n",
       "\n",
       "if(typeof(LDAvis) !== \"undefined\"){\n",
       "   // already loaded: just create the visualization\n",
       "   !function(LDAvis){\n",
       "       new LDAvis(\"#\" + \"ldavis_el1294416888326458243828251438\", ldavis_el1294416888326458243828251438_data);\n",
       "   }(LDAvis);\n",
       "}else if(typeof define === \"function\" && define.amd){\n",
       "   // require.js is available: use it to load d3/LDAvis\n",
       "   require.config({paths: {d3: \"https://d3js.org/d3.v5\"}});\n",
       "   require([\"d3\"], function(d3){\n",
       "      window.d3 = d3;\n",
       "      LDAvis_load_lib(\"https://cdn.jsdelivr.net/gh/bmabey/pyLDAvis@3.3.1/pyLDAvis/js/ldavis.v3.0.0.js\", function(){\n",
       "        new LDAvis(\"#\" + \"ldavis_el1294416888326458243828251438\", ldavis_el1294416888326458243828251438_data);\n",
       "      });\n",
       "    });\n",
       "}else{\n",
       "    // require.js not available: dynamically load d3 & LDAvis\n",
       "    LDAvis_load_lib(\"https://d3js.org/d3.v5.js\", function(){\n",
       "         LDAvis_load_lib(\"https://cdn.jsdelivr.net/gh/bmabey/pyLDAvis@3.3.1/pyLDAvis/js/ldavis.v3.0.0.js\", function(){\n",
       "                 new LDAvis(\"#\" + \"ldavis_el1294416888326458243828251438\", ldavis_el1294416888326458243828251438_data);\n",
       "            })\n",
       "         });\n",
       "}\n",
       "</script>"
      ],
      "text/plain": [
       "PreparedData(topic_coordinates=              x         y  topics  cluster       Freq\n",
       "topic                                                \n",
       "0      0.005970 -0.109011       1        1  39.020512\n",
       "2     -0.111778  0.050019       2        1  31.590013\n",
       "1      0.105809  0.058992       3        1  29.389475, topic_info=        Term       Freq      Total Category  logprob  loglift\n",
       "2         no  20.000000  20.000000  Default  30.0000  30.0000\n",
       "9      glass  20.000000  20.000000  Default  29.0000  29.0000\n",
       "41     waste  18.000000  18.000000  Default  28.0000  28.0000\n",
       "20      wrap  10.000000  10.000000  Default  27.0000  27.0000\n",
       "54     paper  28.000000  28.000000  Default  26.0000  26.0000\n",
       "..       ...        ...        ...      ...      ...      ...\n",
       "194  product   2.425923   8.125643   Topic3  -4.8969   0.0157\n",
       "0        bag   3.251442  27.960755   Topic3  -4.6040  -0.9272\n",
       "192     item   2.323301   8.127772   Topic3  -4.9401  -0.0278\n",
       "65    carton   1.987574   5.118651   Topic3  -5.0962   0.2786\n",
       "82      film   1.900567   5.168428   Topic3  -5.1409   0.2241\n",
       "\n",
       "[180 rows x 6 columns], token_table=      Topic      Freq      Term\n",
       "term                           \n",
       "227       1  0.791142    accept\n",
       "227       2  0.263714    accept\n",
       "5         1  0.905227   aerosol\n",
       "324       2  0.917110  aluminum\n",
       "356       3  0.686380    animal\n",
       "...     ...       ...       ...\n",
       "18        1  0.866341    window\n",
       "18        3  0.108293    window\n",
       "330       2  0.917116      wood\n",
       "20        3  0.917793      wrap\n",
       "42        3  0.824559      yard\n",
       "\n",
       "[188 rows x 3 columns], R=30, lambda_step=0.01, plot_opts={'xlab': 'PC1', 'ylab': 'PC2'}, topic_order=[1, 3, 2])"
      ]
     },
     "execution_count": 26,
     "metadata": {},
     "output_type": "execute_result"
    }
   ],
   "source": [
    "# run visualization\n",
    "pyLDAvis.enable_notebook()\n",
    "vis = pyLDAvis.gensim_models.prepare(lda_multicore, corpus, id2words)\n",
    "vis"
   ]
  },
  {
   "cell_type": "markdown",
   "metadata": {},
   "source": [
    "The df_no analysis is not as clear topics are not as clear, since there is a wider array of items that are excluded from recycling."
   ]
  },
  {
   "cell_type": "markdown",
   "metadata": {},
   "source": [
    "This was a preliminary EDA and a good starting point for doing a more in-depth analysis with more complex tools. With more context, and/or information of the dropped columns, even more insights could be gained into the significance of the data and how to best prepare it for Machine Learning purposes."
   ]
  }
 ],
 "metadata": {
  "interpreter": {
   "hash": "aee8b7b246df8f9039afb4144a1f6fd8d2ca17a180786b69acc140d282b71a49"
  },
  "kernelspec": {
   "display_name": "Python 3 (ipykernel)",
   "language": "python",
   "name": "python3"
  },
  "language_info": {
   "codemirror_mode": {
    "name": "ipython",
    "version": 3
   },
   "file_extension": ".py",
   "mimetype": "text/x-python",
   "name": "python",
   "nbconvert_exporter": "python",
   "pygments_lexer": "ipython3",
   "version": "3.8.7"
  }
 },
 "nbformat": 4,
 "nbformat_minor": 2
}

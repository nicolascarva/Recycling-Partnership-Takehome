{
 "cells": [
  {
   "cell_type": "markdown",
   "metadata": {},
   "source": [
    "# Part 1\n",
    "\n",
    "The following code represents a simple, inefficient pattern search that might be found during EDA in a jupyter notebook.\n",
    "\n",
    "In a separate `.py` file, refactor this code using OOP to make it more extensible and efficient.\n",
    "\n",
    "Your object should be able to do each of the following:\n",
    "\n",
    "1. Accept either a string or a list of words as input text to be searched for pattern matches (if a string is passed, only words in the string that match the pattern should be caught)\n",
    "2. Allow for registering an arbitrary number of pattern groups to search input text\n",
    "3. Allow the user to specify a specific pattern group to search the text for matches\n",
    "4. Allow the user to search input text with all registered patterns and return all matches by pattern group"
   ]
  },
  {
   "cell_type": "code",
   "execution_count": 1,
   "metadata": {},
   "outputs": [
    {
     "name": "stdout",
     "output_type": "stream",
     "text": [
      "Pattern 1: ['cat', 'mouse']\n",
      "Pattern 2: ['mouse']\n"
     ]
    }
   ],
   "source": [
    "my_words = ['dog', 'cat', 'mouse', 'bird', 'snake', 'kitten', 'puppy']\n",
    "\n",
    "pattern_1_words = []\n",
    "pattern_2_words = []\n",
    "\n",
    "pattern_group_1 = [\n",
    "\t'at',\n",
    "\t'ou'\n",
    "]\n",
    "\n",
    "pattern_group_2 = [\n",
    "\t'in',\n",
    "\t'mo'\n",
    "]\n",
    "\n",
    "for word in my_words:\n",
    "\tfor pat in pattern_group_1:\n",
    "\t\tif pat in word:\n",
    "\t\t\tpattern_1_words.append(word)\n",
    "for word in my_words:\n",
    "\tfor pat in pattern_group_2:\n",
    "\t\tif pat in word:\n",
    "\t\t\tpattern_2_words.append(word)\n",
    "\n",
    "print(f\"Pattern 1: {pattern_1_words}\")\n",
    "print(f\"Pattern 2: {pattern_2_words}\")"
   ]
  },
  {
   "cell_type": "markdown",
   "metadata": {},
   "source": [
    "\\#########################################################\n",
    "\n",
    "### Note: The .py file created is main.py and can be found on this repository: https://github.com/nicolascarva/Recycling-Partnership-Takehome.git\n",
    "\n",
    "Instructions for running it:\n",
    "\n",
    "1. Instantiate object with text to be searched (string or list) as input:\n",
    "`input = Match('example text')`\n",
    "\n",
    "2. Add desired pattern groups by running add_patterns method and using a dictionary with the pattern name as key and a list of the patterns as values. More pattern groups can be added as desired.\n",
    "\n",
    "`pattern_group_1 = {'pat_1': ['ex', 'am'], 'pat_2': ['xt']}\n",
    "pattern_group_2 = {'pat_3': ['foo']}\n",
    "input.add_patterns(pattern_groups1)\n",
    "input.add_patterns(pattern_groups2)`\n",
    "\n",
    "3. To find matches run the match_patterns method with a list of the names of the desired pattern groups as input (if empty, default is 'all'):\n",
    "\n",
    "`input.match_patterns(['pat_1'])`\n",
    "\n",
    "4. If new text needs to be searched, a new object may be instantiated, or, to avoid having to add patterns again, run the change_text method with new text (string or list) as the input:\n",
    "\n",
    "`input.change_text(['new', 'text'])` or \n",
    "`input.change_text('new text')`\n",
    "\n",
    "\n",
    "\\############################################################"
   ]
  },
  {
   "cell_type": "markdown",
   "metadata": {},
   "source": [
    "# Part 2\n",
    "\n",
    "Writes tests for your code using `pytest`"
   ]
  },
  {
   "cell_type": "markdown",
   "metadata": {},
   "source": [
    "#### To run test: clone the repository and run \n",
    "`python -m pytest` in the environment. Test can be found in the `test_class.py` file.\n",
    "\n",
    "############################################################"
   ]
  },
  {
   "cell_type": "markdown",
   "metadata": {},
   "source": [
    "# Part 3\n",
    "\n",
    "Imagine your job is to help build the text processing pipeline for a machine learning model. This model takes strings, processes them into vectors, and then classifies the text as relating to one of several categories (a multiclass classifier).\n",
    "\n",
    "The raw data that is passed into the machine learning pipeline has strings that may include descriptions of many items, including multiple items that we are seeking to classify, as well as descriptions of items that are irrelevant to our classifier. These must be separated before being passed to classifier.\n",
    "\n",
    "As the newest member of the team, your job is to get up to speed with the data as quickly as possible, and to find opportunities to improve the text processing pipeline. Perform an EDA on the following CSV to accomplish this. Be prepared to explain what insights you learned from the data, and what approaches you might use to improve the pipeline.\n",
    "\n",
    "Perform the analysis in this notebook, below this prompt."
   ]
  },
  {
   "cell_type": "markdown",
   "metadata": {},
   "source": [
    "# Analysis"
   ]
  },
  {
   "cell_type": "code",
   "execution_count": 2,
   "metadata": {},
   "outputs": [],
   "source": [
    "## Imports ##\n",
    "import pandas as pd\n",
    "import numpy as np\n",
    "import re\n",
    "\n",
    "import matplotlib.pyplot as plt\n",
    "\n",
    "from sklearn.feature_extraction.text import CountVectorizer\n",
    "\n",
    "import spacy\n",
    "\n",
    "import gensim\n",
    "import gensim.corpora as corpora\n",
    "\n",
    "import pyLDAvis\n",
    "import pyLDAvis.gensim_models"
   ]
  },
  {
   "cell_type": "code",
   "execution_count": 3,
   "metadata": {},
   "outputs": [],
   "source": [
    "%%capture\n",
    "!python -m spacy download en_core_web_sm \n",
    "nlp = spacy.load(\"en_core_web_sm\");"
   ]
  },
  {
   "cell_type": "markdown",
   "metadata": {},
   "source": [
    "First we'll import the csv data and take a look at it."
   ]
  },
  {
   "cell_type": "code",
   "execution_count": 4,
   "metadata": {},
   "outputs": [
    {
     "data": {
      "text/html": [
       "<div>\n",
       "<style scoped>\n",
       "    .dataframe tbody tr th:only-of-type {\n",
       "        vertical-align: middle;\n",
       "    }\n",
       "\n",
       "    .dataframe tbody tr th {\n",
       "        vertical-align: top;\n",
       "    }\n",
       "\n",
       "    .dataframe thead th {\n",
       "        text-align: right;\n",
       "    }\n",
       "</style>\n",
       "<table border=\"1\" class=\"dataframe\">\n",
       "  <thead>\n",
       "    <tr style=\"text-align: right;\">\n",
       "      <th></th>\n",
       "      <th>text</th>\n",
       "      <th>added_datetime</th>\n",
       "      <th>yes_no</th>\n",
       "      <th>image_coordinates</th>\n",
       "      <th>image_url</th>\n",
       "      <th>original_id</th>\n",
       "      <th>page_number</th>\n",
       "      <th>parser_version</th>\n",
       "      <th>model_version</th>\n",
       "      <th>manual_override</th>\n",
       "    </tr>\n",
       "    <tr>\n",
       "      <th>id</th>\n",
       "      <th></th>\n",
       "      <th></th>\n",
       "      <th></th>\n",
       "      <th></th>\n",
       "      <th></th>\n",
       "      <th></th>\n",
       "      <th></th>\n",
       "      <th></th>\n",
       "      <th></th>\n",
       "      <th></th>\n",
       "    </tr>\n",
       "  </thead>\n",
       "  <tbody>\n",
       "    <tr>\n",
       "      <th>462548</th>\n",
       "      <td>No plastic bags or pesticide...</td>\n",
       "      <td>2021-07-13 01:18:01.983</td>\n",
       "      <td>no</td>\n",
       "      <td>{'originalSize': {'height': ...</td>\n",
       "      <td>NaN</td>\n",
       "      <td>NaN</td>\n",
       "      <td>NaN</td>\n",
       "      <td>NaN</td>\n",
       "      <td>NaN</td>\n",
       "      <td>NaN</td>\n",
       "    </tr>\n",
       "    <tr>\n",
       "      <th>462549</th>\n",
       "      <td>No paint or aerosol cans .</td>\n",
       "      <td>2021-07-13 01:18:01.983</td>\n",
       "      <td>no</td>\n",
       "      <td>{'originalSize': {'height': ...</td>\n",
       "      <td>NaN</td>\n",
       "      <td>NaN</td>\n",
       "      <td>NaN</td>\n",
       "      <td>NaN</td>\n",
       "      <td>NaN</td>\n",
       "      <td>NaN</td>\n",
       "    </tr>\n",
       "    <tr>\n",
       "      <th>462550</th>\n",
       "      <td>Tin and aluminum food and dr...</td>\n",
       "      <td>2021-07-13 01:18:01.983</td>\n",
       "      <td>yes</td>\n",
       "      <td>{'originalSize': {'height': ...</td>\n",
       "      <td>NaN</td>\n",
       "      <td>NaN</td>\n",
       "      <td>NaN</td>\n",
       "      <td>NaN</td>\n",
       "      <td>NaN</td>\n",
       "      <td>NaN</td>\n",
       "    </tr>\n",
       "    <tr>\n",
       "      <th>462551</th>\n",
       "      <td>Corrugated and non corrugate...</td>\n",
       "      <td>2021-07-13 01:18:01.983</td>\n",
       "      <td>yes</td>\n",
       "      <td>{'originalSize': {'height': ...</td>\n",
       "      <td>NaN</td>\n",
       "      <td>NaN</td>\n",
       "      <td>NaN</td>\n",
       "      <td>NaN</td>\n",
       "      <td>NaN</td>\n",
       "      <td>NaN</td>\n",
       "    </tr>\n",
       "    <tr>\n",
       "      <th>462552</th>\n",
       "      <td>Includes all colors office p...</td>\n",
       "      <td>2021-07-13 01:18:01.983</td>\n",
       "      <td>yes</td>\n",
       "      <td>{'originalSize': {'height': ...</td>\n",
       "      <td>NaN</td>\n",
       "      <td>NaN</td>\n",
       "      <td>NaN</td>\n",
       "      <td>NaN</td>\n",
       "      <td>NaN</td>\n",
       "      <td>NaN</td>\n",
       "    </tr>\n",
       "  </tbody>\n",
       "</table>\n",
       "</div>"
      ],
      "text/plain": [
       "                                   text           added_datetime yes_no  \\\n",
       "id                                                                        \n",
       "462548  No plastic bags or pesticide...  2021-07-13 01:18:01.983     no   \n",
       "462549       No paint or aerosol cans .  2021-07-13 01:18:01.983     no   \n",
       "462550  Tin and aluminum food and dr...  2021-07-13 01:18:01.983    yes   \n",
       "462551  Corrugated and non corrugate...  2021-07-13 01:18:01.983    yes   \n",
       "462552  Includes all colors office p...  2021-07-13 01:18:01.983    yes   \n",
       "\n",
       "                      image_coordinates  image_url  original_id  page_number  \\\n",
       "id                                                                             \n",
       "462548  {'originalSize': {'height': ...        NaN          NaN          NaN   \n",
       "462549  {'originalSize': {'height': ...        NaN          NaN          NaN   \n",
       "462550  {'originalSize': {'height': ...        NaN          NaN          NaN   \n",
       "462551  {'originalSize': {'height': ...        NaN          NaN          NaN   \n",
       "462552  {'originalSize': {'height': ...        NaN          NaN          NaN   \n",
       "\n",
       "       parser_version model_version manual_override  \n",
       "id                                                   \n",
       "462548            NaN           NaN             NaN  \n",
       "462549            NaN           NaN             NaN  \n",
       "462550            NaN           NaN             NaN  \n",
       "462551            NaN           NaN             NaN  \n",
       "462552            NaN           NaN             NaN  "
      ]
     },
     "execution_count": 4,
     "metadata": {},
     "output_type": "execute_result"
    }
   ],
   "source": [
    "df = pd.read_csv('./data/takehome.csv', index_col='id')\n",
    "pd.set_option('display.max_colwidth', 32)\n",
    "df.head()"
   ]
  },
  {
   "cell_type": "markdown",
   "metadata": {},
   "source": [
    "There's not a lot of context in the data and many of the columns seem to be mainly null (below). There is a yes/no column that seems to be correlated to the text, my initial assumption is that it describes if the text specifies a material (YES) or excludes a material (NO). So we'll keep the index column, the text column and the yes_no column. The rest of the columns need more information or context, so we'll leave them out of the analysis for now."
   ]
  },
  {
   "cell_type": "markdown",
   "metadata": {},
   "source": [
    "We check for null in the text column and drop those rows as well as the rows that won't be analyzed."
   ]
  },
  {
   "cell_type": "code",
   "execution_count": 5,
   "metadata": {
    "scrolled": false
   },
   "outputs": [
    {
     "data": {
      "text/plain": [
       "text                    3\n",
       "added_datetime          0\n",
       "yes_no                  0\n",
       "image_coordinates     660\n",
       "image_url            1000\n",
       "original_id          1000\n",
       "page_number          1000\n",
       "parser_version        340\n",
       "model_version         340\n",
       "manual_override       340\n",
       "dtype: int64"
      ]
     },
     "execution_count": 5,
     "metadata": {},
     "output_type": "execute_result"
    }
   ],
   "source": [
    "df.isnull().sum()"
   ]
  },
  {
   "cell_type": "code",
   "execution_count": 6,
   "metadata": {},
   "outputs": [
    {
     "data": {
      "text/plain": [
       "text      0\n",
       "yes_no    0\n",
       "dtype: int64"
      ]
     },
     "execution_count": 6,
     "metadata": {},
     "output_type": "execute_result"
    }
   ],
   "source": [
    "df = df[['text', 'yes_no']]\n",
    "df.dropna(subset=['text'], inplace=True)\n",
    "df.isnull().sum()"
   ]
  },
  {
   "cell_type": "code",
   "execution_count": 7,
   "metadata": {},
   "outputs": [
    {
     "data": {
      "text/plain": [
       "(997, 2)"
      ]
     },
     "execution_count": 7,
     "metadata": {},
     "output_type": "execute_result"
    }
   ],
   "source": [
    "df.shape"
   ]
  },
  {
   "cell_type": "code",
   "execution_count": 8,
   "metadata": {},
   "outputs": [
    {
     "data": {
      "text/html": [
       "<div>\n",
       "<style scoped>\n",
       "    .dataframe tbody tr th:only-of-type {\n",
       "        vertical-align: middle;\n",
       "    }\n",
       "\n",
       "    .dataframe tbody tr th {\n",
       "        vertical-align: top;\n",
       "    }\n",
       "\n",
       "    .dataframe thead th {\n",
       "        text-align: right;\n",
       "    }\n",
       "</style>\n",
       "<table border=\"1\" class=\"dataframe\">\n",
       "  <thead>\n",
       "    <tr style=\"text-align: right;\">\n",
       "      <th></th>\n",
       "      <th>text</th>\n",
       "      <th>yes_no</th>\n",
       "    </tr>\n",
       "    <tr>\n",
       "      <th>id</th>\n",
       "      <th></th>\n",
       "      <th></th>\n",
       "    </tr>\n",
       "  </thead>\n",
       "  <tbody>\n",
       "    <tr>\n",
       "      <th>462548</th>\n",
       "      <td>No plastic bags or pesticide...</td>\n",
       "      <td>no</td>\n",
       "    </tr>\n",
       "    <tr>\n",
       "      <th>462549</th>\n",
       "      <td>No paint or aerosol cans .</td>\n",
       "      <td>no</td>\n",
       "    </tr>\n",
       "    <tr>\n",
       "      <th>462550</th>\n",
       "      <td>Tin and aluminum food and dr...</td>\n",
       "      <td>yes</td>\n",
       "    </tr>\n",
       "    <tr>\n",
       "      <th>462551</th>\n",
       "      <td>Corrugated and non corrugate...</td>\n",
       "      <td>yes</td>\n",
       "    </tr>\n",
       "    <tr>\n",
       "      <th>462552</th>\n",
       "      <td>Includes all colors office p...</td>\n",
       "      <td>yes</td>\n",
       "    </tr>\n",
       "  </tbody>\n",
       "</table>\n",
       "</div>"
      ],
      "text/plain": [
       "                                   text yes_no\n",
       "id                                            \n",
       "462548  No plastic bags or pesticide...     no\n",
       "462549       No paint or aerosol cans .     no\n",
       "462550  Tin and aluminum food and dr...    yes\n",
       "462551  Corrugated and non corrugate...    yes\n",
       "462552  Includes all colors office p...    yes"
      ]
     },
     "execution_count": 8,
     "metadata": {},
     "output_type": "execute_result"
    }
   ],
   "source": [
    "df.head()"
   ]
  },
  {
   "cell_type": "markdown",
   "metadata": {},
   "source": [
    "Now we are going to clean the text to remove unwanted characters and be able to compare word counts and do other data manipulation."
   ]
  },
  {
   "cell_type": "code",
   "execution_count": 9,
   "metadata": {},
   "outputs": [],
   "source": [
    "def clean_text(text):\n",
    "    \"\"\"\n",
    "    Accepts a single text document and performs several regex\n",
    "    substitutions in order to clean the document.\n",
    "    Parameters\n",
    "    ----------\n",
    "    text: string\n",
    "    Returns\n",
    "    -------\n",
    "    text: list of words\n",
    "    \"\"\"\n",
    "    special_chars_regex = '[:?,.>$|!\\'\"]'\n",
    "    white_spaces_regex = '[ ]{2,}'\n",
    "    text = re.sub('[^a-zA-Z ]', \" \", text)\n",
    "    text = re.sub(special_chars_regex, \" \", text)\n",
    "    text = re.sub(white_spaces_regex, \" \", text)\n",
    "    return text"
   ]
  },
  {
   "cell_type": "code",
   "execution_count": 10,
   "metadata": {
    "scrolled": true
   },
   "outputs": [],
   "source": [
    "df['text'] = [clean_text(text) for text in df['text']]"
   ]
  },
  {
   "cell_type": "markdown",
   "metadata": {},
   "source": [
    "Let's look at how many words each row contains. Makes sense that there would be a correlation between the number of materials in the classification and the number of words in the text. We'll add that data as a column and plot the histogram. We can see that the vast majority of text is under 10 words. Maybe this would be useful in the future (ie. applying different models, or manually reviewing rows with the long text)."
   ]
  },
  {
   "cell_type": "code",
   "execution_count": 11,
   "metadata": {},
   "outputs": [
    {
     "data": {
      "text/plain": [
       "(array([  2., 159., 196.,  71.,  62., 238.,  34.,  34.,  19.,  17.,  12.,\n",
       "         12.,  11.,  12.,   7.,  10.,   7.,   9.,   4.,   8.,   6.,   5.,\n",
       "          3.,   2.,   1.,   2.,   3.,   0.,   9.]),\n",
       " array([ 0,  1,  2,  3,  4,  5,  6,  7,  8,  9, 10, 11, 12, 13, 14, 15, 16,\n",
       "        17, 18, 19, 20, 21, 22, 23, 24, 25, 26, 27, 28, 29]),\n",
       " <BarContainer object of 29 artists>)"
      ]
     },
     "execution_count": 11,
     "metadata": {},
     "output_type": "execute_result"
    },
    {
     "data": {
      "image/png": "[encoded data removed]",
      "text/plain": [
       "<Figure size 432x288 with 1 Axes>"
      ]
     },
     "metadata": {
      "needs_background": "light"
     },
     "output_type": "display_data"
    }
   ],
   "source": [
    "df['num_of_words'] = [len(text.split()) for text in df['text']]\n",
    "plt.hist(df['num_of_words'],bins=range(30))"
   ]
  },
  {
   "cell_type": "markdown",
   "metadata": {},
   "source": [
    "We are going to plot the most common words in a histogram by creating a Document Term Matrix with sklearn and then counting the word frequencies. We are using unigrams and bigrams for the analysis."
   ]
  },
  {
   "cell_type": "code",
   "execution_count": 12,
   "metadata": {},
   "outputs": [],
   "source": [
    "def plot_word_count(df, x):\n",
    "    \"\"\"\n",
    "    Plots histogram of word count for given df\n",
    "    ---------------\n",
    "    df: Dataframe with clean 'text' column\n",
    "    x: Number of words to be plotted\n",
    "    \"\"\"\n",
    "    cv = CountVectorizer(stop_words='english', ngram_range=[1,2]) \n",
    "    cv_matrix = cv.fit_transform(df['text']) \n",
    "    # create document term matrix\n",
    "    df_dtm = pd.DataFrame(cv_matrix.toarray(), columns=cv.get_feature_names_out())\n",
    "    word_count = pd.DataFrame(index=cv.get_feature_names_out(), data=[df_dtm[feature].sum() for feature in cv.get_feature_names_out()], \n",
    "             columns=['count']).sort_values(by=['count'], axis=0, ascending=False)\n",
    "    plt.figure(figsize=(18, 8), dpi=80)\n",
    "    plt.bar(word_count[:x].index, word_count['count'][:x])\n",
    "    return word_count"
   ]
  },
  {
   "cell_type": "code",
   "execution_count": 13,
   "metadata": {},
   "outputs": [
    {
     "data": {
      "image/png": "[encoded data removed]",
      "text/plain": [
       "<Figure size 1440x640 with 1 Axes>"
      ]
     },
     "metadata": {
      "needs_background": "light"
     },
     "output_type": "display_data"
    }
   ],
   "source": [
    "word_count = plot_word_count(df, 15)"
   ]
  },
  {
   "cell_type": "markdown",
   "metadata": {},
   "source": [
    "We find that 'category', 'selected manually', etc. are a large part of the word count, which is odd so we look at the rows that contain 'category':"
   ]
  },
  {
   "cell_type": "code",
   "execution_count": 14,
   "metadata": {},
   "outputs": [
    {
     "data": {
      "text/plain": [
       "[(462634,\n",
       "  'Mixed Paper This category includes all other paper such as notebook paper Post it notes colored copy paper computer paper and white copy paper white envelopes green bar or blue bar computer paper junk mail etc Staples are OK '),\n",
       " (280510, 'No text category selected manually'),\n",
       " (280512, 'No text category selected manually'),\n",
       " (280573, 'No text category selected manually'),\n",
       " (306757, 'No text category selected manually'),\n",
       " (310641, 'No text category selected manually'),\n",
       " (280536, 'No text category selected manually'),\n",
       " (280537, 'No text category selected manually'),\n",
       " (280538, 'No text category selected manually'),\n",
       " (280539, 'No text category selected manually'),\n",
       " (280540, 'No text category selected manually'),\n",
       " (280541, 'No text category selected manually'),\n",
       " (280542, 'No text category selected manually'),\n",
       " (280543, 'No text category selected manually'),\n",
       " (280544, 'No text category selected manually'),\n",
       " (280545, 'No text category selected manually'),\n",
       " (280546, 'No text category selected manually'),\n",
       " (312353, 'No text category selected manually'),\n",
       " (312354, 'No text category selected manually'),\n",
       " (312355, 'No text category selected manually'),\n",
       " (280574, 'No text category selected manually'),\n",
       " (280575, 'No text category selected manually'),\n",
       " (280576, 'No text category selected manually'),\n",
       " (280577, 'No text category selected manually'),\n",
       " (280578, 'No text category selected manually'),\n",
       " (280579, 'No text category selected manually'),\n",
       " (280580, 'No text category selected manually'),\n",
       " (280581, 'No text category selected manually'),\n",
       " (280582, 'No text category selected manually'),\n",
       " (280586, 'No text category selected manually'),\n",
       " (314654, 'No text category selected manually'),\n",
       " (314655, 'No text category selected manually'),\n",
       " (314656, 'No text category selected manually'),\n",
       " (317211, 'No text category selected manually'),\n",
       " (317212, 'No text category selected manually'),\n",
       " (317213, 'No text category selected manually'),\n",
       " (317214, 'No text category selected manually'),\n",
       " (317215, 'No text category selected manually'),\n",
       " (320147, 'No text category selected manually'),\n",
       " (320148, 'No text category selected manually'),\n",
       " (320149, 'No text category selected manually'),\n",
       " (320150, 'No text category selected manually'),\n",
       " (320151, 'No text category selected manually'),\n",
       " (320152, 'No text category selected manually'),\n",
       " (321942, 'No text category selected manually'),\n",
       " (300292, 'No text category selected manually'),\n",
       " (300293, 'No text category selected manually'),\n",
       " (300294, 'No text category selected manually'),\n",
       " (300295, 'No text category selected manually'),\n",
       " (300296, 'No text category selected manually'),\n",
       " (300297, 'No text category selected manually'),\n",
       " (300298, 'No text category selected manually'),\n",
       " (300299, 'No text category selected manually'),\n",
       " (300300, 'No text category selected manually'),\n",
       " (300301, 'No text category selected manually'),\n",
       " (300302, 'No text category selected manually'),\n",
       " (323583, 'No text category selected manually'),\n",
       " (323584, 'No text category selected manually'),\n",
       " (323585, 'No text category selected manually'),\n",
       " (323586, 'No text category selected manually'),\n",
       " (323587, 'No text category selected manually'),\n",
       " (317216, 'No text category selected manually'),\n",
       " (317217, 'No text category selected manually'),\n",
       " (317218, 'No text category selected manually'),\n",
       " (317219, 'No text category selected manually'),\n",
       " (300868, 'No text category selected manually'),\n",
       " (314657, 'No text category selected manually'),\n",
       " (314658, 'No text category selected manually'),\n",
       " (301023, 'No text category selected manually'),\n",
       " (301024, 'No text category selected manually'),\n",
       " (301025, 'No text category selected manually'),\n",
       " (301026, 'No text category selected manually'),\n",
       " (301027, 'No text category selected manually'),\n",
       " (301028, 'No text category selected manually'),\n",
       " (301029, 'No text category selected manually'),\n",
       " (301030, 'No text category selected manually'),\n",
       " (301031, 'No text category selected manually'),\n",
       " (280649, 'No text category selected manually'),\n",
       " (306878, 'No text category selected manually'),\n",
       " (306879, 'No text category selected manually'),\n",
       " (312428, 'No text category selected manually'),\n",
       " (312429, 'No text category selected manually'),\n",
       " (314659, 'No text category selected manually'),\n",
       " (314660, 'No text category selected manually'),\n",
       " (317220, 'No text category selected manually'),\n",
       " (321943, 'No text category selected manually'),\n",
       " (321944, 'No text category selected manually'),\n",
       " (321945, 'No text category selected manually'),\n",
       " (321946, 'No text category selected manually'),\n",
       " (323588, 'No text category selected manually'),\n",
       " (323589, 'No text category selected manually'),\n",
       " (323590, 'No text category selected manually'),\n",
       " (326452, 'No text category selected manually'),\n",
       " (326453, 'No text category selected manually'),\n",
       " (329140, 'No text category selected manually'),\n",
       " (329141, 'No text category selected manually'),\n",
       " (330248, 'No text category selected manually'),\n",
       " (330249, 'No text category selected manually'),\n",
       " (330250, 'No text category selected manually'),\n",
       " (331580, 'No text category selected manually'),\n",
       " (332974, 'No text category selected manually'),\n",
       " (332975, 'No text category selected manually'),\n",
       " (335451, 'No text category selected manually'),\n",
       " (335452, 'No text category selected manually'),\n",
       " (335453, 'No text category selected manually'),\n",
       " (335454, 'No text category selected manually'),\n",
       " (335455, 'No text category selected manually'),\n",
       " (336192, 'No text category selected manually'),\n",
       " (336193, 'No text category selected manually'),\n",
       " (340004, 'No text category selected manually'),\n",
       " (340005, 'No text category selected manually'),\n",
       " (341324, 'No text category selected manually'),\n",
       " (341325, 'No text category selected manually'),\n",
       " (341326, 'No text category selected manually'),\n",
       " (303187, 'No text category selected manually'),\n",
       " (303188, 'No text category selected manually'),\n",
       " (303189, 'No text category selected manually'),\n",
       " (303190, 'No text category selected manually'),\n",
       " (303191, 'No text category selected manually'),\n",
       " (303192, 'No text category selected manually'),\n",
       " (303193, 'No text category selected manually'),\n",
       " (303194, 'No text category selected manually'),\n",
       " (303195, 'No text category selected manually'),\n",
       " (303196, 'No text category selected manually'),\n",
       " (303197, 'No text category selected manually'),\n",
       " (303198, 'No text category selected manually'),\n",
       " (341807, 'No text category selected manually'),\n",
       " (341808, 'No text category selected manually'),\n",
       " (342127, 'No text category selected manually'),\n",
       " (342128, 'No text category selected manually'),\n",
       " (342129, 'No text category selected manually'),\n",
       " (343992, 'No text category selected manually'),\n",
       " (344784, 'No text category selected manually'),\n",
       " (344785, 'No text category selected manually'),\n",
       " (345458, 'No text category selected manually'),\n",
       " (345459, 'No text category selected manually'),\n",
       " (345460, 'No text category selected manually'),\n",
       " (345461, 'No text category selected manually'),\n",
       " (304269, 'No text category selected manually'),\n",
       " (304270, 'No text category selected manually'),\n",
       " (304271, 'No text category selected manually'),\n",
       " (346399, 'No text category selected manually'),\n",
       " (346737, 'No text category selected manually'),\n",
       " (346738, 'No text category selected manually'),\n",
       " (346739, 'No text category selected manually'),\n",
       " (348790, 'No text category selected manually'),\n",
       " (349344, 'No text category selected manually'),\n",
       " (349345, 'No text category selected manually'),\n",
       " (349346, 'No text category selected manually'),\n",
       " (349629, 'No text category selected manually'),\n",
       " (349630, 'No text category selected manually'),\n",
       " (349940, 'No text category selected manually'),\n",
       " (349941, 'No text category selected manually'),\n",
       " (349942, 'No text category selected manually'),\n",
       " (350248, 'No text category selected manually'),\n",
       " (350737, 'No text category selected manually'),\n",
       " (350738, 'No text category selected manually'),\n",
       " (304910, 'No text category selected manually'),\n",
       " (304911, 'No text category selected manually'),\n",
       " (304912, 'No text category selected manually'),\n",
       " (304913, 'No text category selected manually'),\n",
       " (304914, 'No text category selected manually'),\n",
       " (304915, 'No text category selected manually'),\n",
       " (304916, 'No text category selected manually'),\n",
       " (304917, 'No text category selected manually'),\n",
       " (304918, 'No text category selected manually'),\n",
       " (304919, 'No text category selected manually'),\n",
       " (304920, 'No text category selected manually'),\n",
       " (351488, 'No text category selected manually'),\n",
       " (351489, 'No text category selected manually'),\n",
       " (351490, 'No text category selected manually'),\n",
       " (351491, 'No text category selected manually'),\n",
       " (351492, 'No text category selected manually'),\n",
       " (352209, 'No text category selected manually'),\n",
       " (352210, 'No text category selected manually'),\n",
       " (352211, 'No text category selected manually'),\n",
       " (300359, 'No text category selected manually'),\n",
       " (300360, 'No text category selected manually'),\n",
       " (300361, 'No text category selected manually'),\n",
       " (300362, 'No text category selected manually'),\n",
       " (300363, 'No text category selected manually'),\n",
       " (300364, 'No text category selected manually'),\n",
       " (300365, 'No text category selected manually'),\n",
       " (300366, 'No text category selected manually'),\n",
       " (300367, 'No text category selected manually'),\n",
       " (300368, 'No text category selected manually'),\n",
       " (300369, 'No text category selected manually'),\n",
       " (300370, 'No text category selected manually'),\n",
       " (300371, 'No text category selected manually'),\n",
       " (300372, 'No text category selected manually')]"
      ]
     },
     "execution_count": 14,
     "metadata": {},
     "output_type": "execute_result"
    }
   ],
   "source": [
    "[(index, text) for (index, text) in zip(df.index, df['text']) if 'category' in text]"
   ]
  },
  {
   "cell_type": "markdown",
   "metadata": {},
   "source": [
    "We find there's quite a bit of rows with 'No text category selected manually' as their only data. With more context, it is possible this data could prove useful, but for now we'll drop these rows and re-run the analysis."
   ]
  },
  {
   "cell_type": "code",
   "execution_count": 15,
   "metadata": {},
   "outputs": [
    {
     "data": {
      "text/plain": [
       "(808, 3)"
      ]
     },
     "execution_count": 15,
     "metadata": {},
     "output_type": "execute_result"
    }
   ],
   "source": [
    "df = df[df['text'] != 'No text category selected manually']\n",
    "df.shape"
   ]
  },
  {
   "cell_type": "markdown",
   "metadata": {},
   "source": [
    "Re-running the analysis, it looks as expected, the most frequent words are for objects or materials that are recyclable."
   ]
  },
  {
   "cell_type": "code",
   "execution_count": 16,
   "metadata": {},
   "outputs": [
    {
     "data": {
      "image/png": "[encoded data removed]",
      "text/plain": [
       "<Figure size 1440x640 with 1 Axes>"
      ]
     },
     "metadata": {
      "needs_background": "light"
     },
     "output_type": "display_data"
    }
   ],
   "source": [
    "word_count = plot_word_count(df, 15)"
   ]
  },
  {
   "cell_type": "markdown",
   "metadata": {},
   "source": [
    "We'll also run the word count per row again:"
   ]
  },
  {
   "cell_type": "code",
   "execution_count": 17,
   "metadata": {},
   "outputs": [
    {
     "data": {
      "text/plain": [
       "(array([  2., 159., 196.,  71.,  62.,  49.,  34.,  34.,  19.,  17.,  12.,\n",
       "         12.,  11.,  12.,   7.,  10.,   7.,   9.,   4.,   8.,   6.,   5.,\n",
       "          3.,   2.,   1.,   2.,   3.,   0.,   9.]),\n",
       " array([ 0,  1,  2,  3,  4,  5,  6,  7,  8,  9, 10, 11, 12, 13, 14, 15, 16,\n",
       "        17, 18, 19, 20, 21, 22, 23, 24, 25, 26, 27, 28, 29]),\n",
       " <BarContainer object of 29 artists>)"
      ]
     },
     "execution_count": 17,
     "metadata": {},
     "output_type": "execute_result"
    },
    {
     "data": {
      "image/png": "[encoded data removed]",
      "text/plain": [
       "<Figure size 432x288 with 1 Axes>"
      ]
     },
     "metadata": {
      "needs_background": "light"
     },
     "output_type": "display_data"
    }
   ],
   "source": [
    "plt.hist(df['num_of_words'],bins=range(30))"
   ]
  },
  {
   "cell_type": "markdown",
   "metadata": {},
   "source": [
    "Let's take a look at the rows with over 25 words:"
   ]
  },
  {
   "cell_type": "code",
   "execution_count": 18,
   "metadata": {},
   "outputs": [
    {
     "data": {
      "text/html": [
       "<div>\n",
       "<style scoped>\n",
       "    .dataframe tbody tr th:only-of-type {\n",
       "        vertical-align: middle;\n",
       "    }\n",
       "\n",
       "    .dataframe tbody tr th {\n",
       "        vertical-align: top;\n",
       "    }\n",
       "\n",
       "    .dataframe thead th {\n",
       "        text-align: right;\n",
       "    }\n",
       "</style>\n",
       "<table border=\"1\" class=\"dataframe\">\n",
       "  <thead>\n",
       "    <tr style=\"text-align: right;\">\n",
       "      <th></th>\n",
       "      <th>text</th>\n",
       "      <th>yes_no</th>\n",
       "      <th>num_of_words</th>\n",
       "    </tr>\n",
       "    <tr>\n",
       "      <th>id</th>\n",
       "      <th></th>\n",
       "      <th></th>\n",
       "      <th></th>\n",
       "    </tr>\n",
       "  </thead>\n",
       "  <tbody>\n",
       "    <tr>\n",
       "      <th>462563</th>\n",
       "      <td>Plastics such as those from Cleaners Food containers Bleach Milk Cooking oils Pill bottles Cosmetics lotions Shampoo conditioner Soft drinks Deter...</td>\n",
       "      <td>yes</td>\n",
       "      <td>26</td>\n",
       "    </tr>\n",
       "    <tr>\n",
       "      <th>462564</th>\n",
       "      <td>Catalogs Cereal boxes Shredded paper Mail Toilet paper rolls Frozen food boxes Greeting cards Boxboard e g pop boxes</td>\n",
       "      <td>yes</td>\n",
       "      <td>19</td>\n",
       "    </tr>\n",
       "    <tr>\n",
       "      <th>462565</th>\n",
       "      <td>Office paper white and colored Phonebooks Corrugated cardboard Tissue boxes Snack boxes Pop and beer cartons Wrapping paper tubes Paper gift shopp...</td>\n",
       "      <td>yes</td>\n",
       "      <td>30</td>\n",
       "    </tr>\n",
       "    <tr>\n",
       "      <th>462566</th>\n",
       "      <td>Newspaper advertisements Magazines Shoe boxes Paperback books Paper egg cartons Paper towel rolls Tissue paper Kraft paper bags Gable Top Containe...</td>\n",
       "      <td>yes</td>\n",
       "      <td>26</td>\n",
       "    </tr>\n",
       "    <tr>\n",
       "      <th>462567</th>\n",
       "      <td>Aluminum and metal cans foil and foil trays lids and aerosol spray cans must be empty Please</td>\n",
       "      <td>yes</td>\n",
       "      <td>17</td>\n",
       "    </tr>\n",
       "  </tbody>\n",
       "</table>\n",
       "</div>"
      ],
      "text/plain": [
       "                                                                                                                                                         text  \\\n",
       "id                                                                                                                                                              \n",
       "462563  Plastics such as those from Cleaners Food containers Bleach Milk Cooking oils Pill bottles Cosmetics lotions Shampoo conditioner Soft drinks Deter...   \n",
       "462564                                  Catalogs Cereal boxes Shredded paper Mail Toilet paper rolls Frozen food boxes Greeting cards Boxboard e g pop boxes    \n",
       "462565  Office paper white and colored Phonebooks Corrugated cardboard Tissue boxes Snack boxes Pop and beer cartons Wrapping paper tubes Paper gift shopp...   \n",
       "462566  Newspaper advertisements Magazines Shoe boxes Paperback books Paper egg cartons Paper towel rolls Tissue paper Kraft paper bags Gable Top Containe...   \n",
       "462567                                                           Aluminum and metal cans foil and foil trays lids and aerosol spray cans must be empty Please   \n",
       "\n",
       "       yes_no  num_of_words  \n",
       "id                           \n",
       "462563    yes            26  \n",
       "462564    yes            19  \n",
       "462565    yes            30  \n",
       "462566    yes            26  \n",
       "462567    yes            17  "
      ]
     },
     "execution_count": 18,
     "metadata": {},
     "output_type": "execute_result"
    }
   ],
   "source": [
    "pd.set_option('display.max_colwidth', 150)\n",
    "df[df['num_of_words'] > 15].head()\n",
    "df[df['num_of_words'] > 15].head()"
   ]
  },
  {
   "cell_type": "markdown",
   "metadata": {},
   "source": [
    "We'll separate the yes and no rows in two different dataframes for later analysis"
   ]
  },
  {
   "cell_type": "code",
   "execution_count": 19,
   "metadata": {},
   "outputs": [
    {
     "name": "stdout",
     "output_type": "stream",
     "text": [
      "(681, 3)\n",
      "(127, 3)\n"
     ]
    }
   ],
   "source": [
    "df_yes = df.loc[df['yes_no'] == 'yes']\n",
    "df_no = df.loc[df['yes_no'] == 'no']\n",
    "print(df_yes.shape)\n",
    "print(df_no.shape)"
   ]
  },
  {
   "cell_type": "markdown",
   "metadata": {},
   "source": [
    "Let's run the word-count analysis for df_no, it'd be interesting to see what is being excluded. "
   ]
  },
  {
   "cell_type": "code",
   "execution_count": 20,
   "metadata": {},
   "outputs": [
    {
     "data": {
      "image/png": "[encoded data removed]",
      "text/plain": [
       "<Figure size 1440x640 with 1 Axes>"
      ]
     },
     "metadata": {
      "needs_background": "light"
     },
     "output_type": "display_data"
    }
   ],
   "source": [
    "word_count = plot_word_count(df_no, 20)"
   ]
  },
  {
   "cell_type": "markdown",
   "metadata": {},
   "source": [
    "As expected, many of the most common words are of non-recyclable materials (food, waste, oil, etc.), though the most common words are recyclable materials, which probably means they go in a different bin. Let's take a look at the most commonly used bi-grams."
   ]
  },
  {
   "cell_type": "code",
   "execution_count": 21,
   "metadata": {
    "scrolled": true
   },
   "outputs": [
    {
     "data": {
      "text/html": [
       "<div>\n",
       "<style scoped>\n",
       "    .dataframe tbody tr th:only-of-type {\n",
       "        vertical-align: middle;\n",
       "    }\n",
       "\n",
       "    .dataframe tbody tr th {\n",
       "        vertical-align: top;\n",
       "    }\n",
       "\n",
       "    .dataframe thead th {\n",
       "        text-align: right;\n",
       "    }\n",
       "</style>\n",
       "<table border=\"1\" class=\"dataframe\">\n",
       "  <thead>\n",
       "    <tr style=\"text-align: right;\">\n",
       "      <th></th>\n",
       "      <th>count</th>\n",
       "    </tr>\n",
       "  </thead>\n",
       "  <tbody>\n",
       "    <tr>\n",
       "      <th>plastic bags</th>\n",
       "      <td>27</td>\n",
       "    </tr>\n",
       "    <tr>\n",
       "      <th>light bulbs</th>\n",
       "      <td>12</td>\n",
       "    </tr>\n",
       "    <tr>\n",
       "      <th>window glass</th>\n",
       "      <td>8</td>\n",
       "    </tr>\n",
       "    <tr>\n",
       "      <th>food waste</th>\n",
       "      <td>8</td>\n",
       "    </tr>\n",
       "    <tr>\n",
       "      <th>motor oil</th>\n",
       "      <td>6</td>\n",
       "    </tr>\n",
       "    <tr>\n",
       "      <th>waxed paper</th>\n",
       "      <td>6</td>\n",
       "    </tr>\n",
       "    <tr>\n",
       "      <th>wrapping paper</th>\n",
       "      <td>5</td>\n",
       "    </tr>\n",
       "    <tr>\n",
       "      <th>bags plastic</th>\n",
       "      <td>5</td>\n",
       "    </tr>\n",
       "    <tr>\n",
       "      <th>aerosol cans</th>\n",
       "      <td>5</td>\n",
       "    </tr>\n",
       "    <tr>\n",
       "      <th>pizza boxes</th>\n",
       "      <td>5</td>\n",
       "    </tr>\n",
       "  </tbody>\n",
       "</table>\n",
       "</div>"
      ],
      "text/plain": [
       "                count\n",
       "plastic bags       27\n",
       "light bulbs        12\n",
       "window glass        8\n",
       "food waste          8\n",
       "motor oil           6\n",
       "waxed paper         6\n",
       "wrapping paper      5\n",
       "bags plastic        5\n",
       "aerosol cans        5\n",
       "pizza boxes         5"
      ]
     },
     "execution_count": 21,
     "metadata": {},
     "output_type": "execute_result"
    }
   ],
   "source": [
    "word_count[word_count.index.str.contains(' ')][:10]"
   ]
  },
  {
   "cell_type": "markdown",
   "metadata": {},
   "source": [
    "# LDA"
   ]
  },
  {
   "cell_type": "markdown",
   "metadata": {},
   "source": [
    "We'll apply LDA to df_yes and df_no separately to see which words tend to appear together on each."
   ]
  },
  {
   "cell_type": "code",
   "execution_count": 22,
   "metadata": {},
   "outputs": [],
   "source": [
    "def tokenize(doc):\n",
    "# run the clean_data function on the text\n",
    "    text = clean_text(doc)\n",
    "# Instantiatie language model\n",
    "    doc = nlp(text)\n",
    "    STOP_WORDS = nlp.Defaults.stop_words.union('', 'the', 'this', '-pron-', 'no ', 'non' )\n",
    "    return [token.lemma_.lower().lstrip().rstrip() for token in doc \n",
    "            if (token.text not in STOP_WORDS) \n",
    "            and (token.is_punct != True)\n",
    "            and (token.text not in '')\n",
    "            and (len(token.text)>1)]\n",
    "\n",
    "def apply_lda(df):\n",
    "    # prepare data for LDA model\n",
    "    lemmas = [tokenize(text) for text in df['text'] ]\n",
    "    #Prepare bag of words\n",
    "    id2words = corpora.Dictionary(lemmas)\n",
    "    corpus = [id2words.doc2bow(lemma) for lemma in lemmas]\n",
    "    # prepare model\n",
    "    lda_multicore = gensim.models.ldamulticore.LdaMulticore(corpus=corpus,\n",
    "                                                        id2word=id2words,\n",
    "                                                        num_topics=3,\n",
    "                                                        chunksize=25,\n",
    "                                                        passes=100,\n",
    "                                                        per_word_topics=True,\n",
    "                                                        workers=6)\n",
    "    return lda_multicore, corpus, id2words"
   ]
  },
  {
   "cell_type": "markdown",
   "metadata": {},
   "source": [
    "## df_yes LDA"
   ]
  },
  {
   "cell_type": "code",
   "execution_count": 23,
   "metadata": {
    "scrolled": true
   },
   "outputs": [],
   "source": [
    "lda_multicore, corpus, id2words = apply_lda(df_yes)"
   ]
  },
  {
   "cell_type": "code",
   "execution_count": 24,
   "metadata": {
    "scrolled": false
   },
   "outputs": [
    {
     "name": "stderr",
     "output_type": "stream",
     "text": [
      "c:\\users\\ncarv\\.virtualenvs\\recycling-partnership-takehome-7fp9ueh8\\lib\\site-packages\\pyLDAvis\\_prepare.py:246: FutureWarning: In a future version of pandas all arguments of DataFrame.drop except for the argument 'labels' will be keyword-only\n",
      "  default_term_info = default_term_info.sort_values(\n"
     ]
    },
    {
     "data": {
      "text/html": [
       "\n",
       "<link rel=\"stylesheet\" type=\"text/css\" href=\"https://cdn.jsdelivr.net/gh/bmabey/pyLDAvis@3.3.1/pyLDAvis/js/ldavis.v1.0.0.css\">\n",
       "\n",
       "\n",
       "<div id=\"ldavis_el2687620359534179046587266929\"></div>\n",
       "<script type=\"text/javascript\">\n",
       "\n",
       "var ldavis_el2687620359534179046587266929_data = {\"mdsDat\": {\"x\": [-0.12977585122181337, -0.12169011903686652, 0.25146597025867995], \"y\": [0.1913277716430297, -0.1954735571880781, 0.004145785545048229], \"topics\": [1, 2, 3], \"cluster\": [1, 1, 1], \"Freq\": [47.899459043601986, 36.246998453617266, 15.853542502780742]}, \"tinfo\": {\"Term\": [\"cardboard\", \"can\", \"newspaper\", \"box\", \"magazine\", \"aluminum\", \"plastic\", \"bottle\", \"book\", \"glass\", \"catalog\", \"steel\", \"tin\", \"phone\", \"container\", \"metal\", \"food\", \"insert\", \"beverage\", \"jar\", \"office\", \"paperboard\", \"envelope\", \"foil\", \"milk\", \"cans\", \"bag\", \"corrugate\", \"magazines\", \"junk\", \"plastic\", \"glass\", \"jar\", \"office\", \"bag\", \"junk\", \"jug\", \"brown\", \"water\", \"detergent\", \"clear\", \"cup\", \"tub\", \"bottles\", \"green\", \"mixed\", \"color\", \"shampoo\", \"rinse\", \"yogurt\", \"beer\", \"bottle\", \"container\", \"shred\", \"household\", \"laundry\", \"recyclable\", \"all\", \"hdpe\", \"wine\", \"milk\", \"type\", \"mail\", \"paper\", \"juice\", \"carton\", \"pop\", \"soda\", \"etc\", \"food\", \"clean\", \"can\", \"box\", \"aluminum\", \"steel\", \"tin\", \"metal\", \"foil\", \"cans\", \"pan\", \"cereal\", \"gift\", \"aseptic\", \"aerosol\", \"soup\", \"scrap\", \"shoe\", \"piece\", \"tray\", \"vegetable\", \"pizza\", \"dry\", \"place\", \"printer\", \"fruit\", \"large\", \"packing\", \"beverage\", \"coat\", \"cut\", \"roll\", \"towel\", \"pie\", \"food\", \"lid\", \"clean\", \"product\", \"drink\", \"carton\", \"accept\", \"paper\", \"flatten\", \"egg\", \"include\", \"cardboard\", \"newspaper\", \"magazine\", \"catalog\", \"book\", \"phone\", \"insert\", \"paperboard\", \"magazines\", \"corrugated\", \"books\", \"paperback\", \"confidential\", \"envelope\", \"string\", \"glossy\", \"telephone\", \"newspapers\", \"file\", \"styrofoam\", \"bundle\", \"feed\", \"flattened\", \"ect\", \"kraft\", \"grade\", \"high\", \"jc\", \"penney\", \"sears\", \"corrugate\", \"non\", \"folder\", \"toy\", \"window\", \"flatten\", \"paper\", \"card\", \"computer\", \"etc\"], \"Freq\": [65.0, 113.0, 53.0, 97.0, 51.0, 91.0, 117.0, 139.0, 30.0, 79.0, 28.0, 46.0, 41.0, 21.0, 77.0, 35.0, 68.0, 16.0, 36.0, 40.0, 39.0, 12.0, 13.0, 23.0, 56.0, 22.0, 33.0, 15.0, 10.0, 30.0, 116.57328368410917, 78.49521937388165, 40.00011121575531, 39.07553105578001, 32.786133116218615, 30.25875230868903, 26.503404388580787, 25.21977291853649, 23.50161435000306, 23.45303088420937, 19.35542293227943, 19.219526571428464, 17.02100780969706, 16.751835823754956, 15.306722534455734, 15.34931474603912, 16.82452620451591, 13.35358417286814, 12.184299818633589, 10.88978861634569, 10.640050542269677, 131.3355238388582, 73.27469972567067, 9.443587441413545, 8.668174620730786, 8.916370209621954, 8.601263522905448, 8.59020072456098, 7.877335196370847, 7.98686828686775, 50.98341858038635, 10.038057377630183, 39.793906961197784, 141.59829704509278, 27.231201628835702, 40.04604066104356, 11.13019031927731, 17.466065150600855, 12.954611314094004, 15.949289803997246, 12.801808930214802, 113.07139359095035, 96.41310377323992, 91.15126162917211, 45.35120670154873, 40.83221033361544, 34.62073491876206, 23.29834672518314, 22.160153823758197, 16.711109527796307, 20.306421149319625, 11.545020010460325, 10.56084526878836, 10.483628722677846, 11.390325762660366, 10.0891180906377, 10.394731761308655, 9.738317213666111, 10.325848994624275, 7.166246291964563, 7.83625882615981, 6.92755009282182, 6.577740148821047, 6.5199849959922265, 6.523366761889955, 6.0969023528216475, 5.826600363145511, 33.22540319680308, 6.0261212369543795, 5.793686143391789, 5.677721135380983, 5.749854427342207, 10.720866692699655, 52.731092176538475, 22.370647871702086, 22.481600548525396, 9.49225894595691, 12.274357282283653, 30.94470103575522, 8.912449151025507, 48.91115228990091, 12.300769788652268, 8.800785918921454, 10.131048806178718, 64.7961523673889, 52.9329766233359, 50.72595161144955, 28.244169342761253, 29.75015037412517, 20.59897200765275, 16.2344611387603, 11.899579833218622, 9.889103041793796, 6.766238558988628, 5.625294536650813, 5.122728391611456, 4.322558846633764, 11.201310833914087, 3.0393460134047823, 2.89169654524198, 2.963872148456479, 3.253288600046159, 2.474364533920547, 2.09837139344996, 1.9160866982089777, 1.9967955426121609, 1.5329446181915203, 1.445351083654349, 1.422412118301609, 1.2578467739819454, 1.2578467739819454, 1.2578467739819454, 1.2578467739819454, 1.2578467739819454, 10.063959328004618, 7.2804937181008516, 3.2082258853023085, 1.4813278512241506, 1.9703608894694753, 6.946974140968243, 19.888161670332536, 2.565357362468417, 2.5976529023423547, 1.9895815191451676], \"Total\": [65.0, 113.0, 53.0, 97.0, 51.0, 91.0, 117.0, 139.0, 30.0, 79.0, 28.0, 46.0, 41.0, 21.0, 77.0, 35.0, 68.0, 16.0, 36.0, 40.0, 39.0, 12.0, 13.0, 23.0, 56.0, 22.0, 33.0, 15.0, 10.0, 30.0, 117.18451030795644, 79.10523347204158, 40.62094555886398, 39.736687637345966, 33.45621676151793, 30.92495760403094, 27.106742140212322, 25.851427783726926, 24.106216555785423, 24.069280789085507, 19.97102917488163, 19.855786276477104, 17.62226004781434, 17.388626932456653, 15.92110299281358, 15.993383300565394, 17.561818576814215, 13.95820006269095, 12.80975404085484, 11.49388135432029, 11.268168386217319, 139.10565158307423, 77.78856567700346, 10.06344384556609, 9.271074599416941, 9.536824049337369, 9.200296405673818, 9.215981023660252, 8.467299487573689, 8.61022871698829, 56.745552666975925, 10.853429716547568, 47.80162358521217, 210.3976110053262, 34.332331116906715, 71.29872388017748, 12.995784994910526, 26.399762681004173, 21.21581688517396, 68.97994342441282, 35.600333888342384, 113.71945213353446, 97.08725155152901, 91.80936189205086, 46.006668974171816, 41.48079508135697, 35.286489460117906, 23.983385744156895, 22.822632892373015, 17.34935537170615, 21.087860851865855, 12.217321109064141, 11.199373666606398, 11.13347700090967, 12.10607296533609, 10.735936089239988, 11.086945926959865, 10.389031064254796, 11.202755366881291, 7.815318907235079, 8.552584560578396, 7.576615965009838, 7.255425835482285, 7.19780383842613, 7.205427022644211, 6.7538784218771015, 6.460648572333555, 36.84578340723399, 6.691192385530892, 6.456402839526439, 6.3492696126541555, 6.431563263095712, 12.332036398393857, 68.97994342441282, 32.88257060927906, 35.600333888342384, 12.089814177847346, 17.59347459175322, 71.29872388017748, 11.856027977821487, 210.3976110053262, 22.459915020372996, 12.0635894088801, 23.148518839072402, 65.44627580292313, 53.58200281494167, 51.37221093039997, 28.887639699555745, 30.46559924731128, 21.24454603746289, 16.88014870846705, 12.551205059930778, 10.5569607914695, 7.456666982478573, 6.281885672374696, 5.772193927680123, 4.9608481798053194, 13.498582920906395, 3.692980608689413, 3.5295238974356433, 3.62456283522394, 4.021671491434179, 3.112124618825343, 2.7372306934291517, 2.5549202535947124, 2.6742741535335917, 2.1809490423965343, 2.11035302170719, 2.0925492412928097, 1.894637799380713, 1.894637799380713, 1.894637799380713, 1.894637799380713, 1.894637799380713, 15.348197069889213, 11.23489408427943, 5.224300615416739, 2.2825482964611776, 3.259723195599131, 22.459915020372996, 210.3976110053262, 6.871640466969648, 11.265724400633339, 21.21581688517396], \"Category\": [\"Default\", \"Default\", \"Default\", \"Default\", \"Default\", \"Default\", \"Default\", \"Default\", \"Default\", \"Default\", \"Default\", \"Default\", \"Default\", \"Default\", \"Default\", \"Default\", \"Default\", \"Default\", \"Default\", \"Default\", \"Default\", \"Default\", \"Default\", \"Default\", \"Default\", \"Default\", \"Default\", \"Default\", \"Default\", \"Default\", \"Topic1\", \"Topic1\", \"Topic1\", \"Topic1\", \"Topic1\", \"Topic1\", \"Topic1\", \"Topic1\", \"Topic1\", \"Topic1\", \"Topic1\", \"Topic1\", \"Topic1\", \"Topic1\", \"Topic1\", \"Topic1\", \"Topic1\", \"Topic1\", \"Topic1\", \"Topic1\", \"Topic1\", \"Topic1\", \"Topic1\", \"Topic1\", \"Topic1\", \"Topic1\", \"Topic1\", \"Topic1\", \"Topic1\", \"Topic1\", \"Topic1\", \"Topic1\", \"Topic1\", \"Topic1\", \"Topic1\", \"Topic1\", \"Topic1\", \"Topic1\", \"Topic1\", \"Topic1\", \"Topic1\", \"Topic2\", \"Topic2\", \"Topic2\", \"Topic2\", \"Topic2\", \"Topic2\", \"Topic2\", \"Topic2\", \"Topic2\", \"Topic2\", \"Topic2\", \"Topic2\", \"Topic2\", \"Topic2\", \"Topic2\", \"Topic2\", \"Topic2\", \"Topic2\", \"Topic2\", \"Topic2\", \"Topic2\", \"Topic2\", \"Topic2\", \"Topic2\", \"Topic2\", \"Topic2\", \"Topic2\", \"Topic2\", \"Topic2\", \"Topic2\", \"Topic2\", \"Topic2\", \"Topic2\", \"Topic2\", \"Topic2\", \"Topic2\", \"Topic2\", \"Topic2\", \"Topic2\", \"Topic2\", \"Topic2\", \"Topic2\", \"Topic2\", \"Topic3\", \"Topic3\", \"Topic3\", \"Topic3\", \"Topic3\", \"Topic3\", \"Topic3\", \"Topic3\", \"Topic3\", \"Topic3\", \"Topic3\", \"Topic3\", \"Topic3\", \"Topic3\", \"Topic3\", \"Topic3\", \"Topic3\", \"Topic3\", \"Topic3\", \"Topic3\", \"Topic3\", \"Topic3\", \"Topic3\", \"Topic3\", \"Topic3\", \"Topic3\", \"Topic3\", \"Topic3\", \"Topic3\", \"Topic3\", \"Topic3\", \"Topic3\", \"Topic3\", \"Topic3\", \"Topic3\", \"Topic3\", \"Topic3\", \"Topic3\", \"Topic3\", \"Topic3\"], \"logprob\": [30.0, 29.0, 28.0, 27.0, 26.0, 25.0, 24.0, 23.0, 22.0, 21.0, 20.0, 19.0, 18.0, 17.0, 16.0, 15.0, 14.0, 13.0, 12.0, 11.0, 10.0, 9.0, 8.0, 7.0, 6.0, 5.0, 4.0, 3.0, 2.0, 1.0, -2.781, -3.1765, -3.8507, -3.8741, -4.0496, -4.1298, -4.2623, -4.3119, -4.3825, -4.3846, -4.5766, -4.5836, -4.7051, -4.7211, -4.8113, -4.8085, -4.7167, -4.9478, -5.0394, -5.1517, -5.1749, -2.6618, -3.2453, -5.2942, -5.3799, -5.3517, -5.3877, -5.3889, -5.4756, -5.4618, -3.6081, -5.2332, -3.8559, -2.5866, -4.2352, -3.8495, -5.1299, -4.6793, -4.9781, -4.7702, -4.99, -2.5328, -2.6922, -2.7483, -3.4464, -3.5513, -3.7164, -4.1124, -4.1625, -4.4447, -4.2499, -4.8146, -4.9037, -4.911, -4.8281, -4.9494, -4.9195, -4.9847, -4.9262, -5.2914, -5.2021, -5.3253, -5.3771, -5.3859, -5.3854, -5.453, -5.4984, -3.7575, -5.4647, -5.504, -5.5243, -5.5116, -4.8886, -3.2956, -4.1531, -4.1481, -5.0103, -4.7533, -3.8286, -5.0734, -3.3708, -4.7512, -5.086, -4.9452, -2.2626, -2.4648, -2.5074, -3.093, -3.041, -3.4086, -3.6467, -3.9574, -4.1424, -4.5219, -4.7066, -4.8002, -4.97, -4.0178, -5.3222, -5.372, -5.3474, -5.2542, -5.5279, -5.6927, -5.7836, -5.7423, -6.0067, -6.0655, -6.0815, -6.2045, -6.2045, -6.2045, -6.2045, -6.2045, -4.1249, -4.4487, -5.2681, -6.0409, -5.7556, -4.4955, -3.4437, -5.4918, -5.4792, -5.7459], \"loglift\": [30.0, 29.0, 28.0, 27.0, 26.0, 25.0, 24.0, 23.0, 22.0, 21.0, 20.0, 19.0, 18.0, 17.0, 16.0, 15.0, 14.0, 13.0, 12.0, 11.0, 10.0, 9.0, 8.0, 7.0, 6.0, 5.0, 4.0, 3.0, 2.0, 1.0, 0.7308, 0.7283, 0.7207, 0.7193, 0.7158, 0.7143, 0.7136, 0.7113, 0.7107, 0.7101, 0.7048, 0.7035, 0.7014, 0.6988, 0.6967, 0.695, 0.6932, 0.6918, 0.686, 0.6821, 0.6787, 0.6786, 0.6763, 0.6725, 0.6688, 0.6688, 0.6687, 0.6657, 0.6638, 0.6609, 0.629, 0.658, 0.5527, 0.3401, 0.5043, 0.1592, 0.5811, 0.323, 0.2428, -0.7283, -0.2867, 1.0091, 1.0078, 1.0076, 1.0005, 0.9991, 0.9958, 0.9858, 0.9854, 0.9773, 0.9771, 0.9582, 0.9561, 0.9547, 0.9539, 0.9527, 0.9503, 0.9501, 0.9333, 0.9281, 0.9273, 0.9253, 0.9168, 0.9159, 0.9154, 0.9125, 0.9115, 0.9114, 0.9101, 0.9065, 0.903, 0.9028, 0.8748, 0.7462, 0.6296, 0.5552, 0.7729, 0.6548, 0.1801, 0.7294, -0.4442, 0.4127, 0.6995, 0.1885, 1.8318, 1.8296, 1.8291, 1.8193, 1.818, 1.8109, 1.8028, 1.7885, 1.7764, 1.7446, 1.7314, 1.7224, 1.704, 1.6552, 1.647, 1.6425, 1.6405, 1.6297, 1.6125, 1.576, 1.554, 1.5496, 1.4892, 1.4633, 1.4557, 1.4322, 1.4322, 1.4322, 1.4322, 1.4322, 1.4197, 1.408, 1.3542, 1.4094, 1.3384, 0.6684, -0.5171, 0.8565, 0.3746, -0.525]}, \"token.table\": {\"Topic\": [1, 2, 2, 1, 2, 2, 1, 1, 1, 2, 3, 3, 1, 2, 1, 2, 1, 3, 2, 2, 2, 3, 3, 1, 2, 3, 2, 1, 2, 1, 2, 1, 1, 3, 3, 1, 2, 2, 3, 3, 1, 2, 1, 1, 2, 2, 3, 1, 2, 1, 3, 1, 2, 3, 3, 3, 1, 2, 3, 3, 2, 1, 3, 1, 2, 2, 2, 1, 3, 3, 1, 1, 3, 1, 1, 2, 3, 3, 1, 3, 1, 1, 2, 1, 3, 2, 1, 1, 2, 3, 3, 1, 2, 2, 1, 2, 1, 3, 3, 2, 3, 1, 2, 2, 1, 2, 3, 3, 3, 3, 3, 2, 3, 2, 2, 2, 1, 1, 2, 2, 1, 2, 1, 1, 2, 2, 3, 1, 2, 1, 1, 2, 2, 2, 3, 3, 3, 2, 2, 3, 1, 2, 1, 1, 2, 1, 2, 3, 1, 1], \"Freq\": [0.2530358401322904, 0.7591075203968712, 0.8981920022992765, 0.9765645108094556, 0.9911843206904923, 0.9821977842206588, 0.9863637671656085, 0.9762012443348531, 0.0814204427910469, 0.8956248707015159, 0.9847172135518597, 0.9551272202207817, 0.9417302496999302, 0.050321463724423754, 0.9776505106489309, 0.9888012943599299, 0.9670645741175314, 0.7828032977491362, 0.9936734470661216, 0.9639553904121234, 0.5821026317117514, 0.4365769737838135, 0.9931810359344665, 0.5610198587456181, 0.43479039052785406, 0.9692726817148236, 0.9484129348392584, 0.36516511448385475, 0.6179717322034465, 0.9513781104429545, 0.8967011639023362, 0.9680090889017638, 0.7101185609999704, 0.2662944603749889, 0.8063137300357726, 0.9384412653025803, 0.05142143919466194, 0.32577116238683346, 0.6515423247736669, 0.9387572244339684, 0.9568999049163345, 0.9293100429340752, 0.9555748757740038, 0.28419627822372867, 0.6820710677369488, 0.923895315841168, 0.4738543692519465, 0.24868220380508618, 0.7460466114152585, 0.14816370071723833, 0.8149003539448109, 0.6127503866742299, 0.28280787077272146, 0.09426929025757383, 0.7478664808383034, 0.6426477872710928, 0.1335712979002259, 0.5342851916009036, 0.3116663617671938, 0.9170319714587652, 0.9589972093745572, 0.3828263622690597, 0.5742395434035895, 0.23195148046957384, 0.7683392790554634, 0.9714899586105551, 0.9822120490143368, 0.9860283141388844, 0.8499729955588724, 0.5278053675097494, 0.9421457801491929, 0.9448112720874606, 0.5278053675097494, 0.9707612535623444, 0.47519239034132466, 0.4319930821284769, 0.0863986164256954, 0.9478589481841727, 0.9847136606417947, 0.5278053675097494, 0.9960621553243032, 0.7864307235084319, 0.2038894468355194, 0.9700902547426492, 0.47788600634419687, 0.8883784434977174, 0.9437103959808645, 0.3041124770573175, 0.6690474495260985, 0.9927546250461314, 0.947242316944139, 0.8367916610341731, 0.16735833220683463, 0.9918810438640628, 0.8987488464392092, 0.08811263200384403, 0.9378878576285808, 0.9891380914417897, 0.7459584917340332, 0.3560336190082158, 0.6230588332643776, 0.9814607688474366, 0.9286993299239041, 0.9798634955465902, 0.6749126062862247, 0.23289237822552827, 0.0950581135614401, 0.8662217629284552, 0.9560834949872281, 0.5278053675097494, 0.988488996797971, 0.8919856903303218, 0.08108960821184744, 0.9625536720557779, 0.935389757720089, 0.9647951972394042, 0.9984254718693489, 0.8464282845790289, 0.15389605174164162, 0.9725188622993397, 0.16542851449815338, 0.7444283152416902, 0.9782293529640745, 0.936786136699249, 0.9449905841204069, 0.9314511484492186, 0.5278053675097494, 0.9313521758975116, 0.9019616462350768, 0.894326051609595, 0.643945182591822, 0.3409121554897881, 0.9086348671032165, 0.9781190641135753, 0.8123519503300771, 0.7306654878600813, 0.827686023496582, 0.9884092124942644, 0.9328991653441364, 0.43810683066394795, 0.0892637540721723, 0.8926375407217231, 0.9646889759811758, 0.9213677391537907, 0.8956768217762308, 0.9955938106031852, 0.30677451427473185, 0.6135490285494637, 0.9291274672199721, 0.9570309333204791], \"Term\": [\"accept\", \"accept\", \"aerosol\", \"all\", \"aluminum\", \"aseptic\", \"bag\", \"beer\", \"beverage\", \"beverage\", \"book\", \"books\", \"bottle\", \"bottle\", \"bottles\", \"box\", \"brown\", \"bundle\", \"can\", \"cans\", \"card\", \"card\", \"cardboard\", \"carton\", \"carton\", \"catalog\", \"cereal\", \"clean\", \"clean\", \"clear\", \"coat\", \"color\", \"computer\", \"computer\", \"confidential\", \"container\", \"container\", \"corrugate\", \"corrugate\", \"corrugated\", \"cup\", \"cut\", \"detergent\", \"drink\", \"drink\", \"dry\", \"ect\", \"egg\", \"egg\", \"envelope\", \"envelope\", \"etc\", \"etc\", \"etc\", \"feed\", \"file\", \"flatten\", \"flatten\", \"flatten\", \"flattened\", \"foil\", \"folder\", \"folder\", \"food\", \"food\", \"fruit\", \"gift\", \"glass\", \"glossy\", \"grade\", \"green\", \"hdpe\", \"high\", \"household\", \"include\", \"include\", \"include\", \"insert\", \"jar\", \"jc\", \"jug\", \"juice\", \"juice\", \"junk\", \"kraft\", \"large\", \"laundry\", \"lid\", \"lid\", \"magazine\", \"magazines\", \"mail\", \"mail\", \"metal\", \"milk\", \"milk\", \"mixed\", \"newspaper\", \"newspapers\", \"non\", \"non\", \"office\", \"packing\", \"pan\", \"paper\", \"paper\", \"paper\", \"paperback\", \"paperboard\", \"penney\", \"phone\", \"pie\", \"pie\", \"piece\", \"pizza\", \"place\", \"plastic\", \"pop\", \"pop\", \"printer\", \"product\", \"product\", \"recyclable\", \"rinse\", \"roll\", \"scrap\", \"sears\", \"shampoo\", \"shoe\", \"shred\", \"soda\", \"soda\", \"soup\", \"steel\", \"string\", \"styrofoam\", \"telephone\", \"tin\", \"towel\", \"toy\", \"tray\", \"tray\", \"tub\", \"type\", \"vegetable\", \"water\", \"window\", \"window\", \"wine\", \"yogurt\"]}, \"R\": 30, \"lambda.step\": 0.01, \"plot.opts\": {\"xlab\": \"PC1\", \"ylab\": \"PC2\"}, \"topic.order\": [2, 3, 1]};\n",
       "\n",
       "function LDAvis_load_lib(url, callback){\n",
       "  var s = document.createElement('script');\n",
       "  s.src = url;\n",
       "  s.async = true;\n",
       "  s.onreadystatechange = s.onload = callback;\n",
       "  s.onerror = function(){console.warn(\"failed to load library \" + url);};\n",
       "  document.getElementsByTagName(\"head\")[0].appendChild(s);\n",
       "}\n",
       "\n",
       "if(typeof(LDAvis) !== \"undefined\"){\n",
       "   // already loaded: just create the visualization\n",
       "   !function(LDAvis){\n",
       "       new LDAvis(\"#\" + \"ldavis_el2687620359534179046587266929\", ldavis_el2687620359534179046587266929_data);\n",
       "   }(LDAvis);\n",
       "}else if(typeof define === \"function\" && define.amd){\n",
       "   // require.js is available: use it to load d3/LDAvis\n",
       "   require.config({paths: {d3: \"https://d3js.org/d3.v5\"}});\n",
       "   require([\"d3\"], function(d3){\n",
       "      window.d3 = d3;\n",
       "      LDAvis_load_lib(\"https://cdn.jsdelivr.net/gh/bmabey/pyLDAvis@3.3.1/pyLDAvis/js/ldavis.v3.0.0.js\", function(){\n",
       "        new LDAvis(\"#\" + \"ldavis_el2687620359534179046587266929\", ldavis_el2687620359534179046587266929_data);\n",
       "      });\n",
       "    });\n",
       "}else{\n",
       "    // require.js not available: dynamically load d3 & LDAvis\n",
       "    LDAvis_load_lib(\"https://d3js.org/d3.v5.js\", function(){\n",
       "         LDAvis_load_lib(\"https://cdn.jsdelivr.net/gh/bmabey/pyLDAvis@3.3.1/pyLDAvis/js/ldavis.v3.0.0.js\", function(){\n",
       "                 new LDAvis(\"#\" + \"ldavis_el2687620359534179046587266929\", ldavis_el2687620359534179046587266929_data);\n",
       "            })\n",
       "         });\n",
       "}\n",
       "</script>"
      ],
      "text/plain": [
       "PreparedData(topic_coordinates=              x         y  topics  cluster       Freq\n",
       "topic                                                \n",
       "1     -0.129776  0.191328       1        1  47.899459\n",
       "2     -0.121690 -0.195474       2        1  36.246998\n",
       "0      0.251466  0.004146       3        1  15.853543, topic_info=          Term        Freq       Total Category  logprob  loglift\n",
       "68   cardboard   65.000000   65.000000  Default  30.0000  30.0000\n",
       "1          can  113.000000  113.000000  Default  29.0000  29.0000\n",
       "19   newspaper   53.000000   53.000000  Default  28.0000  28.0000\n",
       "5          box   97.000000   97.000000  Default  27.0000  27.0000\n",
       "18    magazine   51.000000   51.000000  Default  26.0000  26.0000\n",
       "..         ...         ...         ...      ...      ...      ...\n",
       "208    flatten    6.946974   22.459915   Topic3  -4.4955   0.6684\n",
       "21       paper   19.888162  210.397611   Topic3  -3.4437  -0.5171\n",
       "58        card    2.565357    6.871640   Topic3  -5.4918   0.8565\n",
       "164   computer    2.597653   11.265724   Topic3  -5.4792   0.3746\n",
       "221        etc    1.989582   21.215817   Topic3  -5.7459  -0.5250\n",
       "\n",
       "[154 rows x 6 columns], token_table=      Topic      Freq      Term\n",
       "term                           \n",
       "210       1  0.253036    accept\n",
       "210       2  0.759108    accept\n",
       "92        2  0.898192   aerosol\n",
       "100       1  0.976565       all\n",
       "0         2  0.991184  aluminum\n",
       "...     ...       ...       ...\n",
       "56        1  0.995594     water\n",
       "23        2  0.306775    window\n",
       "23        3  0.613549    window\n",
       "35        1  0.929127      wine\n",
       "114       1  0.957031    yogurt\n",
       "\n",
       "[150 rows x 3 columns], R=30, lambda_step=0.01, plot_opts={'xlab': 'PC1', 'ylab': 'PC2'}, topic_order=[2, 3, 1])"
      ]
     },
     "execution_count": 24,
     "metadata": {},
     "output_type": "execute_result"
    }
   ],
   "source": [
    "# run visualization\n",
    "pyLDAvis.enable_notebook()\n",
    "vis = pyLDAvis.gensim_models.prepare(lda_multicore, corpus, id2words)\n",
    "vis"
   ]
  },
  {
   "cell_type": "markdown",
   "metadata": {},
   "source": [
    "While the results are different each time the LDA is run, it appears the 3 topics are separated into paper, metal, and plastic; with some overlap between them."
   ]
  },
  {
   "cell_type": "markdown",
   "metadata": {},
   "source": [
    "## df_no LDA"
   ]
  },
  {
   "cell_type": "code",
   "execution_count": 25,
   "metadata": {},
   "outputs": [],
   "source": [
    "lda_multicore, corpus, id2words = apply_lda(df_no)"
   ]
  },
  {
   "cell_type": "code",
   "execution_count": 26,
   "metadata": {},
   "outputs": [
    {
     "name": "stderr",
     "output_type": "stream",
     "text": [
      "c:\\users\\ncarv\\.virtualenvs\\recycling-partnership-takehome-7fp9ueh8\\lib\\site-packages\\pyLDAvis\\_prepare.py:246: FutureWarning: In a future version of pandas all arguments of DataFrame.drop except for the argument 'labels' will be keyword-only\n",
      "  default_term_info = default_term_info.sort_values(\n"
     ]
    },
    {
     "data": {
      "text/html": [
       "\n",
       "<link rel=\"stylesheet\" type=\"text/css\" href=\"https://cdn.jsdelivr.net/gh/bmabey/pyLDAvis@3.3.1/pyLDAvis/js/ldavis.v1.0.0.css\">\n",
       "\n",
       "\n",
       "<div id=\"ldavis_el268762035953418016847475828\"></div>\n",
       "<script type=\"text/javascript\">\n",
       "\n",
       "var ldavis_el268762035953418016847475828_data = {\"mdsDat\": {\"x\": [0.10357882508436965, -0.00840252946497056, -0.09517629561939911], \"y\": [0.04302226251747713, -0.09854239776100805, 0.05552013524353091], \"topics\": [1, 2, 3], \"cluster\": [1, 1, 1], \"Freq\": [66.43873258563467, 22.996540589188218, 10.5647268251771]}, \"tinfo\": {\"Term\": [\"no\", \"oil\", \"electronic\", \"clothing\", \"battery\", \"box\", \"product\", \"pot\", \"garbage\", \"household\", \"aerosol\", \"tray\", \"medical\", \"waste\", \"motor\", \"pizza\", \"plastic\", \"diaper\", \"milk\", \"construction\", \"cups\", \"debris\", \"insulation\", \"wood\", \"cooking\", \"aluminum\", \"foil\", \"sanitary\", \"pans\", \"shoe\", \"wrap\", \"light\", \"bulb\", \"window\", \"ceramic\", \"packaging\", \"mirror\", \"plate\", \"dish\", \"cup\", \"glass\", \"paper\", \"liquid\", \"recyclable\", \"polystyrene\", \"towel\", \"crystal\", \"like\", \"grocery\", \"trash\", \"lid\", \"bag\", \"food\", \"animal\", \"antifreeze\", \"drink\", \"pane\", \"flower\", \"dry\", \"drinking\", \"no\", \"paint\", \"plastic\", \"product\", \"container\", \"waste\", \"wax\", \"styrofoam\", \"bags\", \"item\", \"can\", \"foam\", \"pot\", \"kind\", \"toy\", \"medical\", \"coated\", \"metal\", \"syrinx\", \"pvc\", \"needles\", \"vinyl\", \"large\", \"car\", \"toys\", \"scrap\", \"spray\", \"boxes\", \"not\", \"pizza\", \"cases\", \"chairs\", \"cover\", \"hangers\", \"help\", \"lawn\", \"parts\", \"please\", \"pool\", \"protect\", \"siding\", \"syringes\", \"tarps\", \"worker\", \"card\", \"juice\", \"box\", \"milk\", \"aerosol\", \"hanger\", \"cartons\", \"bulky\", \"rubber\", \"toy\", \"cardboard\", \"frozen\", \"egg\", \"plastic\", \"oil\", \"carton\", \"can\", \"styrofoam\", \"container\", \"waste\", \"bags\", \"bag\", \"wax\", \"food\", \"paper\", \"chemical\", \"bottle\", \"motor\", \"garbage\", \"cups\", \"debris\", \"insulation\", \"wood\", \"cooking\", \"aluminum\", \"foil\", \"sanitary\", \"shoe\", \"pans\", \"clothing\", \"electronic\", \"computer\", \"major\", \"nails\", \"screw\", \"appliances\", \"barrels\", \"burn\", \"contain\", \"flammable\", \"freon\", \"highly\", \"dairy\", \"flatware\", \"yogurt\", \"address\", \"label\", \"sheet\", \"construction\", \"battery\", \"oil\", \"diaper\", \"tray\", \"no\", \"household\", \"motor\", \"waste\", \"pot\", \"product\", \"bags\", \"styrofoam\", \"plastic\", \"glass\", \"of\", \"plates\"], \"Freq\": [21.0, 8.0, 3.0, 3.0, 5.0, 7.0, 8.0, 5.0, 2.0, 4.0, 7.0, 3.0, 3.0, 18.0, 4.0, 4.0, 46.0, 3.0, 5.0, 2.0, 1.0, 1.0, 1.0, 1.0, 1.0, 1.0, 1.0, 1.0, 1.0, 1.0, 11.830815669194328, 10.167959697070787, 9.354085417052753, 9.342191274441234, 8.529722740411316, 7.676983959684844, 6.0530902614586015, 6.052777797491398, 5.227789851051259, 5.2277050687056725, 19.87323341767336, 28.326796313789757, 4.4006874739359, 4.385226661116691, 3.5769271621852856, 3.5767463159723203, 3.5764058191327863, 3.5757795237411933, 3.575769951540885, 3.575587396006436, 3.575533039583257, 26.514778795449477, 19.709045568158547, 2.751465904626336, 2.751258563930375, 2.751247795205028, 2.7510508813701167, 2.75100780646873, 2.750953791909848, 2.750761322310794, 18.07198872705136, 6.8545165787044295, 35.846030412395635, 6.895504740424097, 14.273403250293779, 14.258845301082209, 8.518067219078908, 13.072507818600805, 8.283428659024413, 6.080194630359833, 6.869632450448247, 4.404964880016474, 4.455237050442195, 3.5846512441054013, 3.585074472104742, 2.99738990247923, 2.306058863715347, 2.305795461103562, 2.3053304241474453, 2.298800027319413, 1.6142652729256473, 1.6142263423509495, 1.614224449070721, 1.6141422097107971, 1.613990392302477, 1.6137751500065034, 1.6132573378640183, 1.6104895988300314, 1.6032146695521556, 2.9692943338688984, 0.9223856562155667, 0.9223856562155667, 0.9223856562155667, 0.9223856562155667, 0.9223856562155667, 0.9223856562155667, 0.9223856562155667, 0.9223856562155667, 0.9223856562155667, 0.9223856562155667, 0.9223856562155667, 0.9223856562155667, 0.9223856562155667, 0.9223856562155667, 0.9223362534346051, 2.31493456142639, 4.31929685413559, 3.005303103854127, 3.741693028755329, 2.307675725030456, 1.6289667122296905, 1.6238453892116933, 1.6207626556796955, 2.9906732542087227, 2.3549831180991054, 1.5462696518105206, 1.545585822658002, 9.573280597781153, 3.0226438941266647, 2.1777829750761164, 3.0049535569919468, 4.040201789176798, 3.718979345854437, 3.0133916703101855, 2.5817545440239305, 3.145531743895713, 2.31587339175968, 2.6196192019531113, 2.3186300077723248, 1.6691193993149713, 1.6275091231138012, 1.627596805654382, 1.681409481339791, 1.1772032019064724, 1.1771012199091009, 1.1771012199091009, 1.1771012199091009, 1.1770456625523238, 1.1770168510072243, 1.1770168510072243, 1.1769826033215398, 1.1768321309501515, 1.1767937517976226, 2.219493788897816, 2.202814622355418, 0.6726331903066225, 0.6726331903066225, 0.6726331903066225, 0.6726331903066225, 0.672625470986992, 0.672625470986992, 0.672625470986992, 0.672625470986992, 0.672625470986992, 0.672625470986992, 0.672625470986992, 0.6726078035300913, 0.6726078035300913, 0.6726078035300913, 0.6725332740426732, 0.6725332740426732, 0.6725332740426732, 1.1925696492204438, 1.674408275880579, 2.19050806985384, 1.1753800290771297, 1.177056426110682, 2.9051883398262213, 1.1766926395827446, 1.1756981520241545, 1.7013527241349486, 1.1449041551760382, 1.1669645572833665, 1.1272637702554293, 1.1730433584081432, 0.8782662432934817, 0.8034773432466534, 0.6941588936260262, 0.6803162508793906], \"Total\": [21.0, 8.0, 3.0, 3.0, 5.0, 7.0, 8.0, 5.0, 2.0, 4.0, 7.0, 3.0, 3.0, 18.0, 4.0, 4.0, 46.0, 3.0, 5.0, 2.0, 1.0, 1.0, 1.0, 1.0, 1.0, 1.0, 1.0, 1.0, 1.0, 1.0, 12.230691641813527, 10.575079884099328, 9.754084766211495, 9.749400815707721, 8.92891784634206, 8.098847952082131, 6.452341306067111, 6.45224856997444, 5.626887597870329, 5.626862415452434, 21.59952861751274, 30.814275430293907, 4.800877524035309, 4.798405917782547, 3.9759047752920966, 3.975849845730834, 3.975744489590621, 3.97556369051222, 3.9755604875618156, 3.975484139823128, 3.9754822201875637, 29.829081680230676, 22.499616374166425, 3.1504032314682404, 3.1503423428886173, 3.1503396731460724, 3.1502759838367966, 3.1502644081878652, 3.150250904938703, 3.150186252615632, 21.219723037423442, 7.965266866906943, 46.297577253470266, 8.293685228551114, 18.16109917177258, 18.973589695527345, 11.002540159946516, 18.285752966185747, 11.992446973303771, 8.346847162567078, 10.043629444607575, 5.493617177365214, 5.831196902831296, 4.4835795339124775, 6.7445024500543855, 3.4413361922908066, 2.749556320102439, 2.7494976182079194, 2.7494304716967926, 2.7507059265935867, 2.0576954806194383, 2.057689345379952, 2.0576870539364, 2.0576745648991386, 2.0576286339161105, 2.057593025098715, 2.057527001821263, 2.0582913615451193, 2.0594668408112367, 4.272174870416501, 1.3658195029172218, 1.3658195029172218, 1.3658195029172218, 1.3658195029172218, 1.3658195029172218, 1.3658195029172218, 1.3658195029172218, 1.3658195029172218, 1.3658195029172218, 1.3658195029172218, 1.3658195029172218, 1.3658195029172218, 1.3658195029172218, 1.3658195029172218, 1.3658158069499118, 3.5731668234710523, 7.313547971401514, 5.090872979335812, 7.4246204655224775, 4.399750263648327, 2.8800330809709256, 2.8808066866632185, 2.8816898783913074, 6.7445024500543855, 5.216119207629004, 2.896126446228867, 2.896254223015897, 46.297577253470266, 8.75447840389815, 5.250670757054414, 10.043629444607575, 18.285752966185747, 18.16109917177258, 18.973589695527345, 11.992446973303771, 29.829081680230676, 11.002540159946516, 22.499616374166425, 30.814275430293907, 3.697430151251389, 3.70582142785976, 4.716288078680571, 2.1879690461611077, 1.683217368227531, 1.6832565833910114, 1.6832565833910114, 1.6832565833910114, 1.6832791985931141, 1.6832945313087557, 1.6832945313087557, 1.6833123132245507, 1.6833728687654546, 1.683452859119105, 3.371995307530681, 3.507200638369815, 1.1786192694009543, 1.1786192694009543, 1.1786192694009543, 1.1786192694009543, 1.1786260240748363, 1.1786260240748363, 1.1786260240748363, 1.1786260240748363, 1.1786260240748363, 1.1786260240748363, 1.1786260240748363, 1.1786346840994417, 1.1786346840994417, 1.1786346840994417, 1.1786639148791278, 1.1786639148791278, 1.1786639148791278, 2.369363198170109, 5.361442685522741, 8.75447840389815, 3.2009536037995807, 3.334190868753862, 21.219723037423442, 4.159884410044043, 4.716288078680571, 18.973589695527345, 5.831196902831296, 8.293685228551114, 11.992446973303771, 18.285752966185747, 46.297577253470266, 21.59952861751274, 1.9902166694405605, 1.9990803755519067], \"Category\": [\"Default\", \"Default\", \"Default\", \"Default\", \"Default\", \"Default\", \"Default\", \"Default\", \"Default\", \"Default\", \"Default\", \"Default\", \"Default\", \"Default\", \"Default\", \"Default\", \"Default\", \"Default\", \"Default\", \"Default\", \"Default\", \"Default\", \"Default\", \"Default\", \"Default\", \"Default\", \"Default\", \"Default\", \"Default\", \"Default\", \"Topic1\", \"Topic1\", \"Topic1\", \"Topic1\", \"Topic1\", \"Topic1\", \"Topic1\", \"Topic1\", \"Topic1\", \"Topic1\", \"Topic1\", \"Topic1\", \"Topic1\", \"Topic1\", \"Topic1\", \"Topic1\", \"Topic1\", \"Topic1\", \"Topic1\", \"Topic1\", \"Topic1\", \"Topic1\", \"Topic1\", \"Topic1\", \"Topic1\", \"Topic1\", \"Topic1\", \"Topic1\", \"Topic1\", \"Topic1\", \"Topic1\", \"Topic1\", \"Topic1\", \"Topic1\", \"Topic1\", \"Topic1\", \"Topic1\", \"Topic1\", \"Topic1\", \"Topic1\", \"Topic1\", \"Topic1\", \"Topic1\", \"Topic1\", \"Topic1\", \"Topic2\", \"Topic2\", \"Topic2\", \"Topic2\", \"Topic2\", \"Topic2\", \"Topic2\", \"Topic2\", \"Topic2\", \"Topic2\", \"Topic2\", \"Topic2\", \"Topic2\", \"Topic2\", \"Topic2\", \"Topic2\", \"Topic2\", \"Topic2\", \"Topic2\", \"Topic2\", \"Topic2\", \"Topic2\", \"Topic2\", \"Topic2\", \"Topic2\", \"Topic2\", \"Topic2\", \"Topic2\", \"Topic2\", \"Topic2\", \"Topic2\", \"Topic2\", \"Topic2\", \"Topic2\", \"Topic2\", \"Topic2\", \"Topic2\", \"Topic2\", \"Topic2\", \"Topic2\", \"Topic2\", \"Topic2\", \"Topic2\", \"Topic2\", \"Topic2\", \"Topic2\", \"Topic2\", \"Topic2\", \"Topic2\", \"Topic2\", \"Topic2\", \"Topic2\", \"Topic2\", \"Topic2\", \"Topic2\", \"Topic2\", \"Topic2\", \"Topic3\", \"Topic3\", \"Topic3\", \"Topic3\", \"Topic3\", \"Topic3\", \"Topic3\", \"Topic3\", \"Topic3\", \"Topic3\", \"Topic3\", \"Topic3\", \"Topic3\", \"Topic3\", \"Topic3\", \"Topic3\", \"Topic3\", \"Topic3\", \"Topic3\", \"Topic3\", \"Topic3\", \"Topic3\", \"Topic3\", \"Topic3\", \"Topic3\", \"Topic3\", \"Topic3\", \"Topic3\", \"Topic3\", \"Topic3\", \"Topic3\", \"Topic3\", \"Topic3\", \"Topic3\", \"Topic3\", \"Topic3\", \"Topic3\", \"Topic3\", \"Topic3\", \"Topic3\", \"Topic3\", \"Topic3\", \"Topic3\", \"Topic3\", \"Topic3\", \"Topic3\", \"Topic3\"], \"logprob\": [30.0, 29.0, 28.0, 27.0, 26.0, 25.0, 24.0, 23.0, 22.0, 21.0, 20.0, 19.0, 18.0, 17.0, 16.0, 15.0, 14.0, 13.0, 12.0, 11.0, 10.0, 9.0, 8.0, 7.0, 6.0, 5.0, 4.0, 3.0, 2.0, 1.0, -4.128, -4.2795, -4.3629, -4.3642, -4.4552, -4.5605, -4.7981, -4.7982, -4.9447, -4.9447, -3.6093, -3.2549, -5.1169, -5.1205, -5.3242, -5.3243, -5.3244, -5.3245, -5.3245, -5.3246, -5.3246, -3.321, -3.6176, -5.5866, -5.5867, -5.5867, -5.5867, -5.5867, -5.5868, -5.5868, -3.7043, -4.6738, -3.0195, -4.6678, -3.9403, -3.9413, -4.4565, -4.0282, -4.4845, -4.7937, -4.6716, -5.116, -5.1046, -5.322, -5.3219, -4.44, -4.7022, -4.7023, -4.7026, -4.7054, -5.0589, -5.0589, -5.0589, -5.059, -5.0591, -5.0592, -5.0595, -5.0612, -5.0658, -4.4494, -5.6186, -5.6186, -5.6186, -5.6186, -5.6186, -5.6186, -5.6186, -5.6186, -5.6186, -5.6186, -5.6186, -5.6186, -5.6186, -5.6186, -5.6186, -4.6984, -4.0747, -4.4374, -4.2182, -4.7015, -5.0498, -5.053, -5.0549, -4.4423, -4.6812, -5.1019, -5.1024, -3.2788, -4.4316, -4.7595, -4.4375, -4.1415, -4.2243, -4.4347, -4.5893, -4.3918, -4.698, -4.5747, -4.6968, -5.0255, -5.0507, -5.0507, -4.2403, -4.5968, -4.5969, -4.5969, -4.5969, -4.5969, -4.597, -4.597, -4.597, -4.5971, -4.5972, -3.9627, -3.9702, -5.1565, -5.1565, -5.1565, -5.1565, -5.1565, -5.1565, -5.1565, -5.1565, -5.1565, -5.1565, -5.1565, -5.1565, -5.1565, -5.1565, -5.1567, -5.1567, -5.1567, -4.5838, -4.2445, -3.9758, -4.5984, -4.5969, -3.6935, -4.5972, -4.5981, -4.2285, -4.6246, -4.6055, -4.6402, -4.6003, -4.8898, -4.9788, -5.125, -5.1451], \"loglift\": [30.0, 29.0, 28.0, 27.0, 26.0, 25.0, 24.0, 23.0, 22.0, 21.0, 20.0, 19.0, 18.0, 17.0, 16.0, 15.0, 14.0, 13.0, 12.0, 11.0, 10.0, 9.0, 8.0, 7.0, 6.0, 5.0, 4.0, 3.0, 2.0, 1.0, 0.3756, 0.3696, 0.367, 0.3662, 0.3632, 0.3554, 0.345, 0.345, 0.3353, 0.3353, 0.3256, 0.3247, 0.3219, 0.3188, 0.3031, 0.3031, 0.303, 0.3029, 0.3029, 0.3029, 0.3029, 0.2911, 0.2765, 0.2735, 0.2734, 0.2734, 0.2734, 0.2734, 0.2734, 0.2733, 0.2483, 0.2587, 0.153, 0.2243, 0.168, 0.1232, 0.153, 0.0733, 0.0389, 0.092, 0.0291, 0.188, 0.1397, 0.1851, -0.2231, 1.3317, 1.2939, 1.2938, 1.2937, 1.2904, 1.2271, 1.2271, 1.2271, 1.2271, 1.227, 1.2269, 1.2266, 1.2245, 1.2194, 1.106, 1.0773, 1.0773, 1.0773, 1.0773, 1.0773, 1.0773, 1.0773, 1.0773, 1.0773, 1.0773, 1.0773, 1.0773, 1.0773, 1.0773, 1.0772, 1.0358, 0.9432, 0.9428, 0.7846, 0.8245, 0.9, 0.8966, 0.8943, 0.6566, 0.6746, 0.8423, 0.8418, -0.1063, 0.4064, 0.5898, 0.2631, -0.04, -0.116, -0.3702, -0.066, -0.7797, -0.0885, -0.6806, -1.1172, 0.6745, 0.647, 0.4059, 1.9843, 1.8901, 1.89, 1.89, 1.89, 1.8899, 1.8899, 1.8899, 1.8898, 1.8897, 1.8896, 1.8294, 1.7826, 1.6868, 1.6868, 1.6868, 1.6868, 1.6867, 1.6867, 1.6867, 1.6867, 1.6867, 1.6867, 1.6867, 1.6867, 1.6867, 1.6867, 1.6866, 1.6866, 1.6866, 1.5611, 1.0839, 0.8622, 1.2458, 1.2064, 0.2592, 0.9849, 0.8585, -0.164, 0.6197, 0.2866, -0.1168, -0.4989, -1.7172, -1.0438, 1.1944, 1.1698]}, \"token.table\": {\"Topic\": [3, 1, 2, 3, 1, 1, 3, 1, 2, 1, 2, 3, 3, 1, 2, 3, 1, 2, 1, 2, 2, 1, 1, 2, 3, 1, 2, 2, 2, 1, 2, 1, 2, 1, 2, 2, 1, 2, 1, 2, 2, 3, 2, 3, 2, 3, 3, 1, 2, 3, 2, 1, 1, 3, 3, 3, 1, 2, 3, 1, 1, 1, 1, 1, 2, 1, 3, 3, 3, 1, 1, 2, 3, 1, 2, 3, 1, 2, 3, 1, 2, 3, 1, 1, 2, 2, 2, 3, 1, 3, 3, 1, 2, 3, 1, 2, 1, 3, 3, 2, 2, 1, 1, 1, 1, 3, 2, 2, 1, 2, 1, 1, 2, 3, 3, 2, 1, 3, 2, 1, 3, 1, 2, 3, 1, 1, 2, 1, 3, 1, 2, 2, 1, 2, 1, 2, 3, 1, 1, 3, 2, 1, 2, 1, 3, 1, 3, 2, 2, 1, 1, 2, 3, 2, 3, 3, 3, 2, 2, 1, 2, 3, 2, 2, 2, 1, 1, 2, 2, 1, 1, 3, 2, 1, 2, 3, 1, 2, 1, 3, 2, 1, 3], \"Freq\": [0.8484182703621246, 0.5387480772350182, 0.5387480772350182, 0.5940730997459508, 0.9522590537090881, 0.9522774585981137, 0.8484455455537315, 0.9051569300537449, 0.10057299222819387, 0.6670865435393373, 0.25015745382725146, 0.08338581794241716, 0.8484455455537315, 0.559550885081876, 0.18651696169395868, 0.37303392338791735, 0.5396914122640467, 0.5396914122640467, 0.4101976238798229, 0.5469301651730972, 0.9716797326976289, 0.9226903615986943, 0.34712499267289615, 0.6942499853457923, 0.8484455455537315, 0.6969592056941428, 0.2986968024403469, 0.9719709978035493, 0.7321631474108959, 0.5751402298498571, 0.3834268198999048, 0.5713555731845157, 0.3809037154563438, 0.34721823391795104, 0.6944364678359021, 0.7321611661453973, 1.007960892336697, 0.7321611661453973, 0.5409162359221589, 0.5409162359221589, 0.2965603177936514, 0.5931206355873028, 0.7273900830391017, 0.8484504080000835, 0.4220543312111513, 0.4220543312111513, 0.8484455455537315, 0.7708784511104873, 0.22025098603156779, 0.5940785110609106, 0.7321611661453973, 1.0061008725467355, 0.8885946786736866, 0.594100333608739, 0.8484393115955764, 0.5940864927350802, 0.31240690237215085, 0.31240690237215085, 0.31240690237215085, 0.8885907018815171, 0.9522782656017735, 0.9523246435061004, 0.9523050990309527, 0.34527355784351366, 0.6905471156870273, 0.28512768532820837, 0.5702553706564167, 0.8484455455537315, 0.8484393115955764, 0.9523010170837367, 0.7281177174996447, 0.18202942937491118, 0.5940730997459508, 0.8889040447357835, 0.13333560671036754, 0.8484455455537315, 0.3452887912757159, 0.6905775825514318, 0.9140897141616752, 0.9259461330921892, 0.04629730665460946, 0.04629730665460946, 1.006147438207681, 0.4545712552197395, 0.4545712552197395, 0.7321611661453973, 0.7321611661453973, 0.8484455455537315, 0.721173884725378, 0.24039129490845934, 0.5940864927350802, 0.7188342955299418, 0.23961143184331396, 0.11980571592165698, 0.2798637873360131, 0.5597275746720262, 0.8921443167775158, 0.22303607919437896, 0.8484182703621246, 0.9719650984701278, 0.7321611661453973, 1.0061672467525913, 0.945619334283799, 1.0061466275955024, 0.8331810132573132, 0.8484504080000835, 0.8717544094414615, 0.7274056128492191, 0.3928599295480621, 0.5892898943220931, 0.9298950125837615, 0.4240623063380641, 0.4240623063380641, 0.21203115316903204, 0.8484504080000835, 0.9719611180746386, 0.8482674334747401, 0.14137790557912336, 0.9711251282939752, 0.5024578556469909, 0.5024578556469909, 0.4569090030788014, 0.3426817523091011, 0.2284545015394007, 0.9877948132046709, 0.8788155019742893, 0.12554507171061277, 0.9522975178657929, 0.5940172274994779, 0.9086697515682242, 0.06490498225487316, 0.7321611661453973, 0.23407281544692676, 0.7022184463407803, 0.7775784854336324, 0.21599402373156457, 0.021599402373156457, 0.9299083776655815, 0.5002300118742948, 0.5002300118742948, 0.7321611661453973, 1.0060603123237863, 0.7321611661453973, 0.6859655173122053, 0.17149137932805134, 0.8440156344374409, 0.12057366206249155, 0.7321611661453973, 0.7270860838536658, 0.8336101756577717, 0.3470186044302055, 0.694037208860411, 0.5940668241678821, 0.9720095157807255, 0.8484504080000835, 0.8484182703621246, 0.5940454539542247, 0.7321611661453973, 0.9720407062603107, 0.7109359961298706, 0.2187495372707294, 0.05468738431768235, 0.7321611661453973, 0.7274233775279698, 0.7321611661453973, 1.0060742118556358, 0.5930756241281735, 0.44480671809613015, 0.9719926944220101, 1.0061667609062483, 0.5998456833239095, 0.29992284166195476, 0.9719640160894648, 0.7378677532644351, 0.15811451855666467, 0.10540967903777645, 0.8179929242851998, 0.18177620539671105, 0.9231336540702761, 0.5940864927350802, 0.7321611661453973, 0.9811382995688607, 0.8484393115955764], \"Term\": [\"address\", \"aerosol\", \"aerosol\", \"aluminum\", \"animal\", \"antifreeze\", \"appliances\", \"bag\", \"bag\", \"bags\", \"bags\", \"bags\", \"barrels\", \"battery\", \"battery\", \"battery\", \"bottle\", \"bottle\", \"box\", \"box\", \"boxes\", \"bulb\", \"bulky\", \"bulky\", \"burn\", \"can\", \"can\", \"car\", \"card\", \"cardboard\", \"cardboard\", \"carton\", \"carton\", \"cartons\", \"cartons\", \"cases\", \"ceramic\", \"chairs\", \"chemical\", \"chemical\", \"clothing\", \"clothing\", \"coated\", \"computer\", \"construction\", \"construction\", \"contain\", \"container\", \"container\", \"cooking\", \"cover\", \"crystal\", \"cup\", \"cups\", \"dairy\", \"debris\", \"diaper\", \"diaper\", \"diaper\", \"dish\", \"drink\", \"drinking\", \"dry\", \"egg\", \"egg\", \"electronic\", \"electronic\", \"flammable\", \"flatware\", \"flower\", \"foam\", \"foam\", \"foil\", \"food\", \"food\", \"freon\", \"frozen\", \"frozen\", \"garbage\", \"glass\", \"glass\", \"glass\", \"grocery\", \"hanger\", \"hanger\", \"hangers\", \"help\", \"highly\", \"household\", \"household\", \"insulation\", \"item\", \"item\", \"item\", \"juice\", \"juice\", \"kind\", \"kind\", \"label\", \"large\", \"lawn\", \"lid\", \"light\", \"like\", \"liquid\", \"major\", \"medical\", \"metal\", \"milk\", \"milk\", \"mirror\", \"motor\", \"motor\", \"motor\", \"nails\", \"needles\", \"no\", \"no\", \"not\", \"of\", \"of\", \"oil\", \"oil\", \"oil\", \"packaging\", \"paint\", \"paint\", \"pane\", \"pans\", \"paper\", \"paper\", \"parts\", \"pizza\", \"pizza\", \"plastic\", \"plastic\", \"plastic\", \"plate\", \"plates\", \"plates\", \"please\", \"polystyrene\", \"pool\", \"pot\", \"pot\", \"product\", \"product\", \"protect\", \"pvc\", \"recyclable\", \"rubber\", \"rubber\", \"sanitary\", \"scrap\", \"screw\", \"sheet\", \"shoe\", \"siding\", \"spray\", \"styrofoam\", \"styrofoam\", \"styrofoam\", \"syringes\", \"syrinx\", \"tarps\", \"towel\", \"toy\", \"toy\", \"toys\", \"trash\", \"tray\", \"tray\", \"vinyl\", \"waste\", \"waste\", \"waste\", \"wax\", \"wax\", \"window\", \"wood\", \"worker\", \"wrap\", \"yogurt\"]}, \"R\": 30, \"lambda.step\": 0.01, \"plot.opts\": {\"xlab\": \"PC1\", \"ylab\": \"PC2\"}, \"topic.order\": [1, 2, 3]};\n",
       "\n",
       "function LDAvis_load_lib(url, callback){\n",
       "  var s = document.createElement('script');\n",
       "  s.src = url;\n",
       "  s.async = true;\n",
       "  s.onreadystatechange = s.onload = callback;\n",
       "  s.onerror = function(){console.warn(\"failed to load library \" + url);};\n",
       "  document.getElementsByTagName(\"head\")[0].appendChild(s);\n",
       "}\n",
       "\n",
       "if(typeof(LDAvis) !== \"undefined\"){\n",
       "   // already loaded: just create the visualization\n",
       "   !function(LDAvis){\n",
       "       new LDAvis(\"#\" + \"ldavis_el268762035953418016847475828\", ldavis_el268762035953418016847475828_data);\n",
       "   }(LDAvis);\n",
       "}else if(typeof define === \"function\" && define.amd){\n",
       "   // require.js is available: use it to load d3/LDAvis\n",
       "   require.config({paths: {d3: \"https://d3js.org/d3.v5\"}});\n",
       "   require([\"d3\"], function(d3){\n",
       "      window.d3 = d3;\n",
       "      LDAvis_load_lib(\"https://cdn.jsdelivr.net/gh/bmabey/pyLDAvis@3.3.1/pyLDAvis/js/ldavis.v3.0.0.js\", function(){\n",
       "        new LDAvis(\"#\" + \"ldavis_el268762035953418016847475828\", ldavis_el268762035953418016847475828_data);\n",
       "      });\n",
       "    });\n",
       "}else{\n",
       "    // require.js not available: dynamically load d3 & LDAvis\n",
       "    LDAvis_load_lib(\"https://d3js.org/d3.v5.js\", function(){\n",
       "         LDAvis_load_lib(\"https://cdn.jsdelivr.net/gh/bmabey/pyLDAvis@3.3.1/pyLDAvis/js/ldavis.v3.0.0.js\", function(){\n",
       "                 new LDAvis(\"#\" + \"ldavis_el268762035953418016847475828\", ldavis_el268762035953418016847475828_data);\n",
       "            })\n",
       "         });\n",
       "}\n",
       "</script>"
      ],
      "text/plain": [
       "PreparedData(topic_coordinates=              x         y  topics  cluster       Freq\n",
       "topic                                                \n",
       "0      0.103579  0.043022       1        1  66.438733\n",
       "1     -0.008403 -0.098542       2        1  22.996541\n",
       "2     -0.095176  0.055520       3        1  10.564727, topic_info=           Term       Freq      Total Category  logprob  loglift\n",
       "2            no  21.000000  21.000000  Default  30.0000  30.0000\n",
       "70          oil   8.000000   8.000000  Default  29.0000  29.0000\n",
       "97   electronic   3.000000   3.000000  Default  28.0000  28.0000\n",
       "281    clothing   3.000000   3.000000  Default  27.0000  27.0000\n",
       "109     battery   5.000000   5.000000  Default  26.0000  26.0000\n",
       "..          ...        ...        ...      ...      ...      ...\n",
       "22    styrofoam   1.173043  18.285753   Topic3  -4.6003  -0.4989\n",
       "4       plastic   0.878266  46.297577   Topic3  -4.8898  -1.7172\n",
       "9         glass   0.803477  21.599529   Topic3  -4.9788  -1.0438\n",
       "104          of   0.694159   1.990217   Topic3  -5.1250   1.1944\n",
       "207      plates   0.680316   1.999080   Topic3  -5.1451   1.1698\n",
       "\n",
       "[179 rows x 6 columns], token_table=      Topic      Freq      Term\n",
       "term                           \n",
       "243       3  0.848418   address\n",
       "5         1  0.538748   aerosol\n",
       "5         2  0.538748   aerosol\n",
       "324       3  0.594073  aluminum\n",
       "356       1  0.952259    animal\n",
       "...     ...       ...       ...\n",
       "18        1  0.923134    window\n",
       "330       3  0.594086      wood\n",
       "272       2  0.732161    worker\n",
       "20        1  0.981138      wrap\n",
       "251       3  0.848439    yogurt\n",
       "\n",
       "[183 rows x 3 columns], R=30, lambda_step=0.01, plot_opts={'xlab': 'PC1', 'ylab': 'PC2'}, topic_order=[1, 2, 3])"
      ]
     },
     "execution_count": 26,
     "metadata": {},
     "output_type": "execute_result"
    }
   ],
   "source": [
    "# run visualization\n",
    "pyLDAvis.enable_notebook()\n",
    "vis = pyLDAvis.gensim_models.prepare(lda_multicore, corpus, id2words)\n",
    "vis"
   ]
  },
  {
   "cell_type": "markdown",
   "metadata": {},
   "source": [
    "The df_no analysis is not as clear topics are not as clear, since there is a wider array of items that are excluded from recycling."
   ]
  },
  {
   "cell_type": "markdown",
   "metadata": {},
   "source": [
    "This was a preliminary EDA and a good starting point for doing a more in-depth analysis with more complex tools. With more context, and/or information of the dropped columns, even more insights could be gained into the significance of the data and how to best prepare it for Machine Learning purposes."
   ]
  }
 ],
 "metadata": {
  "interpreter": {
   "hash": "aee8b7b246df8f9039afb4144a1f6fd8d2ca17a180786b69acc140d282b71a49"
  },
  "kernelspec": {
   "display_name": "Python 3 (ipykernel)",
   "language": "python",
   "name": "python3"
  },
  "language_info": {
   "codemirror_mode": {
    "name": "ipython",
    "version": 3
   },
   "file_extension": ".py",
   "mimetype": "text/x-python",
   "name": "python",
   "nbconvert_exporter": "python",
   "pygments_lexer": "ipython3",
   "version": "3.8.7"
  }
 },
 "nbformat": 4,
 "nbformat_minor": 2
}

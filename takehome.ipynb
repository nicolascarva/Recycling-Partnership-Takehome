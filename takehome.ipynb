{
 "cells": [
  {
   "cell_type": "markdown",
   "metadata": {},
   "source": [
    "# Part 1\n",
    "\n",
    "The following code represents a simple, inefficient pattern search that might be found during EDA in a jupyter notebook.\n",
    "\n",
    "In a separate `.py` file, refactor this code using OOP to make it more extensible and efficient.\n",
    "\n",
    "Your object should be able to do each of the following:\n",
    "\n",
    "1. Accept either a string or a list of words as input text to be searched for pattern matches (if a string is passed, only words in the string that match the pattern should be caught)\n",
    "2. Allow for registering an arbitrary number of pattern groups to search input text\n",
    "3. Allow the user to specify a specific pattern group to search the text for matches\n",
    "4. Allow the user to search input text with all registered patterns and return all matches by pattern group"
   ]
  },
  {
   "cell_type": "code",
   "execution_count": 1,
   "metadata": {},
   "outputs": [
    {
     "name": "stdout",
     "output_type": "stream",
     "text": [
      "Pattern 1: ['cat', 'mouse']\n",
      "Pattern 2: ['mouse']\n"
     ]
    }
   ],
   "source": [
    "my_words = ['dog', 'cat', 'mouse', 'bird', 'snake', 'kitten', 'puppy']\n",
    "\n",
    "pattern_1_words = []\n",
    "pattern_2_words = []\n",
    "\n",
    "pattern_group_1 = [\n",
    "\t'at',\n",
    "\t'ou'\n",
    "]\n",
    "\n",
    "pattern_group_2 = [\n",
    "\t'in',\n",
    "\t'mo'\n",
    "]\n",
    "\n",
    "for word in my_words:\n",
    "\tfor pat in pattern_group_1:\n",
    "\t\tif pat in word:\n",
    "\t\t\tpattern_1_words.append(word)\n",
    "for word in my_words:\n",
    "\tfor pat in pattern_group_2:\n",
    "\t\tif pat in word:\n",
    "\t\t\tpattern_2_words.append(word)\n",
    "\n",
    "print(f\"Pattern 1: {pattern_1_words}\")\n",
    "print(f\"Pattern 2: {pattern_2_words}\")"
   ]
  },
  {
   "cell_type": "markdown",
   "metadata": {},
   "source": [
    "\\#########################################################\n",
    "\n",
    "### Note: The .py file created is main.py and can be found on this repository: https://github.com/nicolascarva/Recycling-Partnership-Takehome.git\n",
    "\n",
    "Instructions for running it:\n",
    "\n",
    "1. Instantiate object with text to be searched (string or list) as input:\n",
    "`input = Match('example text')`\n",
    "\n",
    "2. Add desired pattern groups by running add_patterns method and using a dictionary with the pattern name as key and a list of the patterns as values. More pattern groups can be added as desired.\n",
    "\n",
    "`pattern_group_1 = {'pat_1': ['ex', 'am'], 'pat_2': ['xt']}\n",
    "pattern_group_2 = {'pat_3': ['foo']}\n",
    "input.add_patterns(pattern_groups1)\n",
    "input.add_patterns(pattern_groups2)`\n",
    "\n",
    "3. To find matches run the match_patterns method with a list of the names of the desired pattern groups as input (if empty, default is 'all'):\n",
    "\n",
    "`input.match_patterns(['pat_1'])`\n",
    "\n",
    "4. If new text needs to be searched, a new object may be instantiated, or, to avoid having to add patterns again, run the change_text method with new text (string or list) as the input:\n",
    "\n",
    "`input.change_text(['new', 'text'])` or \n",
    "`input.change_text('new text')`\n",
    "\n",
    "\n",
    "\\############################################################"
   ]
  },
  {
   "cell_type": "markdown",
   "metadata": {},
   "source": [
    "# Part 2\n",
    "\n",
    "Writes tests for your code using `pytest`"
   ]
  },
  {
   "cell_type": "markdown",
   "metadata": {},
   "source": [
    "#### To run test: clone the repository and run \n",
    "`python -m pytest` in the environment. Test can be found in the `test_class.py` file.\n",
    "\n",
    "############################################################"
   ]
  },
  {
   "cell_type": "markdown",
   "metadata": {},
   "source": [
    "# Part 3\n",
    "\n",
    "Imagine your job is to help build the text processing pipeline for a machine learning model. This model takes strings, processes them into vectors, and then classifies the text as relating to one of several categories (a multiclass classifier).\n",
    "\n",
    "The raw data that is passed into the machine learning pipeline has strings that may include descriptions of many items, including multiple items that we are seeking to classify, as well as descriptions of items that are irrelevant to our classifier. These must be separated before being passed to classifier.\n",
    "\n",
    "As the newest member of the team, your job is to get up to speed with the data as quickly as possible, and to find opportunities to improve the text processing pipeline. Perform an EDA on the following CSV to accomplish this. Be prepared to explain what insights you learned from the data, and what approaches you might use to improve the pipeline.\n",
    "\n",
    "Perform the analysis in this notebook, below this prompt."
   ]
  },
  {
   "cell_type": "markdown",
   "metadata": {},
   "source": [
    "# Analysis"
   ]
  },
  {
   "cell_type": "code",
   "execution_count": 2,
   "metadata": {},
   "outputs": [],
   "source": [
    "## Imports ##\n",
    "import pandas as pd\n",
    "import numpy as np\n",
    "import re\n",
    "\n",
    "import matplotlib.pyplot as plt\n",
    "\n",
    "from sklearn.feature_extraction.text import CountVectorizer\n",
    "\n",
    "import spacy\n",
    "\n",
    "import gensim\n",
    "import gensim.corpora as corpora\n",
    "\n",
    "import pyLDAvis\n",
    "import pyLDAvis.gensim_models"
   ]
  },
  {
   "cell_type": "code",
   "execution_count": 3,
   "metadata": {},
   "outputs": [],
   "source": [
    "%%capture\n",
    "!python -m spacy download en_core_web_sm \n",
    "nlp = spacy.load(\"en_core_web_sm\");"
   ]
  },
  {
   "cell_type": "markdown",
   "metadata": {},
   "source": [
    "First we'll import the csv data and take a look at it."
   ]
  },
  {
   "cell_type": "code",
   "execution_count": 4,
   "metadata": {},
   "outputs": [
    {
     "data": {
      "text/html": [
       "<div>\n",
       "<style scoped>\n",
       "    .dataframe tbody tr th:only-of-type {\n",
       "        vertical-align: middle;\n",
       "    }\n",
       "\n",
       "    .dataframe tbody tr th {\n",
       "        vertical-align: top;\n",
       "    }\n",
       "\n",
       "    .dataframe thead th {\n",
       "        text-align: right;\n",
       "    }\n",
       "</style>\n",
       "<table border=\"1\" class=\"dataframe\">\n",
       "  <thead>\n",
       "    <tr style=\"text-align: right;\">\n",
       "      <th></th>\n",
       "      <th>text</th>\n",
       "      <th>added_datetime</th>\n",
       "      <th>yes_no</th>\n",
       "      <th>image_coordinates</th>\n",
       "      <th>image_url</th>\n",
       "      <th>original_id</th>\n",
       "      <th>page_number</th>\n",
       "      <th>parser_version</th>\n",
       "      <th>model_version</th>\n",
       "      <th>manual_override</th>\n",
       "    </tr>\n",
       "    <tr>\n",
       "      <th>id</th>\n",
       "      <th></th>\n",
       "      <th></th>\n",
       "      <th></th>\n",
       "      <th></th>\n",
       "      <th></th>\n",
       "      <th></th>\n",
       "      <th></th>\n",
       "      <th></th>\n",
       "      <th></th>\n",
       "      <th></th>\n",
       "    </tr>\n",
       "  </thead>\n",
       "  <tbody>\n",
       "    <tr>\n",
       "      <th>462548</th>\n",
       "      <td>No plastic bags or pesticide...</td>\n",
       "      <td>2021-07-13 01:18:01.983</td>\n",
       "      <td>no</td>\n",
       "      <td>{'originalSize': {'height': ...</td>\n",
       "      <td>NaN</td>\n",
       "      <td>NaN</td>\n",
       "      <td>NaN</td>\n",
       "      <td>NaN</td>\n",
       "      <td>NaN</td>\n",
       "      <td>NaN</td>\n",
       "    </tr>\n",
       "    <tr>\n",
       "      <th>462549</th>\n",
       "      <td>No paint or aerosol cans .</td>\n",
       "      <td>2021-07-13 01:18:01.983</td>\n",
       "      <td>no</td>\n",
       "      <td>{'originalSize': {'height': ...</td>\n",
       "      <td>NaN</td>\n",
       "      <td>NaN</td>\n",
       "      <td>NaN</td>\n",
       "      <td>NaN</td>\n",
       "      <td>NaN</td>\n",
       "      <td>NaN</td>\n",
       "    </tr>\n",
       "    <tr>\n",
       "      <th>462550</th>\n",
       "      <td>Tin and aluminum food and dr...</td>\n",
       "      <td>2021-07-13 01:18:01.983</td>\n",
       "      <td>yes</td>\n",
       "      <td>{'originalSize': {'height': ...</td>\n",
       "      <td>NaN</td>\n",
       "      <td>NaN</td>\n",
       "      <td>NaN</td>\n",
       "      <td>NaN</td>\n",
       "      <td>NaN</td>\n",
       "      <td>NaN</td>\n",
       "    </tr>\n",
       "    <tr>\n",
       "      <th>462551</th>\n",
       "      <td>Corrugated and non corrugate...</td>\n",
       "      <td>2021-07-13 01:18:01.983</td>\n",
       "      <td>yes</td>\n",
       "      <td>{'originalSize': {'height': ...</td>\n",
       "      <td>NaN</td>\n",
       "      <td>NaN</td>\n",
       "      <td>NaN</td>\n",
       "      <td>NaN</td>\n",
       "      <td>NaN</td>\n",
       "      <td>NaN</td>\n",
       "    </tr>\n",
       "    <tr>\n",
       "      <th>462552</th>\n",
       "      <td>Includes all colors office p...</td>\n",
       "      <td>2021-07-13 01:18:01.983</td>\n",
       "      <td>yes</td>\n",
       "      <td>{'originalSize': {'height': ...</td>\n",
       "      <td>NaN</td>\n",
       "      <td>NaN</td>\n",
       "      <td>NaN</td>\n",
       "      <td>NaN</td>\n",
       "      <td>NaN</td>\n",
       "      <td>NaN</td>\n",
       "    </tr>\n",
       "  </tbody>\n",
       "</table>\n",
       "</div>"
      ],
      "text/plain": [
       "                                   text           added_datetime yes_no  \\\n",
       "id                                                                        \n",
       "462548  No plastic bags or pesticide...  2021-07-13 01:18:01.983     no   \n",
       "462549       No paint or aerosol cans .  2021-07-13 01:18:01.983     no   \n",
       "462550  Tin and aluminum food and dr...  2021-07-13 01:18:01.983    yes   \n",
       "462551  Corrugated and non corrugate...  2021-07-13 01:18:01.983    yes   \n",
       "462552  Includes all colors office p...  2021-07-13 01:18:01.983    yes   \n",
       "\n",
       "                      image_coordinates  image_url  original_id  page_number  \\\n",
       "id                                                                             \n",
       "462548  {'originalSize': {'height': ...        NaN          NaN          NaN   \n",
       "462549  {'originalSize': {'height': ...        NaN          NaN          NaN   \n",
       "462550  {'originalSize': {'height': ...        NaN          NaN          NaN   \n",
       "462551  {'originalSize': {'height': ...        NaN          NaN          NaN   \n",
       "462552  {'originalSize': {'height': ...        NaN          NaN          NaN   \n",
       "\n",
       "       parser_version model_version manual_override  \n",
       "id                                                   \n",
       "462548            NaN           NaN             NaN  \n",
       "462549            NaN           NaN             NaN  \n",
       "462550            NaN           NaN             NaN  \n",
       "462551            NaN           NaN             NaN  \n",
       "462552            NaN           NaN             NaN  "
      ]
     },
     "execution_count": 4,
     "metadata": {},
     "output_type": "execute_result"
    }
   ],
   "source": [
    "df = pd.read_csv('./data/takehome.csv', index_col='id')\n",
    "pd.set_option('display.max_colwidth', 32)\n",
    "df.head()"
   ]
  },
  {
   "cell_type": "markdown",
   "metadata": {},
   "source": [
    "There's not a lot of context in the data and many of the columns seem to be mainly null (below). There is a yes/no column that seems to be correlated to the text, my initial assumption is that it describes if the text specifies a material (YES) or excludes a material (NO). So we'll keep the index column, the text column and the yes_no column. The rest of the columns need more information or context, so we'll leave them out of the analysis for now."
   ]
  },
  {
   "cell_type": "markdown",
   "metadata": {},
   "source": [
    "We check for null in the text column and drop those rows as well as the rows that won't be analyzed."
   ]
  },
  {
   "cell_type": "code",
   "execution_count": 5,
   "metadata": {
    "scrolled": false
   },
   "outputs": [
    {
     "data": {
      "text/plain": [
       "text                    3\n",
       "added_datetime          0\n",
       "yes_no                  0\n",
       "image_coordinates     660\n",
       "image_url            1000\n",
       "original_id          1000\n",
       "page_number          1000\n",
       "parser_version        340\n",
       "model_version         340\n",
       "manual_override       340\n",
       "dtype: int64"
      ]
     },
     "execution_count": 5,
     "metadata": {},
     "output_type": "execute_result"
    }
   ],
   "source": [
    "df.isnull().sum()"
   ]
  },
  {
   "cell_type": "code",
   "execution_count": 6,
   "metadata": {},
   "outputs": [
    {
     "data": {
      "text/plain": [
       "text      0\n",
       "yes_no    0\n",
       "dtype: int64"
      ]
     },
     "execution_count": 6,
     "metadata": {},
     "output_type": "execute_result"
    }
   ],
   "source": [
    "df = df[['text', 'yes_no']]\n",
    "df.dropna(subset=['text'], inplace=True)\n",
    "df.isnull().sum()"
   ]
  },
  {
   "cell_type": "code",
   "execution_count": 7,
   "metadata": {},
   "outputs": [
    {
     "data": {
      "text/plain": [
       "(997, 2)"
      ]
     },
     "execution_count": 7,
     "metadata": {},
     "output_type": "execute_result"
    }
   ],
   "source": [
    "df.shape"
   ]
  },
  {
   "cell_type": "code",
   "execution_count": 8,
   "metadata": {},
   "outputs": [
    {
     "data": {
      "text/html": [
       "<div>\n",
       "<style scoped>\n",
       "    .dataframe tbody tr th:only-of-type {\n",
       "        vertical-align: middle;\n",
       "    }\n",
       "\n",
       "    .dataframe tbody tr th {\n",
       "        vertical-align: top;\n",
       "    }\n",
       "\n",
       "    .dataframe thead th {\n",
       "        text-align: right;\n",
       "    }\n",
       "</style>\n",
       "<table border=\"1\" class=\"dataframe\">\n",
       "  <thead>\n",
       "    <tr style=\"text-align: right;\">\n",
       "      <th></th>\n",
       "      <th>text</th>\n",
       "      <th>yes_no</th>\n",
       "    </tr>\n",
       "    <tr>\n",
       "      <th>id</th>\n",
       "      <th></th>\n",
       "      <th></th>\n",
       "    </tr>\n",
       "  </thead>\n",
       "  <tbody>\n",
       "    <tr>\n",
       "      <th>462548</th>\n",
       "      <td>No plastic bags or pesticide...</td>\n",
       "      <td>no</td>\n",
       "    </tr>\n",
       "    <tr>\n",
       "      <th>462549</th>\n",
       "      <td>No paint or aerosol cans .</td>\n",
       "      <td>no</td>\n",
       "    </tr>\n",
       "    <tr>\n",
       "      <th>462550</th>\n",
       "      <td>Tin and aluminum food and dr...</td>\n",
       "      <td>yes</td>\n",
       "    </tr>\n",
       "    <tr>\n",
       "      <th>462551</th>\n",
       "      <td>Corrugated and non corrugate...</td>\n",
       "      <td>yes</td>\n",
       "    </tr>\n",
       "    <tr>\n",
       "      <th>462552</th>\n",
       "      <td>Includes all colors office p...</td>\n",
       "      <td>yes</td>\n",
       "    </tr>\n",
       "  </tbody>\n",
       "</table>\n",
       "</div>"
      ],
      "text/plain": [
       "                                   text yes_no\n",
       "id                                            \n",
       "462548  No plastic bags or pesticide...     no\n",
       "462549       No paint or aerosol cans .     no\n",
       "462550  Tin and aluminum food and dr...    yes\n",
       "462551  Corrugated and non corrugate...    yes\n",
       "462552  Includes all colors office p...    yes"
      ]
     },
     "execution_count": 8,
     "metadata": {},
     "output_type": "execute_result"
    }
   ],
   "source": [
    "df.head()"
   ]
  },
  {
   "cell_type": "markdown",
   "metadata": {},
   "source": [
    "Now we are going to clean the text to remove unwanted characters and be able to compare word counts and do other data manipulation."
   ]
  },
  {
   "cell_type": "code",
   "execution_count": 9,
   "metadata": {},
   "outputs": [],
   "source": [
    "def clean_text(text):\n",
    "    \"\"\"\n",
    "    Accepts a single text document and performs several regex\n",
    "    substitutions in order to clean the document.\n",
    "    Parameters\n",
    "    ----------\n",
    "    text: string\n",
    "    Returns\n",
    "    -------\n",
    "    text: list of words\n",
    "    \"\"\"\n",
    "    special_chars_regex = '[:?,.>$|!\\'\"]'\n",
    "    white_spaces_regex = '[ ]{2,}'\n",
    "    text = re.sub('[^a-zA-Z ]', \" \", text)\n",
    "    text = re.sub(special_chars_regex, \" \", text)\n",
    "    text = re.sub(white_spaces_regex, \" \", text)\n",
    "    return text"
   ]
  },
  {
   "cell_type": "code",
   "execution_count": 10,
   "metadata": {
    "scrolled": true
   },
   "outputs": [],
   "source": [
    "df['text'] = [clean_text(text) for text in df['text']]"
   ]
  },
  {
   "cell_type": "markdown",
   "metadata": {},
   "source": [
    "Let's look at how many words each row contains. Makes sense that there would be a correlation between the number of materials in the classification and the number of words in the text. We'll add that data as a column and plot the histogram. We can see that the vast majority of text is under 10 words. Maybe this would be useful in the future (ie. applying different models, or manually reviewing rows with the long text)."
   ]
  },
  {
   "cell_type": "code",
   "execution_count": 11,
   "metadata": {},
   "outputs": [
    {
     "data": {
      "text/plain": [
       "(array([  2., 159., 196.,  71.,  62., 238.,  34.,  34.,  19.,  17.,  12.,\n",
       "         12.,  11.,  12.,   7.,  10.,   7.,   9.,   4.,   8.,   6.,   5.,\n",
       "          3.,   2.,   1.,   2.,   3.,   0.,   9.]),\n",
       " array([ 0,  1,  2,  3,  4,  5,  6,  7,  8,  9, 10, 11, 12, 13, 14, 15, 16,\n",
       "        17, 18, 19, 20, 21, 22, 23, 24, 25, 26, 27, 28, 29]),\n",
       " <BarContainer object of 29 artists>)"
      ]
     },
     "execution_count": 11,
     "metadata": {},
     "output_type": "execute_result"
    },
    {
     "data": {
      "image/png": "[encoded data removed]",
      "text/plain": [
       "<Figure size 432x288 with 1 Axes>"
      ]
     },
     "metadata": {
      "needs_background": "light"
     },
     "output_type": "display_data"
    }
   ],
   "source": [
    "df['num_of_words'] = [len(text.split()) for text in df['text']]\n",
    "plt.hist(df['num_of_words'],bins=range(30))"
   ]
  },
  {
   "cell_type": "markdown",
   "metadata": {},
   "source": [
    "We are going to plot the most common words in a histogram by creating a Document Term Matrix with sklearn and then counting the word frequencies. We are using unigrams and bigrams for the analysis."
   ]
  },
  {
   "cell_type": "code",
   "execution_count": 12,
   "metadata": {},
   "outputs": [],
   "source": [
    "def plot_word_count(df, x):\n",
    "    \"\"\"\n",
    "    Plots histogram of word count for given df\n",
    "    ---------------\n",
    "    df: Dataframe with clean 'text' column\n",
    "    x: Number of words to be plotted\n",
    "    \"\"\"\n",
    "    cv = CountVectorizer(stop_words='english', ngram_range=[1,2]) \n",
    "    cv_matrix = cv.fit_transform(df['text']) \n",
    "    # create document term matrix\n",
    "    df_dtm = pd.DataFrame(cv_matrix.toarray(), columns=cv.get_feature_names_out())\n",
    "    word_count = pd.DataFrame(index=cv.get_feature_names_out(), data=[df_dtm[feature].sum() for feature in cv.get_feature_names_out()], \n",
    "             columns=['count']).sort_values(by=['count'], axis=0, ascending=False)\n",
    "    plt.figure(figsize=(18, 8), dpi=80)\n",
    "    plt.bar(word_count[:x].index, word_count['count'][:x])\n",
    "    return word_count"
   ]
  },
  {
   "cell_type": "code",
   "execution_count": 13,
   "metadata": {},
   "outputs": [
    {
     "data": {
      "image/png": "[encoded data removed]",
      "text/plain": [
       "<Figure size 1440x640 with 1 Axes>"
      ]
     },
     "metadata": {
      "needs_background": "light"
     },
     "output_type": "display_data"
    }
   ],
   "source": [
    "word_count = plot_word_count(df, 15)"
   ]
  },
  {
   "cell_type": "markdown",
   "metadata": {},
   "source": [
    "We find that 'category', 'selected manually', etc. are a large part of the word count, which is odd so we look at the rows that contain 'category':"
   ]
  },
  {
   "cell_type": "code",
   "execution_count": 14,
   "metadata": {},
   "outputs": [
    {
     "data": {
      "text/plain": [
       "[(462634,\n",
       "  'Mixed Paper This category includes all other paper such as notebook paper Post it notes colored copy paper computer paper and white copy paper white envelopes green bar or blue bar computer paper junk mail etc Staples are OK '),\n",
       " (280510, 'No text category selected manually'),\n",
       " (280512, 'No text category selected manually'),\n",
       " (280573, 'No text category selected manually'),\n",
       " (306757, 'No text category selected manually'),\n",
       " (310641, 'No text category selected manually'),\n",
       " (280536, 'No text category selected manually'),\n",
       " (280537, 'No text category selected manually'),\n",
       " (280538, 'No text category selected manually'),\n",
       " (280539, 'No text category selected manually')]"
      ]
     },
     "execution_count": 14,
     "metadata": {},
     "output_type": "execute_result"
    }
   ],
   "source": [
    "[(index, text) for (index, text) in zip(df.index, df['text']) if 'category' in text][:10]"
   ]
  },
  {
   "cell_type": "markdown",
   "metadata": {},
   "source": [
    "We find there's quite a bit of rows with 'No text category selected manually' as their only data. With more context, it is possible this data could prove useful, but for now we'll drop these rows and re-run the analysis."
   ]
  },
  {
   "cell_type": "code",
   "execution_count": 15,
   "metadata": {},
   "outputs": [
    {
     "data": {
      "text/plain": [
       "(808, 3)"
      ]
     },
     "execution_count": 15,
     "metadata": {},
     "output_type": "execute_result"
    }
   ],
   "source": [
    "df = df[df['text'] != 'No text category selected manually']\n",
    "df.shape"
   ]
  },
  {
   "cell_type": "markdown",
   "metadata": {},
   "source": [
    "Re-running the analysis, it looks as expected, the most frequent words are for objects or materials that are recyclable."
   ]
  },
  {
   "cell_type": "code",
   "execution_count": 16,
   "metadata": {},
   "outputs": [
    {
     "data": {
      "image/png": "[encoded data removed]",
      "text/plain": [
       "<Figure size 1440x640 with 1 Axes>"
      ]
     },
     "metadata": {
      "needs_background": "light"
     },
     "output_type": "display_data"
    }
   ],
   "source": [
    "word_count = plot_word_count(df, 15)"
   ]
  },
  {
   "cell_type": "markdown",
   "metadata": {},
   "source": [
    "We'll also run the word count per row again:"
   ]
  },
  {
   "cell_type": "code",
   "execution_count": 17,
   "metadata": {},
   "outputs": [
    {
     "data": {
      "text/plain": [
       "(array([  2., 159., 196.,  71.,  62.,  49.,  34.,  34.,  19.,  17.,  12.,\n",
       "         12.,  11.,  12.,   7.,  10.,   7.,   9.,   4.,   8.,   6.,   5.,\n",
       "          3.,   2.,   1.,   2.,   3.,   0.,   9.]),\n",
       " array([ 0,  1,  2,  3,  4,  5,  6,  7,  8,  9, 10, 11, 12, 13, 14, 15, 16,\n",
       "        17, 18, 19, 20, 21, 22, 23, 24, 25, 26, 27, 28, 29]),\n",
       " <BarContainer object of 29 artists>)"
      ]
     },
     "execution_count": 17,
     "metadata": {},
     "output_type": "execute_result"
    },
    {
     "data": {
      "image/png": "[encoded data removed]",
      "text/plain": [
       "<Figure size 432x288 with 1 Axes>"
      ]
     },
     "metadata": {
      "needs_background": "light"
     },
     "output_type": "display_data"
    }
   ],
   "source": [
    "plt.hist(df['num_of_words'],bins=range(30))"
   ]
  },
  {
   "cell_type": "markdown",
   "metadata": {},
   "source": [
    "Let's take a look at the rows with over 25 words:"
   ]
  },
  {
   "cell_type": "code",
   "execution_count": 18,
   "metadata": {},
   "outputs": [
    {
     "data": {
      "text/html": [
       "<div>\n",
       "<style scoped>\n",
       "    .dataframe tbody tr th:only-of-type {\n",
       "        vertical-align: middle;\n",
       "    }\n",
       "\n",
       "    .dataframe tbody tr th {\n",
       "        vertical-align: top;\n",
       "    }\n",
       "\n",
       "    .dataframe thead th {\n",
       "        text-align: right;\n",
       "    }\n",
       "</style>\n",
       "<table border=\"1\" class=\"dataframe\">\n",
       "  <thead>\n",
       "    <tr style=\"text-align: right;\">\n",
       "      <th></th>\n",
       "      <th>text</th>\n",
       "      <th>yes_no</th>\n",
       "      <th>num_of_words</th>\n",
       "    </tr>\n",
       "    <tr>\n",
       "      <th>id</th>\n",
       "      <th></th>\n",
       "      <th></th>\n",
       "      <th></th>\n",
       "    </tr>\n",
       "  </thead>\n",
       "  <tbody>\n",
       "    <tr>\n",
       "      <th>462563</th>\n",
       "      <td>Plastics such as those from Cleaners Food containers Bleach Milk Cooking oils Pill bottles Cosmetics lotions Shampoo conditioner Soft drinks Deter...</td>\n",
       "      <td>yes</td>\n",
       "      <td>26</td>\n",
       "    </tr>\n",
       "    <tr>\n",
       "      <th>462564</th>\n",
       "      <td>Catalogs Cereal boxes Shredded paper Mail Toilet paper rolls Frozen food boxes Greeting cards Boxboard e g pop boxes</td>\n",
       "      <td>yes</td>\n",
       "      <td>19</td>\n",
       "    </tr>\n",
       "    <tr>\n",
       "      <th>462565</th>\n",
       "      <td>Office paper white and colored Phonebooks Corrugated cardboard Tissue boxes Snack boxes Pop and beer cartons Wrapping paper tubes Paper gift shopp...</td>\n",
       "      <td>yes</td>\n",
       "      <td>30</td>\n",
       "    </tr>\n",
       "    <tr>\n",
       "      <th>462566</th>\n",
       "      <td>Newspaper advertisements Magazines Shoe boxes Paperback books Paper egg cartons Paper towel rolls Tissue paper Kraft paper bags Gable Top Containe...</td>\n",
       "      <td>yes</td>\n",
       "      <td>26</td>\n",
       "    </tr>\n",
       "    <tr>\n",
       "      <th>462567</th>\n",
       "      <td>Aluminum and metal cans foil and foil trays lids and aerosol spray cans must be empty Please</td>\n",
       "      <td>yes</td>\n",
       "      <td>17</td>\n",
       "    </tr>\n",
       "  </tbody>\n",
       "</table>\n",
       "</div>"
      ],
      "text/plain": [
       "                                                                                                                                                         text  \\\n",
       "id                                                                                                                                                              \n",
       "462563  Plastics such as those from Cleaners Food containers Bleach Milk Cooking oils Pill bottles Cosmetics lotions Shampoo conditioner Soft drinks Deter...   \n",
       "462564                                  Catalogs Cereal boxes Shredded paper Mail Toilet paper rolls Frozen food boxes Greeting cards Boxboard e g pop boxes    \n",
       "462565  Office paper white and colored Phonebooks Corrugated cardboard Tissue boxes Snack boxes Pop and beer cartons Wrapping paper tubes Paper gift shopp...   \n",
       "462566  Newspaper advertisements Magazines Shoe boxes Paperback books Paper egg cartons Paper towel rolls Tissue paper Kraft paper bags Gable Top Containe...   \n",
       "462567                                                           Aluminum and metal cans foil and foil trays lids and aerosol spray cans must be empty Please   \n",
       "\n",
       "       yes_no  num_of_words  \n",
       "id                           \n",
       "462563    yes            26  \n",
       "462564    yes            19  \n",
       "462565    yes            30  \n",
       "462566    yes            26  \n",
       "462567    yes            17  "
      ]
     },
     "execution_count": 18,
     "metadata": {},
     "output_type": "execute_result"
    }
   ],
   "source": [
    "pd.set_option('display.max_colwidth', 150)\n",
    "df[df['num_of_words'] > 15].head()\n",
    "df[df['num_of_words'] > 15].head()"
   ]
  },
  {
   "cell_type": "markdown",
   "metadata": {},
   "source": [
    "We'll separate the yes and no rows in two different dataframes for later analysis"
   ]
  },
  {
   "cell_type": "code",
   "execution_count": 19,
   "metadata": {},
   "outputs": [
    {
     "name": "stdout",
     "output_type": "stream",
     "text": [
      "(681, 3)\n",
      "(127, 3)\n"
     ]
    }
   ],
   "source": [
    "df_yes = df.loc[df['yes_no'] == 'yes']\n",
    "df_no = df.loc[df['yes_no'] == 'no']\n",
    "print(df_yes.shape)\n",
    "print(df_no.shape)"
   ]
  },
  {
   "cell_type": "markdown",
   "metadata": {},
   "source": [
    "Let's run the word-count analysis for df_no, it'd be interesting to see what is being excluded. "
   ]
  },
  {
   "cell_type": "code",
   "execution_count": 20,
   "metadata": {},
   "outputs": [
    {
     "data": {
      "image/png": "[encoded data removed]",
      "text/plain": [
       "<Figure size 1440x640 with 1 Axes>"
      ]
     },
     "metadata": {
      "needs_background": "light"
     },
     "output_type": "display_data"
    }
   ],
   "source": [
    "word_count = plot_word_count(df_no, 20)"
   ]
  },
  {
   "cell_type": "markdown",
   "metadata": {},
   "source": [
    "As expected, many of the most common words are of non-recyclable materials (food, waste, oil, etc.), though the most common words are recyclable materials, which probably means they go in a different bin. Let's take a look at the most commonly used bi-grams."
   ]
  },
  {
   "cell_type": "code",
   "execution_count": 21,
   "metadata": {
    "scrolled": true
   },
   "outputs": [
    {
     "data": {
      "text/html": [
       "<div>\n",
       "<style scoped>\n",
       "    .dataframe tbody tr th:only-of-type {\n",
       "        vertical-align: middle;\n",
       "    }\n",
       "\n",
       "    .dataframe tbody tr th {\n",
       "        vertical-align: top;\n",
       "    }\n",
       "\n",
       "    .dataframe thead th {\n",
       "        text-align: right;\n",
       "    }\n",
       "</style>\n",
       "<table border=\"1\" class=\"dataframe\">\n",
       "  <thead>\n",
       "    <tr style=\"text-align: right;\">\n",
       "      <th></th>\n",
       "      <th>count</th>\n",
       "    </tr>\n",
       "  </thead>\n",
       "  <tbody>\n",
       "    <tr>\n",
       "      <th>plastic bags</th>\n",
       "      <td>27</td>\n",
       "    </tr>\n",
       "    <tr>\n",
       "      <th>light bulbs</th>\n",
       "      <td>12</td>\n",
       "    </tr>\n",
       "    <tr>\n",
       "      <th>window glass</th>\n",
       "      <td>8</td>\n",
       "    </tr>\n",
       "    <tr>\n",
       "      <th>food waste</th>\n",
       "      <td>8</td>\n",
       "    </tr>\n",
       "    <tr>\n",
       "      <th>motor oil</th>\n",
       "      <td>6</td>\n",
       "    </tr>\n",
       "    <tr>\n",
       "      <th>waxed paper</th>\n",
       "      <td>6</td>\n",
       "    </tr>\n",
       "    <tr>\n",
       "      <th>wrapping paper</th>\n",
       "      <td>5</td>\n",
       "    </tr>\n",
       "    <tr>\n",
       "      <th>bags plastic</th>\n",
       "      <td>5</td>\n",
       "    </tr>\n",
       "    <tr>\n",
       "      <th>aerosol cans</th>\n",
       "      <td>5</td>\n",
       "    </tr>\n",
       "    <tr>\n",
       "      <th>pizza boxes</th>\n",
       "      <td>5</td>\n",
       "    </tr>\n",
       "  </tbody>\n",
       "</table>\n",
       "</div>"
      ],
      "text/plain": [
       "                count\n",
       "plastic bags       27\n",
       "light bulbs        12\n",
       "window glass        8\n",
       "food waste          8\n",
       "motor oil           6\n",
       "waxed paper         6\n",
       "wrapping paper      5\n",
       "bags plastic        5\n",
       "aerosol cans        5\n",
       "pizza boxes         5"
      ]
     },
     "execution_count": 21,
     "metadata": {},
     "output_type": "execute_result"
    }
   ],
   "source": [
    "word_count[word_count.index.str.contains(' ')][:10]"
   ]
  },
  {
   "cell_type": "markdown",
   "metadata": {},
   "source": [
    "# LDA"
   ]
  },
  {
   "cell_type": "markdown",
   "metadata": {},
   "source": [
    "We'll apply LDA to df_yes and df_no separately to see which words tend to appear together on each."
   ]
  },
  {
   "cell_type": "code",
   "execution_count": 22,
   "metadata": {},
   "outputs": [],
   "source": [
    "def tokenize(doc):\n",
    "# run the clean_data function on the text\n",
    "    text = clean_text(doc)\n",
    "# Instantiatie language model\n",
    "    doc = nlp(text)\n",
    "    STOP_WORDS = nlp.Defaults.stop_words.union('', 'the', 'this', '-pron-', 'no ', 'non' )\n",
    "    return [token.lemma_.lower().lstrip().rstrip() for token in doc \n",
    "            if (token.text not in STOP_WORDS) \n",
    "            and (token.is_punct != True)\n",
    "            and (token.text not in '')\n",
    "            and (len(token.text)>1)]\n",
    "\n",
    "def apply_lda(df):\n",
    "    # prepare data for LDA model\n",
    "    lemmas = [tokenize(text) for text in df['text'] ]\n",
    "    #Prepare bag of words\n",
    "    id2words = corpora.Dictionary(lemmas)\n",
    "    corpus = [id2words.doc2bow(lemma) for lemma in lemmas]\n",
    "    # prepare model\n",
    "    lda_multicore = gensim.models.ldamulticore.LdaMulticore(corpus=corpus,\n",
    "                                                        id2word=id2words,\n",
    "                                                        num_topics=3,\n",
    "                                                        chunksize=25,\n",
    "                                                        passes=100,\n",
    "                                                        per_word_topics=True,\n",
    "                                                        workers=6)\n",
    "    return lda_multicore, corpus, id2words"
   ]
  },
  {
   "cell_type": "markdown",
   "metadata": {},
   "source": [
    "## df_yes LDA"
   ]
  },
  {
   "cell_type": "code",
   "execution_count": 23,
   "metadata": {
    "scrolled": true
   },
   "outputs": [],
   "source": [
    "lda_multicore, corpus, id2words = apply_lda(df_yes)"
   ]
  },
  {
   "cell_type": "code",
   "execution_count": 24,
   "metadata": {
    "scrolled": false
   },
   "outputs": [
    {
     "name": "stderr",
     "output_type": "stream",
     "text": [
      "c:\\users\\ncarv\\.virtualenvs\\recycling-partnership-takehome-7fp9ueh8\\lib\\site-packages\\pyLDAvis\\_prepare.py:246: FutureWarning: In a future version of pandas all arguments of DataFrame.drop except for the argument 'labels' will be keyword-only\n",
      "  default_term_info = default_term_info.sort_values(\n"
     ]
    },
    {
     "data": {
      "text/html": [
       "\n",
       "<link rel=\"stylesheet\" type=\"text/css\" href=\"https://cdn.jsdelivr.net/gh/bmabey/pyLDAvis@3.3.1/pyLDAvis/js/ldavis.v1.0.0.css\">\n",
       "\n",
       "\n",
       "<div id=\"ldavis_el2385215829011122722241814876\"></div>\n",
       "<script type=\"text/javascript\">\n",
       "\n",
       "var ldavis_el2385215829011122722241814876_data = {\"mdsDat\": {\"x\": [0.11256912653234322, -0.2695565570797937, 0.15698743054745057], \"y\": [0.20148222215399259, -0.020981420104077116, -0.18050080204991545], \"topics\": [1, 2, 3], \"cluster\": [1, 1, 1], \"Freq\": [36.12663495881412, 35.800095373622916, 28.07326966756297]}, \"tinfo\": {\"Term\": [\"paper\", \"can\", \"plastic\", \"aluminum\", \"box\", \"cardboard\", \"bottle\", \"glass\", \"steel\", \"milk\", \"tin\", \"magazine\", \"mail\", \"container\", \"newspaper\", \"food\", \"office\", \"junk\", \"foil\", \"bag\", \"cans\", \"juice\", \"jug\", \"beverage\", \"cereal\", \"carton\", \"catalog\", \"jar\", \"soda\", \"detergent\", \"plastic\", \"milk\", \"juice\", \"jug\", \"water\", \"detergent\", \"soda\", \"tub\", \"shampoo\", \"cup\", \"rinse\", \"yogurt\", \"cap\", \"laundry\", \"household\", \"hdpe\", \"butter\", \"soap\", \"recycle\", \"wine\", \"pot\", \"dairy\", \"rigid\", \"label\", \"cream\", \"piece\", \"lid\", \"vegetable\", \"ice\", \"lotion\", \"container\", \"bottle\", \"recyclable\", \"carton\", \"remove\", \"clean\", \"soup\", \"metal\", \"food\", \"pop\", \"bottles\", \"jar\", \"glass\", \"beverage\", \"paper\", \"magazine\", \"mail\", \"office\", \"junk\", \"bag\", \"cereal\", \"box\", \"mixed\", \"envelope\", \"white\", \"gift\", \"egg\", \"paperboard\", \"magazines\", \"computer\", \"printer\", \"wax\", \"packing\", \"place\", \"coat\", \"card\", \"roll\", \"towel\", \"copy\", \"cracker\", \"liner\", \"cart\", \"copi\", \"poly\", \"brochure\", \"etc\", \"flatten\", \"aseptic\", \"include\", \"non\", \"book\", \"shoe\", \"carton\", \"shred\", \"accept\", \"newspaper\", \"drink\", \"corrugate\", \"type\", \"can\", \"aluminum\", \"cardboard\", \"tin\", \"steel\", \"cans\", \"foil\", \"insert\", \"aerosol\", \"jars\", \"empty\", \"pan\", \"glass\", \"pie\", \"green\", \"glossy\", \"clear\", \"bi\", \"catalog\", \"rinsed\", \"completely\", \"newspaper\", \"scrap\", \"cat\", \"beverage\", \"paint\", \"ea\", \"we\", \"process\", \"canssteel\", \"jar\", \"phone\", \"food\", \"brown\", \"corrugated\", \"metal\", \"book\", \"all\", \"bottle\", \"bottles\", \"clean\", \"corrugate\", \"container\", \"include\"], \"Freq\": [212.0, 108.0, 117.0, 84.0, 106.0, 66.0, 131.0, 68.0, 43.0, 54.0, 42.0, 50.0, 49.0, 76.0, 54.0, 66.0, 37.0, 31.0, 25.0, 31.0, 24.0, 30.0, 27.0, 34.0, 25.0, 65.0, 28.0, 35.0, 24.0, 23.0, 116.89311319196827, 53.43770988489174, 30.29068523251267, 27.031962033580523, 22.210538804577588, 22.44899201994723, 23.888394637915088, 14.753302085737626, 14.449981573092076, 17.373498273327964, 13.580074055257663, 11.57924263412895, 11.921095074475025, 9.984207389347226, 9.70295193148338, 8.813929073525955, 8.562458136465494, 7.977322612021964, 8.326812600222269, 7.579538560956185, 7.67329258234541, 6.340725788604717, 6.715695630034827, 6.191117450250564, 5.877597465126731, 5.882966408246817, 25.464954693414626, 5.321750328069188, 4.363113213221066, 4.257751585692862, 65.33287257432482, 100.95575930756077, 8.593685474024664, 42.27841280864614, 10.161169789326863, 18.34354942961294, 8.899815647687776, 15.612465111028039, 22.40882833520147, 9.34521331232486, 9.746804576286056, 10.847926782387022, 11.031228591518913, 8.780790532269675, 211.42462124856087, 49.64320885516871, 49.07257131356202, 36.98155698205831, 30.85606356618771, 30.607654476033368, 24.982899339225018, 104.21381163220477, 16.451236477095275, 15.555224192351268, 15.680222184270344, 14.253023425235543, 14.101922865263312, 12.399621945503357, 12.860964148615, 11.578619192320208, 8.278820420479214, 7.924306145675208, 7.16701481712421, 7.965876999190844, 7.2119329426717425, 7.699562982364807, 7.0741481490067235, 6.9444202450144115, 6.618126360485973, 6.992791697369738, 6.480203433748642, 5.766488179568686, 5.766488179568686, 5.766488179568686, 6.158863354709223, 19.027084399563922, 15.736998150286045, 8.696779673657405, 16.737568660201646, 8.765206607862362, 19.977248776608814, 9.654120423871408, 22.49987422271346, 7.978146620239506, 9.264541297791741, 13.559844172692312, 9.971003583686661, 8.84165638946628, 8.16933523084213, 107.7182590031726, 83.86102017871609, 65.66131392283327, 41.76732656659931, 42.471569384227095, 23.744042422230763, 24.320612018844756, 13.320900250963842, 9.206165340807305, 6.369124681867064, 3.693054183834331, 10.45740500245672, 57.26666462687323, 9.208738312997578, 12.203790882197588, 3.248734177066977, 15.233054946350558, 2.8712447101388596, 22.77248976594287, 2.4318488752089173, 2.0445389145144603, 40.99591130979495, 5.879785105524257, 1.8350996455972333, 25.590220812759213, 1.710248120841186, 4.458672809456234, 3.8122728400034305, 1.5628898914716218, 1.543037912005542, 24.614290202193853, 16.327739620141642, 43.32008345496285, 12.261083149232496, 5.722528864670729, 16.49278870174704, 15.300207877757131, 5.602762450854578, 30.55159088738326, 8.406489485624137, 11.398050163994489, 7.590708426220442, 10.842135188909523, 6.839817910265912], \"Total\": [212.0, 108.0, 117.0, 84.0, 106.0, 66.0, 131.0, 68.0, 43.0, 54.0, 42.0, 50.0, 49.0, 76.0, 54.0, 66.0, 37.0, 31.0, 25.0, 31.0, 24.0, 30.0, 27.0, 34.0, 25.0, 65.0, 28.0, 35.0, 24.0, 23.0, 117.54794066584176, 54.05812323452915, 30.913018891133753, 27.654259562046605, 22.809829627878923, 23.06230161879556, 24.551529148962885, 15.349137239089572, 15.047901926961169, 18.12240505661686, 14.192214847863353, 12.180095845592728, 12.567405180274132, 10.58380432065736, 10.33294299321567, 9.412287367101394, 9.162985615940837, 8.578578224498338, 8.96016468456371, 8.202483403628925, 8.349543866546684, 6.942869438787218, 7.356266163710409, 6.790602463605564, 6.476320716987382, 6.524057170164404, 28.289152297428057, 5.984412911265172, 4.957283545631786, 4.8525162622338645, 76.49730982292043, 131.92713701086151, 10.32892721413688, 65.06671611657725, 13.271632269813804, 31.222664686241387, 11.606254039658499, 32.43337955624323, 66.38393984197171, 13.736137537628927, 18.474203518461593, 35.78508307400683, 68.62812549121305, 34.700256616950256, 212.06400398067768, 50.25651316201661, 49.702529891080694, 37.59638326203528, 31.46406046394317, 31.264052443332837, 25.61180590570729, 106.95510972819018, 17.055553159558293, 16.160097295441574, 16.335699766324968, 14.873173808793117, 14.729591099043436, 13.018647406015186, 13.504525900603456, 12.214324953843343, 8.885925733153305, 8.536039216403704, 7.774179294081273, 8.645150744816362, 7.827295739170779, 8.360669742067685, 7.687869214038949, 7.595953418365908, 7.271923367040955, 7.705348763355708, 7.152481925676598, 6.375614515553606, 6.375614515553606, 6.375614515553606, 6.813926047329401, 23.88596915544535, 21.071961661305117, 10.447746019058865, 23.9781862753621, 10.65790405873374, 35.623682282043106, 12.378536666498645, 65.06671611657725, 9.743041880709402, 13.733716587259218, 54.879552688027545, 20.170550686643125, 16.76048673480376, 12.05177869213741, 108.42733644816872, 84.55883307302817, 66.43208210749059, 42.43366785549397, 43.16327890552183, 24.39086529595644, 25.0518003503592, 13.971942393684708, 9.848609350547065, 7.017565745274952, 4.378848910439588, 12.453390340921487, 68.62812549121305, 11.050200810602844, 14.738531039602925, 3.9343095663560934, 18.576462354771493, 3.5029233700401177, 28.36283894486126, 3.079275479596684, 2.6771818502815474, 54.879552688027545, 7.89701173777508, 2.4666302280482104, 34.700256616950256, 2.343075527165305, 6.108981156535631, 5.32108158124301, 2.194383025901401, 2.1753221675334022, 35.78508307400683, 23.577005835600573, 66.38393984197171, 20.699160305319722, 9.05123483723397, 32.43337955624323, 35.623682282043106, 9.336280798085253, 131.92713701086151, 18.474203518461593, 31.222664686241387, 16.76048673480376, 76.49730982292043, 23.9781862753621], \"Category\": [\"Default\", \"Default\", \"Default\", \"Default\", \"Default\", \"Default\", \"Default\", \"Default\", \"Default\", \"Default\", \"Default\", \"Default\", \"Default\", \"Default\", \"Default\", \"Default\", \"Default\", \"Default\", \"Default\", \"Default\", \"Default\", \"Default\", \"Default\", \"Default\", \"Default\", \"Default\", \"Default\", \"Default\", \"Default\", \"Default\", \"Topic1\", \"Topic1\", \"Topic1\", \"Topic1\", \"Topic1\", \"Topic1\", \"Topic1\", \"Topic1\", \"Topic1\", \"Topic1\", \"Topic1\", \"Topic1\", \"Topic1\", \"Topic1\", \"Topic1\", \"Topic1\", \"Topic1\", \"Topic1\", \"Topic1\", \"Topic1\", \"Topic1\", \"Topic1\", \"Topic1\", \"Topic1\", \"Topic1\", \"Topic1\", \"Topic1\", \"Topic1\", \"Topic1\", \"Topic1\", \"Topic1\", \"Topic1\", \"Topic1\", \"Topic1\", \"Topic1\", \"Topic1\", \"Topic1\", \"Topic1\", \"Topic1\", \"Topic1\", \"Topic1\", \"Topic1\", \"Topic1\", \"Topic1\", \"Topic2\", \"Topic2\", \"Topic2\", \"Topic2\", \"Topic2\", \"Topic2\", \"Topic2\", \"Topic2\", \"Topic2\", \"Topic2\", \"Topic2\", \"Topic2\", \"Topic2\", \"Topic2\", \"Topic2\", \"Topic2\", \"Topic2\", \"Topic2\", \"Topic2\", \"Topic2\", \"Topic2\", \"Topic2\", \"Topic2\", \"Topic2\", \"Topic2\", \"Topic2\", \"Topic2\", \"Topic2\", \"Topic2\", \"Topic2\", \"Topic2\", \"Topic2\", \"Topic2\", \"Topic2\", \"Topic2\", \"Topic2\", \"Topic2\", \"Topic2\", \"Topic2\", \"Topic2\", \"Topic2\", \"Topic2\", \"Topic2\", \"Topic2\", \"Topic2\", \"Topic3\", \"Topic3\", \"Topic3\", \"Topic3\", \"Topic3\", \"Topic3\", \"Topic3\", \"Topic3\", \"Topic3\", \"Topic3\", \"Topic3\", \"Topic3\", \"Topic3\", \"Topic3\", \"Topic3\", \"Topic3\", \"Topic3\", \"Topic3\", \"Topic3\", \"Topic3\", \"Topic3\", \"Topic3\", \"Topic3\", \"Topic3\", \"Topic3\", \"Topic3\", \"Topic3\", \"Topic3\", \"Topic3\", \"Topic3\", \"Topic3\", \"Topic3\", \"Topic3\", \"Topic3\", \"Topic3\", \"Topic3\", \"Topic3\", \"Topic3\", \"Topic3\", \"Topic3\", \"Topic3\", \"Topic3\", \"Topic3\", \"Topic3\"], \"logprob\": [30.0, 29.0, 28.0, 27.0, 26.0, 25.0, 24.0, 23.0, 22.0, 21.0, 20.0, 19.0, 18.0, 17.0, 16.0, 15.0, 14.0, 13.0, 12.0, 11.0, 10.0, 9.0, 8.0, 7.0, 6.0, 5.0, 4.0, 3.0, 2.0, 1.0, -2.4962, -3.279, -3.8467, -3.9605, -4.1569, -4.1462, -4.0841, -4.566, -4.5868, -4.4025, -4.6489, -4.8083, -4.7792, -4.9565, -4.9851, -5.0812, -5.1101, -5.1809, -5.138, -5.232, -5.2197, -5.4105, -5.353, -5.4344, -5.4863, -5.4854, -4.0202, -5.5857, -5.7843, -5.8088, -3.078, -2.6428, -5.1065, -3.5132, -4.9389, -4.3482, -5.0715, -4.5094, -4.148, -5.0226, -4.9806, -4.8735, -4.8568, -5.0849, -1.8945, -3.3435, -3.3551, -3.638, -3.8191, -3.8272, -4.0302, -2.602, -4.448, -4.504, -4.496, -4.5914, -4.6021, -4.7307, -4.6942, -4.7993, -5.1347, -5.1785, -5.2789, -5.1732, -5.2727, -5.2072, -5.292, -5.3105, -5.3586, -5.3035, -5.3797, -5.4963, -5.4963, -5.4963, -5.4305, -4.3025, -4.4924, -5.0855, -4.4308, -5.0776, -4.2538, -4.981, -4.1349, -5.1717, -5.0222, -4.6413, -4.9487, -5.0689, -5.148, -2.3258, -2.5761, -2.8208, -3.2732, -3.2564, -3.8379, -3.814, -4.4159, -4.7854, -5.1538, -5.6988, -4.658, -2.9576, -4.7851, -4.5035, -5.827, -4.2818, -5.9505, -3.8797, -6.1166, -6.2901, -3.2918, -5.2338, -6.3982, -3.7631, -6.4686, -5.5104, -5.6671, -6.5587, -6.5715, -3.802, -4.2124, -3.2367, -4.4988, -5.2609, -4.2024, -4.2774, -5.282, -3.5859, -4.8763, -4.5718, -4.9784, -4.6218, -5.0825], \"loglift\": [30.0, 29.0, 28.0, 27.0, 26.0, 25.0, 24.0, 23.0, 22.0, 21.0, 20.0, 19.0, 18.0, 17.0, 16.0, 15.0, 14.0, 13.0, 12.0, 11.0, 10.0, 9.0, 8.0, 7.0, 6.0, 5.0, 4.0, 3.0, 2.0, 1.0, 1.0126, 1.0066, 0.9978, 0.9954, 0.9915, 0.9912, 0.9908, 0.9785, 0.9776, 0.9759, 0.974, 0.9676, 0.9653, 0.9598, 0.9552, 0.9525, 0.9504, 0.9455, 0.9448, 0.9392, 0.9337, 0.9274, 0.927, 0.9257, 0.9211, 0.9147, 0.913, 0.9008, 0.8905, 0.8874, 0.8604, 0.7506, 0.8342, 0.587, 0.7511, 0.4863, 0.7526, 0.287, -0.0679, 0.633, 0.3787, -0.1754, -0.8098, -0.356, 1.0242, 1.0149, 1.0145, 1.0107, 1.0077, 1.006, 1.0024, 1.0013, 0.9911, 0.9891, 0.9863, 0.9846, 0.9837, 0.9785, 0.9784, 0.9738, 0.9565, 0.9529, 0.9459, 0.9454, 0.9453, 0.9448, 0.944, 0.9375, 0.933, 0.9302, 0.9285, 0.9268, 0.9268, 0.9268, 0.9261, 0.7998, 0.7353, 0.8438, 0.6677, 0.8317, 0.4488, 0.7786, -0.0347, 0.8274, 0.6336, -0.3708, 0.3227, 0.3877, 0.6384, 1.2638, 1.2621, 1.2587, 1.2545, 1.2542, 1.2435, 1.2407, 1.2226, 1.2029, 1.1734, 1.1, 1.0957, 1.0894, 1.0881, 1.0816, 1.0789, 1.0719, 1.0715, 1.0508, 1.0343, 1.0008, 0.9787, 0.9754, 0.9746, 0.9658, 0.9555, 0.9554, 0.9369, 0.931, 0.9269, 0.8961, 0.9029, 0.8435, 0.7467, 0.8119, 0.5941, 0.4252, 0.7597, -0.1925, 0.483, 0.2627, 0.4783, -0.6835, 0.016]}, \"token.table\": {\"Topic\": [1, 2, 3, 3, 1, 2, 3, 3, 1, 2, 2, 1, 3, 3, 2, 3, 1, 3, 1, 3, 1, 2, 2, 2, 3, 1, 3, 3, 3, 1, 2, 3, 2, 1, 2, 3, 2, 3, 2, 1, 2, 3, 1, 3, 2, 3, 2, 1, 3, 2, 2, 2, 3, 2, 3, 2, 1, 1, 1, 1, 1, 2, 3, 1, 3, 2, 3, 2, 1, 2, 1, 2, 3, 1, 2, 3, 2, 1, 3, 3, 2, 3, 1, 1, 1, 2, 3, 3, 1, 3, 3, 1, 1, 2, 1, 1, 1, 3, 2, 1, 2, 2, 2, 1, 3, 1, 2, 2, 3, 1, 2, 2, 2, 3, 1, 3, 2, 2, 2, 3, 2, 3, 1, 2, 1, 2, 1, 2, 3, 1, 2, 3, 1, 2, 1, 1, 2, 1, 1, 3, 2, 1, 3, 1, 1, 2, 1, 2, 1, 1, 1, 3, 3, 3, 2, 1, 1, 2, 1, 1, 2, 1, 3, 2, 1, 1], \"Freq\": [0.07281350198588639, 0.6553215178729775, 0.21844050595765918, 0.9138346013795413, 0.32132709639744983, 0.10710903213248328, 0.6426541927948997, 0.9933911922300827, 0.09571442473580347, 0.8614298226222312, 0.9915541197414686, 0.25936407616085794, 0.7492739977980339, 0.856427527264361, 0.5614242750554015, 0.4210682062915511, 0.7655741061953365, 0.2349781910104498, 0.5412953251276477, 0.4330362601021181, 0.018699433856715117, 0.9723705605491861, 0.8805496212204409, 0.38648910786704643, 0.5797336618005696, 0.982212608120077, 0.9960587757463452, 0.9839749311386161, 0.9194040449961488, 0.9548510474409837, 0.956861142325365, 0.9934958819024902, 0.941085755006474, 0.6454913127127915, 0.33811449713527175, 0.810822788619823, 0.1762870074367465, 0.8109202342090339, 0.9761123480335702, 0.5765042856169768, 0.032028015867609824, 0.35230817454370805, 0.16149468842378534, 0.8074734421189267, 0.8943063138612899, 0.7470542203883792, 0.9824529841269776, 0.8497030830295217, 0.14379590635884212, 0.941085755006474, 0.9626064036547177, 0.536977245494379, 0.47731310710611463, 0.3314464881254579, 0.6628929762509158, 0.9084598523677303, 0.9264519566274733, 0.9380653366310756, 0.86419600035689, 0.9539377449677532, 0.2974633708921582, 0.49577228482026364, 0.19830891392810546, 0.16369341701605353, 0.6547736680642141, 0.9504676610411258, 0.913482077553218, 0.9900930487908179, 0.20932790993159833, 0.7954460577400737, 0.23728213254970013, 0.7593028241590404, 0.958014979536426, 0.3314054581932232, 0.015063884463328328, 0.6477470319231181, 0.9412920322173004, 0.16028413891923082, 0.8305632653087416, 0.7625226102323619, 0.1356987337900862, 0.8141924027405173, 0.9561968997522903, 0.967778493171377, 0.8068935260975103, 0.7089777268711822, 0.2919320051822515, 0.9304361293298758, 0.3073906514971893, 0.6986151170390665, 0.8549973335183789, 0.9763414543579201, 0.9704649068941106, 0.9852510941976174, 0.8835740322242656, 0.9448398418026401, 0.883730969989967, 0.07069847759919735, 0.8388696486545014, 0.8243145996503252, 0.9948959220232875, 0.9626402359981471, 0.9858653092182584, 0.4933189269485207, 0.4933189269485207, 0.9804261936741955, 0.9381108809732894, 0.25510412010071326, 0.7470906374378031, 0.18765415685657982, 0.8444437058546093, 0.9841372171924445, 0.9004165887104404, 0.8535789720870143, 0.16059883656164353, 0.8029941828082175, 0.9949826280712184, 0.9217547434655519, 0.29689944723304135, 0.6786273079612374, 0.18099218595927852, 0.8144648368167533, 0.9196731180466957, 0.9253742631147068, 0.9953385770712954, 0.941085755006474, 0.6552060195484575, 0.2184020065161525, 0.0728006688387175, 0.9581361722108955, 0.9003001195645913, 0.9114179140072626, 0.8713392798123294, 0.09681547553470327, 0.8928407324680259, 0.7534868203623228, 0.22604604610869683, 0.9515697018321706, 0.986456317782401, 0.6495034345747965, 0.9105253751217802, 0.2532603554877688, 0.7597810664633066, 0.9303622570078255, 0.1615699863306794, 0.807849931653397, 0.10263735004361788, 0.821098800348943, 0.93255546439548, 0.9775358534445426, 0.7754439950432805, 0.17232088778739568, 0.973049338812557, 0.9897800996847407, 0.9215433026583629, 0.9772536245098893, 0.33190121576075765, 0.6638024315215153, 0.8355038454295, 0.9644964630998768, 0.9372028170426399, 0.18793171740216, 0.75172686960864, 0.9794499304512811, 0.9753143781382914, 0.9852139221336346], \"Term\": [\"accept\", \"accept\", \"accept\", \"aerosol\", \"all\", \"all\", \"all\", \"aluminum\", \"aseptic\", \"aseptic\", \"bag\", \"beverage\", \"beverage\", \"bi\", \"book\", \"book\", \"bottle\", \"bottle\", \"bottles\", \"bottles\", \"box\", \"box\", \"brochure\", \"brown\", \"brown\", \"butter\", \"can\", \"cans\", \"canssteel\", \"cap\", \"card\", \"cardboard\", \"cart\", \"carton\", \"carton\", \"cat\", \"catalog\", \"catalog\", \"cereal\", \"clean\", \"clean\", \"clean\", \"clear\", \"clear\", \"coat\", \"completely\", \"computer\", \"container\", \"container\", \"copi\", \"copy\", \"corrugate\", \"corrugate\", \"corrugated\", \"corrugated\", \"cracker\", \"cream\", \"cup\", \"dairy\", \"detergent\", \"drink\", \"drink\", \"drink\", \"ea\", \"ea\", \"egg\", \"empty\", \"envelope\", \"etc\", \"etc\", \"flatten\", \"flatten\", \"foil\", \"food\", \"food\", \"food\", \"gift\", \"glass\", \"glass\", \"glossy\", \"green\", \"green\", \"hdpe\", \"household\", \"ice\", \"include\", \"include\", \"insert\", \"jar\", \"jar\", \"jars\", \"jug\", \"juice\", \"junk\", \"label\", \"laundry\", \"lid\", \"lid\", \"liner\", \"lotion\", \"magazine\", \"magazines\", \"mail\", \"metal\", \"metal\", \"milk\", \"mixed\", \"newspaper\", \"newspaper\", \"non\", \"non\", \"office\", \"packing\", \"paint\", \"pan\", \"pan\", \"paper\", \"paperboard\", \"phone\", \"phone\", \"pie\", \"pie\", \"piece\", \"place\", \"plastic\", \"poly\", \"pop\", \"pop\", \"pop\", \"pot\", \"printer\", \"process\", \"recyclable\", \"recyclable\", \"recycle\", \"remove\", \"remove\", \"rigid\", \"rinse\", \"rinsed\", \"roll\", \"scrap\", \"scrap\", \"shampoo\", \"shoe\", \"shoe\", \"shred\", \"shred\", \"soap\", \"soda\", \"soup\", \"soup\", \"steel\", \"tin\", \"towel\", \"tub\", \"type\", \"type\", \"vegetable\", \"water\", \"wax\", \"we\", \"we\", \"white\", \"wine\", \"yogurt\"]}, \"R\": 30, \"lambda.step\": 0.01, \"plot.opts\": {\"xlab\": \"PC1\", \"ylab\": \"PC2\"}, \"topic.order\": [3, 2, 1]};\n",
       "\n",
       "function LDAvis_load_lib(url, callback){\n",
       "  var s = document.createElement('script');\n",
       "  s.src = url;\n",
       "  s.async = true;\n",
       "  s.onreadystatechange = s.onload = callback;\n",
       "  s.onerror = function(){console.warn(\"failed to load library \" + url);};\n",
       "  document.getElementsByTagName(\"head\")[0].appendChild(s);\n",
       "}\n",
       "\n",
       "if(typeof(LDAvis) !== \"undefined\"){\n",
       "   // already loaded: just create the visualization\n",
       "   !function(LDAvis){\n",
       "       new LDAvis(\"#\" + \"ldavis_el2385215829011122722241814876\", ldavis_el2385215829011122722241814876_data);\n",
       "   }(LDAvis);\n",
       "}else if(typeof define === \"function\" && define.amd){\n",
       "   // require.js is available: use it to load d3/LDAvis\n",
       "   require.config({paths: {d3: \"https://d3js.org/d3.v5\"}});\n",
       "   require([\"d3\"], function(d3){\n",
       "      window.d3 = d3;\n",
       "      LDAvis_load_lib(\"https://cdn.jsdelivr.net/gh/bmabey/pyLDAvis@3.3.1/pyLDAvis/js/ldavis.v3.0.0.js\", function(){\n",
       "        new LDAvis(\"#\" + \"ldavis_el2385215829011122722241814876\", ldavis_el2385215829011122722241814876_data);\n",
       "      });\n",
       "    });\n",
       "}else{\n",
       "    // require.js not available: dynamically load d3 & LDAvis\n",
       "    LDAvis_load_lib(\"https://d3js.org/d3.v5.js\", function(){\n",
       "         LDAvis_load_lib(\"https://cdn.jsdelivr.net/gh/bmabey/pyLDAvis@3.3.1/pyLDAvis/js/ldavis.v3.0.0.js\", function(){\n",
       "                 new LDAvis(\"#\" + \"ldavis_el2385215829011122722241814876\", ldavis_el2385215829011122722241814876_data);\n",
       "            })\n",
       "         });\n",
       "}\n",
       "</script>"
      ],
      "text/plain": [
       "PreparedData(topic_coordinates=              x         y  topics  cluster       Freq\n",
       "topic                                                \n",
       "2      0.112569  0.201482       1        1  36.126635\n",
       "1     -0.269557 -0.020981       2        1  35.800095\n",
       "0      0.156987 -0.180501       3        1  28.073270, topic_info=          Term        Freq       Total Category  logprob  loglift\n",
       "21       paper  212.000000  212.000000  Default  30.0000  30.0000\n",
       "1          can  108.000000  108.000000  Default  29.0000  29.0000\n",
       "52     plastic  117.000000  117.000000  Default  28.0000  28.0000\n",
       "0     aluminum   84.000000   84.000000  Default  27.0000  27.0000\n",
       "5          box  106.000000  106.000000  Default  26.0000  26.0000\n",
       "..         ...         ...         ...      ...      ...      ...\n",
       "119    bottles    8.406489   18.474204   Topic3  -4.8763   0.4830\n",
       "101      clean   11.398050   31.222665   Topic3  -4.5718   0.2627\n",
       "8    corrugate    7.590708   16.760487   Topic3  -4.9784   0.4783\n",
       "31   container   10.842135   76.497310   Topic3  -4.6218  -0.6835\n",
       "11     include    6.839818   23.978186   Topic3  -5.0825   0.0160\n",
       "\n",
       "[163 rows x 6 columns], token_table=      Topic      Freq     Term\n",
       "term                          \n",
       "210       1  0.072814   accept\n",
       "210       2  0.655322   accept\n",
       "210       3  0.218441   accept\n",
       "92        3  0.913835  aerosol\n",
       "100       1  0.321327      all\n",
       "...     ...       ...      ...\n",
       "264       1  0.187932       we\n",
       "264       3  0.751727       we\n",
       "78        2  0.979450    white\n",
       "35        1  0.975314     wine\n",
       "114       1  0.985214   yogurt\n",
       "\n",
       "[166 rows x 3 columns], R=30, lambda_step=0.01, plot_opts={'xlab': 'PC1', 'ylab': 'PC2'}, topic_order=[3, 2, 1])"
      ]
     },
     "execution_count": 24,
     "metadata": {},
     "output_type": "execute_result"
    }
   ],
   "source": [
    "# run visualization\n",
    "pyLDAvis.enable_notebook()\n",
    "vis = pyLDAvis.gensim_models.prepare(lda_multicore, corpus, id2words)\n",
    "vis"
   ]
  },
  {
   "cell_type": "markdown",
   "metadata": {},
   "source": [
    "While the results are different each time the LDA is run, it appears the 3 topics are separated into paper, metal, and plastic; with some overlap between them."
   ]
  },
  {
   "cell_type": "markdown",
   "metadata": {},
   "source": [
    "## df_no LDA"
   ]
  },
  {
   "cell_type": "code",
   "execution_count": 25,
   "metadata": {},
   "outputs": [],
   "source": [
    "lda_multicore, corpus, id2words = apply_lda(df_no)"
   ]
  },
  {
   "cell_type": "code",
   "execution_count": 26,
   "metadata": {},
   "outputs": [
    {
     "name": "stderr",
     "output_type": "stream",
     "text": [
      "c:\\users\\ncarv\\.virtualenvs\\recycling-partnership-takehome-7fp9ueh8\\lib\\site-packages\\pyLDAvis\\_prepare.py:246: FutureWarning: In a future version of pandas all arguments of DataFrame.drop except for the argument 'labels' will be keyword-only\n",
      "  default_term_info = default_term_info.sort_values(\n"
     ]
    },
    {
     "data": {
      "text/html": [
       "\n",
       "<link rel=\"stylesheet\" type=\"text/css\" href=\"https://cdn.jsdelivr.net/gh/bmabey/pyLDAvis@3.3.1/pyLDAvis/js/ldavis.v1.0.0.css\">\n",
       "\n",
       "\n",
       "<div id=\"ldavis_el2385215829011121608127675220\"></div>\n",
       "<script type=\"text/javascript\">\n",
       "\n",
       "var ldavis_el2385215829011121608127675220_data = {\"mdsDat\": {\"x\": [0.035209532812528206, -0.12412710511186645, 0.08891757229933821], \"y\": [-0.10659900876525477, 0.02687334807697945, 0.07972566068827529], \"topics\": [1, 2, 3], \"cluster\": [1, 1, 1], \"Freq\": [48.04697591155392, 29.266127398117703, 22.686896690328375]}, \"tinfo\": {\"Term\": [\"no\", \"paper\", \"bags\", \"box\", \"glass\", \"plastic\", \"light\", \"can\", \"clothing\", \"bulb\", \"styrofoam\", \"bag\", \"oil\", \"trash\", \"pizza\", \"pot\", \"liquid\", \"electronic\", \"cardboard\", \"wax\", \"towel\", \"carton\", \"milk\", \"container\", \"garbage\", \"cereal\", \"toy\", \"kind\", \"or\", \"household\", \"light\", \"can\", \"bulb\", \"toy\", \"bottle\", \"crystal\", \"medical\", \"accept\", \"chemical\", \"like\", \"product\", \"rubber\", \"ovenware\", \"drinking\", \"rope\", \"syrinx\", \"broken\", \"pesticide\", \"aerosol\", \"paint\", \"container\", \"glass\", \"battery\", \"needles\", \"vinyl\", \"large\", \"page\", \"car\", \"hazardous\", \"we\", \"window\", \"mirror\", \"plastic\", \"item\", \"hanger\", \"garden\", \"hose\", \"ceramic\", \"food\", \"wrap\", \"waste\", \"styrofoam\", \"packaging\", \"bag\", \"wax\", \"cup\", \"paper\", \"oil\", \"film\", \"box\", \"pizza\", \"towel\", \"animal\", \"egg\", \"tissue\", \"antifreeze\", \"carbon\", \"frozen\", \"dirty\", \"clean\", \"sticker\", \"debris\", \"insulation\", \"wood\", \"cooking\", \"soil\", \"cardboard\", \"shred\", \"boxes\", \"pottery\", \"wrapper\", \"pet\", \"wall\", \"shoe\", \"carton\", \"milk\", \"paper\", \"butts\", \"case\", \"polystyrene\", \"juice\", \"oil\", \"motor\", \"wax\", \"plate\", \"dish\", \"bag\", \"waste\", \"recyclable\", \"disposable\", \"plastic\", \"foam\", \"wrap\", \"food\", \"container\", \"packaging\", \"styrofoam\", \"no\", \"clothing\", \"trash\", \"garbage\", \"bags\", \"cups\", \"plates\", \"batteries\", \"pans\", \"scrap\", \"of\", \"aluminum\", \"foil\", \"liquid\", \"electronic\", \"cans\", \"dishes\", \"facial\", \"lightbulbs\", \"mugs\", \"provide\", \"return\", \"tissues\", \"towels\", \"vases\", \"break\", \"electric\", \"plugs\", \"furniture\", \"materials\", \"or\", \"cereal\", \"pot\", \"kind\", \"household\", \"shopping\", \"metal\", \"any\", \"styrofoam\", \"plastic\", \"bag\", \"tray\", \"food\", \"grocery\", \"glass\", \"paper\", \"waste\", \"ceramic\"], \"Freq\": [18.0, 27.0, 11.0, 7.0, 20.0, 43.0, 10.0, 10.0, 4.0, 9.0, 17.0, 27.0, 9.0, 3.0, 4.0, 5.0, 4.0, 4.0, 5.0, 10.0, 3.0, 5.0, 5.0, 17.0, 2.0, 4.0, 7.0, 4.0, 3.0, 4.0, 9.77515432942685, 9.770576647206955, 8.981832803820287, 6.602440313663856, 3.435707990561822, 3.4356266523975134, 3.4349077120272686, 3.434285685214498, 3.433999147425945, 3.4268406472813644, 7.399922199844862, 2.642893777761224, 2.6426079816580588, 2.6426027898603373, 2.6422618618099354, 2.6416482407649053, 2.6387420701829836, 2.6236601450294703, 6.515833710809498, 6.511019678179028, 14.625965654958758, 16.859147726586283, 4.9822542935121685, 1.850002182451723, 1.8499319695682466, 1.8499293736693856, 1.849918990073942, 1.8498548342878076, 1.8498461812916045, 1.8498412367223456, 7.308082759343804, 4.916568163192239, 25.52947365600938, 5.862106275606502, 3.3984884871508005, 3.4312400777794756, 3.4312400777794756, 5.698337197182295, 12.26591681420009, 7.256670611560483, 10.335285024214174, 9.46494095434779, 4.821154293573919, 10.830476713096589, 5.020695352758603, 3.632836347176623, 5.25447112612117, 3.7402333803939007, 3.4384927719684377, 6.783956517886047, 3.875643726867351, 3.146208486096208, 2.428769437743602, 2.426274905570857, 2.412766784204878, 2.4126994702367996, 2.4121760175454345, 2.410201474481804, 1.6999711949254148, 1.6999147234756848, 1.6997151910199717, 1.6993867530683413, 1.6993867530683413, 1.6993867530683413, 1.6993841930292868, 1.6993301310280786, 3.9178563614264195, 1.698539831912922, 1.6960802367437429, 1.671293637437663, 1.6712653264175317, 1.6712493638210746, 1.6711421433618538, 1.6097322277051944, 3.7380955391022845, 3.734985844603812, 18.984105139622862, 0.971447403352916, 0.971447403352916, 2.43829157830183, 2.4323524382860793, 5.792153415763409, 3.1627388088612105, 5.344355600897005, 3.1731967189890993, 2.8559870986514233, 7.5582050917144965, 5.604581462512603, 2.458482756914671, 2.16789513329457, 5.844763724237321, 2.4373734278244843, 3.301665502361822, 4.148294813328902, 2.6849801039881216, 1.8145461945781352, 1.8651476253469808, 18.254138445222406, 3.502926134559116, 2.899625371625254, 2.2296177421187457, 8.617072621596593, 1.5612828331398956, 1.5612371890805534, 1.561200883959184, 1.561197381857444, 1.5611712328311202, 1.5611322427650838, 1.5607533153568363, 1.5607533153568363, 2.9119294224044516, 2.89416255985805, 0.8921411566569177, 0.8921411566569177, 0.8921411566569177, 0.8921411566569177, 0.8921411566569177, 0.8921411566569177, 0.8921411566569177, 0.8921411566569177, 0.8921411566569177, 0.8921411566569177, 0.8920667369949468, 0.8920667369949468, 0.8920667369949468, 0.8920620675259603, 0.8920620675259603, 2.2276040336183556, 2.428072275302332, 3.1830654077287983, 2.2309251934349414, 2.2186057334080886, 1.5877502005119557, 1.5657294517189317, 1.5640511278284903, 6.3601342833852454, 12.570091906910877, 8.67886463858759, 1.6525169027207471, 4.576227628851368, 1.5535190237929117, 3.6157444743194866, 3.560134367319601, 2.860441289152322, 1.5843434726761936], \"Total\": [18.0, 27.0, 11.0, 7.0, 20.0, 43.0, 10.0, 10.0, 4.0, 9.0, 17.0, 27.0, 9.0, 3.0, 4.0, 5.0, 4.0, 4.0, 5.0, 10.0, 3.0, 5.0, 5.0, 17.0, 2.0, 4.0, 7.0, 4.0, 3.0, 4.0, 10.24521686018737, 10.244706491534956, 9.452220140752885, 7.073344098845007, 3.9019992721807473, 3.901989676362816, 3.901896730135035, 3.901776090997396, 3.9017398071112823, 3.9012565944148423, 8.595292843204382, 3.109057983653358, 3.1090210163840557, 3.109021665226255, 3.1089772934057573, 3.1088992255561942, 3.1084395190253695, 3.1060614433428477, 7.729047271982667, 7.72830532156268, 17.893266305882978, 20.719606804714378, 6.151424384934159, 2.3161058585669845, 2.3160970479205103, 2.3160962363391717, 2.3160958817554915, 2.3160870434420056, 2.316086433319063, 2.316084341052791, 9.255401779687075, 6.207941610010817, 43.94432928715758, 8.416269868087742, 4.565405043466971, 4.630234231136366, 4.630234306431632, 8.336444773691884, 20.99043925638036, 11.4398618748906, 18.8003077758791, 17.690222863080017, 7.592402423435463, 27.067546443398676, 10.588395274114195, 5.375253819711848, 27.798710633063635, 9.755886857998684, 5.240837182726097, 7.289449399193901, 4.374145059238721, 3.645828802137455, 2.9162080368154806, 2.9160091960608985, 2.9175893868745595, 2.9175881519090914, 2.9175832718347503, 2.917395757183651, 2.1875465562256307, 2.1875429239347595, 2.1875386279004605, 2.1875254508846087, 2.1875254508846087, 2.1875254508846087, 2.187531432420076, 2.187525515087788, 5.045337775484834, 2.1875005212028764, 2.187236042678527, 2.190049293326402, 2.190049177301337, 2.190049074429231, 2.190050666417054, 2.1803002522997583, 5.179190531149687, 5.179718806588937, 27.798710633063635, 1.4588898797807275, 1.4588898797807275, 3.7082294255659556, 3.7087476357077036, 9.755886857998684, 5.230172957515101, 10.588395274114195, 6.022218350151477, 5.2563087454796475, 27.067546443398676, 18.8003077758791, 4.380061341159907, 3.7320952261105758, 43.94432928715758, 5.294204561466191, 11.4398618748906, 20.99043925638036, 17.893266305882978, 7.592402423435463, 17.690222863080017, 18.805396862286432, 4.082215075455361, 3.4071391371928277, 2.7380159290168598, 11.072402953813976, 2.0686983730826705, 2.0687022827065595, 2.0687070105236205, 2.0687079398454755, 2.0687089079234284, 2.0687145590628155, 2.068759159817962, 2.068759159817962, 4.197716486416001, 4.200932472628619, 1.3994728181637002, 1.3994728181637002, 1.3994728181637002, 1.3994728181637002, 1.3994728181637002, 1.3994728181637002, 1.3994728181637002, 1.3994728181637002, 1.3994728181637002, 1.3994728181637002, 1.399481670566888, 1.399481670566888, 1.399481670566888, 1.3994804980767388, 1.3994804980767388, 3.531328856747489, 4.177644457763475, 5.733529529425662, 4.195155027024288, 4.325909181158927, 2.8566579329939383, 2.860738698251061, 2.861046913971231, 17.690222863080017, 43.94432928715758, 27.067546443398676, 3.635823834952718, 20.99043925638036, 3.52667649548441, 20.719606804714378, 27.798710633063635, 18.8003077758791, 8.336444773691884], \"Category\": [\"Default\", \"Default\", \"Default\", \"Default\", \"Default\", \"Default\", \"Default\", \"Default\", \"Default\", \"Default\", \"Default\", \"Default\", \"Default\", \"Default\", \"Default\", \"Default\", \"Default\", \"Default\", \"Default\", \"Default\", \"Default\", \"Default\", \"Default\", \"Default\", \"Default\", \"Default\", \"Default\", \"Default\", \"Default\", \"Default\", \"Topic1\", \"Topic1\", \"Topic1\", \"Topic1\", \"Topic1\", \"Topic1\", \"Topic1\", \"Topic1\", \"Topic1\", \"Topic1\", \"Topic1\", \"Topic1\", \"Topic1\", \"Topic1\", \"Topic1\", \"Topic1\", \"Topic1\", \"Topic1\", \"Topic1\", \"Topic1\", \"Topic1\", \"Topic1\", \"Topic1\", \"Topic1\", \"Topic1\", \"Topic1\", \"Topic1\", \"Topic1\", \"Topic1\", \"Topic1\", \"Topic1\", \"Topic1\", \"Topic1\", \"Topic1\", \"Topic1\", \"Topic1\", \"Topic1\", \"Topic1\", \"Topic1\", \"Topic1\", \"Topic1\", \"Topic1\", \"Topic1\", \"Topic1\", \"Topic1\", \"Topic1\", \"Topic1\", \"Topic1\", \"Topic1\", \"Topic2\", \"Topic2\", \"Topic2\", \"Topic2\", \"Topic2\", \"Topic2\", \"Topic2\", \"Topic2\", \"Topic2\", \"Topic2\", \"Topic2\", \"Topic2\", \"Topic2\", \"Topic2\", \"Topic2\", \"Topic2\", \"Topic2\", \"Topic2\", \"Topic2\", \"Topic2\", \"Topic2\", \"Topic2\", \"Topic2\", \"Topic2\", \"Topic2\", \"Topic2\", \"Topic2\", \"Topic2\", \"Topic2\", \"Topic2\", \"Topic2\", \"Topic2\", \"Topic2\", \"Topic2\", \"Topic2\", \"Topic2\", \"Topic2\", \"Topic2\", \"Topic2\", \"Topic2\", \"Topic2\", \"Topic2\", \"Topic2\", \"Topic2\", \"Topic2\", \"Topic2\", \"Topic2\", \"Topic2\", \"Topic3\", \"Topic3\", \"Topic3\", \"Topic3\", \"Topic3\", \"Topic3\", \"Topic3\", \"Topic3\", \"Topic3\", \"Topic3\", \"Topic3\", \"Topic3\", \"Topic3\", \"Topic3\", \"Topic3\", \"Topic3\", \"Topic3\", \"Topic3\", \"Topic3\", \"Topic3\", \"Topic3\", \"Topic3\", \"Topic3\", \"Topic3\", \"Topic3\", \"Topic3\", \"Topic3\", \"Topic3\", \"Topic3\", \"Topic3\", \"Topic3\", \"Topic3\", \"Topic3\", \"Topic3\", \"Topic3\", \"Topic3\", \"Topic3\", \"Topic3\", \"Topic3\", \"Topic3\", \"Topic3\", \"Topic3\", \"Topic3\", \"Topic3\", \"Topic3\", \"Topic3\", \"Topic3\", \"Topic3\"], \"logprob\": [30.0, 29.0, 28.0, 27.0, 26.0, 25.0, 24.0, 23.0, 22.0, 21.0, 20.0, 19.0, 18.0, 17.0, 16.0, 15.0, 14.0, 13.0, 12.0, 11.0, 10.0, 9.0, 8.0, 7.0, 6.0, 5.0, 4.0, 3.0, 2.0, 1.0, -3.9948, -3.9952, -4.0794, -4.3872, -5.0404, -5.0404, -5.0406, -5.0408, -5.0409, -5.043, -4.2731, -5.3027, -5.3028, -5.3028, -5.303, -5.3032, -5.3043, -5.31, -4.4004, -4.4011, -3.5918, -3.4497, -4.6687, -5.6594, -5.6595, -5.6595, -5.6595, -5.6595, -5.6595, -5.6595, -4.2856, -4.682, -3.0348, -4.5061, -5.0513, -5.0417, -5.0417, -4.5344, -3.7678, -4.2927, -3.939, -4.027, -4.7016, -3.8922, -4.661, -4.9846, -4.6155, -4.9555, -5.0396, -3.8643, -4.4241, -4.6327, -4.8915, -4.8925, -4.8981, -4.8981, -4.8983, -4.8992, -5.2482, -5.2483, -5.2484, -5.2486, -5.2486, -5.2486, -5.2486, -5.2486, -4.4133, -5.2491, -5.2505, -5.2653, -5.2653, -5.2653, -5.2654, -5.3028, -4.4603, -4.4611, -2.8353, -5.8078, -5.8078, -4.8876, -4.89, -4.0224, -4.6274, -4.1028, -4.6241, -4.7294, -3.7562, -4.0553, -4.8793, -5.0051, -4.0133, -4.8879, -4.5844, -4.3562, -4.7912, -5.183, -5.1555, -2.6198, -4.2706, -4.4596, -4.7224, -3.3705, -5.0787, -5.0787, -5.0788, -5.0788, -5.0788, -5.0788, -5.079, -5.079, -4.4554, -4.4615, -5.6383, -5.6383, -5.6383, -5.6383, -5.6383, -5.6383, -5.6383, -5.6383, -5.6383, -5.6383, -5.6384, -5.6384, -5.6384, -5.6384, -5.6384, -4.7233, -4.6371, -4.3664, -4.7218, -4.7273, -5.0619, -5.0759, -5.0769, -3.6742, -2.9929, -3.3633, -5.0219, -4.0033, -5.0837, -4.2389, -4.2544, -4.4732, -5.064], \"loglift\": [30.0, 29.0, 28.0, 27.0, 26.0, 25.0, 24.0, 23.0, 22.0, 21.0, 20.0, 19.0, 18.0, 17.0, 16.0, 15.0, 14.0, 13.0, 12.0, 11.0, 10.0, 9.0, 8.0, 7.0, 6.0, 5.0, 4.0, 3.0, 2.0, 1.0, 0.686, 0.6856, 0.6819, 0.6641, 0.6057, 0.6057, 0.6055, 0.6054, 0.6053, 0.6033, 0.5832, 0.5705, 0.5704, 0.5704, 0.5703, 0.5701, 0.5692, 0.5642, 0.5622, 0.5616, 0.5314, 0.5268, 0.5222, 0.5083, 0.5083, 0.5083, 0.5082, 0.5082, 0.5082, 0.5082, 0.4968, 0.4998, 0.1899, 0.3713, 0.4378, 0.4333, 0.4333, 0.3525, 0.1957, 0.2778, 0.1347, 0.1076, 0.2789, -0.183, -0.0132, 0.3412, -0.9329, -0.2257, 0.3115, 1.1569, 1.1077, 1.0814, 1.0458, 1.0449, 1.0388, 1.0387, 1.0385, 1.0378, 0.9766, 0.9765, 0.9764, 0.9762, 0.9762, 0.9762, 0.9762, 0.9762, 0.9758, 0.9757, 0.9744, 0.9584, 0.9584, 0.9584, 0.9583, 0.9253, 0.9027, 0.9017, 0.8474, 0.8221, 0.8221, 0.8095, 0.8069, 0.7074, 0.7257, 0.545, 0.588, 0.6187, -0.047, 0.0185, 0.6512, 0.6855, -0.7886, 0.453, -0.0139, -0.3926, -0.668, -0.2026, -1.0209, 1.4536, 1.3303, 1.3221, 1.278, 1.2327, 1.202, 1.2019, 1.2019, 1.2019, 1.2019, 1.2019, 1.2016, 1.2016, 1.1177, 1.1108, 1.0332, 1.0332, 1.0332, 1.0332, 1.0332, 1.0332, 1.0332, 1.0332, 1.0332, 1.0332, 1.0331, 1.0331, 1.0331, 1.0331, 1.0331, 1.0226, 0.9407, 0.8949, 0.8519, 0.8156, 0.896, 0.8807, 0.8795, 0.4604, 0.2318, 0.3459, 0.6948, -0.0398, 0.6635, -0.2624, -0.5718, -0.3995, -0.1771]}, \"token.table\": {\"Topic\": [1, 1, 3, 3, 2, 2, 1, 3, 1, 2, 3, 1, 3, 3, 1, 3, 1, 2, 2, 3, 1, 1, 2, 1, 3, 1, 2, 2, 3, 1, 2, 2, 1, 2, 3, 2, 3, 1, 2, 3, 1, 2, 3, 2, 1, 1, 2, 3, 2, 2, 1, 2, 3, 1, 2, 1, 2, 3, 1, 3, 3, 1, 3, 1, 2, 3, 1, 2, 3, 2, 3, 3, 1, 2, 1, 3, 2, 3, 1, 3, 1, 1, 2, 1, 3, 2, 1, 2, 3, 1, 2, 2, 3, 1, 1, 3, 1, 1, 3, 3, 1, 1, 3, 1, 2, 1, 2, 1, 2, 3, 1, 3, 3, 1, 2, 1, 3, 1, 1, 2, 3, 1, 1, 3, 3, 1, 2, 3, 1, 2, 2, 1, 2, 3, 1, 2, 3, 3, 1, 2, 1, 3, 2, 1, 2, 3, 1, 2, 3, 3, 1, 1, 3, 2, 1, 3, 2, 2, 2, 1, 2, 3, 1, 2, 3, 2, 3, 1, 3, 1, 3, 3, 1, 2, 1, 2, 3, 1, 2, 1, 1, 2, 3, 2, 1, 2, 3, 2], \"Freq\": [0.7688806148876476, 0.9056743675736828, 0.12938205251052612, 0.9667630910579208, 0.6858221274858065, 0.6854977110773233, 0.3495224056329666, 0.6990448112659332, 0.4063907315353556, 0.29555689566207677, 0.3325015076198364, 0.1806292643378811, 0.8128316895204649, 0.9667874618425402, 0.8128198750594765, 0.1625639750118953, 0.7688366375125851, 0.9602920078948748, 0.9143960509862327, 0.7145502660245132, 0.9651144832120234, 0.9521572568117457, 0.6854526951343997, 0.9761138601933445, 0.7145547859315602, 0.8635254040486063, 0.6854988576700609, 0.7928111412948201, 0.19820278532370503, 0.19308036535547535, 0.7723214614219014, 0.6854526951343997, 0.7197312718888002, 0.11995521198146668, 0.23991042396293336, 0.23936934081158154, 0.4787386816231631, 0.76888776502529, 0.9142677741850095, 0.9798601803345235, 0.8383041834608069, 0.1676608366921614, 0.0558869455640538, 0.9142725770058494, 0.7688385282444948, 0.7441509060151561, 0.37207545300757805, 0.9667914984723947, 0.9142750769785213, 0.9142662560977804, 0.380495152937881, 0.5707427294068216, 0.7145547859315602, 0.2679460033612689, 0.5358920067225378, 0.964933771145554, 0.6858688932468756, 0.7145502660245132, 0.23804238856862112, 0.7141271657058633, 0.7145547859315602, 0.5724276285262323, 0.38161841901748816, 0.5666573637587536, 0.3777715758391691, 0.9667630910579208, 0.5716888462137552, 0.19056294873791838, 0.238203685922398, 0.6855429178832865, 0.7145508646774771, 0.7304559403049714, 0.6479153861863552, 0.21597179539545175, 0.8204788903683227, 0.19305385655725238, 0.5671061699480571, 0.5671061699480571, 0.6571158465540659, 0.21903861551802192, 0.8635256315257216, 0.6479153756501796, 0.21597179188339324, 0.4623305567095129, 0.4623305567095129, 0.9142750769785213, 0.7129048965920645, 0.23763496553068816, 0.11881748276534408, 0.26963279743599483, 0.5392655948719897, 0.4767404272586899, 0.4767404272586899, 0.8635219766002494, 0.9760652347789459, 0.7145547859315602, 0.7689830000658996, 0.2382247593986028, 0.7146742781958083, 0.7145508646774771, 0.7688568425787572, 0.34956006314430577, 0.6991201262886115, 0.1930606732411681, 0.7722426929646724, 0.8054199465950338, 0.16108398931900675, 0.3823965318634925, 0.5735947977952388, 0.7145547859315602, 0.8635183891108653, 0.9571720358690421, 0.9667839341286673, 0.41000885498384687, 0.6150132824757704, 0.2831795169937938, 0.5663590339875876, 0.9649339725239772, 0.6585530799271788, 0.2634212319708715, 0.13171061598543576, 0.8635221088015123, 0.9057613161930027, 0.12939447374185753, 0.9667870275343905, 0.1798644572404386, 0.6834849375136667, 0.14389156579235088, 0.9658533981772425, 0.9132215452848875, 0.914464414377735, 0.5916576819298119, 0.13653638813764893, 0.29582884096490597, 0.49815530184562984, 0.49815530184562984, 0.9667896713408786, 0.7145502660245132, 0.2696704775345389, 0.5393409550690778, 0.34882527241476396, 0.5232379086221459, 0.9132214540076669, 0.814399244760386, 0.11634274925148373, 0.7145547859315602, 0.22830730487787754, 0.4566146097557551, 0.22830730487787754, 0.7145547859315602, 0.964947542834455, 0.9649224992821758, 0.966786575114428, 0.9173048518846982, 0.3500594132920716, 0.7001188265841432, 0.9142854964442374, 0.914275050144838, 0.9142695696850597, 0.5087556030050502, 0.11305680066778893, 0.33917040200336684, 0.9649717737194548, 0.6854974209179179, 0.7145547859315602, 0.8228581655400763, 0.7145547859315602, 0.9896309160391358, 0.8805041059966007, 0.5500816570850191, 0.5500816570850191, 0.7145547859315602, 0.8635216740143443, 0.9132208814474696, 0.5319061857503234, 0.3191437114501941, 0.15957185572509705, 0.47221508741968365, 0.47221508741968365, 0.8635264116033388, 0.7563150867597095, 0.10804501239424422, 0.10804501239424422, 0.9142750769785213, 0.6118954998367881, 0.2622409285014806, 0.08741364283382688, 0.9132215023885798], \"Term\": [\"accept\", \"aerosol\", \"aerosol\", \"aluminum\", \"animal\", \"antifreeze\", \"any\", \"any\", \"bag\", \"bag\", \"bag\", \"bags\", \"bags\", \"batteries\", \"battery\", \"battery\", \"bottle\", \"box\", \"boxes\", \"break\", \"broken\", \"bulb\", \"butts\", \"can\", \"cans\", \"car\", \"carbon\", \"cardboard\", \"cardboard\", \"carton\", \"carton\", \"case\", \"ceramic\", \"ceramic\", \"ceramic\", \"cereal\", \"cereal\", \"chemical\", \"clean\", \"clothing\", \"container\", \"container\", \"container\", \"cooking\", \"crystal\", \"cup\", \"cup\", \"cups\", \"debris\", \"dirty\", \"dish\", \"dish\", \"dishes\", \"disposable\", \"disposable\", \"drinking\", \"egg\", \"electric\", \"electronic\", \"electronic\", \"facial\", \"film\", \"film\", \"foam\", \"foam\", \"foil\", \"food\", \"food\", \"food\", \"frozen\", \"furniture\", \"garbage\", \"garden\", \"garden\", \"glass\", \"glass\", \"grocery\", \"grocery\", \"hanger\", \"hanger\", \"hazardous\", \"hose\", \"hose\", \"household\", \"household\", \"insulation\", \"item\", \"item\", \"item\", \"juice\", \"juice\", \"kind\", \"kind\", \"large\", \"light\", \"lightbulbs\", \"like\", \"liquid\", \"liquid\", \"materials\", \"medical\", \"metal\", \"metal\", \"milk\", \"milk\", \"mirror\", \"mirror\", \"motor\", \"motor\", \"mugs\", \"needles\", \"no\", \"of\", \"oil\", \"oil\", \"or\", \"or\", \"ovenware\", \"packaging\", \"packaging\", \"packaging\", \"page\", \"paint\", \"paint\", \"pans\", \"paper\", \"paper\", \"paper\", \"pesticide\", \"pet\", \"pizza\", \"plastic\", \"plastic\", \"plastic\", \"plate\", \"plate\", \"plates\", \"plugs\", \"polystyrene\", \"polystyrene\", \"pot\", \"pot\", \"pottery\", \"product\", \"product\", \"provide\", \"recyclable\", \"recyclable\", \"recyclable\", \"return\", \"rope\", \"rubber\", \"scrap\", \"shoe\", \"shopping\", \"shopping\", \"shred\", \"soil\", \"sticker\", \"styrofoam\", \"styrofoam\", \"styrofoam\", \"syrinx\", \"tissue\", \"tissues\", \"towel\", \"towels\", \"toy\", \"trash\", \"tray\", \"tray\", \"vases\", \"vinyl\", \"wall\", \"waste\", \"waste\", \"waste\", \"wax\", \"wax\", \"we\", \"window\", \"window\", \"window\", \"wood\", \"wrap\", \"wrap\", \"wrap\", \"wrapper\"]}, \"R\": 30, \"lambda.step\": 0.01, \"plot.opts\": {\"xlab\": \"PC1\", \"ylab\": \"PC2\"}, \"topic.order\": [2, 3, 1]};\n",
       "\n",
       "function LDAvis_load_lib(url, callback){\n",
       "  var s = document.createElement('script');\n",
       "  s.src = url;\n",
       "  s.async = true;\n",
       "  s.onreadystatechange = s.onload = callback;\n",
       "  s.onerror = function(){console.warn(\"failed to load library \" + url);};\n",
       "  document.getElementsByTagName(\"head\")[0].appendChild(s);\n",
       "}\n",
       "\n",
       "if(typeof(LDAvis) !== \"undefined\"){\n",
       "   // already loaded: just create the visualization\n",
       "   !function(LDAvis){\n",
       "       new LDAvis(\"#\" + \"ldavis_el2385215829011121608127675220\", ldavis_el2385215829011121608127675220_data);\n",
       "   }(LDAvis);\n",
       "}else if(typeof define === \"function\" && define.amd){\n",
       "   // require.js is available: use it to load d3/LDAvis\n",
       "   require.config({paths: {d3: \"https://d3js.org/d3.v5\"}});\n",
       "   require([\"d3\"], function(d3){\n",
       "      window.d3 = d3;\n",
       "      LDAvis_load_lib(\"https://cdn.jsdelivr.net/gh/bmabey/pyLDAvis@3.3.1/pyLDAvis/js/ldavis.v3.0.0.js\", function(){\n",
       "        new LDAvis(\"#\" + \"ldavis_el2385215829011121608127675220\", ldavis_el2385215829011121608127675220_data);\n",
       "      });\n",
       "    });\n",
       "}else{\n",
       "    // require.js not available: dynamically load d3 & LDAvis\n",
       "    LDAvis_load_lib(\"https://d3js.org/d3.v5.js\", function(){\n",
       "         LDAvis_load_lib(\"https://cdn.jsdelivr.net/gh/bmabey/pyLDAvis@3.3.1/pyLDAvis/js/ldavis.v3.0.0.js\", function(){\n",
       "                 new LDAvis(\"#\" + \"ldavis_el2385215829011121608127675220\", ldavis_el2385215829011121608127675220_data);\n",
       "            })\n",
       "         });\n",
       "}\n",
       "</script>"
      ],
      "text/plain": [
       "PreparedData(topic_coordinates=              x         y  topics  cluster       Freq\n",
       "topic                                                \n",
       "1      0.035210 -0.106599       1        1  48.046976\n",
       "2     -0.124127  0.026873       2        1  29.266127\n",
       "0      0.088918  0.079726       3        1  22.686897, topic_info=       Term       Freq      Total Category  logprob  loglift\n",
       "2        no  18.000000  18.000000  Default  30.0000  30.0000\n",
       "54    paper  27.000000  27.000000  Default  29.0000  29.0000\n",
       "43     bags  11.000000  11.000000  Default  28.0000  28.0000\n",
       "63      box   7.000000   7.000000  Default  27.0000  27.0000\n",
       "9     glass  20.000000  20.000000  Default  26.0000  26.0000\n",
       "..      ...        ...        ...      ...      ...      ...\n",
       "21  grocery   1.553519   3.526676   Topic3  -5.0837   0.6635\n",
       "9     glass   3.615744  20.719607   Topic3  -4.2389  -0.2624\n",
       "54    paper   3.560134  27.798711   Topic3  -4.2544  -0.5718\n",
       "41    waste   2.860441  18.800308   Topic3  -4.4732  -0.3995\n",
       "12  ceramic   1.584343   8.336445   Topic3  -5.0640  -0.1771\n",
       "\n",
       "[175 rows x 6 columns], token_table=      Topic      Freq      Term\n",
       "term                           \n",
       "227       1  0.768881    accept\n",
       "5         1  0.905674   aerosol\n",
       "5         3  0.129382   aerosol\n",
       "324       3  0.966763  aluminum\n",
       "356       2  0.685822    animal\n",
       "...     ...       ...       ...\n",
       "330       2  0.914275      wood\n",
       "20        1  0.611895      wrap\n",
       "20        2  0.262241      wrap\n",
       "20        3  0.087414      wrap\n",
       "141       2  0.913222   wrapper\n",
       "\n",
       "[188 rows x 3 columns], R=30, lambda_step=0.01, plot_opts={'xlab': 'PC1', 'ylab': 'PC2'}, topic_order=[2, 3, 1])"
      ]
     },
     "execution_count": 26,
     "metadata": {},
     "output_type": "execute_result"
    }
   ],
   "source": [
    "# run visualization\n",
    "pyLDAvis.enable_notebook()\n",
    "vis = pyLDAvis.gensim_models.prepare(lda_multicore, corpus, id2words)\n",
    "vis"
   ]
  },
  {
   "cell_type": "markdown",
   "metadata": {},
   "source": [
    "The df_no analysis is not as clear topics are not as clear, since there is a wider array of items that are excluded from recycling."
   ]
  },
  {
   "cell_type": "markdown",
   "metadata": {},
   "source": [
    "This was a preliminary EDA and a good starting point for doing a more in-depth analysis with more complex tools. With more context, and/or information of the dropped columns, even more insights could be gained into the significance of the data and how to best prepare it for Machine Learning purposes."
   ]
  }
 ],
 "metadata": {
  "interpreter": {
   "hash": "aee8b7b246df8f9039afb4144a1f6fd8d2ca17a180786b69acc140d282b71a49"
  },
  "kernelspec": {
   "display_name": "Python 3 (ipykernel)",
   "language": "python",
   "name": "python3"
  },
  "language_info": {
   "codemirror_mode": {
    "name": "ipython",
    "version": 3
   },
   "file_extension": ".py",
   "mimetype": "text/x-python",
   "name": "python",
   "nbconvert_exporter": "python",
   "pygments_lexer": "ipython3",
   "version": "3.8.7"
  }
 },
 "nbformat": 4,
 "nbformat_minor": 2
}

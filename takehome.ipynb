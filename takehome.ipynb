{
 "cells": [
  {
   "cell_type": "markdown",
   "metadata": {},
   "source": [
    "# Part 1\n",
    "\n",
    "The following code represents a simple, inefficient pattern search that might be found during EDA in a jupyter notebook.\n",
    "\n",
    "In a separate `.py` file, refactor this code using OOP to make it more extensible and efficient.\n",
    "\n",
    "Your object should be able to do each of the following:\n",
    "\n",
    "1. Accept either a string or a list of words as input text to be searched for pattern matches (if a string is passed, only words in the string that match the pattern should be caught)\n",
    "2. Allow for registering an arbitrary number of pattern groups to search input text\n",
    "3. Allow the user to specify a specific pattern group to search the text for matches\n",
    "4. Allow the user to search input text with all registered patterns and return all matches by pattern group"
   ]
  },
  {
   "cell_type": "code",
   "execution_count": 1,
   "metadata": {},
   "outputs": [
    {
     "name": "stdout",
     "output_type": "stream",
     "text": [
      "Pattern 1: ['cat', 'mouse']\n",
      "Pattern 2: ['mouse']\n"
     ]
    }
   ],
   "source": [
    "my_words = ['dog', 'cat', 'mouse', 'bird', 'snake', 'kitten', 'puppy']\n",
    "\n",
    "pattern_1_words = []\n",
    "pattern_2_words = []\n",
    "\n",
    "pattern_group_1 = [\n",
    "\t'at',\n",
    "\t'ou'\n",
    "]\n",
    "\n",
    "pattern_group_2 = [\n",
    "\t'in',\n",
    "\t'mo'\n",
    "]\n",
    "\n",
    "for word in my_words:\n",
    "\tfor pat in pattern_group_1:\n",
    "\t\tif pat in word:\n",
    "\t\t\tpattern_1_words.append(word)\n",
    "for word in my_words:\n",
    "\tfor pat in pattern_group_2:\n",
    "\t\tif pat in word:\n",
    "\t\t\tpattern_2_words.append(word)\n",
    "\n",
    "print(f\"Pattern 1: {pattern_1_words}\")\n",
    "print(f\"Pattern 2: {pattern_2_words}\")"
   ]
  },
  {
   "cell_type": "markdown",
   "metadata": {},
   "source": [
    "\\#########################################################\n",
    "\n",
    "### Note: The .py file created is main.py and can be found on this repository: https://github.com/nicolascarva/Recycling-Partnership-Takehome.git\n",
    "\n",
    "Instructions for running it:\n",
    "\n",
    "1. Instantiate object with text to be searched (string or list) as input:\n",
    "`input = Match ('example text')`\n",
    "\n",
    "2. Add desired pattern groups by running add_patterns method and using a dictionary with the pattern name as key and a list of the patterns as values. More pattern groups can be added as desired.\n",
    "\n",
    "`pattern_groups1 = {'pat_1': ['ex', 'am'], 'pat_2': ['xt']}\n",
    "pattern_groups2 = {'pat_3': ['foo']}\n",
    "input.add_patterns(pattern_groups1)\n",
    "input.add_patterns(pattern_groups2)`\n",
    "\n",
    "3. To find matches run the match_patterns method with a list of the names of the desired pattern groups as input (if empty, default is all):\n",
    "\n",
    "`input.match_patterns(['pat_1'])`\n",
    "\n",
    "4. If new text needs to be searched, a new object may be instantiated, or, to avoid having to add patterns again, run the change_text method with new text (string or list) as the input:\n",
    "\n",
    "`input.change_text(['new', 'text'])`\n",
    "\n",
    "\n",
    "\\############################################################"
   ]
  },
  {
   "cell_type": "markdown",
   "metadata": {},
   "source": [
    "# Part 2\n",
    "\n",
    "Writes tests for your code using `pytest`"
   ]
  },
  {
   "cell_type": "markdown",
   "metadata": {},
   "source": [
    "#### To run test clone the repository and run \n",
    "`python -m pytest` in the environment. Test can be found in the `test_class.py` file."
   ]
  },
  {
   "cell_type": "markdown",
   "metadata": {},
   "source": [
    "# Part 3\n",
    "\n",
    "Imagine your job is to help build the text processing pipeline for a machine learning model. This model takes strings, processes them into vectors, and then classifies the text as relating to one of several categories (a multiclass classifier).\n",
    "\n",
    "The raw data that is passed into the machine learning pipeline has strings that may include descriptions of many items, including multiple items that we are seeking to classify, as well as descriptions of items that are irrelevant to our classifier. These must be separated before being passed to classifier.\n",
    "\n",
    "As the newest member of the team, your job is to get up to speed with the data as quickly as possible, and to find opportunities to improve the text processing pipeline. Perform an EDA on the following CSV to accomplish this. Be prepared to explain what insights you learned from the data, and what approaches you might use to improve the pipeline.\n",
    "\n",
    "Perform the analysis in this notebook, below this prompt."
   ]
  },
  {
   "cell_type": "markdown",
   "metadata": {},
   "source": [
    "# Analysis"
   ]
  },
  {
   "cell_type": "code",
   "execution_count": 2,
   "metadata": {},
   "outputs": [],
   "source": [
    "## Imports ##\n",
    "import pandas as pd\n",
    "import numpy as np\n",
    "import re\n",
    "\n",
    "import matplotlib.pyplot as plt\n",
    "\n",
    "from sklearn.feature_extraction.text import CountVectorizer\n",
    "\n",
    "import spacy\n",
    "\n",
    "import gensim\n",
    "import gensim.corpora as corpora\n",
    "\n",
    "import pyLDAvis\n",
    "import pyLDAvis.gensim_models"
   ]
  },
  {
   "cell_type": "code",
   "execution_count": 3,
   "metadata": {},
   "outputs": [
    {
     "name": "stdout",
     "output_type": "stream",
     "text": [
      "Collecting en-core-web-sm==3.1.0\n",
      "  Downloading https://github.com/explosion/spacy-models/releases/download/en_core_web_sm-3.1.0/en_core_web_sm-3.1.0-py3-none-any.whl (13.6 MB)\n",
      "Requirement already satisfied: spacy<3.2.0,>=3.1.0 in c:\\users\\ncarv\\.virtualenvs\\recycling-partnership-takehome-7fp9ueh8\\lib\\site-packages (from en-core-web-sm==3.1.0) (3.1.3)\n",
      "Requirement already satisfied: cymem<2.1.0,>=2.0.2 in c:\\users\\ncarv\\.virtualenvs\\recycling-partnership-takehome-7fp9ueh8\\lib\\site-packages (from spacy<3.2.0,>=3.1.0->en-core-web-sm==3.1.0) (2.0.5)\n",
      "Requirement already satisfied: tqdm<5.0.0,>=4.38.0 in c:\\users\\ncarv\\.virtualenvs\\recycling-partnership-takehome-7fp9ueh8\\lib\\site-packages (from spacy<3.2.0,>=3.1.0->en-core-web-sm==3.1.0) (4.62.3)\n",
      "Requirement already satisfied: pathy>=0.3.5 in c:\\users\\ncarv\\.virtualenvs\\recycling-partnership-takehome-7fp9ueh8\\lib\\site-packages (from spacy<3.2.0,>=3.1.0->en-core-web-sm==3.1.0) (0.6.0)\n",
      "Requirement already satisfied: pydantic!=1.8,!=1.8.1,<1.9.0,>=1.7.4 in c:\\users\\ncarv\\.virtualenvs\\recycling-partnership-takehome-7fp9ueh8\\lib\\site-packages (from spacy<3.2.0,>=3.1.0->en-core-web-sm==3.1.0) (1.8.2)\n",
      "Requirement already satisfied: blis<0.8.0,>=0.4.0 in c:\\users\\ncarv\\.virtualenvs\\recycling-partnership-takehome-7fp9ueh8\\lib\\site-packages (from spacy<3.2.0,>=3.1.0->en-core-web-sm==3.1.0) (0.7.4)\n",
      "Requirement already satisfied: preshed<3.1.0,>=3.0.2 in c:\\users\\ncarv\\.virtualenvs\\recycling-partnership-takehome-7fp9ueh8\\lib\\site-packages (from spacy<3.2.0,>=3.1.0->en-core-web-sm==3.1.0) (3.0.5)\n",
      "Requirement already satisfied: spacy-legacy<3.1.0,>=3.0.8 in c:\\users\\ncarv\\.virtualenvs\\recycling-partnership-takehome-7fp9ueh8\\lib\\site-packages (from spacy<3.2.0,>=3.1.0->en-core-web-sm==3.1.0) (3.0.8)\n",
      "Requirement already satisfied: numpy>=1.15.0 in c:\\users\\ncarv\\.virtualenvs\\recycling-partnership-takehome-7fp9ueh8\\lib\\site-packages (from spacy<3.2.0,>=3.1.0->en-core-web-sm==3.1.0) (1.21.2)\n",
      "Requirement already satisfied: jinja2 in c:\\users\\ncarv\\.virtualenvs\\recycling-partnership-takehome-7fp9ueh8\\lib\\site-packages (from spacy<3.2.0,>=3.1.0->en-core-web-sm==3.1.0) (3.0.2)\n",
      "Requirement already satisfied: wasabi<1.1.0,>=0.8.1 in c:\\users\\ncarv\\.virtualenvs\\recycling-partnership-takehome-7fp9ueh8\\lib\\site-packages (from spacy<3.2.0,>=3.1.0->en-core-web-sm==3.1.0) (0.8.2)\n",
      "Requirement already satisfied: catalogue<2.1.0,>=2.0.6 in c:\\users\\ncarv\\.virtualenvs\\recycling-partnership-takehome-7fp9ueh8\\lib\\site-packages (from spacy<3.2.0,>=3.1.0->en-core-web-sm==3.1.0) (2.0.6)\n",
      "Requirement already satisfied: typer<0.5.0,>=0.3.0 in c:\\users\\ncarv\\.virtualenvs\\recycling-partnership-takehome-7fp9ueh8\\lib\\site-packages (from spacy<3.2.0,>=3.1.0->en-core-web-sm==3.1.0) (0.4.0)\n",
      "Requirement already satisfied: requests<3.0.0,>=2.13.0 in c:\\users\\ncarv\\.virtualenvs\\recycling-partnership-takehome-7fp9ueh8\\lib\\site-packages (from spacy<3.2.0,>=3.1.0->en-core-web-sm==3.1.0) (2.26.0)\n",
      "Requirement already satisfied: murmurhash<1.1.0,>=0.28.0 in c:\\users\\ncarv\\.virtualenvs\\recycling-partnership-takehome-7fp9ueh8\\lib\\site-packages (from spacy<3.2.0,>=3.1.0->en-core-web-sm==3.1.0) (1.0.5)\n",
      "Requirement already satisfied: packaging>=20.0 in c:\\users\\ncarv\\.virtualenvs\\recycling-partnership-takehome-7fp9ueh8\\lib\\site-packages (from spacy<3.2.0,>=3.1.0->en-core-web-sm==3.1.0) (21.0)\n",
      "Requirement already satisfied: thinc<8.1.0,>=8.0.9 in c:\\users\\ncarv\\.virtualenvs\\recycling-partnership-takehome-7fp9ueh8\\lib\\site-packages (from spacy<3.2.0,>=3.1.0->en-core-web-sm==3.1.0) (8.0.10)\n",
      "Requirement already satisfied: srsly<3.0.0,>=2.4.1 in c:\\users\\ncarv\\.virtualenvs\\recycling-partnership-takehome-7fp9ueh8\\lib\\site-packages (from spacy<3.2.0,>=3.1.0->en-core-web-sm==3.1.0) (2.4.1)\n",
      "Requirement already satisfied: setuptools in c:\\users\\ncarv\\.virtualenvs\\recycling-partnership-takehome-7fp9ueh8\\lib\\site-packages (from spacy<3.2.0,>=3.1.0->en-core-web-sm==3.1.0) (54.1.2)\n",
      "Requirement already satisfied: pyparsing>=2.0.2 in c:\\users\\ncarv\\.virtualenvs\\recycling-partnership-takehome-7fp9ueh8\\lib\\site-packages (from packaging>=20.0->spacy<3.2.0,>=3.1.0->en-core-web-sm==3.1.0) (2.4.7)\n",
      "Requirement already satisfied: smart-open<6.0.0,>=5.0.0 in c:\\users\\ncarv\\.virtualenvs\\recycling-partnership-takehome-7fp9ueh8\\lib\\site-packages (from pathy>=0.3.5->spacy<3.2.0,>=3.1.0->en-core-web-sm==3.1.0) (5.2.1)\n",
      "Requirement already satisfied: typing-extensions>=3.7.4.3 in c:\\users\\ncarv\\.virtualenvs\\recycling-partnership-takehome-7fp9ueh8\\lib\\site-packages (from pydantic!=1.8,!=1.8.1,<1.9.0,>=1.7.4->spacy<3.2.0,>=3.1.0->en-core-web-sm==3.1.0) (3.10.0.2)\n",
      "Requirement already satisfied: certifi>=2017.4.17 in c:\\users\\ncarv\\.virtualenvs\\recycling-partnership-takehome-7fp9ueh8\\lib\\site-packages (from requests<3.0.0,>=2.13.0->spacy<3.2.0,>=3.1.0->en-core-web-sm==3.1.0) (2021.5.30)\n",
      "Requirement already satisfied: idna<4,>=2.5 in c:\\users\\ncarv\\.virtualenvs\\recycling-partnership-takehome-7fp9ueh8\\lib\\site-packages (from requests<3.0.0,>=2.13.0->spacy<3.2.0,>=3.1.0->en-core-web-sm==3.1.0) (3.2)\n",
      "Requirement already satisfied: urllib3<1.27,>=1.21.1 in c:\\users\\ncarv\\.virtualenvs\\recycling-partnership-takehome-7fp9ueh8\\lib\\site-packages (from requests<3.0.0,>=2.13.0->spacy<3.2.0,>=3.1.0->en-core-web-sm==3.1.0) (1.26.7)\n",
      "Requirement already satisfied: charset-normalizer~=2.0.0 in c:\\users\\ncarv\\.virtualenvs\\recycling-partnership-takehome-7fp9ueh8\\lib\\site-packages (from requests<3.0.0,>=2.13.0->spacy<3.2.0,>=3.1.0->en-core-web-sm==3.1.0) (2.0.6)\n",
      "Requirement already satisfied: colorama in c:\\users\\ncarv\\.virtualenvs\\recycling-partnership-takehome-7fp9ueh8\\lib\\site-packages (from tqdm<5.0.0,>=4.38.0->spacy<3.2.0,>=3.1.0->en-core-web-sm==3.1.0) (0.4.4)\n",
      "Requirement already satisfied: click<9.0.0,>=7.1.1 in c:\\users\\ncarv\\.virtualenvs\\recycling-partnership-takehome-7fp9ueh8\\lib\\site-packages (from typer<0.5.0,>=0.3.0->spacy<3.2.0,>=3.1.0->en-core-web-sm==3.1.0) (8.0.1)\n",
      "Requirement already satisfied: MarkupSafe>=2.0 in c:\\users\\ncarv\\.virtualenvs\\recycling-partnership-takehome-7fp9ueh8\\lib\\site-packages (from jinja2->spacy<3.2.0,>=3.1.0->en-core-web-sm==3.1.0) (2.0.1)\n",
      "[+] Download and installation successful\n",
      "You can now load the package via spacy.load('en_core_web_sm')\n"
     ]
    }
   ],
   "source": [
    "!python -m spacy download en_core_web_sm\n",
    "nlp = spacy.load(\"en_core_web_sm\")"
   ]
  },
  {
   "cell_type": "markdown",
   "metadata": {},
   "source": [
    "First we'll import the csv data and take a look at it."
   ]
  },
  {
   "cell_type": "code",
   "execution_count": 4,
   "metadata": {},
   "outputs": [
    {
     "data": {
      "text/html": [
       "<div>\n",
       "<style scoped>\n",
       "    .dataframe tbody tr th:only-of-type {\n",
       "        vertical-align: middle;\n",
       "    }\n",
       "\n",
       "    .dataframe tbody tr th {\n",
       "        vertical-align: top;\n",
       "    }\n",
       "\n",
       "    .dataframe thead th {\n",
       "        text-align: right;\n",
       "    }\n",
       "</style>\n",
       "<table border=\"1\" class=\"dataframe\">\n",
       "  <thead>\n",
       "    <tr style=\"text-align: right;\">\n",
       "      <th></th>\n",
       "      <th>text</th>\n",
       "      <th>added_datetime</th>\n",
       "      <th>yes_no</th>\n",
       "      <th>image_coordinates</th>\n",
       "      <th>image_url</th>\n",
       "      <th>original_id</th>\n",
       "      <th>page_number</th>\n",
       "      <th>parser_version</th>\n",
       "      <th>model_version</th>\n",
       "      <th>manual_override</th>\n",
       "    </tr>\n",
       "    <tr>\n",
       "      <th>id</th>\n",
       "      <th></th>\n",
       "      <th></th>\n",
       "      <th></th>\n",
       "      <th></th>\n",
       "      <th></th>\n",
       "      <th></th>\n",
       "      <th></th>\n",
       "      <th></th>\n",
       "      <th></th>\n",
       "      <th></th>\n",
       "    </tr>\n",
       "  </thead>\n",
       "  <tbody>\n",
       "    <tr>\n",
       "      <th>462548</th>\n",
       "      <td>No plastic bags or pesticide...</td>\n",
       "      <td>2021-07-13 01:18:01.983</td>\n",
       "      <td>no</td>\n",
       "      <td>{'originalSize': {'height': ...</td>\n",
       "      <td>NaN</td>\n",
       "      <td>NaN</td>\n",
       "      <td>NaN</td>\n",
       "      <td>NaN</td>\n",
       "      <td>NaN</td>\n",
       "      <td>NaN</td>\n",
       "    </tr>\n",
       "    <tr>\n",
       "      <th>462549</th>\n",
       "      <td>No paint or aerosol cans .</td>\n",
       "      <td>2021-07-13 01:18:01.983</td>\n",
       "      <td>no</td>\n",
       "      <td>{'originalSize': {'height': ...</td>\n",
       "      <td>NaN</td>\n",
       "      <td>NaN</td>\n",
       "      <td>NaN</td>\n",
       "      <td>NaN</td>\n",
       "      <td>NaN</td>\n",
       "      <td>NaN</td>\n",
       "    </tr>\n",
       "    <tr>\n",
       "      <th>462550</th>\n",
       "      <td>Tin and aluminum food and dr...</td>\n",
       "      <td>2021-07-13 01:18:01.983</td>\n",
       "      <td>yes</td>\n",
       "      <td>{'originalSize': {'height': ...</td>\n",
       "      <td>NaN</td>\n",
       "      <td>NaN</td>\n",
       "      <td>NaN</td>\n",
       "      <td>NaN</td>\n",
       "      <td>NaN</td>\n",
       "      <td>NaN</td>\n",
       "    </tr>\n",
       "    <tr>\n",
       "      <th>462551</th>\n",
       "      <td>Corrugated and non corrugate...</td>\n",
       "      <td>2021-07-13 01:18:01.983</td>\n",
       "      <td>yes</td>\n",
       "      <td>{'originalSize': {'height': ...</td>\n",
       "      <td>NaN</td>\n",
       "      <td>NaN</td>\n",
       "      <td>NaN</td>\n",
       "      <td>NaN</td>\n",
       "      <td>NaN</td>\n",
       "      <td>NaN</td>\n",
       "    </tr>\n",
       "    <tr>\n",
       "      <th>462552</th>\n",
       "      <td>Includes all colors office p...</td>\n",
       "      <td>2021-07-13 01:18:01.983</td>\n",
       "      <td>yes</td>\n",
       "      <td>{'originalSize': {'height': ...</td>\n",
       "      <td>NaN</td>\n",
       "      <td>NaN</td>\n",
       "      <td>NaN</td>\n",
       "      <td>NaN</td>\n",
       "      <td>NaN</td>\n",
       "      <td>NaN</td>\n",
       "    </tr>\n",
       "  </tbody>\n",
       "</table>\n",
       "</div>"
      ],
      "text/plain": [
       "                                   text           added_datetime yes_no  \\\n",
       "id                                                                        \n",
       "462548  No plastic bags or pesticide...  2021-07-13 01:18:01.983     no   \n",
       "462549       No paint or aerosol cans .  2021-07-13 01:18:01.983     no   \n",
       "462550  Tin and aluminum food and dr...  2021-07-13 01:18:01.983    yes   \n",
       "462551  Corrugated and non corrugate...  2021-07-13 01:18:01.983    yes   \n",
       "462552  Includes all colors office p...  2021-07-13 01:18:01.983    yes   \n",
       "\n",
       "                      image_coordinates  image_url  original_id  page_number  \\\n",
       "id                                                                             \n",
       "462548  {'originalSize': {'height': ...        NaN          NaN          NaN   \n",
       "462549  {'originalSize': {'height': ...        NaN          NaN          NaN   \n",
       "462550  {'originalSize': {'height': ...        NaN          NaN          NaN   \n",
       "462551  {'originalSize': {'height': ...        NaN          NaN          NaN   \n",
       "462552  {'originalSize': {'height': ...        NaN          NaN          NaN   \n",
       "\n",
       "       parser_version model_version manual_override  \n",
       "id                                                   \n",
       "462548            NaN           NaN             NaN  \n",
       "462549            NaN           NaN             NaN  \n",
       "462550            NaN           NaN             NaN  \n",
       "462551            NaN           NaN             NaN  \n",
       "462552            NaN           NaN             NaN  "
      ]
     },
     "execution_count": 4,
     "metadata": {},
     "output_type": "execute_result"
    }
   ],
   "source": [
    "df = pd.read_csv('./data/takehome.csv', index_col='id')\n",
    "pd.set_option('display.max_colwidth', 32)\n",
    "df.head()"
   ]
  },
  {
   "cell_type": "markdown",
   "metadata": {},
   "source": [
    "There's not a lot of context in the data and many of the columns seem to be mainly null (below). There is a yes/no column that seems to be correlated to the text, my initial assumption is that it describes if the text specifies a material (YES) or excludes a material (NO). So we'll keep the index column, the text column and the yes_no column. The rest of the columns need more information or context, so we'll leave them out of the analysis for now."
   ]
  },
  {
   "cell_type": "markdown",
   "metadata": {},
   "source": [
    "We check for null in the text column and drop those rows as well as the rows that won't be analyzed."
   ]
  },
  {
   "cell_type": "code",
   "execution_count": 5,
   "metadata": {
    "scrolled": false
   },
   "outputs": [
    {
     "data": {
      "text/plain": [
       "text                    3\n",
       "added_datetime          0\n",
       "yes_no                  0\n",
       "image_coordinates     660\n",
       "image_url            1000\n",
       "original_id          1000\n",
       "page_number          1000\n",
       "parser_version        340\n",
       "model_version         340\n",
       "manual_override       340\n",
       "dtype: int64"
      ]
     },
     "execution_count": 5,
     "metadata": {},
     "output_type": "execute_result"
    }
   ],
   "source": [
    "df.isnull().sum()"
   ]
  },
  {
   "cell_type": "code",
   "execution_count": 6,
   "metadata": {},
   "outputs": [
    {
     "data": {
      "text/plain": [
       "text      0\n",
       "yes_no    0\n",
       "dtype: int64"
      ]
     },
     "execution_count": 6,
     "metadata": {},
     "output_type": "execute_result"
    }
   ],
   "source": [
    "df = df[['text', 'yes_no']]\n",
    "df.dropna(subset=['text'], inplace=True)\n",
    "df.isnull().sum()"
   ]
  },
  {
   "cell_type": "code",
   "execution_count": 7,
   "metadata": {},
   "outputs": [
    {
     "data": {
      "text/plain": [
       "(997, 2)"
      ]
     },
     "execution_count": 7,
     "metadata": {},
     "output_type": "execute_result"
    }
   ],
   "source": [
    "df.shape"
   ]
  },
  {
   "cell_type": "code",
   "execution_count": 8,
   "metadata": {},
   "outputs": [
    {
     "data": {
      "text/html": [
       "<div>\n",
       "<style scoped>\n",
       "    .dataframe tbody tr th:only-of-type {\n",
       "        vertical-align: middle;\n",
       "    }\n",
       "\n",
       "    .dataframe tbody tr th {\n",
       "        vertical-align: top;\n",
       "    }\n",
       "\n",
       "    .dataframe thead th {\n",
       "        text-align: right;\n",
       "    }\n",
       "</style>\n",
       "<table border=\"1\" class=\"dataframe\">\n",
       "  <thead>\n",
       "    <tr style=\"text-align: right;\">\n",
       "      <th></th>\n",
       "      <th>text</th>\n",
       "      <th>yes_no</th>\n",
       "    </tr>\n",
       "    <tr>\n",
       "      <th>id</th>\n",
       "      <th></th>\n",
       "      <th></th>\n",
       "    </tr>\n",
       "  </thead>\n",
       "  <tbody>\n",
       "    <tr>\n",
       "      <th>462548</th>\n",
       "      <td>No plastic bags or pesticide...</td>\n",
       "      <td>no</td>\n",
       "    </tr>\n",
       "    <tr>\n",
       "      <th>462549</th>\n",
       "      <td>No paint or aerosol cans .</td>\n",
       "      <td>no</td>\n",
       "    </tr>\n",
       "    <tr>\n",
       "      <th>462550</th>\n",
       "      <td>Tin and aluminum food and dr...</td>\n",
       "      <td>yes</td>\n",
       "    </tr>\n",
       "    <tr>\n",
       "      <th>462551</th>\n",
       "      <td>Corrugated and non corrugate...</td>\n",
       "      <td>yes</td>\n",
       "    </tr>\n",
       "    <tr>\n",
       "      <th>462552</th>\n",
       "      <td>Includes all colors office p...</td>\n",
       "      <td>yes</td>\n",
       "    </tr>\n",
       "  </tbody>\n",
       "</table>\n",
       "</div>"
      ],
      "text/plain": [
       "                                   text yes_no\n",
       "id                                            \n",
       "462548  No plastic bags or pesticide...     no\n",
       "462549       No paint or aerosol cans .     no\n",
       "462550  Tin and aluminum food and dr...    yes\n",
       "462551  Corrugated and non corrugate...    yes\n",
       "462552  Includes all colors office p...    yes"
      ]
     },
     "execution_count": 8,
     "metadata": {},
     "output_type": "execute_result"
    }
   ],
   "source": [
    "df.head()"
   ]
  },
  {
   "cell_type": "markdown",
   "metadata": {},
   "source": [
    "Now we are going to clean the text to remove unwanted characters and be able to compare word counts and do other data manipulation."
   ]
  },
  {
   "cell_type": "code",
   "execution_count": 9,
   "metadata": {},
   "outputs": [],
   "source": [
    "def clean_text(text):\n",
    "    \"\"\"\n",
    "    Accepts a single text document and performs several regex\n",
    "    substitutions in order to clean the document.\n",
    "    Parameters\n",
    "    ----------\n",
    "    text: string\n",
    "    Returns\n",
    "    -------\n",
    "    text: list of words\n",
    "    \"\"\"\n",
    "    special_chars_regex = '[:?,.>$|!\\'\"]'\n",
    "    white_spaces_regex = '[ ]{2,}'\n",
    "    text = re.sub('[^a-zA-Z ]', \" \", text)\n",
    "    text = re.sub(special_chars_regex, \" \", text)\n",
    "    text = re.sub(white_spaces_regex, \" \", text)\n",
    "    return text"
   ]
  },
  {
   "cell_type": "code",
   "execution_count": 10,
   "metadata": {
    "scrolled": true
   },
   "outputs": [],
   "source": [
    "df['text'] = [clean_text(text) for text in df['text']]\n"
   ]
  },
  {
   "cell_type": "markdown",
   "metadata": {},
   "source": [
    "Let's look at how many words each row contains. Makes sense that there would be a correlation between the number of materials in the classification and the number of words in the text. We'll add that data as a column and plot the histogram. We can see that the vast majority of text is under 10 words. Maybe this would be useful in the future (ie. applying different models, or manually reviewing rows with the long text)."
   ]
  },
  {
   "cell_type": "code",
   "execution_count": 11,
   "metadata": {},
   "outputs": [
    {
     "data": {
      "text/plain": [
       "(array([  2., 159., 196.,  71.,  62., 238.,  34.,  34.,  19.,  17.,  12.,\n",
       "         12.,  11.,  12.,   7.,  10.,   7.,   9.,   4.,   8.,   6.,   5.,\n",
       "          3.,   2.,   1.,   2.,   3.,   0.,   9.]),\n",
       " array([ 0,  1,  2,  3,  4,  5,  6,  7,  8,  9, 10, 11, 12, 13, 14, 15, 16,\n",
       "        17, 18, 19, 20, 21, 22, 23, 24, 25, 26, 27, 28, 29]),\n",
       " <BarContainer object of 29 artists>)"
      ]
     },
     "execution_count": 11,
     "metadata": {},
     "output_type": "execute_result"
    },
    {
     "data": {
      "image/png": "[encoded data removed]",
      "text/plain": [
       "<Figure size 432x288 with 1 Axes>"
      ]
     },
     "metadata": {
      "needs_background": "light"
     },
     "output_type": "display_data"
    }
   ],
   "source": [
    "df['num_of_words'] = [len(text.split()) for text in df['text']]\n",
    "plt.hist(df['num_of_words'],bins=range(30))"
   ]
  },
  {
   "cell_type": "markdown",
   "metadata": {},
   "source": [
    "We are going to plot the most common words in a histogram by creating a Document Term Matrix with sklearn and then counting the word frequencies. We are using unigrams and bigrams for the analysis."
   ]
  },
  {
   "cell_type": "code",
   "execution_count": 12,
   "metadata": {},
   "outputs": [],
   "source": [
    "cv = CountVectorizer(stop_words='english', ngram_range=[1,2]) \n",
    "cv_matrix = cv.fit_transform(df['text']) \n",
    "# create document term matrix\n",
    "df_dtm = pd.DataFrame(cv_matrix.toarray(), columns=cv.get_feature_names_out())"
   ]
  },
  {
   "cell_type": "code",
   "execution_count": 13,
   "metadata": {},
   "outputs": [
    {
     "data": {
      "text/plain": [
       "<BarContainer object of 10 artists>"
      ]
     },
     "execution_count": 13,
     "metadata": {},
     "output_type": "execute_result"
    },
    {
     "data": {
      "image/png": "[encoded data removed]",
      "text/plain": [
       "<Figure size 1440x640 with 1 Axes>"
      ]
     },
     "metadata": {
      "needs_background": "light"
     },
     "output_type": "display_data"
    }
   ],
   "source": [
    "word_count = pd.DataFrame(index=cv.get_feature_names_out(), data=[df_dtm[feature].sum() for feature in cv.get_feature_names_out()], \n",
    "             columns=['count']).sort_values(by=['count'], axis=0, ascending=False)\n",
    "plt.figure(figsize=(18, 8), dpi=80)\n",
    "plt.bar(word_count[:10].index, word_count['count'][:10])"
   ]
  },
  {
   "cell_type": "markdown",
   "metadata": {},
   "source": [
    "We find that 'category', 'selected manually', etc. are a large part of the word count, which is odd so we look at the rows that contain 'category':"
   ]
  },
  {
   "cell_type": "code",
   "execution_count": 14,
   "metadata": {},
   "outputs": [
    {
     "data": {
      "text/plain": [
       "[(462634,\n",
       "  'Mixed Paper This category includes all other paper such as notebook paper Post it notes colored copy paper computer paper and white copy paper white envelopes green bar or blue bar computer paper junk mail etc Staples are OK '),\n",
       " (280510, 'No text category selected manually'),\n",
       " (280512, 'No text category selected manually'),\n",
       " (280573, 'No text category selected manually'),\n",
       " (306757, 'No text category selected manually'),\n",
       " (310641, 'No text category selected manually'),\n",
       " (280536, 'No text category selected manually'),\n",
       " (280537, 'No text category selected manually'),\n",
       " (280538, 'No text category selected manually'),\n",
       " (280539, 'No text category selected manually'),\n",
       " (280540, 'No text category selected manually'),\n",
       " (280541, 'No text category selected manually'),\n",
       " (280542, 'No text category selected manually'),\n",
       " (280543, 'No text category selected manually'),\n",
       " (280544, 'No text category selected manually'),\n",
       " (280545, 'No text category selected manually'),\n",
       " (280546, 'No text category selected manually'),\n",
       " (312353, 'No text category selected manually'),\n",
       " (312354, 'No text category selected manually'),\n",
       " (312355, 'No text category selected manually'),\n",
       " (280574, 'No text category selected manually'),\n",
       " (280575, 'No text category selected manually'),\n",
       " (280576, 'No text category selected manually'),\n",
       " (280577, 'No text category selected manually'),\n",
       " (280578, 'No text category selected manually'),\n",
       " (280579, 'No text category selected manually'),\n",
       " (280580, 'No text category selected manually'),\n",
       " (280581, 'No text category selected manually'),\n",
       " (280582, 'No text category selected manually'),\n",
       " (280586, 'No text category selected manually'),\n",
       " (314654, 'No text category selected manually'),\n",
       " (314655, 'No text category selected manually'),\n",
       " (314656, 'No text category selected manually'),\n",
       " (317211, 'No text category selected manually'),\n",
       " (317212, 'No text category selected manually'),\n",
       " (317213, 'No text category selected manually'),\n",
       " (317214, 'No text category selected manually'),\n",
       " (317215, 'No text category selected manually'),\n",
       " (320147, 'No text category selected manually'),\n",
       " (320148, 'No text category selected manually'),\n",
       " (320149, 'No text category selected manually'),\n",
       " (320150, 'No text category selected manually'),\n",
       " (320151, 'No text category selected manually'),\n",
       " (320152, 'No text category selected manually'),\n",
       " (321942, 'No text category selected manually'),\n",
       " (300292, 'No text category selected manually'),\n",
       " (300293, 'No text category selected manually'),\n",
       " (300294, 'No text category selected manually'),\n",
       " (300295, 'No text category selected manually'),\n",
       " (300296, 'No text category selected manually'),\n",
       " (300297, 'No text category selected manually'),\n",
       " (300298, 'No text category selected manually'),\n",
       " (300299, 'No text category selected manually'),\n",
       " (300300, 'No text category selected manually'),\n",
       " (300301, 'No text category selected manually'),\n",
       " (300302, 'No text category selected manually'),\n",
       " (323583, 'No text category selected manually'),\n",
       " (323584, 'No text category selected manually'),\n",
       " (323585, 'No text category selected manually'),\n",
       " (323586, 'No text category selected manually'),\n",
       " (323587, 'No text category selected manually'),\n",
       " (317216, 'No text category selected manually'),\n",
       " (317217, 'No text category selected manually'),\n",
       " (317218, 'No text category selected manually'),\n",
       " (317219, 'No text category selected manually'),\n",
       " (300868, 'No text category selected manually'),\n",
       " (314657, 'No text category selected manually'),\n",
       " (314658, 'No text category selected manually'),\n",
       " (301023, 'No text category selected manually'),\n",
       " (301024, 'No text category selected manually'),\n",
       " (301025, 'No text category selected manually'),\n",
       " (301026, 'No text category selected manually'),\n",
       " (301027, 'No text category selected manually'),\n",
       " (301028, 'No text category selected manually'),\n",
       " (301029, 'No text category selected manually'),\n",
       " (301030, 'No text category selected manually'),\n",
       " (301031, 'No text category selected manually'),\n",
       " (280649, 'No text category selected manually'),\n",
       " (306878, 'No text category selected manually'),\n",
       " (306879, 'No text category selected manually'),\n",
       " (312428, 'No text category selected manually'),\n",
       " (312429, 'No text category selected manually'),\n",
       " (314659, 'No text category selected manually'),\n",
       " (314660, 'No text category selected manually'),\n",
       " (317220, 'No text category selected manually'),\n",
       " (321943, 'No text category selected manually'),\n",
       " (321944, 'No text category selected manually'),\n",
       " (321945, 'No text category selected manually'),\n",
       " (321946, 'No text category selected manually'),\n",
       " (323588, 'No text category selected manually'),\n",
       " (323589, 'No text category selected manually'),\n",
       " (323590, 'No text category selected manually'),\n",
       " (326452, 'No text category selected manually'),\n",
       " (326453, 'No text category selected manually'),\n",
       " (329140, 'No text category selected manually'),\n",
       " (329141, 'No text category selected manually'),\n",
       " (330248, 'No text category selected manually'),\n",
       " (330249, 'No text category selected manually'),\n",
       " (330250, 'No text category selected manually'),\n",
       " (331580, 'No text category selected manually'),\n",
       " (332974, 'No text category selected manually'),\n",
       " (332975, 'No text category selected manually'),\n",
       " (335451, 'No text category selected manually'),\n",
       " (335452, 'No text category selected manually'),\n",
       " (335453, 'No text category selected manually'),\n",
       " (335454, 'No text category selected manually'),\n",
       " (335455, 'No text category selected manually'),\n",
       " (336192, 'No text category selected manually'),\n",
       " (336193, 'No text category selected manually'),\n",
       " (340004, 'No text category selected manually'),\n",
       " (340005, 'No text category selected manually'),\n",
       " (341324, 'No text category selected manually'),\n",
       " (341325, 'No text category selected manually'),\n",
       " (341326, 'No text category selected manually'),\n",
       " (303187, 'No text category selected manually'),\n",
       " (303188, 'No text category selected manually'),\n",
       " (303189, 'No text category selected manually'),\n",
       " (303190, 'No text category selected manually'),\n",
       " (303191, 'No text category selected manually'),\n",
       " (303192, 'No text category selected manually'),\n",
       " (303193, 'No text category selected manually'),\n",
       " (303194, 'No text category selected manually'),\n",
       " (303195, 'No text category selected manually'),\n",
       " (303196, 'No text category selected manually'),\n",
       " (303197, 'No text category selected manually'),\n",
       " (303198, 'No text category selected manually'),\n",
       " (341807, 'No text category selected manually'),\n",
       " (341808, 'No text category selected manually'),\n",
       " (342127, 'No text category selected manually'),\n",
       " (342128, 'No text category selected manually'),\n",
       " (342129, 'No text category selected manually'),\n",
       " (343992, 'No text category selected manually'),\n",
       " (344784, 'No text category selected manually'),\n",
       " (344785, 'No text category selected manually'),\n",
       " (345458, 'No text category selected manually'),\n",
       " (345459, 'No text category selected manually'),\n",
       " (345460, 'No text category selected manually'),\n",
       " (345461, 'No text category selected manually'),\n",
       " (304269, 'No text category selected manually'),\n",
       " (304270, 'No text category selected manually'),\n",
       " (304271, 'No text category selected manually'),\n",
       " (346399, 'No text category selected manually'),\n",
       " (346737, 'No text category selected manually'),\n",
       " (346738, 'No text category selected manually'),\n",
       " (346739, 'No text category selected manually'),\n",
       " (348790, 'No text category selected manually'),\n",
       " (349344, 'No text category selected manually'),\n",
       " (349345, 'No text category selected manually'),\n",
       " (349346, 'No text category selected manually'),\n",
       " (349629, 'No text category selected manually'),\n",
       " (349630, 'No text category selected manually'),\n",
       " (349940, 'No text category selected manually'),\n",
       " (349941, 'No text category selected manually'),\n",
       " (349942, 'No text category selected manually'),\n",
       " (350248, 'No text category selected manually'),\n",
       " (350737, 'No text category selected manually'),\n",
       " (350738, 'No text category selected manually'),\n",
       " (304910, 'No text category selected manually'),\n",
       " (304911, 'No text category selected manually'),\n",
       " (304912, 'No text category selected manually'),\n",
       " (304913, 'No text category selected manually'),\n",
       " (304914, 'No text category selected manually'),\n",
       " (304915, 'No text category selected manually'),\n",
       " (304916, 'No text category selected manually'),\n",
       " (304917, 'No text category selected manually'),\n",
       " (304918, 'No text category selected manually'),\n",
       " (304919, 'No text category selected manually'),\n",
       " (304920, 'No text category selected manually'),\n",
       " (351488, 'No text category selected manually'),\n",
       " (351489, 'No text category selected manually'),\n",
       " (351490, 'No text category selected manually'),\n",
       " (351491, 'No text category selected manually'),\n",
       " (351492, 'No text category selected manually'),\n",
       " (352209, 'No text category selected manually'),\n",
       " (352210, 'No text category selected manually'),\n",
       " (352211, 'No text category selected manually'),\n",
       " (300359, 'No text category selected manually'),\n",
       " (300360, 'No text category selected manually'),\n",
       " (300361, 'No text category selected manually'),\n",
       " (300362, 'No text category selected manually'),\n",
       " (300363, 'No text category selected manually'),\n",
       " (300364, 'No text category selected manually'),\n",
       " (300365, 'No text category selected manually'),\n",
       " (300366, 'No text category selected manually'),\n",
       " (300367, 'No text category selected manually'),\n",
       " (300368, 'No text category selected manually'),\n",
       " (300369, 'No text category selected manually'),\n",
       " (300370, 'No text category selected manually'),\n",
       " (300371, 'No text category selected manually'),\n",
       " (300372, 'No text category selected manually')]"
      ]
     },
     "execution_count": 14,
     "metadata": {},
     "output_type": "execute_result"
    }
   ],
   "source": [
    "[(index, text) for (index, text) in zip(df.index, df['text']) if 'category' in text]"
   ]
  },
  {
   "cell_type": "markdown",
   "metadata": {},
   "source": [
    "We find there's quite a bit of rows with 'No text category selected manually' as their only data. With more context, this data could prove useful, but for now we'll drop these rows and re-run the analysis."
   ]
  },
  {
   "cell_type": "code",
   "execution_count": 15,
   "metadata": {},
   "outputs": [
    {
     "data": {
      "text/plain": [
       "(808, 3)"
      ]
     },
     "execution_count": 15,
     "metadata": {},
     "output_type": "execute_result"
    }
   ],
   "source": [
    "df = df[df['text'] != 'No text category selected manually']\n",
    "df.shape"
   ]
  },
  {
   "cell_type": "markdown",
   "metadata": {},
   "source": [
    "Re-running the analysis, it looks as expected, the most frequent words are for objects or materials that are recyclable."
   ]
  },
  {
   "cell_type": "code",
   "execution_count": 16,
   "metadata": {},
   "outputs": [
    {
     "data": {
      "text/plain": [
       "<BarContainer object of 20 artists>"
      ]
     },
     "execution_count": 16,
     "metadata": {},
     "output_type": "execute_result"
    },
    {
     "data": {
      "image/png": "[encoded data removed]",
      "text/plain": [
       "<Figure size 1445x510 with 1 Axes>"
      ]
     },
     "metadata": {
      "needs_background": "light"
     },
     "output_type": "display_data"
    }
   ],
   "source": [
    "cv = CountVectorizer(stop_words='english') \n",
    "cv_matrix = cv.fit_transform(df['text']) \n",
    "# create document term matrix\n",
    "df_dtm = pd.DataFrame(cv_matrix.toarray(), columns=cv.get_feature_names_out())\n",
    "#Word count\n",
    "word_count = pd.DataFrame(index=cv.get_feature_names_out(), data=[df_dtm[feature].sum() for feature in cv.get_feature_names_out()], \n",
    "             columns=['count']).sort_values(by=['count'], axis=0, ascending=False)\n",
    "plt.figure(figsize=(17, 6), dpi=85)\n",
    "plt.bar(word_count[:20].index, word_count['count'][:20])"
   ]
  },
  {
   "cell_type": "code",
   "execution_count": null,
   "metadata": {},
   "outputs": [],
   "source": []
  },
  {
   "cell_type": "markdown",
   "metadata": {},
   "source": [
    "We'll also run the word count per row again:"
   ]
  },
  {
   "cell_type": "code",
   "execution_count": 17,
   "metadata": {},
   "outputs": [
    {
     "data": {
      "text/plain": [
       "(array([  2., 159., 196.,  71.,  62.,  49.,  34.,  34.,  19.,  17.,  12.,\n",
       "         12.,  11.,  12.,   7.,  10.,   7.,   9.,   4.,   8.,   6.,   5.,\n",
       "          3.,   2.,   1.,   2.,   3.,   0.,   9.]),\n",
       " array([ 0,  1,  2,  3,  4,  5,  6,  7,  8,  9, 10, 11, 12, 13, 14, 15, 16,\n",
       "        17, 18, 19, 20, 21, 22, 23, 24, 25, 26, 27, 28, 29]),\n",
       " <BarContainer object of 29 artists>)"
      ]
     },
     "execution_count": 17,
     "metadata": {},
     "output_type": "execute_result"
    },
    {
     "data": {
      "image/png": "[encoded data removed]",
      "text/plain": [
       "<Figure size 432x288 with 1 Axes>"
      ]
     },
     "metadata": {
      "needs_background": "light"
     },
     "output_type": "display_data"
    }
   ],
   "source": [
    "plt.hist(df['num_of_words'],bins=range(30))"
   ]
  },
  {
   "cell_type": "markdown",
   "metadata": {},
   "source": [
    "Let's take a look at the rows with over 25 words:"
   ]
  },
  {
   "cell_type": "code",
   "execution_count": 18,
   "metadata": {},
   "outputs": [
    {
     "data": {
      "text/html": [
       "<div>\n",
       "<style scoped>\n",
       "    .dataframe tbody tr th:only-of-type {\n",
       "        vertical-align: middle;\n",
       "    }\n",
       "\n",
       "    .dataframe tbody tr th {\n",
       "        vertical-align: top;\n",
       "    }\n",
       "\n",
       "    .dataframe thead th {\n",
       "        text-align: right;\n",
       "    }\n",
       "</style>\n",
       "<table border=\"1\" class=\"dataframe\">\n",
       "  <thead>\n",
       "    <tr style=\"text-align: right;\">\n",
       "      <th></th>\n",
       "      <th>text</th>\n",
       "      <th>yes_no</th>\n",
       "      <th>num_of_words</th>\n",
       "    </tr>\n",
       "    <tr>\n",
       "      <th>id</th>\n",
       "      <th></th>\n",
       "      <th></th>\n",
       "      <th></th>\n",
       "    </tr>\n",
       "  </thead>\n",
       "  <tbody>\n",
       "    <tr>\n",
       "      <th>462563</th>\n",
       "      <td>Plastics such as those from Cleaners Food containers Bleach Milk Cooking oils Pill bottles Cosmetics lotions Shampoo conditioner Soft drinks Deter...</td>\n",
       "      <td>yes</td>\n",
       "      <td>26</td>\n",
       "    </tr>\n",
       "    <tr>\n",
       "      <th>462564</th>\n",
       "      <td>Catalogs Cereal boxes Shredded paper Mail Toilet paper rolls Frozen food boxes Greeting cards Boxboard e g pop boxes</td>\n",
       "      <td>yes</td>\n",
       "      <td>19</td>\n",
       "    </tr>\n",
       "    <tr>\n",
       "      <th>462565</th>\n",
       "      <td>Office paper white and colored Phonebooks Corrugated cardboard Tissue boxes Snack boxes Pop and beer cartons Wrapping paper tubes Paper gift shopp...</td>\n",
       "      <td>yes</td>\n",
       "      <td>30</td>\n",
       "    </tr>\n",
       "    <tr>\n",
       "      <th>462566</th>\n",
       "      <td>Newspaper advertisements Magazines Shoe boxes Paperback books Paper egg cartons Paper towel rolls Tissue paper Kraft paper bags Gable Top Containe...</td>\n",
       "      <td>yes</td>\n",
       "      <td>26</td>\n",
       "    </tr>\n",
       "    <tr>\n",
       "      <th>462567</th>\n",
       "      <td>Aluminum and metal cans foil and foil trays lids and aerosol spray cans must be empty Please</td>\n",
       "      <td>yes</td>\n",
       "      <td>17</td>\n",
       "    </tr>\n",
       "  </tbody>\n",
       "</table>\n",
       "</div>"
      ],
      "text/plain": [
       "                                                                                                                                                         text  \\\n",
       "id                                                                                                                                                              \n",
       "462563  Plastics such as those from Cleaners Food containers Bleach Milk Cooking oils Pill bottles Cosmetics lotions Shampoo conditioner Soft drinks Deter...   \n",
       "462564                                  Catalogs Cereal boxes Shredded paper Mail Toilet paper rolls Frozen food boxes Greeting cards Boxboard e g pop boxes    \n",
       "462565  Office paper white and colored Phonebooks Corrugated cardboard Tissue boxes Snack boxes Pop and beer cartons Wrapping paper tubes Paper gift shopp...   \n",
       "462566  Newspaper advertisements Magazines Shoe boxes Paperback books Paper egg cartons Paper towel rolls Tissue paper Kraft paper bags Gable Top Containe...   \n",
       "462567                                                           Aluminum and metal cans foil and foil trays lids and aerosol spray cans must be empty Please   \n",
       "\n",
       "       yes_no  num_of_words  \n",
       "id                           \n",
       "462563    yes            26  \n",
       "462564    yes            19  \n",
       "462565    yes            30  \n",
       "462566    yes            26  \n",
       "462567    yes            17  "
      ]
     },
     "execution_count": 18,
     "metadata": {},
     "output_type": "execute_result"
    }
   ],
   "source": [
    "pd.set_option('display.max_colwidth', 150)\n",
    "df[df['num_of_words'] > 15].head()\n",
    "df[df['num_of_words'] > 15].head()"
   ]
  },
  {
   "cell_type": "markdown",
   "metadata": {},
   "source": [
    "#### We'll separate the yes and no rows in two different dataframes."
   ]
  },
  {
   "cell_type": "code",
   "execution_count": 19,
   "metadata": {},
   "outputs": [],
   "source": [
    "df_yes = df.loc[df['yes_no'] == 'yes']\n",
    "df_no = df.loc[df['yes_no'] == 'no']"
   ]
  },
  {
   "cell_type": "code",
   "execution_count": 20,
   "metadata": {
    "scrolled": true
   },
   "outputs": [
    {
     "name": "stdout",
     "output_type": "stream",
     "text": [
      "(681, 3)\n",
      "(127, 3)\n"
     ]
    }
   ],
   "source": [
    "print(df_yes.shape)\n",
    "print(df_no.shape)\n"
   ]
  },
  {
   "cell_type": "markdown",
   "metadata": {},
   "source": [
    "Let's run the word-count analysis for df_no, it'd be interesting to see what is being excluded. "
   ]
  },
  {
   "cell_type": "code",
   "execution_count": 21,
   "metadata": {},
   "outputs": [
    {
     "data": {
      "text/html": [
       "<div>\n",
       "<style scoped>\n",
       "    .dataframe tbody tr th:only-of-type {\n",
       "        vertical-align: middle;\n",
       "    }\n",
       "\n",
       "    .dataframe tbody tr th {\n",
       "        vertical-align: top;\n",
       "    }\n",
       "\n",
       "    .dataframe thead th {\n",
       "        text-align: right;\n",
       "    }\n",
       "</style>\n",
       "<table border=\"1\" class=\"dataframe\">\n",
       "  <thead>\n",
       "    <tr style=\"text-align: right;\">\n",
       "      <th></th>\n",
       "      <th>text</th>\n",
       "      <th>yes_no</th>\n",
       "      <th>num_of_words</th>\n",
       "    </tr>\n",
       "    <tr>\n",
       "      <th>id</th>\n",
       "      <th></th>\n",
       "      <th></th>\n",
       "      <th></th>\n",
       "    </tr>\n",
       "  </thead>\n",
       "  <tbody>\n",
       "    <tr>\n",
       "      <th>462548</th>\n",
       "      <td>No plastic bags or pesticide containers</td>\n",
       "      <td>no</td>\n",
       "      <td>6</td>\n",
       "    </tr>\n",
       "    <tr>\n",
       "      <th>462549</th>\n",
       "      <td>No paint or aerosol cans</td>\n",
       "      <td>no</td>\n",
       "      <td>5</td>\n",
       "    </tr>\n",
       "    <tr>\n",
       "      <th>462555</th>\n",
       "      <td>Broken glass</td>\n",
       "      <td>no</td>\n",
       "      <td>2</td>\n",
       "    </tr>\n",
       "    <tr>\n",
       "      <th>462556</th>\n",
       "      <td>Aerosol cans Gas cans</td>\n",
       "      <td>no</td>\n",
       "      <td>4</td>\n",
       "    </tr>\n",
       "    <tr>\n",
       "      <th>462557</th>\n",
       "      <td>Mirror window glass crystal drinking glass ceramics ovenware light bulbs</td>\n",
       "      <td>no</td>\n",
       "      <td>10</td>\n",
       "    </tr>\n",
       "    <tr>\n",
       "      <th>462558</th>\n",
       "      <td>Gift wrap</td>\n",
       "      <td>no</td>\n",
       "      <td>2</td>\n",
       "    </tr>\n",
       "    <tr>\n",
       "      <th>462559</th>\n",
       "      <td>Plastic grocery bags</td>\n",
       "      <td>no</td>\n",
       "      <td>3</td>\n",
       "    </tr>\n",
       "    <tr>\n",
       "      <th>462560</th>\n",
       "      <td>Styrofoam</td>\n",
       "      <td>no</td>\n",
       "      <td>1</td>\n",
       "    </tr>\n",
       "    <tr>\n",
       "      <th>462571</th>\n",
       "      <td>Shingles Ashes Chemicals Yard Waste Railroad Ties Concrete Brick Rock Dirt Large Metal Objects such as Cars Machinery Livestock Feeders Fencing etc</td>\n",
       "      <td>no</td>\n",
       "      <td>22</td>\n",
       "    </tr>\n",
       "    <tr>\n",
       "      <th>462573</th>\n",
       "      <td>Aerosol Cans Ceramic Dishes and Mugs Glass Cookware Glass Vases Food Food Waste Lightbulbs Paper Towels Facial Tissues Toilet Paper Paint Plastic ...</td>\n",
       "      <td>no</td>\n",
       "      <td>41</td>\n",
       "    </tr>\n",
       "    <tr>\n",
       "      <th>462580</th>\n",
       "      <td>Milk or juice cartons plastic or wax coated boxes or any cardboard contaminated with oil</td>\n",
       "      <td>no</td>\n",
       "      <td>15</td>\n",
       "    </tr>\n",
       "    <tr>\n",
       "      <th>462581</th>\n",
       "      <td>Paper towels plates or cups toilet paper wall paper waxed paper Christmas wrap and stickers</td>\n",
       "      <td>no</td>\n",
       "      <td>15</td>\n",
       "    </tr>\n",
       "    <tr>\n",
       "      <th>462582</th>\n",
       "      <td>Styrofoam plastic bags toys vinyl siding PVC pipe plastic feed sacks films rubber carpet foam silage bags Tyvek field tile or motor oil bottles</td>\n",
       "      <td>no</td>\n",
       "      <td>24</td>\n",
       "    </tr>\n",
       "    <tr>\n",
       "      <th>462583</th>\n",
       "      <td>Nails screws microwaves TVs computers electronics or major appliances</td>\n",
       "      <td>no</td>\n",
       "      <td>9</td>\n",
       "    </tr>\n",
       "    <tr>\n",
       "      <th>462631</th>\n",
       "      <td>NO PLASTIC BAGS OR TRASH BAGS OF ANY KIND</td>\n",
       "      <td>no</td>\n",
       "      <td>9</td>\n",
       "    </tr>\n",
       "    <tr>\n",
       "      <th>462589</th>\n",
       "      <td>Pizza boxes plastic bags unmarked plastics Styrofoam cups packaging paper towels napkins tissues cups coffee filters tea bags waxed paper or waxed...</td>\n",
       "      <td>no</td>\n",
       "      <td>85</td>\n",
       "    </tr>\n",
       "    <tr>\n",
       "      <th>462591</th>\n",
       "      <td>Shredded Paper</td>\n",
       "      <td>no</td>\n",
       "      <td>2</td>\n",
       "    </tr>\n",
       "    <tr>\n",
       "      <th>462592</th>\n",
       "      <td>Wrapping Paper</td>\n",
       "      <td>no</td>\n",
       "      <td>2</td>\n",
       "    </tr>\n",
       "    <tr>\n",
       "      <th>462593</th>\n",
       "      <td>Wax Coated Cardboard Milk Cartons Tetra Paks Dirty Greasy Pizza Boxes</td>\n",
       "      <td>no</td>\n",
       "      <td>11</td>\n",
       "    </tr>\n",
       "    <tr>\n",
       "      <th>462594</th>\n",
       "      <td>Shopping Bags Plastic Wrap Baggies Air Pillow Packaging Dry Cleaning Plastic Styrofoam Foam Food Cartons</td>\n",
       "      <td>no</td>\n",
       "      <td>15</td>\n",
       "    </tr>\n",
       "    <tr>\n",
       "      <th>462595</th>\n",
       "      <td>Glass Sheets Window Glass Light Bulbs STRA</td>\n",
       "      <td>no</td>\n",
       "      <td>7</td>\n",
       "    </tr>\n",
       "    <tr>\n",
       "      <th>462609</th>\n",
       "      <td>Paper plates or meat wrapping paper</td>\n",
       "      <td>no</td>\n",
       "      <td>6</td>\n",
       "    </tr>\n",
       "    <tr>\n",
       "      <th>462610</th>\n",
       "      <td>Wax coated beverage containers Non flattened corrugated cardboard</td>\n",
       "      <td>no</td>\n",
       "      <td>8</td>\n",
       "    </tr>\n",
       "    <tr>\n",
       "      <th>462601</th>\n",
       "      <td>Disposable diapers tube rolls Photographs greeting cards Food encrusted pizza boxes Cereal box liners pet food bags Slick Coated frozen food boxes...</td>\n",
       "      <td>no</td>\n",
       "      <td>32</td>\n",
       "    </tr>\n",
       "    <tr>\n",
       "      <th>462602</th>\n",
       "      <td>Paint and aerosol containers Pesticide and chemical containers Iron steel and batteries Car parts oil filter</td>\n",
       "      <td>no</td>\n",
       "      <td>16</td>\n",
       "    </tr>\n",
       "  </tbody>\n",
       "</table>\n",
       "</div>"
      ],
      "text/plain": [
       "                                                                                                                                                         text  \\\n",
       "id                                                                                                                                                              \n",
       "462548                                                                                                               No plastic bags or pesticide containers    \n",
       "462549                                                                                                                              No paint or aerosol cans    \n",
       "462555                                                                                                                                           Broken glass   \n",
       "462556                                                                                                                                  Aerosol cans Gas cans   \n",
       "462557                                                                               Mirror window glass crystal drinking glass ceramics ovenware light bulbs   \n",
       "462558                                                                                                                                              Gift wrap   \n",
       "462559                                                                                                                                   Plastic grocery bags   \n",
       "462560                                                                                                                                              Styrofoam   \n",
       "462571   Shingles Ashes Chemicals Yard Waste Railroad Ties Concrete Brick Rock Dirt Large Metal Objects such as Cars Machinery Livestock Feeders Fencing etc    \n",
       "462573  Aerosol Cans Ceramic Dishes and Mugs Glass Cookware Glass Vases Food Food Waste Lightbulbs Paper Towels Facial Tissues Toilet Paper Paint Plastic ...   \n",
       "462580                                                              Milk or juice cartons plastic or wax coated boxes or any cardboard contaminated with oil    \n",
       "462581                                                           Paper towels plates or cups toilet paper wall paper waxed paper Christmas wrap and stickers    \n",
       "462582       Styrofoam plastic bags toys vinyl siding PVC pipe plastic feed sacks films rubber carpet foam silage bags Tyvek field tile or motor oil bottles    \n",
       "462583                                                                                 Nails screws microwaves TVs computers electronics or major appliances    \n",
       "462631                                                                                                              NO PLASTIC BAGS OR TRASH BAGS OF ANY KIND   \n",
       "462589  Pizza boxes plastic bags unmarked plastics Styrofoam cups packaging paper towels napkins tissues cups coffee filters tea bags waxed paper or waxed...   \n",
       "462591                                                                                                                                         Shredded Paper   \n",
       "462592                                                                                                                                         Wrapping Paper   \n",
       "462593                                                                                  Wax Coated Cardboard Milk Cartons Tetra Paks Dirty Greasy Pizza Boxes   \n",
       "462594                                               Shopping Bags Plastic Wrap Baggies Air Pillow Packaging Dry Cleaning Plastic Styrofoam Foam Food Cartons   \n",
       "462595                                                                                                             Glass Sheets Window Glass Light Bulbs STRA   \n",
       "462609                                                                                                                   Paper plates or meat wrapping paper    \n",
       "462610                                                                                     Wax coated beverage containers Non flattened corrugated cardboard    \n",
       "462601  Disposable diapers tube rolls Photographs greeting cards Food encrusted pizza boxes Cereal box liners pet food bags Slick Coated frozen food boxes...   \n",
       "462602                                           Paint and aerosol containers Pesticide and chemical containers Iron steel and batteries Car parts oil filter   \n",
       "\n",
       "       yes_no  num_of_words  \n",
       "id                           \n",
       "462548     no             6  \n",
       "462549     no             5  \n",
       "462555     no             2  \n",
       "462556     no             4  \n",
       "462557     no            10  \n",
       "462558     no             2  \n",
       "462559     no             3  \n",
       "462560     no             1  \n",
       "462571     no            22  \n",
       "462573     no            41  \n",
       "462580     no            15  \n",
       "462581     no            15  \n",
       "462582     no            24  \n",
       "462583     no             9  \n",
       "462631     no             9  \n",
       "462589     no            85  \n",
       "462591     no             2  \n",
       "462592     no             2  \n",
       "462593     no            11  \n",
       "462594     no            15  \n",
       "462595     no             7  \n",
       "462609     no             6  \n",
       "462610     no             8  \n",
       "462601     no            32  \n",
       "462602     no            16  "
      ]
     },
     "execution_count": 21,
     "metadata": {},
     "output_type": "execute_result"
    }
   ],
   "source": [
    "df_no.head(25)"
   ]
  },
  {
   "cell_type": "markdown",
   "metadata": {},
   "source": [
    "As expected, many of the most common words are of non-recyclable materials (food, waste, oil, etc.), there are some recyclable materials (plastic bags) in the list, which probably means they go in a different bin."
   ]
  },
  {
   "cell_type": "code",
   "execution_count": 22,
   "metadata": {},
   "outputs": [],
   "source": [
    "cv = CountVectorizer(stop_words='english', ngram_range=[1,2]) \n",
    "cv_matrix = cv.fit_transform(df_no['text']) \n",
    "# create document term matrix\n",
    "df_dtm = pd.DataFrame(cv_matrix.toarray(), columns=cv.get_feature_names_out())"
   ]
  },
  {
   "cell_type": "code",
   "execution_count": 23,
   "metadata": {},
   "outputs": [
    {
     "data": {
      "text/plain": [
       "<BarContainer object of 20 artists>"
      ]
     },
     "execution_count": 23,
     "metadata": {},
     "output_type": "execute_result"
    },
    {
     "data": {
      "image/png": "[encoded data removed]",
      "text/plain": [
       "<Figure size 1530x510 with 1 Axes>"
      ]
     },
     "metadata": {
      "needs_background": "light"
     },
     "output_type": "display_data"
    }
   ],
   "source": [
    "word_count = pd.DataFrame(index=cv.get_feature_names_out(), data=[df_dtm[feature].sum() for feature in cv.get_feature_names_out()], \n",
    "             columns=['count']).sort_values(by=['count'], axis=0, ascending=False)\n",
    "plt.figure(figsize=(18, 6), dpi=85)\n",
    "plt.bar(word_count[:20].index, word_count['count'][:20])"
   ]
  },
  {
   "cell_type": "code",
   "execution_count": 24,
   "metadata": {},
   "outputs": [
    {
     "data": {
      "text/html": [
       "<div>\n",
       "<style scoped>\n",
       "    .dataframe tbody tr th:only-of-type {\n",
       "        vertical-align: middle;\n",
       "    }\n",
       "\n",
       "    .dataframe tbody tr th {\n",
       "        vertical-align: top;\n",
       "    }\n",
       "\n",
       "    .dataframe thead th {\n",
       "        text-align: right;\n",
       "    }\n",
       "</style>\n",
       "<table border=\"1\" class=\"dataframe\">\n",
       "  <thead>\n",
       "    <tr style=\"text-align: right;\">\n",
       "      <th></th>\n",
       "      <th>count</th>\n",
       "    </tr>\n",
       "  </thead>\n",
       "  <tbody>\n",
       "    <tr>\n",
       "      <th>plastic bags</th>\n",
       "      <td>27</td>\n",
       "    </tr>\n",
       "    <tr>\n",
       "      <th>light bulbs</th>\n",
       "      <td>12</td>\n",
       "    </tr>\n",
       "    <tr>\n",
       "      <th>window glass</th>\n",
       "      <td>8</td>\n",
       "    </tr>\n",
       "    <tr>\n",
       "      <th>food waste</th>\n",
       "      <td>8</td>\n",
       "    </tr>\n",
       "    <tr>\n",
       "      <th>motor oil</th>\n",
       "      <td>6</td>\n",
       "    </tr>\n",
       "    <tr>\n",
       "      <th>waxed paper</th>\n",
       "      <td>6</td>\n",
       "    </tr>\n",
       "    <tr>\n",
       "      <th>wrapping paper</th>\n",
       "      <td>5</td>\n",
       "    </tr>\n",
       "    <tr>\n",
       "      <th>bags plastic</th>\n",
       "      <td>5</td>\n",
       "    </tr>\n",
       "    <tr>\n",
       "      <th>aerosol cans</th>\n",
       "      <td>5</td>\n",
       "    </tr>\n",
       "    <tr>\n",
       "      <th>pizza boxes</th>\n",
       "      <td>5</td>\n",
       "    </tr>\n",
       "  </tbody>\n",
       "</table>\n",
       "</div>"
      ],
      "text/plain": [
       "                count\n",
       "plastic bags       27\n",
       "light bulbs        12\n",
       "window glass        8\n",
       "food waste          8\n",
       "motor oil           6\n",
       "waxed paper         6\n",
       "wrapping paper      5\n",
       "bags plastic        5\n",
       "aerosol cans        5\n",
       "pizza boxes         5"
      ]
     },
     "execution_count": 24,
     "metadata": {},
     "output_type": "execute_result"
    }
   ],
   "source": [
    "word_count[word_count.index.str.contains(' ')][:10]"
   ]
  },
  {
   "cell_type": "markdown",
   "metadata": {},
   "source": [
    "# LDA"
   ]
  },
  {
   "cell_type": "markdown",
   "metadata": {},
   "source": [
    "We'll apply LDA to df_yes and df_no separately to see which words tend to appear together on each."
   ]
  },
  {
   "cell_type": "code",
   "execution_count": 33,
   "metadata": {},
   "outputs": [],
   "source": [
    "def tokenize(doc):\n",
    "# run the clean_data function on the text\n",
    "    text = clean_text(doc)\n",
    "# Instantiatie language model\n",
    "    doc = nlp(text)\n",
    "    STOP_WORDS = nlp.Defaults.stop_words.union('', 'the', 'this', '-pron-', 'no ', 'non' )\n",
    "    return [token.lemma_.lower().lstrip().rstrip() for token in doc \n",
    "            if (token.text not in STOP_WORDS) \n",
    "            and (token.is_punct != True)\n",
    "            and (token.text not in '')\n",
    "            and (len(token.text)>1)]"
   ]
  },
  {
   "cell_type": "code",
   "execution_count": 52,
   "metadata": {
    "scrolled": true
   },
   "outputs": [],
   "source": [
    "def apply_lda(df):\n",
    "    # prepare data for LDA model\n",
    "    lemmas = [tokenize(text) for text in df['text'] ]\n",
    "    #Prepare bag of words\n",
    "    id2words = corpora.Dictionary(lemmas)\n",
    "    corpus = [id2words.doc2bow(lemma) for lemma in lemmas]\n",
    "    # prepare model\n",
    "    lda_multicore = gensim.models.ldamulticore.LdaMulticore(corpus=corpus,\n",
    "                                                        id2word=id2words,\n",
    "                                                        num_topics=4,\n",
    "                                                        chunksize=10,\n",
    "                                                        passes=100,\n",
    "                                                        per_word_topics=True,\n",
    "                                                        workers=6)\n"
   ]
  },
  {
   "cell_type": "code",
   "execution_count": null,
   "metadata": {},
   "outputs": [],
   "source": []
  },
  {
   "cell_type": "markdown",
   "metadata": {},
   "source": [
    "## df_yes LDA"
   ]
  },
  {
   "cell_type": "code",
   "execution_count": 53,
   "metadata": {
    "scrolled": true
   },
   "outputs": [],
   "source": [
    "apply_lda(df_yes)"
   ]
  },
  {
   "cell_type": "code",
   "execution_count": 54,
   "metadata": {},
   "outputs": [
    {
     "name": "stderr",
     "output_type": "stream",
     "text": [
      "c:\\users\\ncarv\\.virtualenvs\\recycling-partnership-takehome-7fp9ueh8\\lib\\site-packages\\pyLDAvis\\_prepare.py:246: FutureWarning: In a future version of pandas all arguments of DataFrame.drop except for the argument 'labels' will be keyword-only\n",
      "  default_term_info = default_term_info.sort_values(\n"
     ]
    },
    {
     "data": {
      "text/html": [
       "\n",
       "<link rel=\"stylesheet\" type=\"text/css\" href=\"https://cdn.jsdelivr.net/gh/bmabey/pyLDAvis@3.3.1/pyLDAvis/js/ldavis.v1.0.0.css\">\n",
       "\n",
       "\n",
       "<div id=\"ldavis_el2532812817071318407020337163\"></div>\n",
       "<script type=\"text/javascript\">\n",
       "\n",
       "var ldavis_el2532812817071318407020337163_data = {\"mdsDat\": {\"x\": [-0.08676756077339566, -0.19625675495317105, 0.21207020804381235, 0.07095410768275416], \"y\": [0.1495312440120643, -0.05389602914621844, 0.0650720422942504, -0.16070725716009635], \"topics\": [1, 2, 3, 4], \"cluster\": [1, 1, 1, 1], \"Freq\": [42.14372411818423, 28.082279506895702, 19.366525303455077, 10.407471071464986]}, \"tinfo\": {\"Term\": [\"paper\", \"cardboard\", \"can\", \"newspaper\", \"aluminum\", \"bottle\", \"magazine\", \"plastic\", \"tin\", \"steel\", \"book\", \"office\", \"catalog\", \"glass\", \"food\", \"mail\", \"junk\", \"cans\", \"container\", \"insert\", \"phone\", \"box\", \"beverage\", \"bag\", \"foil\", \"clear\", \"paperboard\", \"jar\", \"carton\", \"corrugate\", \"bottle\", \"jug\", \"tub\", \"plastic\", \"detergent\", \"water\", \"shampoo\", \"butter\", \"yogurt\", \"hdpe\", \"jar\", \"coat\", \"liner\", \"soap\", \"tie\", \"cup\", \"copi\", \"cart\", \"poly\", \"peanut\", \"cream\", \"dinner\", \"number\", \"household\", \"pastel\", \"printer\", \"container\", \"ice\", \"lotion\", \"laundry\", \"milk\", \"color\", \"carton\", \"soda\", \"lid\", \"juice\", \"rinse\", \"glass\", \"box\", \"clean\", \"drink\", \"shoe\", \"paper\", \"aseptic\", \"food\", \"etc\", \"flatten\", \"can\", \"aluminum\", \"book\", \"phone\", \"junk\", \"office\", \"envelope\", \"magazines\", \"piece\", \"roll\", \"books\", \"paperback\", \"corrugate\", \"bag\", \"cut\", \"deli\", \"bar\", \"pound\", \"multiple\", \"yellow\", \"bakery\", \"cartons\", \"note\", \"telephone\", \"boxboard\", \"mail\", \"cereal\", \"egg\", \"feed\", \"newspapers\", \"catalogs\", \"blue\", \"paper\", \"towel\", \"include\", \"mixed\", \"white\", \"box\", \"dairy\", \"etc\", \"dry\", \"brown\", \"carton\", \"item\", \"gift\", \"cardboard\", \"newspaper\", \"juice\", \"magazine\", \"milk\", \"food\", \"cans\", \"jars\", \"tin\", \"magazine\", \"empty\", \"steel\", \"canssteel\", \"plasticcontainer\", \"catalog\", \"clear\", \"aluminum\", \"green\", \"foil\", \"rinsed\", \"can\", \"tuna\", \"recyclable\", \"bi\", \"cat\", \"cartridges\", \"file\", \"beverage\", \"case\", \"fruit\", \"waste\", \"vegetable\", \"size\", \"softball\", \"cartridge\", \"inkjet\", \"food\", \"bottles\", \"glossy\", \"metal\", \"brown\", \"glass\", \"containers\", \"tray\", \"all\", \"label\", \"container\", \"clean\", \"pan\", \"soda\", \"include\", \"pie\", \"insert\", \"cardboard\", \"newspaper\", \"aerosol\", \"completely\", \"flyer\", \"cola\", \"paperboard\", \"cookie\", \"bin\", \"sleek\", \"hangar\", \"premium\", \"hairspray\", \"pomy\", \"hazardous\", \"flammable\", \"qualit\", \"didn\", \"bath\", \"wet\", \"gila\", \"north\", \"preferably\", \"vo\", \"preview\", \"pickles\", \"promium\", \"pnout\", \"quem\", \"kitchen\", \"corrugated\", \"pie\", \"pan\", \"scrap\", \"wax\", \"flatten\", \"can\", \"accept\", \"containers\", \"jugs\", \"ea\", \"fresh\", \"non\", \"metal\", \"tin\", \"clean\", \"steel\", \"foil\", \"place\", \"aluminum\", \"bottles\", \"lid\", \"box\", \"item\"], \"Freq\": [215.0, 64.0, 108.0, 54.0, 93.0, 127.0, 58.0, 110.0, 40.0, 41.0, 39.0, 38.0, 32.0, 69.0, 62.0, 47.0, 29.0, 24.0, 77.0, 14.0, 27.0, 107.0, 31.0, 29.0, 24.0, 18.0, 11.0, 42.0, 63.0, 20.0, 126.15024345708954, 26.783226720063894, 15.774458669803474, 104.5544197720732, 21.373492319980468, 18.98207108339549, 11.55709021490233, 9.333792748445681, 9.601116132109885, 9.237406051235212, 38.894620978106154, 7.2948969750283705, 6.660529626647385, 6.96007978345663, 6.334951131215079, 14.540503949415601, 5.985471709629923, 5.984386617524123, 5.981938994990019, 5.314796162115038, 4.967303892514828, 4.63320457260257, 4.258023958416305, 8.579955063759758, 3.9559182863919826, 7.339051284055129, 65.56502586299915, 3.6188280272307134, 3.6033966765343526, 8.865777418239025, 40.91434113946629, 17.875149205586855, 47.20934577621261, 16.289341039301387, 22.152129137388354, 21.80028185678681, 11.111705374530048, 41.830907960231826, 55.761496125423264, 23.468091543260837, 15.608664610922183, 9.66104126844707, 64.46473013712635, 9.690425840110443, 22.446839536793888, 12.815494187461002, 11.47417623089753, 15.036955166355064, 13.293336999580411, 38.23524616818201, 26.2597461464692, 28.17232044398342, 36.496217338727604, 15.187024773149846, 11.30202767175486, 7.90083988961369, 8.017478848260668, 6.410361274434128, 5.7596751504895, 17.746635043736458, 25.99681819948181, 4.736455902072149, 4.027104438278927, 3.692230826216889, 3.3796997527239396, 3.3788688658202717, 3.3781643065916978, 3.36018264044903, 4.718984168374068, 3.014093082241744, 2.9977190127937194, 4.061122016251532, 37.77528607610999, 19.87922901498536, 9.786640936442103, 2.324852881618082, 3.356488326243228, 2.3201374187052695, 2.3044332454042378, 149.31055324246176, 6.440645510138706, 17.24139623715875, 12.636970215482547, 11.482164774113484, 49.18485660037792, 6.276206418755501, 11.830782939931192, 4.773265527075188, 8.945240078221824, 16.253182079393703, 6.120922489126678, 7.14826125221722, 11.635534788111917, 10.597359575428545, 7.465049465655415, 8.797346317586008, 7.416624370396464, 6.411908531690464, 22.067911804970834, 6.144790150686343, 34.391770637983974, 49.1360241525103, 3.545902885333152, 34.63140304435483, 3.2395521434303425, 3.239209683928562, 26.587207128993974, 14.725021952184372, 72.56007275136042, 10.002166150449451, 18.399703776040138, 2.2144878072874046, 77.38689458310427, 3.2411666965519723, 7.517522241621903, 2.0559513691819666, 1.5681245376762354, 1.56807832158008, 1.5558505341470719, 21.290808511530837, 1.5131443822751147, 3.90961860402797, 1.4771192894682665, 3.908570685035449, 2.8944811666075267, 0.9020435513476458, 0.901991757446782, 0.9019796279349558, 32.97483116888065, 7.968974526428975, 3.914198424376494, 14.753447153271127, 9.066878440356724, 26.0739131036286, 3.421364849120588, 4.431697229126186, 4.317010835540844, 3.910477408879901, 11.293223598015233, 7.039901376147253, 4.488025973754587, 3.9604439146773984, 4.040051051768591, 3.6927347872091807, 13.297777981336486, 52.0359674050286, 43.25300486610047, 7.1093450958356765, 2.750491292147634, 2.000154927823611, 1.915912508051081, 7.717186040106865, 1.4116593617937354, 1.2824978904990525, 1.267042960439551, 1.251300081642202, 0.820978963304844, 0.8209745860272692, 0.820974395710853, 0.8209711603317761, 0.8209709700153598, 0.8209703039079027, 0.8209614541945452, 0.8208366066254587, 0.8207060495638833, 0.8206913951998289, 0.8206555205553582, 0.8206416274569689, 0.8204894694821446, 0.8200393711576174, 0.8200372776770382, 0.8200362309367486, 0.8200171041369113, 0.8200078737907213, 1.42776469820591, 3.6684634944836443, 5.269668205607364, 5.277051721293774, 3.163353258245534, 3.3867320133233694, 5.984713625909375, 15.901352232131606, 3.4544321301919214, 2.074714809600941, 2.448806086321372, 1.4948622733004862, 1.1614897647946747, 2.9524356608407416, 4.054651663256338, 4.303294732280332, 3.853358176706944, 3.997882179441019, 3.0459727537520713, 1.83593317600346, 3.124728351242944, 2.0294889680157278, 2.0186555866512186, 1.9625784739583652, 1.5928932125914772], \"Total\": [215.0, 64.0, 108.0, 54.0, 93.0, 127.0, 58.0, 110.0, 40.0, 41.0, 39.0, 38.0, 32.0, 69.0, 62.0, 47.0, 29.0, 24.0, 77.0, 14.0, 27.0, 107.0, 31.0, 29.0, 24.0, 18.0, 11.0, 42.0, 63.0, 20.0, 127.81281683390986, 27.676427824218585, 16.50639105052285, 110.25693384143052, 22.59019296837407, 20.178040761936543, 12.42607440005973, 10.074988006925564, 10.407733770541308, 10.076985329705586, 42.50644085702432, 8.043831389836091, 7.368994097883703, 7.70126925709404, 7.037445452206746, 16.18644890513663, 6.692603277899734, 6.6925270545048665, 6.692263401716976, 6.01666777152628, 5.671897301077116, 5.339629124825503, 4.9968392179835295, 10.096474494964578, 4.663877539577115, 8.711957578810399, 77.94836360386417, 4.319109908461163, 4.319869832464567, 10.639564917745801, 49.150657089207314, 22.291767495632012, 63.98268614155338, 20.840489274585824, 29.940931911083492, 29.89899829688594, 14.133799930120539, 69.18192299790084, 107.31658780150828, 37.04528346157188, 22.33766006434513, 12.837183792639424, 215.0624506848296, 13.554828591508985, 62.776961916654884, 25.267605909768502, 22.747130979395944, 108.60770744448243, 93.01863738223976, 39.17869294414136, 27.020888700528474, 29.07558176129333, 38.1224963704912, 15.88992848182891, 12.05731688271854, 8.596869252913239, 8.931867600327315, 7.189891849430494, 6.495604151863758, 20.026626505799946, 29.37700820580952, 5.461024590334058, 4.765109509962658, 4.411676012029766, 4.071711398256589, 4.07168709306637, 4.071660278458016, 4.070972526952823, 5.778273464849319, 3.7173180813976585, 3.716469750575692, 5.091555658876133, 47.60987899215283, 25.114860656319177, 12.693101450181643, 3.0222657321834756, 4.3679432891078305, 3.0221696723554006, 3.0199961874940233, 215.0624506848296, 8.884611206680612, 25.35026504022703, 19.21450573838534, 17.485886653926833, 107.31658780150828, 9.228986949981374, 25.267605909768502, 6.814807855660978, 19.557105622161558, 63.98268614155338, 11.427294246481251, 15.996801122471274, 64.28139750440641, 54.447195097851676, 29.89899829688594, 58.63532272926375, 49.150657089207314, 62.776961916654884, 24.18946206618693, 6.935750394820008, 40.8885698283339, 58.63532272926375, 4.267063179302294, 41.937372961326126, 3.940995416084145, 3.940963317974681, 32.4876259954831, 18.632696974987358, 93.01863738223976, 12.998748725301557, 24.355046431248816, 2.935287715918038, 108.60770744448243, 4.5632468833650615, 10.64002133352782, 2.9194410853390313, 2.2693169953101915, 2.2693195423944843, 2.268243714732764, 31.732941824351816, 2.266563116286829, 5.953200928969132, 2.272536110411323, 6.633083919168916, 4.954196525955387, 1.603093213887766, 1.603088154289521, 1.6030876973233554, 62.776961916654884, 16.187215675899832, 7.737816416408176, 33.578500668127134, 19.557105622161558, 69.18192299790084, 6.781325015668962, 9.900512822763375, 10.712017834214196, 9.010596578272105, 77.94836360386417, 37.04528346157188, 13.925898406862547, 20.840489274585824, 25.35026504022703, 12.487722948644755, 14.324181869613435, 64.28139750440641, 54.447195097851676, 9.255625354128872, 3.6935341810964712, 2.760104137871717, 2.7726131426244818, 11.312478659364132, 2.151526585298348, 2.167863201912456, 2.1722744741590114, 2.1697345801451133, 1.5432075918551873, 1.5432077916014542, 1.5432080710074216, 1.543208243792829, 1.5432082768724047, 1.543208233486896, 1.5432092264797106, 1.5432160517638152, 1.5432232379905286, 1.5432245880708206, 1.5432284927774118, 1.5432301232297678, 1.5432370184581727, 1.543301121753371, 1.5433012242255488, 1.5433014367021618, 1.5433034910082122, 1.5433043174812606, 2.8156738861338075, 8.076613404927976, 12.487722948644755, 13.925898406862547, 8.474235721248185, 10.053687847225, 22.747130979395944, 108.60770744448243, 13.103720076984171, 6.781325015668962, 9.142834080956272, 4.170975860863225, 2.8822438455258506, 16.328453578228913, 33.578500668127134, 40.8885698283339, 37.04528346157188, 41.937372961326126, 24.355046431248816, 8.534806343491809, 93.01863738223976, 16.187215675899832, 29.940931911083492, 107.31658780150828, 11.427294246481251], \"Category\": [\"Default\", \"Default\", \"Default\", \"Default\", \"Default\", \"Default\", \"Default\", \"Default\", \"Default\", \"Default\", \"Default\", \"Default\", \"Default\", \"Default\", \"Default\", \"Default\", \"Default\", \"Default\", \"Default\", \"Default\", \"Default\", \"Default\", \"Default\", \"Default\", \"Default\", \"Default\", \"Default\", \"Default\", \"Default\", \"Default\", \"Topic1\", \"Topic1\", \"Topic1\", \"Topic1\", \"Topic1\", \"Topic1\", \"Topic1\", \"Topic1\", \"Topic1\", \"Topic1\", \"Topic1\", \"Topic1\", \"Topic1\", \"Topic1\", \"Topic1\", \"Topic1\", \"Topic1\", \"Topic1\", \"Topic1\", \"Topic1\", \"Topic1\", \"Topic1\", \"Topic1\", \"Topic1\", \"Topic1\", \"Topic1\", \"Topic1\", \"Topic1\", \"Topic1\", \"Topic1\", \"Topic1\", \"Topic1\", \"Topic1\", \"Topic1\", \"Topic1\", \"Topic1\", \"Topic1\", \"Topic1\", \"Topic1\", \"Topic1\", \"Topic1\", \"Topic1\", \"Topic1\", \"Topic1\", \"Topic1\", \"Topic1\", \"Topic1\", \"Topic1\", \"Topic1\", \"Topic2\", \"Topic2\", \"Topic2\", \"Topic2\", \"Topic2\", \"Topic2\", \"Topic2\", \"Topic2\", \"Topic2\", \"Topic2\", \"Topic2\", \"Topic2\", \"Topic2\", \"Topic2\", \"Topic2\", \"Topic2\", \"Topic2\", \"Topic2\", \"Topic2\", \"Topic2\", \"Topic2\", \"Topic2\", \"Topic2\", \"Topic2\", \"Topic2\", \"Topic2\", \"Topic2\", \"Topic2\", \"Topic2\", \"Topic2\", \"Topic2\", \"Topic2\", \"Topic2\", \"Topic2\", \"Topic2\", \"Topic2\", \"Topic2\", \"Topic2\", \"Topic2\", \"Topic2\", \"Topic2\", \"Topic2\", \"Topic2\", \"Topic2\", \"Topic2\", \"Topic2\", \"Topic2\", \"Topic2\", \"Topic2\", \"Topic3\", \"Topic3\", \"Topic3\", \"Topic3\", \"Topic3\", \"Topic3\", \"Topic3\", \"Topic3\", \"Topic3\", \"Topic3\", \"Topic3\", \"Topic3\", \"Topic3\", \"Topic3\", \"Topic3\", \"Topic3\", \"Topic3\", \"Topic3\", \"Topic3\", \"Topic3\", \"Topic3\", \"Topic3\", \"Topic3\", \"Topic3\", \"Topic3\", \"Topic3\", \"Topic3\", \"Topic3\", \"Topic3\", \"Topic3\", \"Topic3\", \"Topic3\", \"Topic3\", \"Topic3\", \"Topic3\", \"Topic3\", \"Topic3\", \"Topic3\", \"Topic3\", \"Topic3\", \"Topic3\", \"Topic3\", \"Topic3\", \"Topic3\", \"Topic3\", \"Topic3\", \"Topic4\", \"Topic4\", \"Topic4\", \"Topic4\", \"Topic4\", \"Topic4\", \"Topic4\", \"Topic4\", \"Topic4\", \"Topic4\", \"Topic4\", \"Topic4\", \"Topic4\", \"Topic4\", \"Topic4\", \"Topic4\", \"Topic4\", \"Topic4\", \"Topic4\", \"Topic4\", \"Topic4\", \"Topic4\", \"Topic4\", \"Topic4\", \"Topic4\", \"Topic4\", \"Topic4\", \"Topic4\", \"Topic4\", \"Topic4\", \"Topic4\", \"Topic4\", \"Topic4\", \"Topic4\", \"Topic4\", \"Topic4\", \"Topic4\", \"Topic4\", \"Topic4\", \"Topic4\", \"Topic4\", \"Topic4\", \"Topic4\", \"Topic4\", \"Topic4\", \"Topic4\", \"Topic4\", \"Topic4\", \"Topic4\", \"Topic4\", \"Topic4\", \"Topic4\", \"Topic4\", \"Topic4\", \"Topic4\"], \"logprob\": [30.0, 29.0, 28.0, 27.0, 26.0, 25.0, 24.0, 23.0, 22.0, 21.0, 20.0, 19.0, 18.0, 17.0, 16.0, 15.0, 14.0, 13.0, 12.0, 11.0, 10.0, 9.0, 8.0, 7.0, 6.0, 5.0, 4.0, 3.0, 2.0, 1.0, -2.5741, -4.1238, -4.6532, -2.7618, -4.3494, -4.4681, -4.9642, -5.1779, -5.1497, -5.1883, -3.7507, -5.4244, -5.5153, -5.4714, -5.5655, -4.7346, -5.6222, -5.6224, -5.6228, -5.7411, -5.8087, -5.8783, -5.9627, -5.2621, -6.0363, -5.4183, -3.2285, -6.1254, -6.1297, -5.2293, -3.7001, -4.5281, -3.557, -4.621, -4.3136, -4.3296, -5.0035, -3.6779, -3.3905, -4.2559, -4.6637, -5.1434, -3.2454, -5.1404, -4.3004, -4.8609, -4.9714, -4.701, -4.8243, -3.3618, -3.7376, -3.6673, -3.4084, -4.2852, -4.5806, -4.9386, -4.924, -5.1477, -5.2547, -4.1294, -3.7476, -5.4503, -5.6126, -5.6994, -5.7878, -5.7881, -5.7883, -5.7936, -5.454, -5.9023, -5.9077, -5.6041, -3.3739, -4.0159, -4.7246, -6.1619, -5.7947, -6.164, -6.1708, -1.9996, -5.143, -4.1583, -4.469, -4.5648, -3.11, -5.1688, -4.5349, -5.4426, -4.8145, -4.2173, -5.1939, -5.0387, -4.5515, -4.645, -4.9954, -4.8311, -5.0019, -5.1474, -3.5399, -4.8184, -3.0962, -2.7394, -5.3682, -3.0892, -5.4586, -5.4587, -3.3536, -3.9445, -2.3496, -4.3312, -3.7217, -5.839, -2.2852, -5.4581, -4.6168, -5.9133, -6.1841, -6.1842, -6.192, -3.5757, -6.2198, -5.2706, -6.2439, -5.2708, -5.5712, -6.7371, -6.7372, -6.7372, -3.1383, -4.5585, -5.2694, -3.9425, -4.4294, -3.3731, -5.404, -5.1452, -5.1714, -5.2703, -4.2098, -4.6824, -5.1326, -5.2577, -5.2377, -5.3276, -3.4254, -2.061, -2.2459, -4.0516, -5.0012, -5.3198, -5.3628, -3.9695, -5.6682, -5.7642, -5.7763, -5.7888, -6.2102, -6.2102, -6.2102, -6.2103, -6.2103, -6.2103, -6.2103, -6.2104, -6.2106, -6.2106, -6.2106, -6.2107, -6.2108, -6.2114, -6.2114, -6.2114, -6.2114, -6.2114, -5.6569, -4.7132, -4.351, -4.3496, -4.8614, -4.7931, -4.2238, -3.2466, -4.7733, -5.2832, -5.1174, -5.611, -5.8633, -4.9304, -4.6131, -4.5536, -4.664, -4.6272, -4.8992, -5.4054, -4.8736, -5.3052, -5.3106, -5.3387, -5.5474], \"loglift\": [30.0, 29.0, 28.0, 27.0, 26.0, 25.0, 24.0, 23.0, 22.0, 21.0, 20.0, 19.0, 18.0, 17.0, 16.0, 15.0, 14.0, 13.0, 12.0, 11.0, 10.0, 9.0, 8.0, 7.0, 6.0, 5.0, 4.0, 3.0, 2.0, 1.0, 0.851, 0.8313, 0.8187, 0.811, 0.8087, 0.803, 0.7916, 0.7877, 0.7834, 0.7771, 0.7753, 0.7664, 0.763, 0.7629, 0.7589, 0.7568, 0.7524, 0.7522, 0.7519, 0.74, 0.7314, 0.7222, 0.7041, 0.7013, 0.6994, 0.6926, 0.6911, 0.6872, 0.6827, 0.6817, 0.6807, 0.6433, 0.5601, 0.6177, 0.5628, 0.5482, 0.6235, 0.361, 0.2094, 0.4076, 0.5056, 0.5798, -0.3407, 0.5285, -0.1644, 0.1852, 0.1797, -1.1131, -1.0815, 1.2457, 1.2415, 1.2385, 1.2264, 1.2248, 1.2053, 1.1856, 1.162, 1.1553, 1.1498, 1.1492, 1.1478, 1.1277, 1.1018, 1.092, 1.0838, 1.0835, 1.0833, 1.0781, 1.0675, 1.0603, 1.0551, 1.0439, 1.0386, 1.0362, 1.01, 1.0077, 1.0066, 1.0057, 0.9996, 0.9051, 0.9483, 0.8846, 0.851, 0.8494, 0.4898, 0.8844, 0.5112, 0.914, 0.4878, -0.1003, 0.6457, 0.4645, -0.4392, -0.3666, -0.1176, -0.6269, -0.6211, -1.0114, 1.5498, 1.5205, 1.4686, 1.4649, 1.4565, 1.4502, 1.4456, 1.4455, 1.4412, 1.4063, 1.3932, 1.3796, 1.3612, 1.3598, 1.3027, 1.2995, 1.2942, 1.291, 1.272, 1.272, 1.2646, 1.2425, 1.2375, 1.2211, 1.2108, 1.1127, 1.1042, 1.0666, 1.0665, 1.0665, 0.9978, 0.933, 0.9601, 0.8192, 0.8729, 0.6658, 0.9575, 0.8378, 0.7328, 0.8069, -0.2902, -0.0189, 0.5093, -0.0189, -0.1949, 0.4232, 2.1883, 2.0513, 2.0325, 1.9988, 1.9678, 1.9406, 1.8931, 1.8802, 1.8412, 1.7377, 1.7236, 1.7122, 1.6315, 1.6315, 1.6315, 1.6315, 1.6315, 1.6315, 1.6315, 1.6313, 1.6312, 1.6312, 1.6311, 1.6311, 1.6309, 1.6303, 1.6303, 1.6303, 1.6303, 1.6303, 1.5836, 1.4734, 1.3999, 1.2923, 1.2772, 1.1746, 0.9274, 0.3413, 0.9294, 1.0783, 0.9453, 1.2365, 1.3538, 0.5524, 0.1486, 0.0112, -0.0005, -0.0878, 0.1837, 0.726, -1.1308, 0.1862, -0.4341, -1.7389, 0.2922]}, \"token.table\": {\"Topic\": [1, 2, 4, 3, 4, 1, 2, 3, 1, 2, 3, 4, 1, 2, 1, 2, 2, 2, 4, 1, 2, 3, 3, 4, 2, 2, 2, 1, 3, 4, 1, 2, 3, 4, 1, 2, 4, 1, 2, 1, 2, 3, 4, 1, 1, 3, 4, 2, 3, 4, 3, 2, 4, 1, 1, 2, 2, 3, 3, 3, 3, 2, 3, 2, 1, 2, 4, 1, 2, 3, 4, 1, 3, 1, 4, 1, 2, 3, 4, 1, 2, 3, 2, 3, 4, 4, 1, 1, 2, 2, 4, 1, 1, 2, 2, 1, 2, 2, 1, 2, 4, 1, 1, 2, 3, 1, 2, 1, 4, 1, 2, 3, 2, 1, 2, 2, 3, 4, 1, 2, 4, 4, 1, 3, 4, 1, 2, 3, 4, 2, 4, 1, 3, 1, 2, 4, 1, 3, 4, 2, 3, 1, 2, 3, 4, 4, 4, 1, 1, 2, 1, 1, 2, 3, 3, 2, 4, 1, 2, 4, 1, 3, 4, 3, 1, 1, 4, 1, 2, 2, 3, 4, 1, 3, 1, 4, 1, 2, 3, 4, 1, 1, 2, 3, 2, 1, 2, 1, 2, 3, 4, 1, 2, 4, 1, 2, 2, 2, 4, 2, 4, 1, 2, 4, 4, 2, 1, 1, 2, 2, 3, 4, 1, 2, 4, 2, 2, 4, 1, 1, 2, 4, 1, 3, 4, 2, 1, 4, 1, 2, 3, 4, 3, 4, 1, 4, 2, 4, 4, 4, 1, 3, 4, 4, 4, 1, 3, 1, 2, 3, 3, 2, 2, 3, 4, 1, 1, 2, 1, 3, 4, 1, 1, 3, 3, 1, 3, 4, 2, 1, 1, 3, 4, 1, 2, 1, 3, 4, 1, 3, 4, 1, 3, 4, 3, 1, 4, 1, 4, 4, 1, 2, 2, 1], \"Freq\": [0.6105136520774339, 0.07631420650967924, 0.22894261952903772, 0.2160848050216092, 0.7562968175756322, 0.46676546635592736, 0.09335309327118547, 0.3734123730847419, 0.1397569386721861, 0.04300213497605726, 0.784788963313045, 0.032251601232042945, 0.7377444821592358, 0.22132334464777076, 0.10212067815015716, 0.8850458773013621, 0.7369246488738994, 0.906684894605314, 0.6479974070105429, 0.28361694449310126, 0.0315129938325668, 0.6617728704839029, 0.6850626340924233, 0.4612837189716653, 0.6622524916693981, 0.9699149497962611, 0.8345049029458288, 0.985816627167637, 0.007823941485457437, 0.007823941485457437, 0.30888573428005894, 0.06177714685601179, 0.4942171748480943, 0.12355429371202357, 0.5218205418865633, 0.4565929741507429, 0.018636447924520117, 0.1964036272993884, 0.7856145091975536, 0.05113231064553992, 0.4601907958098593, 0.4601907958098593, 0.05113231064553992, 0.8933013115066127, 0.1381117450404487, 0.70897362454097, 0.14731919470981195, 0.041340315764931496, 0.909486946828493, 0.041340315764931496, 0.761229000103954, 0.18667920216229608, 0.8089432093699497, 0.8965223376962349, 0.7345737235229326, 0.25006765056099833, 0.8653103786825337, 0.623796013540624, 0.8813214545756256, 0.8823932524219652, 0.8813224437719515, 0.15390475132578701, 0.8310856571592499, 0.6617762127303898, 0.15926825375372153, 0.7963412687686077, 0.03981706343843038, 0.6208617629787757, 0.08098196908418814, 0.18895792786310567, 0.10797595877891752, 0.16100728756696991, 0.8050364378348496, 0.8702320648894952, 0.7213411670215388, 0.8074729831776252, 0.08971922035306946, 0.08971922035306946, 0.8122301982079974, 0.8467143753705197, 0.012829005687432117, 0.14111906256175327, 0.14746380651117522, 0.4423914195335256, 0.29492761302235043, 0.4647862623837074, 0.8965121270243458, 0.09986704447804909, 0.8988034003024418, 0.49525708356418113, 0.49525708356418113, 0.8815392336265468, 0.9267010996612036, 0.06178007331074691, 0.9155791037546204, 0.21670850883628526, 0.6501255265088558, 0.8394350626437852, 0.9296069329465084, 0.04426699680697659, 0.6480002729643786, 0.9363946227563882, 0.716279142663597, 0.17906978566589926, 0.08953489283294963, 0.2934785605640553, 0.7336964014101383, 0.47950409369813046, 0.23975204684906523, 0.15756590364062514, 0.7878295182031256, 0.9374128837375308, 0.9439941795303486, 0.5144927480040432, 0.474916382772963, 0.6617551788058933, 0.8817394652124639, 0.6480006717088661, 0.4835774678557774, 0.21980793993444425, 0.2637695279213331, 0.7246103408048132, 0.08211850491214395, 0.7390665442092956, 0.12317775736821593, 0.35044703229200624, 0.09557646335236533, 0.5256705484380093, 0.015929410558727555, 0.3469519074703949, 0.3469519074703949, 0.33595372033685483, 0.6719074406737097, 0.5000999849127409, 0.43758748679864823, 0.6479938226295995, 0.6070950066142913, 0.37582071838027553, 0.014454643014625982, 0.38770627765714977, 0.5169417035428664, 0.07693048162809234, 0.15386096325618467, 0.7693048162809233, 0.6480008754765658, 0.46088586555739885, 0.6480006855991414, 0.8931242534877193, 0.8914002610008648, 0.09904447344454054, 0.9261167427492352, 0.1577892772975985, 0.6706044285147936, 0.1577892772975985, 0.6237961913560192, 0.06981201503182163, 0.9075561954136813, 0.26252933855481797, 0.5250586771096359, 0.1750195590365453, 0.9175080108725482, 0.07057753929788832, 0.023525846432629442, 0.8650830347760385, 0.975559424485169, 0.6562516553261617, 0.21875055177538724, 0.7358106041395828, 0.23412155586259453, 0.9630073863999107, 0.355154765942407, 0.355154765942407, 0.5549022150272332, 0.4439217720217866, 0.8458992514805601, 0.09398880572006223, 0.7347800684806364, 0.13359637608738845, 0.03339909402184711, 0.06679818804369422, 0.9499261238396602, 0.9259538261869165, 0.1534910968522439, 0.8356737495288834, 0.912309107158495, 0.18903639728812166, 0.7981536774387359, 0.268028643951421, 0.1489048021952339, 0.44671440658570166, 0.11912384175618711, 0.8341699262653995, 0.1424192557038487, 0.02034560795769267, 0.31226408223520613, 0.6765721781762799, 0.7367953213076384, 0.20203060929458289, 0.7897560181515513, 0.6868221040051007, 0.22894070133503358, 0.4899422937801395, 0.3062139336125872, 0.1837283601675523, 0.6479921830630919, 0.8070334403215887, 0.8005060450222364, 0.02623123077464707, 0.9443243078872946, 0.2872346101583535, 0.2872346101583535, 0.3590432626979419, 0.2975879787299128, 0.6928220129805783, 0.004649812167654888, 0.9237016079987639, 0.2651938704447137, 0.7071836545192365, 0.8576554521546657, 0.8310247781442025, 0.962218537227145, 0.6479616450131533, 0.2402359511287507, 0.3203146015050009, 0.40039325188125113, 0.9305713236582054, 0.7030036486504796, 0.23433454955015987, 0.9523210590184654, 0.03627889748641773, 0.009069724371604432, 0.009069724371604432, 0.7612352001139011, 0.6479606932961177, 0.8965576576768679, 0.6480007581525866, 0.7367909231691935, 0.6479914984468667, 0.6480009593510597, 0.64796168803654, 0.8034933522892379, 0.11478476461274828, 0.6479615558039474, 0.648000689926653, 0.6479603462990652, 0.28195432189094266, 0.7518781917091805, 0.7782761928416647, 0.07075238116742406, 0.14150476233484813, 0.6813642114720198, 0.8956693446404013, 0.4720189680315894, 0.11800474200789735, 0.35401422602369204, 0.9657112627574739, 0.7789870552241991, 0.23369611656725972, 0.40369815559836153, 0.6055472333975422, 0.4603469828034261, 0.9089410805305808, 0.7677362939607846, 0.19193407349019614, 0.6237940447485488, 0.07153523905196792, 0.8345777889396256, 0.09538031873595722, 0.8072176558238612, 0.8525820968343801, 0.04891342515516627, 0.8315282276378266, 0.09782685031033254, 0.22510833096400873, 0.6753249928920262, 0.4040194757187883, 0.4040194757187883, 0.10100486892969708, 0.9693215161949764, 0.6574266255319763, 0.21914220851065874, 0.30151887483591305, 0.6030377496718261, 0.6479886032017859, 0.4400370121375113, 0.9416176835087589, 0.04955882544782941, 0.5967959311225391, 0.2983979655612696, 0.6479943895234018, 0.34313387240518173, 0.6290787660761665, 0.7368001735980129, 0.9608239623024003], \"Term\": [\"accept\", \"accept\", \"accept\", \"aerosol\", \"aerosol\", \"all\", \"all\", \"all\", \"aluminum\", \"aluminum\", \"aluminum\", \"aluminum\", \"aseptic\", \"aseptic\", \"bag\", \"bag\", \"bakery\", \"bar\", \"bath\", \"beverage\", \"beverage\", \"beverage\", \"bi\", \"bin\", \"blue\", \"book\", \"books\", \"bottle\", \"bottle\", \"bottle\", \"bottles\", \"bottles\", \"bottles\", \"bottles\", \"box\", \"box\", \"box\", \"boxboard\", \"boxboard\", \"brown\", \"brown\", \"brown\", \"brown\", \"butter\", \"can\", \"can\", \"can\", \"cans\", \"cans\", \"cans\", \"canssteel\", \"cardboard\", \"cardboard\", \"cart\", \"carton\", \"carton\", \"cartons\", \"cartridge\", \"cartridges\", \"case\", \"cat\", \"catalog\", \"catalog\", \"catalogs\", \"cereal\", \"cereal\", \"cereal\", \"clean\", \"clean\", \"clean\", \"clean\", \"clear\", \"clear\", \"coat\", \"cola\", \"color\", \"color\", \"color\", \"completely\", \"container\", \"container\", \"container\", \"containers\", \"containers\", \"containers\", \"cookie\", \"copi\", \"corrugate\", \"corrugate\", \"corrugated\", \"corrugated\", \"cream\", \"cup\", \"cup\", \"cut\", \"dairy\", \"dairy\", \"deli\", \"detergent\", \"detergent\", \"didn\", \"dinner\", \"drink\", \"drink\", \"drink\", \"dry\", \"dry\", \"ea\", \"ea\", \"egg\", \"egg\", \"empty\", \"envelope\", \"etc\", \"etc\", \"feed\", \"file\", \"flammable\", \"flatten\", \"flatten\", \"flatten\", \"flyer\", \"foil\", \"foil\", \"foil\", \"food\", \"food\", \"food\", \"food\", \"fresh\", \"fresh\", \"fruit\", \"fruit\", \"gift\", \"gift\", \"gila\", \"glass\", \"glass\", \"glass\", \"glossy\", \"glossy\", \"green\", \"green\", \"green\", \"hairspray\", \"hangar\", \"hazardous\", \"hdpe\", \"household\", \"household\", \"ice\", \"include\", \"include\", \"include\", \"inkjet\", \"insert\", \"insert\", \"item\", \"item\", \"item\", \"jar\", \"jar\", \"jar\", \"jars\", \"jug\", \"jugs\", \"jugs\", \"juice\", \"juice\", \"junk\", \"kitchen\", \"kitchen\", \"label\", \"label\", \"laundry\", \"laundry\", \"lid\", \"lid\", \"lid\", \"lid\", \"liner\", \"lotion\", \"magazine\", \"magazine\", \"magazines\", \"mail\", \"mail\", \"metal\", \"metal\", \"metal\", \"metal\", \"milk\", \"milk\", \"milk\", \"mixed\", \"mixed\", \"multiple\", \"newspaper\", \"newspaper\", \"newspapers\", \"newspapers\", \"non\", \"non\", \"non\", \"north\", \"note\", \"number\", \"office\", \"office\", \"pan\", \"pan\", \"pan\", \"paper\", \"paper\", \"paper\", \"paperback\", \"paperboard\", \"paperboard\", \"pastel\", \"peanut\", \"phone\", \"pickles\", \"pie\", \"pie\", \"pie\", \"piece\", \"place\", \"place\", \"plastic\", \"plastic\", \"plastic\", \"plastic\", \"plasticcontainer\", \"pnout\", \"poly\", \"pomy\", \"pound\", \"preferably\", \"premium\", \"preview\", \"printer\", \"printer\", \"promium\", \"qualit\", \"quem\", \"recyclable\", \"recyclable\", \"rinse\", \"rinse\", \"rinse\", \"rinsed\", \"roll\", \"scrap\", \"scrap\", \"scrap\", \"shampoo\", \"shoe\", \"shoe\", \"size\", \"size\", \"sleek\", \"soap\", \"soda\", \"soda\", \"softball\", \"steel\", \"steel\", \"steel\", \"telephone\", \"tie\", \"tin\", \"tin\", \"tin\", \"towel\", \"towel\", \"tray\", \"tray\", \"tray\", \"tub\", \"tuna\", \"tuna\", \"vegetable\", \"vegetable\", \"vo\", \"waste\", \"water\", \"water\", \"wax\", \"wax\", \"wet\", \"white\", \"white\", \"yellow\", \"yogurt\"]}, \"R\": 30, \"lambda.step\": 0.01, \"plot.opts\": {\"xlab\": \"PC1\", \"ylab\": \"PC2\"}, \"topic.order\": [1, 2, 3, 4]};\n",
       "\n",
       "function LDAvis_load_lib(url, callback){\n",
       "  var s = document.createElement('script');\n",
       "  s.src = url;\n",
       "  s.async = true;\n",
       "  s.onreadystatechange = s.onload = callback;\n",
       "  s.onerror = function(){console.warn(\"failed to load library \" + url);};\n",
       "  document.getElementsByTagName(\"head\")[0].appendChild(s);\n",
       "}\n",
       "\n",
       "if(typeof(LDAvis) !== \"undefined\"){\n",
       "   // already loaded: just create the visualization\n",
       "   !function(LDAvis){\n",
       "       new LDAvis(\"#\" + \"ldavis_el2532812817071318407020337163\", ldavis_el2532812817071318407020337163_data);\n",
       "   }(LDAvis);\n",
       "}else if(typeof define === \"function\" && define.amd){\n",
       "   // require.js is available: use it to load d3/LDAvis\n",
       "   require.config({paths: {d3: \"https://d3js.org/d3.v5\"}});\n",
       "   require([\"d3\"], function(d3){\n",
       "      window.d3 = d3;\n",
       "      LDAvis_load_lib(\"https://cdn.jsdelivr.net/gh/bmabey/pyLDAvis@3.3.1/pyLDAvis/js/ldavis.v3.0.0.js\", function(){\n",
       "        new LDAvis(\"#\" + \"ldavis_el2532812817071318407020337163\", ldavis_el2532812817071318407020337163_data);\n",
       "      });\n",
       "    });\n",
       "}else{\n",
       "    // require.js not available: dynamically load d3 & LDAvis\n",
       "    LDAvis_load_lib(\"https://d3js.org/d3.v5.js\", function(){\n",
       "         LDAvis_load_lib(\"https://cdn.jsdelivr.net/gh/bmabey/pyLDAvis@3.3.1/pyLDAvis/js/ldavis.v3.0.0.js\", function(){\n",
       "                 new LDAvis(\"#\" + \"ldavis_el2532812817071318407020337163\", ldavis_el2532812817071318407020337163_data);\n",
       "            })\n",
       "         });\n",
       "}\n",
       "</script>"
      ],
      "text/plain": [
       "PreparedData(topic_coordinates=              x         y  topics  cluster       Freq\n",
       "topic                                                \n",
       "0     -0.086768  0.149531       1        1  42.143724\n",
       "1     -0.196257 -0.053896       2        1  28.082280\n",
       "2      0.212070  0.065072       3        1  19.366525\n",
       "3      0.070954 -0.160707       4        1  10.407471, topic_info=          Term        Freq       Total Category  logprob  loglift\n",
       "21       paper  215.000000  215.000000  Default  30.0000  30.0000\n",
       "68   cardboard   64.000000   64.000000  Default  29.0000  29.0000\n",
       "1          can  108.000000  108.000000  Default  28.0000  28.0000\n",
       "19   newspaper   54.000000   54.000000  Default  27.0000  27.0000\n",
       "0     aluminum   93.000000   93.000000  Default  26.0000  26.0000\n",
       "..         ...         ...         ...      ...      ...      ...\n",
       "0     aluminum    3.124728   93.018637   Topic4  -4.8736  -1.1308\n",
       "119    bottles    2.029489   16.187216   Topic4  -5.3052   0.1862\n",
       "93         lid    2.018656   29.940932   Topic4  -5.3106  -0.4341\n",
       "5          box    1.962578  107.316588   Topic4  -5.3387  -1.7389\n",
       "132       item    1.592893   11.427294   Topic4  -5.5474   0.2922\n",
       "\n",
       "[229 rows x 6 columns], token_table=      Topic      Freq     Term\n",
       "term                          \n",
       "210       1  0.610514   accept\n",
       "210       2  0.076314   accept\n",
       "210       4  0.228943   accept\n",
       "92        3  0.216085  aerosol\n",
       "92        4  0.756297  aerosol\n",
       "...     ...       ...      ...\n",
       "121       4  0.647994      wet\n",
       "78        1  0.343134    white\n",
       "78        2  0.629079    white\n",
       "538       2  0.736800   yellow\n",
       "114       1  0.960824   yogurt\n",
       "\n",
       "[294 rows x 3 columns], R=30, lambda_step=0.01, plot_opts={'xlab': 'PC1', 'ylab': 'PC2'}, topic_order=[1, 2, 3, 4])"
      ]
     },
     "execution_count": 54,
     "metadata": {},
     "output_type": "execute_result"
    }
   ],
   "source": [
    "# run visualization\n",
    "pyLDAvis.enable_notebook()\n",
    "vis = pyLDAvis.gensim_models.prepare(lda_multicore, corpus, id2words)\n",
    "vis"
   ]
  },
  {
   "cell_type": "markdown",
   "metadata": {},
   "source": [
    "## df_no LDA"
   ]
  },
  {
   "cell_type": "code",
   "execution_count": 47,
   "metadata": {},
   "outputs": [
    {
     "name": "stderr",
     "output_type": "stream",
     "text": [
      "c:\\users\\ncarv\\.virtualenvs\\recycling-partnership-takehome-7fp9ueh8\\lib\\site-packages\\pyLDAvis\\_prepare.py:246: FutureWarning: In a future version of pandas all arguments of DataFrame.drop except for the argument 'labels' will be keyword-only\n",
      "  default_term_info = default_term_info.sort_values(\n"
     ]
    }
   ],
   "source": [
    "apply_lda(df_no)"
   ]
  },
  {
   "cell_type": "code",
   "execution_count": 48,
   "metadata": {},
   "outputs": [
    {
     "data": {
      "text/html": [
       "\n",
       "<link rel=\"stylesheet\" type=\"text/css\" href=\"https://cdn.jsdelivr.net/gh/bmabey/pyLDAvis@3.3.1/pyLDAvis/js/ldavis.v1.0.0.css\">\n",
       "\n",
       "\n",
       "<div id=\"ldavis_el2532812817172692164144518464\"></div>\n",
       "<script type=\"text/javascript\">\n",
       "\n",
       "var ldavis_el2532812817172692164144518464_data = {\"mdsDat\": {\"x\": [-0.08676756077339566, -0.19625675495317105, 0.21207020804381235, 0.07095410768275416], \"y\": [0.1495312440120643, -0.05389602914621844, 0.0650720422942504, -0.16070725716009635], \"topics\": [1, 2, 3, 4], \"cluster\": [1, 1, 1, 1], \"Freq\": [42.14320253229191, 28.08236269802501, 19.366992115431074, 10.407442654252009]}, \"tinfo\": {\"Term\": [\"paper\", \"cardboard\", \"can\", \"newspaper\", \"aluminum\", \"bottle\", \"magazine\", \"plastic\", \"tin\", \"steel\", \"book\", \"office\", \"catalog\", \"glass\", \"food\", \"mail\", \"junk\", \"cans\", \"container\", \"insert\", \"phone\", \"box\", \"beverage\", \"bag\", \"foil\", \"clear\", \"paperboard\", \"jar\", \"carton\", \"corrugate\", \"bottle\", \"jug\", \"tub\", \"plastic\", \"detergent\", \"water\", \"shampoo\", \"butter\", \"yogurt\", \"hdpe\", \"jar\", \"coat\", \"liner\", \"soap\", \"tie\", \"cup\", \"copi\", \"cart\", \"poly\", \"peanut\", \"cream\", \"dinner\", \"number\", \"household\", \"pastel\", \"printer\", \"container\", \"ice\", \"lotion\", \"laundry\", \"milk\", \"color\", \"carton\", \"soda\", \"lid\", \"juice\", \"rinse\", \"glass\", \"box\", \"clean\", \"drink\", \"shoe\", \"paper\", \"aseptic\", \"food\", \"etc\", \"flatten\", \"can\", \"aluminum\", \"book\", \"phone\", \"junk\", \"office\", \"envelope\", \"magazines\", \"piece\", \"roll\", \"books\", \"paperback\", \"corrugate\", \"bag\", \"cut\", \"deli\", \"bar\", \"pound\", \"multiple\", \"yellow\", \"bakery\", \"cartons\", \"note\", \"telephone\", \"boxboard\", \"mail\", \"cereal\", \"egg\", \"feed\", \"newspapers\", \"catalogs\", \"blue\", \"paper\", \"towel\", \"include\", \"mixed\", \"white\", \"box\", \"dairy\", \"etc\", \"dry\", \"brown\", \"carton\", \"item\", \"gift\", \"cardboard\", \"newspaper\", \"juice\", \"magazine\", \"milk\", \"food\", \"cans\", \"jars\", \"tin\", \"magazine\", \"empty\", \"steel\", \"canssteel\", \"plasticcontainer\", \"catalog\", \"clear\", \"aluminum\", \"green\", \"foil\", \"rinsed\", \"can\", \"tuna\", \"recyclable\", \"bi\", \"cat\", \"cartridges\", \"file\", \"beverage\", \"case\", \"fruit\", \"waste\", \"vegetable\", \"size\", \"softball\", \"cartridge\", \"inkjet\", \"food\", \"bottles\", \"glossy\", \"metal\", \"brown\", \"glass\", \"containers\", \"tray\", \"all\", \"label\", \"container\", \"clean\", \"pan\", \"soda\", \"include\", \"pie\", \"insert\", \"cardboard\", \"newspaper\", \"aerosol\", \"completely\", \"flyer\", \"cola\", \"paperboard\", \"cookie\", \"bin\", \"sleek\", \"hangar\", \"premium\", \"hairspray\", \"pomy\", \"hazardous\", \"flammable\", \"qualit\", \"didn\", \"bath\", \"wet\", \"gila\", \"north\", \"preferably\", \"vo\", \"preview\", \"pickles\", \"promium\", \"pnout\", \"quem\", \"kitchen\", \"corrugated\", \"pie\", \"pan\", \"scrap\", \"wax\", \"flatten\", \"can\", \"accept\", \"containers\", \"jugs\", \"ea\", \"fresh\", \"non\", \"metal\", \"tin\", \"clean\", \"steel\", \"foil\", \"place\", \"aluminum\", \"bottles\", \"lid\", \"box\", \"item\"], \"Freq\": [215.0, 64.0, 108.0, 54.0, 93.0, 127.0, 58.0, 110.0, 40.0, 41.0, 39.0, 38.0, 32.0, 69.0, 62.0, 47.0, 29.0, 24.0, 77.0, 14.0, 27.0, 107.0, 31.0, 29.0, 24.0, 18.0, 11.0, 42.0, 63.0, 20.0, 126.14868132769384, 26.782895061046638, 15.7742633333149, 104.55312506563347, 21.373227650173042, 18.98183602676446, 11.55694710245277, 9.3336771672813, 9.600997240656879, 9.237291663635654, 38.894139342644344, 7.294806641687022, 6.660447148731881, 6.959993596185576, 6.334872684966294, 14.540323893095254, 5.985397591015099, 5.984312512346088, 5.981864920121106, 5.314730348533632, 4.9672423819603075, 4.633147199228877, 4.257971230936668, 8.579848817432746, 3.95586929991306, 7.338960403947146, 65.56421396560265, 3.618783214969679, 3.603352055361071, 8.865667632549032, 40.91383449363471, 17.87492785606535, 47.208761178793154, 16.289139326979818, 22.15185482565375, 21.800011902007572, 11.11156777731956, 41.83038996447388, 55.76080562598498, 23.467800935849734, 15.608471327475808, 9.660921634935908, 64.46393186478717, 9.690305842727584, 22.446561575634874, 12.81533549208601, 11.47403414517902, 15.036768962436279, 13.29317238703647, 38.23535917931912, 26.25982376186519, 28.172403712336244, 36.49632520985267, 15.187069661129154, 11.30206107692749, 7.900863241964975, 8.017502545359344, 6.410380221408175, 5.759692174243845, 17.74668749710363, 25.99689503774703, 4.736469901518236, 4.0271163411093625, 3.6922417392682214, 3.379709742033553, 3.37887885267405, 3.3781742913630244, 3.360192572072313, 4.718998116179308, 3.0141019909351803, 2.9977278730906525, 4.061134019627029, 37.77539772775244, 19.879287771617026, 9.786669862617073, 2.3248597531383175, 3.3564982469473024, 2.320144276288107, 2.304440056570571, 149.31099455661808, 6.440664546623252, 17.241447197201886, 12.637007566317621, 11.482198711713673, 49.18500197505521, 6.276224969210778, 11.83081790793498, 4.773279635318732, 8.945266517485441, 16.253230118592413, 6.120940580612413, 7.1482823801871795, 11.635569179024728, 10.597390897828056, 7.465071529949835, 8.797372319723054, 7.416646291561818, 6.411927483237708, 22.068443582888115, 6.144938223768081, 34.392599388086076, 49.137208199864595, 3.545988332151497, 34.632237568959894, 3.239630208011486, 3.239287740257343, 26.587847809895653, 14.725376786007113, 72.56182125591792, 10.002407176022274, 18.40014715991076, 2.2145411705473457, 77.3887594012162, 3.241244800039547, 7.517703393892047, 2.056000912135863, 1.5681623253023622, 1.5681161080925219, 1.555888026002394, 21.291321563327834, 1.5131808450258846, 3.9097128154267193, 1.477154884110219, 3.9086648711821406, 2.894550915896902, 0.902065288195485, 0.9020134930465261, 0.902001363242411, 32.975625774514235, 7.969166557497162, 3.9142927461367196, 14.75380267206553, 9.067096927985997, 26.074541415510947, 3.421447294903851, 4.431804021229733, 4.3171148640076655, 3.9105716409735605, 11.29349573463502, 7.040071019026234, 4.4881341232309, 3.960539350830809, 4.040148406242046, 3.692823772285412, 13.297741582794664, 52.03582497271108, 43.25288647441813, 7.109325636209027, 2.7504837635310135, 2.000149453020009, 1.9159072638349686, 7.717164916704204, 1.411655497814175, 1.28249438005895, 1.267039492302525, 1.2512966565964225, 0.8209767161296263, 0.8209723388640331, 0.8209721485481377, 0.8209689131779166, 0.8209687228620213, 0.8209680567563875, 0.8209592070672533, 0.8208343598398983, 0.8207038031356824, 0.8206891488117397, 0.8206532742654646, 0.8206393812051035, 0.8204872236467644, 0.8200371265542418, 0.8200350330793928, 0.8200339863419683, 0.8200148595944848, 0.8200056292735599, 1.4277607901429876, 3.6684534532029054, 5.2696537815254745, 5.2770372770018, 3.163344599547365, 3.386722743195157, 5.9846972446124775, 15.901308707112987, 3.4544226747556426, 2.074709130712794, 2.44879938347441, 1.494858181578768, 1.1614865855767755, 2.9524275794640618, 4.054640564905295, 4.303282953346025, 3.8533476293343725, 3.9978712364788263, 3.0459644163466177, 1.835928150705957, 3.1247197982684747, 2.0294834129192916, 2.018650061207803, 1.9625731020086483, 1.5928888525404752], \"Total\": [215.0, 64.0, 108.0, 54.0, 93.0, 127.0, 58.0, 110.0, 40.0, 41.0, 39.0, 38.0, 32.0, 69.0, 62.0, 47.0, 29.0, 24.0, 77.0, 14.0, 27.0, 107.0, 31.0, 29.0, 24.0, 18.0, 11.0, 42.0, 63.0, 20.0, 127.8112682864914, 27.676102376406227, 16.506201550145423, 110.25566600708437, 22.589934950193822, 20.17781119508163, 12.425937103014494, 10.074878372526515, 10.407621308502254, 10.076878247836849, 42.506025545117566, 8.04374687763186, 7.368917429234215, 7.701189125215903, 7.037372828435282, 16.186277868388057, 6.692534970955421, 6.692458759790314, 6.692195130920976, 6.0166078011713395, 5.671841629770903, 5.339577580411735, 4.996792462209112, 10.096376875260608, 4.663834412512429, 8.711888376439791, 77.94782550582372, 4.31907092176842, 4.319831116026449, 10.639458531213588, 49.150177908980694, 22.29159786780173, 63.982154731041824, 20.840383290905955, 29.940696332124553, 29.898759873297028, 14.133706291253262, 69.1820323436384, 107.31604712823626, 37.04515988251133, 22.33753353029526, 12.837076930209742, 215.06210198412072, 13.55472373493732, 62.777494930459284, 25.267487789752618, 22.746993467751626, 108.6093433686526, 93.02022466370013, 39.17880624381041, 27.020968579117014, 29.075666664196262, 38.12259515303305, 15.889975443794908, 12.05735226683187, 8.596894700153172, 8.931890683372806, 7.189914206519489, 6.49562330341769, 20.026661847898115, 29.3770547088083, 5.461040324334885, 4.765123632507718, 4.411689368166772, 4.071723504434713, 4.071699186924586, 4.071672362380506, 4.070984344902865, 5.778287102887277, 3.7173289720942346, 3.7164805902183358, 5.091566381773295, 47.60988317810157, 25.11486881836843, 12.693105174865542, 3.022274659760536, 4.367954598324215, 3.0221785500276126, 3.0200050285713953, 215.06210198412072, 8.884611116815648, 25.350366707104712, 19.21447325539123, 17.485857560582968, 107.31604712823626, 9.228980309482168, 25.267487789752618, 6.814807399058051, 19.557340781856826, 63.982154731041824, 11.427270705794824, 15.996725200715334, 64.28129224835273, 54.44710983071241, 29.898759873297028, 58.63652774385314, 49.150177908980694, 62.777494930459284, 24.189989636932125, 6.935895575852906, 40.8893664878792, 58.63652774385314, 4.267145733336702, 41.938160143792594, 3.94107065038195, 3.941038542877021, 32.48827854732208, 18.633012313642688, 93.02022466370013, 12.998986319831337, 24.3554518352149, 2.9353382309440454, 108.6093433686526, 4.563319006496144, 10.640169828891311, 2.919487354478764, 2.2693519536060625, 2.2693544992303223, 2.2682783457236395, 31.733339315037707, 2.266596382704539, 5.953276571493004, 2.2725689161417293, 6.6331505594101365, 4.954246754884093, 1.6031121217592585, 1.6031070608068392, 1.6031066034163348, 62.777494930459284, 16.187340996317772, 7.737916711493025, 33.578743883051885, 19.557340781856826, 69.1820323436384, 6.781401495551833, 9.900566984720676, 10.712061827308414, 9.010633517346399, 77.94782550582372, 37.04515988251133, 13.92600053638029, 20.840383290905955, 25.350366707104712, 12.487757823640456, 14.324149361425526, 64.28129224835273, 54.44710983071241, 9.255643025181765, 3.693527382479906, 2.7601020740951188, 2.7726116089058124, 11.31247003014435, 2.1515261180807475, 2.1678625668062503, 2.1722747487908167, 2.1697323021151416, 1.5432087936194039, 1.5432089933669981, 1.543209272773247, 1.5432094455323493, 1.543209478619434, 1.5432094353600152, 1.543210428372729, 1.5432172549574321, 1.5432244420719075, 1.5432257920992054, 1.5432296975109225, 1.5432313285527886, 1.5432382248706662, 1.543302313266215, 1.5433024158106332, 1.5433026281917266, 1.5433046823114214, 1.5433055088373002, 2.8156893142197745, 8.076617333308869, 12.487757823640456, 13.92600053638029, 8.474258821488197, 10.053608746354389, 22.746993467751626, 108.6093433686526, 13.103615683852691, 6.781401495551833, 9.142759800058329, 4.170951095447886, 2.8822464350825503, 16.328362935671976, 33.578743883051885, 40.8893664878792, 37.04515988251133, 41.938160143792594, 24.3554518352149, 8.534732062672035, 93.02022466370013, 16.187340996317772, 29.940696332124553, 107.31604712823626, 11.427270705794824], \"Category\": [\"Default\", \"Default\", \"Default\", \"Default\", \"Default\", \"Default\", \"Default\", \"Default\", \"Default\", \"Default\", \"Default\", \"Default\", \"Default\", \"Default\", \"Default\", \"Default\", \"Default\", \"Default\", \"Default\", \"Default\", \"Default\", \"Default\", \"Default\", \"Default\", \"Default\", \"Default\", \"Default\", \"Default\", \"Default\", \"Default\", \"Topic1\", \"Topic1\", \"Topic1\", \"Topic1\", \"Topic1\", \"Topic1\", \"Topic1\", \"Topic1\", \"Topic1\", \"Topic1\", \"Topic1\", \"Topic1\", \"Topic1\", \"Topic1\", \"Topic1\", \"Topic1\", \"Topic1\", \"Topic1\", \"Topic1\", \"Topic1\", \"Topic1\", \"Topic1\", \"Topic1\", \"Topic1\", \"Topic1\", \"Topic1\", \"Topic1\", \"Topic1\", \"Topic1\", \"Topic1\", \"Topic1\", \"Topic1\", \"Topic1\", \"Topic1\", \"Topic1\", \"Topic1\", \"Topic1\", \"Topic1\", \"Topic1\", \"Topic1\", \"Topic1\", \"Topic1\", \"Topic1\", \"Topic1\", \"Topic1\", \"Topic1\", \"Topic1\", \"Topic1\", \"Topic1\", \"Topic2\", \"Topic2\", \"Topic2\", \"Topic2\", \"Topic2\", \"Topic2\", \"Topic2\", \"Topic2\", \"Topic2\", \"Topic2\", \"Topic2\", \"Topic2\", \"Topic2\", \"Topic2\", \"Topic2\", \"Topic2\", \"Topic2\", \"Topic2\", \"Topic2\", \"Topic2\", \"Topic2\", \"Topic2\", \"Topic2\", \"Topic2\", \"Topic2\", \"Topic2\", \"Topic2\", \"Topic2\", \"Topic2\", \"Topic2\", \"Topic2\", \"Topic2\", \"Topic2\", \"Topic2\", \"Topic2\", \"Topic2\", \"Topic2\", \"Topic2\", \"Topic2\", \"Topic2\", \"Topic2\", \"Topic2\", \"Topic2\", \"Topic2\", \"Topic2\", \"Topic2\", \"Topic2\", \"Topic2\", \"Topic2\", \"Topic3\", \"Topic3\", \"Topic3\", \"Topic3\", \"Topic3\", \"Topic3\", \"Topic3\", \"Topic3\", \"Topic3\", \"Topic3\", \"Topic3\", \"Topic3\", \"Topic3\", \"Topic3\", \"Topic3\", \"Topic3\", \"Topic3\", \"Topic3\", \"Topic3\", \"Topic3\", \"Topic3\", \"Topic3\", \"Topic3\", \"Topic3\", \"Topic3\", \"Topic3\", \"Topic3\", \"Topic3\", \"Topic3\", \"Topic3\", \"Topic3\", \"Topic3\", \"Topic3\", \"Topic3\", \"Topic3\", \"Topic3\", \"Topic3\", \"Topic3\", \"Topic3\", \"Topic3\", \"Topic3\", \"Topic3\", \"Topic3\", \"Topic3\", \"Topic3\", \"Topic3\", \"Topic4\", \"Topic4\", \"Topic4\", \"Topic4\", \"Topic4\", \"Topic4\", \"Topic4\", \"Topic4\", \"Topic4\", \"Topic4\", \"Topic4\", \"Topic4\", \"Topic4\", \"Topic4\", \"Topic4\", \"Topic4\", \"Topic4\", \"Topic4\", \"Topic4\", \"Topic4\", \"Topic4\", \"Topic4\", \"Topic4\", \"Topic4\", \"Topic4\", \"Topic4\", \"Topic4\", \"Topic4\", \"Topic4\", \"Topic4\", \"Topic4\", \"Topic4\", \"Topic4\", \"Topic4\", \"Topic4\", \"Topic4\", \"Topic4\", \"Topic4\", \"Topic4\", \"Topic4\", \"Topic4\", \"Topic4\", \"Topic4\", \"Topic4\", \"Topic4\", \"Topic4\", \"Topic4\", \"Topic4\", \"Topic4\", \"Topic4\", \"Topic4\", \"Topic4\", \"Topic4\", \"Topic4\", \"Topic4\"], \"logprob\": [30.0, 29.0, 28.0, 27.0, 26.0, 25.0, 24.0, 23.0, 22.0, 21.0, 20.0, 19.0, 18.0, 17.0, 16.0, 15.0, 14.0, 13.0, 12.0, 11.0, 10.0, 9.0, 8.0, 7.0, 6.0, 5.0, 4.0, 3.0, 2.0, 1.0, -2.5741, -4.1238, -4.6532, -2.7618, -4.3494, -4.4681, -4.9642, -5.1779, -5.1497, -5.1883, -3.7507, -5.4244, -5.5153, -5.4714, -5.5655, -4.7346, -5.6222, -5.6224, -5.6228, -5.7411, -5.8087, -5.8783, -5.9627, -5.2621, -6.0363, -5.4183, -3.2285, -6.1254, -6.1297, -5.2293, -3.7001, -4.5281, -3.557, -4.621, -4.3136, -4.3296, -5.0035, -3.6779, -3.3905, -4.2559, -4.6637, -5.1434, -3.2454, -5.1404, -4.3004, -4.8609, -4.9714, -4.701, -4.8243, -3.3618, -3.7376, -3.6673, -3.4084, -4.2852, -4.5806, -4.9386, -4.924, -5.1477, -5.2547, -4.1294, -3.7476, -5.4503, -5.6126, -5.6994, -5.7878, -5.7881, -5.7883, -5.7936, -5.454, -5.9023, -5.9077, -5.6041, -3.3739, -4.0159, -4.7246, -6.1619, -5.7947, -6.164, -6.1708, -1.9996, -5.143, -4.1583, -4.469, -4.5648, -3.11, -5.1688, -4.5349, -5.4426, -4.8145, -4.2173, -5.1939, -5.0387, -4.5515, -4.645, -4.9954, -4.8311, -5.0019, -5.1474, -3.5399, -4.8184, -3.0962, -2.7394, -5.3682, -3.0892, -5.4586, -5.4587, -3.3536, -3.9445, -2.3496, -4.3312, -3.7217, -5.839, -2.2852, -5.4581, -4.6168, -5.9133, -6.1841, -6.1842, -6.192, -3.5757, -6.2198, -5.2706, -6.2439, -5.2708, -5.5712, -6.7371, -6.7372, -6.7372, -3.1383, -4.5585, -5.2694, -3.9425, -4.4294, -3.3731, -5.404, -5.1452, -5.1714, -5.2703, -4.2098, -4.6824, -5.1326, -5.2577, -5.2377, -5.3276, -3.4254, -2.061, -2.2459, -4.0516, -5.0012, -5.3198, -5.3628, -3.9695, -5.6682, -5.7642, -5.7763, -5.7888, -6.2102, -6.2102, -6.2102, -6.2103, -6.2103, -6.2103, -6.2103, -6.2104, -6.2106, -6.2106, -6.2106, -6.2107, -6.2108, -6.2114, -6.2114, -6.2114, -6.2114, -6.2114, -5.6569, -4.7132, -4.351, -4.3496, -4.8614, -4.7931, -4.2238, -3.2466, -4.7733, -5.2832, -5.1174, -5.611, -5.8633, -4.9304, -4.6131, -4.5536, -4.664, -4.6272, -4.8992, -5.4054, -4.8736, -5.3052, -5.3106, -5.3387, -5.5474], \"loglift\": [30.0, 29.0, 28.0, 27.0, 26.0, 25.0, 24.0, 23.0, 22.0, 21.0, 20.0, 19.0, 18.0, 17.0, 16.0, 15.0, 14.0, 13.0, 12.0, 11.0, 10.0, 9.0, 8.0, 7.0, 6.0, 5.0, 4.0, 3.0, 2.0, 1.0, 0.851, 0.8313, 0.8187, 0.811, 0.8087, 0.803, 0.7916, 0.7877, 0.7834, 0.7771, 0.7753, 0.7664, 0.763, 0.7629, 0.7589, 0.7569, 0.7524, 0.7523, 0.7519, 0.7401, 0.7314, 0.7222, 0.7041, 0.7013, 0.6995, 0.6926, 0.6911, 0.6872, 0.6827, 0.6817, 0.6807, 0.6433, 0.5601, 0.6177, 0.5628, 0.5482, 0.6235, 0.361, 0.2094, 0.4076, 0.5056, 0.5798, -0.3407, 0.5285, -0.1644, 0.1852, 0.1798, -1.1132, -1.0815, 1.2457, 1.2415, 1.2385, 1.2264, 1.2248, 1.2053, 1.1856, 1.162, 1.1553, 1.1498, 1.1492, 1.1478, 1.1277, 1.1018, 1.092, 1.0838, 1.0835, 1.0833, 1.0781, 1.0675, 1.0603, 1.0551, 1.0439, 1.0386, 1.0362, 1.01, 1.0077, 1.0066, 1.0057, 0.9996, 0.9051, 0.9483, 0.8846, 0.851, 0.8494, 0.4898, 0.8844, 0.5112, 0.914, 0.4878, -0.1003, 0.6457, 0.4645, -0.4392, -0.3666, -0.1176, -0.6269, -0.6211, -1.0114, 1.5498, 1.5205, 1.4686, 1.4649, 1.4565, 1.4502, 1.4456, 1.4455, 1.4412, 1.4062, 1.3932, 1.3796, 1.3612, 1.3598, 1.3027, 1.2995, 1.2942, 1.291, 1.272, 1.272, 1.2646, 1.2425, 1.2375, 1.2211, 1.2108, 1.1127, 1.1042, 1.0666, 1.0665, 1.0665, 0.9978, 0.933, 0.9601, 0.8192, 0.8729, 0.6658, 0.9575, 0.8378, 0.7328, 0.8069, -0.2902, -0.0189, 0.5093, -0.0189, -0.1949, 0.4232, 2.1883, 2.0513, 2.0325, 1.9988, 1.9678, 1.9406, 1.8931, 1.8802, 1.8412, 1.7377, 1.7236, 1.7122, 1.6315, 1.6315, 1.6315, 1.6315, 1.6315, 1.6315, 1.6315, 1.6313, 1.6312, 1.6312, 1.6311, 1.6311, 1.6309, 1.6303, 1.6303, 1.6303, 1.6303, 1.6303, 1.5835, 1.4734, 1.3999, 1.2923, 1.2772, 1.1746, 0.9274, 0.3413, 0.9294, 1.0783, 0.9453, 1.2365, 1.3538, 0.5524, 0.1486, 0.0112, -0.0005, -0.0878, 0.1837, 0.7261, -1.1308, 0.1862, -0.4341, -1.7389, 0.2922]}, \"token.table\": {\"Topic\": [1, 2, 4, 3, 4, 1, 2, 3, 1, 2, 3, 4, 1, 2, 1, 2, 2, 2, 4, 1, 2, 3, 3, 4, 2, 2, 2, 1, 3, 4, 1, 2, 3, 4, 1, 2, 4, 1, 2, 1, 2, 3, 4, 1, 1, 3, 4, 2, 3, 4, 3, 2, 4, 1, 1, 2, 2, 3, 3, 3, 3, 2, 3, 2, 1, 2, 4, 1, 2, 3, 4, 1, 3, 1, 4, 1, 2, 3, 4, 1, 2, 3, 2, 3, 4, 4, 1, 1, 2, 2, 4, 1, 1, 2, 2, 1, 2, 2, 1, 2, 4, 1, 1, 2, 3, 1, 2, 1, 4, 1, 2, 3, 2, 1, 2, 2, 3, 4, 1, 2, 4, 4, 1, 3, 4, 1, 2, 3, 4, 2, 4, 1, 3, 1, 2, 4, 1, 3, 4, 2, 3, 1, 2, 3, 4, 4, 4, 1, 1, 2, 1, 1, 2, 3, 3, 2, 4, 1, 2, 4, 1, 3, 4, 3, 1, 1, 4, 1, 2, 2, 3, 4, 1, 3, 1, 4, 1, 2, 3, 4, 1, 1, 2, 3, 2, 1, 2, 1, 2, 3, 4, 1, 2, 4, 1, 2, 2, 2, 4, 2, 4, 1, 2, 4, 4, 2, 1, 1, 2, 2, 3, 4, 1, 2, 4, 2, 2, 4, 1, 1, 2, 4, 1, 3, 4, 2, 1, 4, 1, 2, 3, 4, 3, 4, 1, 4, 2, 4, 4, 4, 1, 3, 4, 4, 4, 1, 3, 1, 2, 3, 3, 2, 2, 3, 4, 1, 1, 2, 1, 3, 4, 1, 1, 3, 3, 1, 3, 4, 2, 1, 1, 3, 4, 1, 2, 1, 3, 4, 1, 3, 4, 1, 3, 4, 3, 1, 4, 1, 4, 4, 1, 2, 2, 1], \"Freq\": [0.6105185158824699, 0.07631481448530873, 0.22894444345592618, 0.21608439246831512, 0.7562953736391029, 0.46676354940870746, 0.09335270988174149, 0.37341083952696597, 0.13975455388330266, 0.04300140119486236, 0.784775571806238, 0.03225105089614677, 0.7377501891997241, 0.22132505675991723, 0.10212051649617863, 0.8850444763002148, 0.7369225096029155, 0.9066821496687005, 0.6479969017891676, 0.2836133919172857, 0.031512599101920634, 0.6617645811403333, 0.6850517769607102, 0.46128385411129874, 0.6622505529224546, 0.9699121449368651, 0.8345023080469404, 0.9858285712146178, 0.007824036279481094, 0.007824036279481094, 0.30888334292441105, 0.06177666858488221, 0.4942133486790577, 0.12355333716976442, 0.5218231708915195, 0.45659527453007964, 0.01863654181755427, 0.19640321367109803, 0.7856128546843921, 0.051131695824807186, 0.4601852624232647, 0.4601852624232647, 0.051131695824807186, 0.8933110323735886, 0.13810966473745737, 0.7089629456522811, 0.14731697571995453, 0.04133941415473976, 0.9094671114042747, 0.04133941415473976, 0.7612144683854511, 0.18667950783624004, 0.8089445339570402, 0.8965314864619338, 0.7345798246022074, 0.25006972752415574, 0.8653083363582982, 0.6237886566956438, 0.8813078788167839, 0.8823803016986942, 0.8813088674156273, 0.15390166003154193, 0.8310689641703264, 0.6617742687577896, 0.15926820199333447, 0.7963410099666723, 0.03981705049833362, 0.6208638341134028, 0.08098223923218298, 0.18895855820842697, 0.10797631897624398, 0.16100456273532676, 0.8050228136766338, 0.8702412080451808, 0.7213415660440385, 0.8074791276402591, 0.08971990307113989, 0.08971990307113989, 0.8122316932670854, 0.846720220502738, 0.012829094250041485, 0.14112003675045634, 0.1474621434309613, 0.44238643029288394, 0.2949242868619226, 0.4647863633150047, 0.8965212772199298, 0.0998668682374496, 0.8988018141370464, 0.4952568426763956, 0.4952568426763956, 0.8815478862730447, 0.9267108919027722, 0.06178072612685148, 0.9155764658465443, 0.21670866476387776, 0.6501259942916333, 0.8394325747839915, 0.9296175507499556, 0.04426750241666455, 0.6479997682846604, 0.9364036620317163, 0.7162832001259232, 0.1790708000314808, 0.0895354000157404, 0.2934785802275853, 0.7336964505689633, 0.4795069407988913, 0.23975347039944564, 0.15756585740424908, 0.7878292870212454, 0.9373947481451947, 0.9439913896064297, 0.5144951531458631, 0.47491860290387367, 0.6617532240297664, 0.8817260032352635, 0.6480001670898283, 0.4835803912105871, 0.21980926873208503, 0.26377112247850204, 0.7246108826086393, 0.08211713802444236, 0.7390542422199813, 0.12317570703666354, 0.35044405681319607, 0.09557565185814437, 0.5256660852197941, 0.01592927530969073, 0.3469515957511659, 0.3469515957511659, 0.3359494516980632, 0.6718989033961263, 0.5001023584278524, 0.4375895636243709, 0.6479933170632982, 0.6070940470696087, 0.3758201243764244, 0.014454620168324016, 0.3877012523983542, 0.5169350031978056, 0.07692907549832509, 0.15385815099665018, 0.769290754983251, 0.6480003708494363, 0.4608863494474227, 0.648000180983235, 0.893133744265689, 0.8914088797589276, 0.09904543108432529, 0.9261251024704689, 0.15778864448848218, 0.6706017390760493, 0.15778864448848218, 0.6237888346719603, 0.06981217346790364, 0.9075582550827473, 0.26252987937694394, 0.5250597587538879, 0.17501991958462929, 0.9175169755310072, 0.07057822888700055, 0.023526076295666852, 0.8650649269993055, 0.9755708962479268, 0.6562569870819226, 0.21875232902730754, 0.7358164717610407, 0.23412342283305843, 0.9630045743535491, 0.35515281993286935, 0.35515281993286935, 0.5548999402066996, 0.4439199521653597, 0.8459077098328064, 0.09398974553697849, 0.7347858498666691, 0.13359742724848528, 0.03339935681212132, 0.06679871362424264, 0.9499360071846329, 0.9259621250377394, 0.15348794252134873, 0.8356565759495653, 0.9123064298502332, 0.18903638066769296, 0.7981536072635925, 0.26802670258736355, 0.1489037236596464, 0.4467111709789392, 0.11912297892771713, 0.8341780588450017, 0.14242064419304906, 0.020345806313292723, 0.31226461013270346, 0.6765733219541908, 0.7367931328605697, 0.20203092568551995, 0.789757254952487, 0.6868203257311701, 0.2289401085770567, 0.48994501356426207, 0.3062156334776638, 0.18372938008659828, 0.6479916772032714, 0.8070310759474935, 0.8005135354834361, 0.026231162804781917, 0.944321860972149, 0.28723250365748576, 0.28723250365748576, 0.3590406295718572, 0.29758846123770094, 0.6928231363190226, 0.004649819706839077, 0.9236988845771096, 0.2651940727361838, 0.7071841939631568, 0.8576633830027386, 0.8310330613583584, 0.9622156927451496, 0.647961144721426, 0.2402352802134526, 0.32031370695127015, 0.40039213368908766, 0.9305685691203666, 0.7030097671421841, 0.2343365890473947, 0.9523320097966967, 0.03627931465892178, 0.009069828664730445, 0.009069828664730445, 0.7612206699734411, 0.647960193124206, 0.8965668039590297, 0.6480002535255217, 0.736788732518933, 0.6479909923405844, 0.648000454724357, 0.6479611877750766, 0.8034997347912103, 0.11478567639874433, 0.647961055552462, 0.6480001852546411, 0.6479598461055082, 0.28195038690586344, 0.7518676984156358, 0.7782813490901126, 0.07075284991728296, 0.14150569983456593, 0.6813524856918354, 0.895667029925974, 0.47201768134071986, 0.11800442033517997, 0.35401326100553987, 0.9657219331239684, 0.7789935399130317, 0.2336980619739095, 0.40369406268032987, 0.6055410940204948, 0.46034692460364135, 0.9089505381811741, 0.7677401982804157, 0.19193504957010393, 0.6237866874230843, 0.0715338963300716, 0.8345621238508353, 0.09537852844009546, 0.8072153014591033, 0.8525908952494797, 0.04891247216052756, 0.8315120267289685, 0.09782494432105512, 0.22510833324090657, 0.6753249997227196, 0.4040172654932905, 0.4040172654932905, 0.10100431637332262, 0.9693326445452882, 0.6574162349222856, 0.21913874497409522, 0.30151584561316713, 0.6030316912263343, 0.6479880966425691, 0.4400306599712529, 0.9416283964749991, 0.04955938928815784, 0.5968006266581344, 0.2984003133290672, 0.6479938839339641, 0.34313444331865894, 0.6290798127508747, 0.7367979869200596, 0.9608343447153235], \"Term\": [\"accept\", \"accept\", \"accept\", \"aerosol\", \"aerosol\", \"all\", \"all\", \"all\", \"aluminum\", \"aluminum\", \"aluminum\", \"aluminum\", \"aseptic\", \"aseptic\", \"bag\", \"bag\", \"bakery\", \"bar\", \"bath\", \"beverage\", \"beverage\", \"beverage\", \"bi\", \"bin\", \"blue\", \"book\", \"books\", \"bottle\", \"bottle\", \"bottle\", \"bottles\", \"bottles\", \"bottles\", \"bottles\", \"box\", \"box\", \"box\", \"boxboard\", \"boxboard\", \"brown\", \"brown\", \"brown\", \"brown\", \"butter\", \"can\", \"can\", \"can\", \"cans\", \"cans\", \"cans\", \"canssteel\", \"cardboard\", \"cardboard\", \"cart\", \"carton\", \"carton\", \"cartons\", \"cartridge\", \"cartridges\", \"case\", \"cat\", \"catalog\", \"catalog\", \"catalogs\", \"cereal\", \"cereal\", \"cereal\", \"clean\", \"clean\", \"clean\", \"clean\", \"clear\", \"clear\", \"coat\", \"cola\", \"color\", \"color\", \"color\", \"completely\", \"container\", \"container\", \"container\", \"containers\", \"containers\", \"containers\", \"cookie\", \"copi\", \"corrugate\", \"corrugate\", \"corrugated\", \"corrugated\", \"cream\", \"cup\", \"cup\", \"cut\", \"dairy\", \"dairy\", \"deli\", \"detergent\", \"detergent\", \"didn\", \"dinner\", \"drink\", \"drink\", \"drink\", \"dry\", \"dry\", \"ea\", \"ea\", \"egg\", \"egg\", \"empty\", \"envelope\", \"etc\", \"etc\", \"feed\", \"file\", \"flammable\", \"flatten\", \"flatten\", \"flatten\", \"flyer\", \"foil\", \"foil\", \"foil\", \"food\", \"food\", \"food\", \"food\", \"fresh\", \"fresh\", \"fruit\", \"fruit\", \"gift\", \"gift\", \"gila\", \"glass\", \"glass\", \"glass\", \"glossy\", \"glossy\", \"green\", \"green\", \"green\", \"hairspray\", \"hangar\", \"hazardous\", \"hdpe\", \"household\", \"household\", \"ice\", \"include\", \"include\", \"include\", \"inkjet\", \"insert\", \"insert\", \"item\", \"item\", \"item\", \"jar\", \"jar\", \"jar\", \"jars\", \"jug\", \"jugs\", \"jugs\", \"juice\", \"juice\", \"junk\", \"kitchen\", \"kitchen\", \"label\", \"label\", \"laundry\", \"laundry\", \"lid\", \"lid\", \"lid\", \"lid\", \"liner\", \"lotion\", \"magazine\", \"magazine\", \"magazines\", \"mail\", \"mail\", \"metal\", \"metal\", \"metal\", \"metal\", \"milk\", \"milk\", \"milk\", \"mixed\", \"mixed\", \"multiple\", \"newspaper\", \"newspaper\", \"newspapers\", \"newspapers\", \"non\", \"non\", \"non\", \"north\", \"note\", \"number\", \"office\", \"office\", \"pan\", \"pan\", \"pan\", \"paper\", \"paper\", \"paper\", \"paperback\", \"paperboard\", \"paperboard\", \"pastel\", \"peanut\", \"phone\", \"pickles\", \"pie\", \"pie\", \"pie\", \"piece\", \"place\", \"place\", \"plastic\", \"plastic\", \"plastic\", \"plastic\", \"plasticcontainer\", \"pnout\", \"poly\", \"pomy\", \"pound\", \"preferably\", \"premium\", \"preview\", \"printer\", \"printer\", \"promium\", \"qualit\", \"quem\", \"recyclable\", \"recyclable\", \"rinse\", \"rinse\", \"rinse\", \"rinsed\", \"roll\", \"scrap\", \"scrap\", \"scrap\", \"shampoo\", \"shoe\", \"shoe\", \"size\", \"size\", \"sleek\", \"soap\", \"soda\", \"soda\", \"softball\", \"steel\", \"steel\", \"steel\", \"telephone\", \"tie\", \"tin\", \"tin\", \"tin\", \"towel\", \"towel\", \"tray\", \"tray\", \"tray\", \"tub\", \"tuna\", \"tuna\", \"vegetable\", \"vegetable\", \"vo\", \"waste\", \"water\", \"water\", \"wax\", \"wax\", \"wet\", \"white\", \"white\", \"yellow\", \"yogurt\"]}, \"R\": 30, \"lambda.step\": 0.01, \"plot.opts\": {\"xlab\": \"PC1\", \"ylab\": \"PC2\"}, \"topic.order\": [1, 2, 3, 4]};\n",
       "\n",
       "function LDAvis_load_lib(url, callback){\n",
       "  var s = document.createElement('script');\n",
       "  s.src = url;\n",
       "  s.async = true;\n",
       "  s.onreadystatechange = s.onload = callback;\n",
       "  s.onerror = function(){console.warn(\"failed to load library \" + url);};\n",
       "  document.getElementsByTagName(\"head\")[0].appendChild(s);\n",
       "}\n",
       "\n",
       "if(typeof(LDAvis) !== \"undefined\"){\n",
       "   // already loaded: just create the visualization\n",
       "   !function(LDAvis){\n",
       "       new LDAvis(\"#\" + \"ldavis_el2532812817172692164144518464\", ldavis_el2532812817172692164144518464_data);\n",
       "   }(LDAvis);\n",
       "}else if(typeof define === \"function\" && define.amd){\n",
       "   // require.js is available: use it to load d3/LDAvis\n",
       "   require.config({paths: {d3: \"https://d3js.org/d3.v5\"}});\n",
       "   require([\"d3\"], function(d3){\n",
       "      window.d3 = d3;\n",
       "      LDAvis_load_lib(\"https://cdn.jsdelivr.net/gh/bmabey/pyLDAvis@3.3.1/pyLDAvis/js/ldavis.v3.0.0.js\", function(){\n",
       "        new LDAvis(\"#\" + \"ldavis_el2532812817172692164144518464\", ldavis_el2532812817172692164144518464_data);\n",
       "      });\n",
       "    });\n",
       "}else{\n",
       "    // require.js not available: dynamically load d3 & LDAvis\n",
       "    LDAvis_load_lib(\"https://d3js.org/d3.v5.js\", function(){\n",
       "         LDAvis_load_lib(\"https://cdn.jsdelivr.net/gh/bmabey/pyLDAvis@3.3.1/pyLDAvis/js/ldavis.v3.0.0.js\", function(){\n",
       "                 new LDAvis(\"#\" + \"ldavis_el2532812817172692164144518464\", ldavis_el2532812817172692164144518464_data);\n",
       "            })\n",
       "         });\n",
       "}\n",
       "</script>"
      ],
      "text/plain": [
       "PreparedData(topic_coordinates=              x         y  topics  cluster       Freq\n",
       "topic                                                \n",
       "0     -0.086768  0.149531       1        1  42.143203\n",
       "1     -0.196257 -0.053896       2        1  28.082363\n",
       "2      0.212070  0.065072       3        1  19.366992\n",
       "3      0.070954 -0.160707       4        1  10.407443, topic_info=          Term        Freq       Total Category  logprob  loglift\n",
       "21       paper  215.000000  215.000000  Default  30.0000  30.0000\n",
       "68   cardboard   64.000000   64.000000  Default  29.0000  29.0000\n",
       "1          can  108.000000  108.000000  Default  28.0000  28.0000\n",
       "19   newspaper   54.000000   54.000000  Default  27.0000  27.0000\n",
       "0     aluminum   93.000000   93.000000  Default  26.0000  26.0000\n",
       "..         ...         ...         ...      ...      ...      ...\n",
       "0     aluminum    3.124720   93.020225   Topic4  -4.8736  -1.1308\n",
       "119    bottles    2.029483   16.187341   Topic4  -5.3052   0.1862\n",
       "93         lid    2.018650   29.940696   Topic4  -5.3106  -0.4341\n",
       "5          box    1.962573  107.316047   Topic4  -5.3387  -1.7389\n",
       "132       item    1.592889   11.427271   Topic4  -5.5474   0.2922\n",
       "\n",
       "[229 rows x 6 columns], token_table=      Topic      Freq     Term\n",
       "term                          \n",
       "210       1  0.610519   accept\n",
       "210       2  0.076315   accept\n",
       "210       4  0.228944   accept\n",
       "92        3  0.216084  aerosol\n",
       "92        4  0.756295  aerosol\n",
       "...     ...       ...      ...\n",
       "121       4  0.647994      wet\n",
       "78        1  0.343134    white\n",
       "78        2  0.629080    white\n",
       "538       2  0.736798   yellow\n",
       "114       1  0.960834   yogurt\n",
       "\n",
       "[294 rows x 3 columns], R=30, lambda_step=0.01, plot_opts={'xlab': 'PC1', 'ylab': 'PC2'}, topic_order=[1, 2, 3, 4])"
      ]
     },
     "execution_count": 48,
     "metadata": {},
     "output_type": "execute_result"
    }
   ],
   "source": [
    "# run visualization\n",
    "pyLDAvis.enable_notebook()\n",
    "vis = pyLDAvis.gensim_models.prepare(lda_multicore, corpus, id2words)\n",
    "vis"
   ]
  },
  {
   "cell_type": "code",
   "execution_count": null,
   "metadata": {},
   "outputs": [],
   "source": []
  }
 ],
 "metadata": {
  "interpreter": {
   "hash": "aee8b7b246df8f9039afb4144a1f6fd8d2ca17a180786b69acc140d282b71a49"
  },
  "kernelspec": {
   "display_name": "Python 3 (ipykernel)",
   "language": "python",
   "name": "python3"
  },
  "language_info": {
   "codemirror_mode": {
    "name": "ipython",
    "version": 3
   },
   "file_extension": ".py",
   "mimetype": "text/x-python",
   "name": "python",
   "nbconvert_exporter": "python",
   "pygments_lexer": "ipython3",
   "version": "3.8.7"
  }
 },
 "nbformat": 4,
 "nbformat_minor": 2
}
